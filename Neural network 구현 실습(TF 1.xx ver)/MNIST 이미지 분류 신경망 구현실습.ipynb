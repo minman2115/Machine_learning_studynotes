{
 "cells": [
  {
   "cell_type": "markdown",
   "metadata": {},
   "source": [
    "#### 그림, 실습코드 등 학습자료 출처 : https://datascienceschool.net"
   ]
  },
  {
   "cell_type": "markdown",
   "metadata": {},
   "source": [
    "### # MNIST 데이터를 이용한 신경망 구현"
   ]
  },
  {
   "cell_type": "code",
   "execution_count": 1,
   "metadata": {},
   "outputs": [
    {
     "name": "stderr",
     "output_type": "stream",
     "text": [
      "Using TensorFlow backend.\n"
     ]
    },
    {
     "data": {
      "image/png": "[encoded data removed]",
      "text/plain": [
       "<Figure size 720x216 with 36 Axes>"
      ]
     },
     "metadata": {
      "image/png": {
       "height": 191,
       "width": 596
      },
      "needs_background": "light"
     },
     "output_type": "display_data"
    }
   ],
   "source": [
    "%matplotlib inline\n",
    "%config InlineBackend.figure_formats = {'png', 'retina'}\n",
    "import matplotlib as mpl\n",
    "import matplotlib.pyplot as plt\n",
    "\n",
    "from keras.datasets import mnist\n",
    "(X_train0, y_train0), (X_test0, y_test0) = mnist.load_data()\n",
    "\n",
    "plt.figure(figsize=(10, 3))\n",
    "for i in range(36):\n",
    "    plt.subplot(3, 12, i+1)\n",
    "    plt.imshow(X_train0[i], cmap=\"gray\")\n",
    "    plt.axis(\"off\")\n",
    "plt.show()"
   ]
  },
  {
   "cell_type": "markdown",
   "metadata": {},
   "source": [
    "#### # tensorflow, keras 등 각종 패키지 임포트"
   ]
  },
  {
   "cell_type": "code",
   "execution_count": 2,
   "metadata": {},
   "outputs": [
    {
     "data": {
      "text/plain": [
       "'2.2.4'"
      ]
     },
     "execution_count": 2,
     "metadata": {},
     "output_type": "execute_result"
    }
   ],
   "source": [
    "import tensorflow as tf\n",
    "tf.logging.set_verbosity(tf.logging.ERROR)\n",
    "\n",
    "import pandas as pd\n",
    "import numpy as np\n",
    "\n",
    "import keras\n",
    "keras.__version__"
   ]
  },
  {
   "cell_type": "markdown",
   "metadata": {},
   "source": [
    "#### # MNIST 이미지 데이터는 28 X 28 임을 아래의 결과를 보고 알 수 있다."
   ]
  },
  {
   "cell_type": "code",
   "execution_count": 3,
   "metadata": {},
   "outputs": [
    {
     "name": "stdout",
     "output_type": "stream",
     "text": [
      "(60000, 28, 28) uint8\n",
      "(60000,) uint8\n",
      "(10000, 28, 28) uint8\n",
      "(10000,) uint8\n"
     ]
    }
   ],
   "source": [
    "print(X_train0.shape, X_train0.dtype)\n",
    "print(y_train0.shape, y_train0.dtype)\n",
    "print(X_test0.shape, X_test0.dtype)\n",
    "print(y_test0.shape, y_test0.dtype)"
   ]
  },
  {
   "cell_type": "markdown",
   "metadata": {},
   "source": [
    "#### # 신경망에 데이터를 입력하기 위해 아래와 같은 가공을 해준다.\n",
    "\n",
    "1) 현재 각각의 데이터가 (28 * 28) 행렬로 이루어져 있는데 (1 * 784) 백터로 변환해준다.\n",
    "\n",
    "2) 데이터를 'float32' 타입으로 변환 후 스케일링한다. 이는 이미지를 전처리하는 보편적인 방법 중 하나이다.\n",
    "\n",
    "3) 데이터가 1 ~ 255 까지 구성되어 있기 때문에 255로 나누어서 0 ~ 1 로 스케일링을 해준다."
   ]
  },
  {
   "cell_type": "code",
   "execution_count": 4,
   "metadata": {},
   "outputs": [
    {
     "data": {
      "text/plain": [
       "{0, 3, 18, 26, 126, 127, 136, 166, 175, 247, 255}"
      ]
     },
     "execution_count": 4,
     "metadata": {},
     "output_type": "execute_result"
    }
   ],
   "source": [
    "# 3번 예시\n",
    "# 0 ~ 255까지 다양하다.\n",
    "set(X_train0[0][5])"
   ]
  },
  {
   "cell_type": "code",
   "execution_count": 5,
   "metadata": {},
   "outputs": [
    {
     "name": "stdout",
     "output_type": "stream",
     "text": [
      "(60000, 784) float32\n"
     ]
    }
   ],
   "source": [
    "X_train = X_train0.reshape(60000, 784).astype('float32') / 255.0\n",
    "X_test = X_test0.reshape(10000, 784).astype('float32') / 255.0\n",
    "print(X_train.shape, X_train.dtype)"
   ]
  },
  {
   "cell_type": "markdown",
   "metadata": {},
   "source": [
    "4) 이 값을 `keras.np_utils.categorical()`을 사용하여 원핫인코딩(One-Hot-Encoding)로 변환한다."
   ]
  },
  {
   "cell_type": "markdown",
   "metadata": {},
   "source": [
    "- 원핫인코딩 전"
   ]
  },
  {
   "cell_type": "code",
   "execution_count": 6,
   "metadata": {},
   "outputs": [
    {
     "data": {
      "text/plain": [
       "array([5, 0, 4, ..., 5, 6, 8], dtype=uint8)"
      ]
     },
     "execution_count": 6,
     "metadata": {},
     "output_type": "execute_result"
    }
   ],
   "source": [
    "y_train0"
   ]
  },
  {
   "cell_type": "markdown",
   "metadata": {},
   "source": [
    "- 원핫인코딩 후"
   ]
  },
  {
   "cell_type": "code",
   "execution_count": 7,
   "metadata": {},
   "outputs": [
    {
     "data": {
      "text/plain": [
       "array([[0., 0., 0., 0., 0., 1., 0., 0., 0., 0.],\n",
       "       [1., 0., 0., 0., 0., 0., 0., 0., 0., 0.],\n",
       "       [0., 0., 0., 0., 1., 0., 0., 0., 0., 0.],\n",
       "       [0., 1., 0., 0., 0., 0., 0., 0., 0., 0.],\n",
       "       [0., 0., 0., 0., 0., 0., 0., 0., 0., 1.]], dtype=float32)"
      ]
     },
     "execution_count": 7,
     "metadata": {},
     "output_type": "execute_result"
    }
   ],
   "source": [
    "from keras.utils import np_utils\n",
    "\n",
    "Y_train = np_utils.to_categorical(y_train0, 10)\n",
    "Y_test = np_utils.to_categorical(y_test0, 10)\n",
    "Y_train[:5]"
   ]
  },
  {
   "cell_type": "markdown",
   "metadata": {},
   "source": [
    "#### # 신경망 구현 순서\n",
    "\n",
    "1) `Sequential` 모형 클래스 객체 생성\n",
    "\n",
    "\n",
    "2) `add` 메서드로 레이어 추가.\n",
    "    - 입력단부터 순차적으로 추가한다.\n",
    "    - 레이어는 출력 뉴런 갯수를 첫번째 인수로 받는다.\n",
    "    - 최초의 레이어는 `input_dim` 인수로 입력 크기를 설정해야 한다.\n",
    "    - activation 인수로 활성화함수 설정\n",
    "    \n",
    "    \n",
    "3) `compile` 메서드로 모형 완성.\n",
    "    - `loss`인수로 비용함수 설정\n",
    "    - `optimizer` 인수로 최적화 알고리즘 설정\n",
    "    - `metrics` 인수로 트레이닝 단계에서 기록할 성능 기준 설정\n",
    "\n",
    "\n",
    "4) `fit` 메서드로 트레이닝\n",
    "    - `nb_epoch` 로 에포크(epoch) 횟수 설정\n",
    "    - `batch_size` 로 배치크기(batch size) 설정\n",
    "    - `verbose`는 학습 중 출력되는 문구를 설정하는 것으로, 주피터노트북(Jupyter Notebook)을 사용할 때는 verbose=2로 설정하여 진행 막대(progress bar)가 나오지 않도록 설정한다."
   ]
  },
  {
   "cell_type": "markdown",
   "metadata": {},
   "source": [
    "#### # 신경망 구현\n",
    "\n",
    "- MNIST 이미지 신경망 구현 계획\n",
    "\n",
    "필기 숫자에 대한 영상 정보를 입력 받아 숫자 0 ~ 9 까지의 조건부 확률을 출력하는 MLP를 구현할 것이다. 입력 영상이 28 x 28 해상도를 가진다면 입력 계층의 뉴런 수는  28×28=784  개가 된다. 출력은 숫자 0 ~ 9 까지의 조건부 확률을 출력하는  10  개의 뉴런을 가진다.\n",
    "\n",
    "구현할 모형은  15 개의 뉴런을 가지는  1  개의 은닉 계층으로 이루어질 것이다."
   ]
  },
  {
   "cell_type": "markdown",
   "metadata": {},
   "source": [
    "<img src=\"1.png\" width=\"600\" />"
   ]
  },
  {
   "cell_type": "markdown",
   "metadata": {},
   "source": [
    "- 실제 MNIST 이미지 신경망 구현 코드"
   ]
  },
  {
   "cell_type": "code",
   "execution_count": 8,
   "metadata": {},
   "outputs": [],
   "source": [
    "from keras.models import Sequential\n",
    "from keras.layers.core import Dense\n",
    "from keras.optimizers import SGD\n",
    "\n",
    "np.random.seed(0)\n",
    "\n",
    "model = Sequential()\n",
    "# 입력계층 맟 은닉계층 구현코드\n",
    "model.add(Dense(15, input_dim=784, activation=\"sigmoid\"))\n",
    "# 출력계층 구현코드\n",
    "model.add(Dense(10, activation=\"sigmoid\"))\n",
    "model.compile(optimizer=SGD(lr=0.2), loss='mean_squared_error', metrics=[\"accuracy\"])"
   ]
  },
  {
   "cell_type": "markdown",
   "metadata": {},
   "source": [
    "-  만들어진 모형은 `model_to_dot` 명령이나 `summary` 명령으로 모델 내부의 `layers` 리스트를 살펴봄으로써 내부 구조를 확인할 수 있다."
   ]
  },
  {
   "cell_type": "code",
   "execution_count": 9,
   "metadata": {},
   "outputs": [
    {
     "data": {
      "image/svg+xml": [
       "<svg height=\"211pt\" viewBox=\"0.00 0.00 251.00 211.00\" width=\"251pt\" xmlns=\"http://www.w3.org/2000/svg\" xmlns:xlink=\"http://www.w3.org/1999/xlink\">\n",
       "<g class=\"graph\" id=\"graph0\" transform=\"scale(1 1) rotate(0) translate(4 207)\">\n",
       "<title>G</title>\n",
       "<polygon fill=\"white\" points=\"-4,4 -4,-207 247,-207 247,4 -4,4\" stroke=\"none\"/>\n",
       "<!-- 1670588525032 -->\n",
       "<g class=\"node\" id=\"node1\"><title>1670588525032</title>\n",
       "<polygon fill=\"none\" points=\"0,-83.5 0,-129.5 243,-129.5 243,-83.5 0,-83.5\" stroke=\"black\"/>\n",
       "<text font-family=\"Times New Roman,serif\" font-size=\"14.00\" text-anchor=\"middle\" x=\"52\" y=\"-102.8\">dense_1: Dense</text>\n",
       "<polyline fill=\"none\" points=\"104,-83.5 104,-129.5 \" stroke=\"black\"/>\n",
       "<text font-family=\"Times New Roman,serif\" font-size=\"14.00\" text-anchor=\"middle\" x=\"132\" y=\"-114.3\">input:</text>\n",
       "<polyline fill=\"none\" points=\"104,-106.5 160,-106.5 \" stroke=\"black\"/>\n",
       "<text font-family=\"Times New Roman,serif\" font-size=\"14.00\" text-anchor=\"middle\" x=\"132\" y=\"-91.3\">output:</text>\n",
       "<polyline fill=\"none\" points=\"160,-83.5 160,-129.5 \" stroke=\"black\"/>\n",
       "<text font-family=\"Times New Roman,serif\" font-size=\"14.00\" text-anchor=\"middle\" x=\"201.5\" y=\"-114.3\">(None, 784)</text>\n",
       "<polyline fill=\"none\" points=\"160,-106.5 243,-106.5 \" stroke=\"black\"/>\n",
       "<text font-family=\"Times New Roman,serif\" font-size=\"14.00\" text-anchor=\"middle\" x=\"201.5\" y=\"-91.3\">(None, 15)</text>\n",
       "</g>\n",
       "<!-- 1670588360968 -->\n",
       "<g class=\"node\" id=\"node2\"><title>1670588360968</title>\n",
       "<polygon fill=\"none\" points=\"3,-0.5 3,-46.5 240,-46.5 240,-0.5 3,-0.5\" stroke=\"black\"/>\n",
       "<text font-family=\"Times New Roman,serif\" font-size=\"14.00\" text-anchor=\"middle\" x=\"55\" y=\"-19.8\">dense_2: Dense</text>\n",
       "<polyline fill=\"none\" points=\"107,-0.5 107,-46.5 \" stroke=\"black\"/>\n",
       "<text font-family=\"Times New Roman,serif\" font-size=\"14.00\" text-anchor=\"middle\" x=\"135\" y=\"-31.3\">input:</text>\n",
       "<polyline fill=\"none\" points=\"107,-23.5 163,-23.5 \" stroke=\"black\"/>\n",
       "<text font-family=\"Times New Roman,serif\" font-size=\"14.00\" text-anchor=\"middle\" x=\"135\" y=\"-8.3\">output:</text>\n",
       "<polyline fill=\"none\" points=\"163,-0.5 163,-46.5 \" stroke=\"black\"/>\n",
       "<text font-family=\"Times New Roman,serif\" font-size=\"14.00\" text-anchor=\"middle\" x=\"201.5\" y=\"-31.3\">(None, 15)</text>\n",
       "<polyline fill=\"none\" points=\"163,-23.5 240,-23.5 \" stroke=\"black\"/>\n",
       "<text font-family=\"Times New Roman,serif\" font-size=\"14.00\" text-anchor=\"middle\" x=\"201.5\" y=\"-8.3\">(None, 10)</text>\n",
       "</g>\n",
       "<!-- 1670588525032&#45;&gt;1670588360968 -->\n",
       "<g class=\"edge\" id=\"edge2\"><title>1670588525032-&gt;1670588360968</title>\n",
       "<path d=\"M121.5,-83.3664C121.5,-75.1516 121.5,-65.6579 121.5,-56.7252\" fill=\"none\" stroke=\"black\"/>\n",
       "<polygon fill=\"black\" points=\"125,-56.6068 121.5,-46.6068 118,-56.6069 125,-56.6068\" stroke=\"black\"/>\n",
       "</g>\n",
       "<!-- 1670712709752 -->\n",
       "<g class=\"node\" id=\"node3\"><title>1670712709752</title>\n",
       "<polygon fill=\"none\" points=\"69.5,-166.5 69.5,-202.5 173.5,-202.5 173.5,-166.5 69.5,-166.5\" stroke=\"black\"/>\n",
       "<text font-family=\"Times New Roman,serif\" font-size=\"14.00\" text-anchor=\"middle\" x=\"121.5\" y=\"-180.8\">1670712709752</text>\n",
       "</g>\n",
       "<!-- 1670712709752&#45;&gt;1670588525032 -->\n",
       "<g class=\"edge\" id=\"edge1\"><title>1670712709752-&gt;1670588525032</title>\n",
       "<path d=\"M121.5,-166.254C121.5,-158.363 121.5,-148.749 121.5,-139.602\" fill=\"none\" stroke=\"black\"/>\n",
       "<polygon fill=\"black\" points=\"125,-139.591 121.5,-129.591 118,-139.591 125,-139.591\" stroke=\"black\"/>\n",
       "</g>\n",
       "</g>\n",
       "</svg>"
      ],
      "text/plain": [
       "<IPython.core.display.SVG object>"
      ]
     },
     "execution_count": 9,
     "metadata": {},
     "output_type": "execute_result"
    }
   ],
   "source": [
    "from IPython.display import SVG\n",
    "from keras.utils.vis_utils import model_to_dot\n",
    "\n",
    "SVG(model_to_dot(model, show_shapes=True).create(prog='dot', format='svg'))"
   ]
  },
  {
   "cell_type": "code",
   "execution_count": 10,
   "metadata": {},
   "outputs": [
    {
     "name": "stdout",
     "output_type": "stream",
     "text": [
      "_________________________________________________________________\n",
      "Layer (type)                 Output Shape              Param #   \n",
      "=================================================================\n",
      "dense_1 (Dense)              (None, 15)                11775     \n",
      "_________________________________________________________________\n",
      "dense_2 (Dense)              (None, 10)                160       \n",
      "=================================================================\n",
      "Total params: 11,935\n",
      "Trainable params: 11,935\n",
      "Non-trainable params: 0\n",
      "_________________________________________________________________\n"
     ]
    }
   ],
   "source": [
    "model.summary()"
   ]
  },
  {
   "cell_type": "markdown",
   "metadata": {},
   "source": [
    "- layers 속성으로 각 레이어의 특성을 살펴볼 수도 있다."
   ]
  },
  {
   "cell_type": "code",
   "execution_count": 11,
   "metadata": {},
   "outputs": [
    {
     "name": "stdout",
     "output_type": "stream",
     "text": [
      "dense_1 <class 'keras.layers.core.Dense'> (None, 15) sigmoid 11775\n",
      "dense_2 <class 'keras.layers.core.Dense'> (None, 10) sigmoid 160\n"
     ]
    }
   ],
   "source": [
    "l1 = model.layers[0]\n",
    "l2 = model.layers[1]\n",
    "\n",
    "print(l1.name, type(l1), l1.output_shape, l1.activation.__name__, l1.count_params())\n",
    "print(l2.name, type(l1), l2.output_shape, l2.activation.__name__, l2.count_params())"
   ]
  },
  {
   "cell_type": "markdown",
   "metadata": {},
   "source": [
    "- 모델을 완성했다면 `fit` 메서드로 트레이닝을 시작한다."
   ]
  },
  {
   "cell_type": "code",
   "execution_count": 12,
   "metadata": {},
   "outputs": [
    {
     "name": "stdout",
     "output_type": "stream",
     "text": [
      "Train on 60000 samples, validate on 10000 samples\n",
      "Epoch 1/10\n",
      " - 1s - loss: 0.1019 - acc: 0.2440 - val_loss: 0.0864 - val_acc: 0.3212\n",
      "Epoch 2/10\n",
      " - 1s - loss: 0.0845 - acc: 0.3921 - val_loss: 0.0821 - val_acc: 0.4409\n",
      "Epoch 3/10\n",
      " - 1s - loss: 0.0796 - acc: 0.4997 - val_loss: 0.0765 - val_acc: 0.5340\n",
      "Epoch 4/10\n",
      " - 1s - loss: 0.0740 - acc: 0.5620 - val_loss: 0.0707 - val_acc: 0.5852\n",
      "Epoch 5/10\n",
      " - 1s - loss: 0.0682 - acc: 0.6149 - val_loss: 0.0649 - val_acc: 0.6522\n",
      "Epoch 6/10\n",
      " - 1s - loss: 0.0625 - acc: 0.6759 - val_loss: 0.0594 - val_acc: 0.6998\n",
      "Epoch 7/10\n",
      " - 1s - loss: 0.0576 - acc: 0.7101 - val_loss: 0.0551 - val_acc: 0.7316\n",
      "Epoch 8/10\n",
      " - 1s - loss: 0.0537 - acc: 0.7325 - val_loss: 0.0516 - val_acc: 0.7485\n",
      "Epoch 9/10\n",
      " - 1s - loss: 0.0505 - acc: 0.7474 - val_loss: 0.0486 - val_acc: 0.7639\n",
      "Epoch 10/10\n",
      " - 1s - loss: 0.0478 - acc: 0.7608 - val_loss: 0.0461 - val_acc: 0.7759\n",
      "Wall time: 7.24 s\n"
     ]
    }
   ],
   "source": [
    "%%time\n",
    "hist = model.fit(X_train, Y_train,\n",
    "                 epochs=10, batch_size=100,\n",
    "                 validation_data=(X_test, Y_test),\n",
    "                 verbose=2)"
   ]
  },
  {
   "cell_type": "markdown",
   "metadata": {},
   "source": [
    "- 학습이 끝나면 기록된 변수를 확인한다. 다음 두 그래프는 방금 학습 시킨 모델의 비용함수와 성능지표에 대한 것이다."
   ]
  },
  {
   "cell_type": "code",
   "execution_count": 14,
   "metadata": {},
   "outputs": [
    {
     "data": {
      "image/png": "[encoded data removed]",
      "text/plain": [
       "<Figure size 576x288 with 2 Axes>"
      ]
     },
     "metadata": {
      "image/png": {
       "height": 281,
       "width": 566
      },
      "needs_background": "light"
     },
     "output_type": "display_data"
    }
   ],
   "source": [
    "plt.figure(figsize=(8, 4))\n",
    "plt.subplot(1, 2, 1)\n",
    "plt.plot(hist.history['loss'])\n",
    "plt.title(\"cost function of training\")\n",
    "plt.ylabel(\"cost function value\")\n",
    "plt.subplot(1, 2, 2)\n",
    "plt.title(\"performance of training\")\n",
    "plt.ylabel(\"perfomance value\")\n",
    "plt.plot(hist.history['acc'], 'b-', label=\"train perfomance\")\n",
    "plt.plot(hist.history['val_acc'], 'r:', label=\"test performance\")\n",
    "plt.legend()\n",
    "plt.tight_layout()\n",
    "plt.show()"
   ]
  },
  {
   "cell_type": "markdown",
   "metadata": {},
   "source": [
    "#### # 가중치 정보확인\n",
    "\n",
    "트레이닝이 끝난 모형의 가중치 정보는 `get_weights` 메서드로 구할 수 있다. 이 메서드는 신경망 모형에서 사용된 가중치  w  값과  b 값을 출력한다."
   ]
  },
  {
   "cell_type": "code",
   "execution_count": 15,
   "metadata": {},
   "outputs": [
    {
     "data": {
      "text/plain": [
       "((784, 15), (15,))"
      ]
     },
     "execution_count": 15,
     "metadata": {},
     "output_type": "execute_result"
    }
   ],
   "source": [
    "# 첫번째 레이어\n",
    "w1 = l1.get_weights()\n",
    "w1[0].shape, w1[1].shape"
   ]
  },
  {
   "cell_type": "code",
   "execution_count": 16,
   "metadata": {},
   "outputs": [
    {
     "data": {
      "text/plain": [
       "((15, 10), (10,))"
      ]
     },
     "execution_count": 16,
     "metadata": {},
     "output_type": "execute_result"
    }
   ],
   "source": [
    "# 두번째 레이어\n",
    "w2 = l2.get_weights()\n",
    "w2[0].shape, w2[1].shape"
   ]
  },
  {
   "cell_type": "markdown",
   "metadata": {},
   "source": [
    "#### # 위에서 만든 모형 사용\n",
    "\n",
    "트레이닝이 끝난 모형은 `predict` 메서드로 y 값을 출력하거나 출력된 y값을 각 클래스에 대한 판별함수로 가정하고 `predict_classes` 메서드로 분류를 수행할 수 있다. 예로 테스트 데이터셋의 두번째 이미지를 예측하면 다음과 같다."
   ]
  },
  {
   "cell_type": "code",
   "execution_count": 20,
   "metadata": {},
   "outputs": [
    {
     "data": {
      "text/plain": [
       "array([[0.14298885, 0.0444363 , 0.3573986 , 0.19647366, 0.03010687,\n",
       "        0.14621396, 0.31485024, 0.01599035, 0.10410369, 0.00852606]],\n",
       "      dtype=float32)"
      ]
     },
     "execution_count": 20,
     "metadata": {},
     "output_type": "execute_result"
    }
   ],
   "source": [
    "model.predict(X_test[1:2, :])"
   ]
  },
  {
   "cell_type": "code",
   "execution_count": 21,
   "metadata": {},
   "outputs": [
    {
     "data": {
      "text/plain": [
       "array([2], dtype=int64)"
      ]
     },
     "execution_count": 21,
     "metadata": {},
     "output_type": "execute_result"
    }
   ],
   "source": [
    "model.predict_classes(X_test[1:2, :], verbose=0)"
   ]
  },
  {
   "cell_type": "markdown",
   "metadata": {},
   "source": [
    "테스트 데이터셋의 두번째 이미지를 출력해보면 다음처럼 실제로 2가 나온다"
   ]
  },
  {
   "cell_type": "code",
   "execution_count": 22,
   "metadata": {},
   "outputs": [
    {
     "data": {
      "image/png": "[encoded data removed]",
      "text/plain": [
       "<Figure size 72x72 with 1 Axes>"
      ]
     },
     "metadata": {
      "image/png": {
       "height": 91,
       "width": 91
      },
      "needs_background": "light"
     },
     "output_type": "display_data"
    }
   ],
   "source": [
    "plt.figure(figsize=(1, 1))\n",
    "plt.imshow(X_test0[1], cmap=mpl.cm.bone_r)\n",
    "plt.grid(False)\n",
    "plt.axis(\"off\")\n",
    "plt.show()"
   ]
  },
  {
   "cell_type": "markdown",
   "metadata": {},
   "source": [
    "#### # 만든 모형 저장\n",
    "\n",
    "트레이닝이 끝난 모형은 `save` 메서드로 가중치와 함께 \"hdf5\" 형식으로 저장하였다가 나중에 `load` 명령으로 불러 사용할 수 있다."
   ]
  },
  {
   "cell_type": "code",
   "execution_count": 23,
   "metadata": {},
   "outputs": [],
   "source": [
    "model.save('MNIST_model.hdf5')"
   ]
  },
  {
   "cell_type": "code",
   "execution_count": 24,
   "metadata": {},
   "outputs": [
    {
     "name": "stdout",
     "output_type": "stream",
     "text": [
      "[2]\n"
     ]
    }
   ],
   "source": [
    "from keras.models import load_model\n",
    "\n",
    "model2 = load_model('MNIST_model.hdf5')\n",
    "print(model2.predict_classes(X_test[1:2, :], verbose=0))"
   ]
  },
  {
   "cell_type": "markdown",
   "metadata": {},
   "source": [
    "#### * 이미지 및 자료출처 : 데이터 사이언스 스쿨 홈페이지 5부 딥러닝\n",
    "\n",
    "https://datascienceschool.net"
   ]
  }
 ],
 "metadata": {
  "kernelspec": {
   "display_name": "Python 3",
   "language": "python",
   "name": "python3"
  },
  "language_info": {
   "codemirror_mode": {
    "name": "ipython",
    "version": 3
   },
   "file_extension": ".py",
   "mimetype": "text/x-python",
   "name": "python",
   "nbconvert_exporter": "python",
   "pygments_lexer": "ipython3",
   "version": "3.7.3"
  }
 },
 "nbformat": 4,
 "nbformat_minor": 2
}
