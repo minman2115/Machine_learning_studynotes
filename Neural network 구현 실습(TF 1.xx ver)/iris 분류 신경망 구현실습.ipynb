{
 "cells": [
  {
   "cell_type": "markdown",
   "metadata": {},
   "source": [
    "#### 그림, 실습코드 등 학습자료 출처 : https://datascienceschool.net"
   ]
  },
  {
   "cell_type": "markdown",
   "metadata": {},
   "source": [
    "#### # step1) 데이터 확인"
   ]
  },
  {
   "cell_type": "code",
   "execution_count": 80,
   "metadata": {},
   "outputs": [],
   "source": [
    "import pandas as pd\n",
    "from sklearn.datasets import load_iris\n",
    "iris = load_iris()"
   ]
  },
  {
   "cell_type": "markdown",
   "metadata": {},
   "source": [
    "- 'feature_names': ['sepal length (cm)','sepal width (cm)','petal length (cm)','petal width (cm)']"
   ]
  },
  {
   "cell_type": "code",
   "execution_count": 81,
   "metadata": {},
   "outputs": [
    {
     "data": {
      "text/plain": [
       "array([[5.1, 3.5, 1.4, 0.2],\n",
       "       [4.9, 3. , 1.4, 0.2],\n",
       "       [4.7, 3.2, 1.3, 0.2]])"
      ]
     },
     "execution_count": 81,
     "metadata": {},
     "output_type": "execute_result"
    }
   ],
   "source": [
    "iris.data[:3]"
   ]
  },
  {
   "cell_type": "markdown",
   "metadata": {},
   "source": [
    "- 'target_names': 'setosa' = 0, 'versicolor'=1, 'virginica'=2"
   ]
  },
  {
   "cell_type": "code",
   "execution_count": 82,
   "metadata": {},
   "outputs": [
    {
     "data": {
      "text/plain": [
       "array([0, 0, 0, 0, 0, 0, 0, 0, 0, 0, 0, 0, 0, 0, 0, 0, 0, 0, 0, 0, 0, 0,\n",
       "       0, 0, 0, 0, 0, 0, 0, 0, 0, 0, 0, 0, 0, 0, 0, 0, 0, 0, 0, 0, 0, 0,\n",
       "       0, 0, 0, 0, 0, 0, 1, 1, 1, 1, 1, 1, 1, 1, 1, 1, 1, 1, 1, 1, 1, 1,\n",
       "       1, 1, 1, 1, 1, 1, 1, 1, 1, 1, 1, 1, 1, 1, 1, 1, 1, 1, 1, 1, 1, 1,\n",
       "       1, 1, 1, 1, 1, 1, 1, 1, 1, 1, 1, 1, 2, 2, 2, 2, 2, 2, 2, 2, 2, 2,\n",
       "       2, 2, 2, 2, 2, 2, 2, 2, 2, 2, 2, 2, 2, 2, 2, 2, 2, 2, 2, 2, 2, 2,\n",
       "       2, 2, 2, 2, 2, 2, 2, 2, 2, 2, 2, 2, 2, 2, 2, 2, 2, 2])"
      ]
     },
     "execution_count": 82,
     "metadata": {},
     "output_type": "execute_result"
    }
   ],
   "source": [
    "iris.target"
   ]
  },
  {
   "cell_type": "markdown",
   "metadata": {},
   "source": [
    "#### # step2) 원활한 데이터 가공을 위한 판다스 데이터 프레임 생성"
   ]
  },
  {
   "cell_type": "code",
   "execution_count": 83,
   "metadata": {},
   "outputs": [
    {
     "data": {
      "text/html": [
       "<div>\n",
       "<style scoped>\n",
       "    .dataframe tbody tr th:only-of-type {\n",
       "        vertical-align: middle;\n",
       "    }\n",
       "\n",
       "    .dataframe tbody tr th {\n",
       "        vertical-align: top;\n",
       "    }\n",
       "\n",
       "    .dataframe thead th {\n",
       "        text-align: right;\n",
       "    }\n",
       "</style>\n",
       "<table border=\"1\" class=\"dataframe\">\n",
       "  <thead>\n",
       "    <tr style=\"text-align: right;\">\n",
       "      <th></th>\n",
       "      <th>sepal_length</th>\n",
       "      <th>sepal_width</th>\n",
       "      <th>petal_length</th>\n",
       "      <th>petal_width</th>\n",
       "    </tr>\n",
       "  </thead>\n",
       "  <tbody>\n",
       "    <tr>\n",
       "      <th>145</th>\n",
       "      <td>6.7</td>\n",
       "      <td>3.0</td>\n",
       "      <td>5.2</td>\n",
       "      <td>2.3</td>\n",
       "    </tr>\n",
       "    <tr>\n",
       "      <th>146</th>\n",
       "      <td>6.3</td>\n",
       "      <td>2.5</td>\n",
       "      <td>5.0</td>\n",
       "      <td>1.9</td>\n",
       "    </tr>\n",
       "    <tr>\n",
       "      <th>147</th>\n",
       "      <td>6.5</td>\n",
       "      <td>3.0</td>\n",
       "      <td>5.2</td>\n",
       "      <td>2.0</td>\n",
       "    </tr>\n",
       "    <tr>\n",
       "      <th>148</th>\n",
       "      <td>6.2</td>\n",
       "      <td>3.4</td>\n",
       "      <td>5.4</td>\n",
       "      <td>2.3</td>\n",
       "    </tr>\n",
       "    <tr>\n",
       "      <th>149</th>\n",
       "      <td>5.9</td>\n",
       "      <td>3.0</td>\n",
       "      <td>5.1</td>\n",
       "      <td>1.8</td>\n",
       "    </tr>\n",
       "  </tbody>\n",
       "</table>\n",
       "</div>"
      ],
      "text/plain": [
       "     sepal_length  sepal_width  petal_length  petal_width\n",
       "145           6.7          3.0           5.2          2.3\n",
       "146           6.3          2.5           5.0          1.9\n",
       "147           6.5          3.0           5.2          2.0\n",
       "148           6.2          3.4           5.4          2.3\n",
       "149           5.9          3.0           5.1          1.8"
      ]
     },
     "execution_count": 83,
     "metadata": {},
     "output_type": "execute_result"
    }
   ],
   "source": [
    "df_d = pd.DataFrame(iris.data, columns=[\"sepal_length\",'sepal_width','petal_length',\\\n",
    "                                     \"petal_width\"])\n",
    "\n",
    "df_d.tail()"
   ]
  },
  {
   "cell_type": "code",
   "execution_count": 84,
   "metadata": {},
   "outputs": [],
   "source": [
    "df_t = pd.DataFrame(iris.target, columns = [\"target\"])"
   ]
  },
  {
   "cell_type": "markdown",
   "metadata": {},
   "source": [
    "#### # step3) 'train data와 test data split'을 위한 'iris.data', 'iris.target' 병합"
   ]
  },
  {
   "cell_type": "code",
   "execution_count": 85,
   "metadata": {},
   "outputs": [],
   "source": [
    "df = pd.concat([df_d, df_t], axis=1)"
   ]
  },
  {
   "cell_type": "code",
   "execution_count": 86,
   "metadata": {},
   "outputs": [
    {
     "data": {
      "text/html": [
       "<div>\n",
       "<style scoped>\n",
       "    .dataframe tbody tr th:only-of-type {\n",
       "        vertical-align: middle;\n",
       "    }\n",
       "\n",
       "    .dataframe tbody tr th {\n",
       "        vertical-align: top;\n",
       "    }\n",
       "\n",
       "    .dataframe thead th {\n",
       "        text-align: right;\n",
       "    }\n",
       "</style>\n",
       "<table border=\"1\" class=\"dataframe\">\n",
       "  <thead>\n",
       "    <tr style=\"text-align: right;\">\n",
       "      <th></th>\n",
       "      <th>sepal_length</th>\n",
       "      <th>sepal_width</th>\n",
       "      <th>petal_length</th>\n",
       "      <th>petal_width</th>\n",
       "      <th>target</th>\n",
       "    </tr>\n",
       "  </thead>\n",
       "  <tbody>\n",
       "    <tr>\n",
       "      <th>145</th>\n",
       "      <td>6.7</td>\n",
       "      <td>3.0</td>\n",
       "      <td>5.2</td>\n",
       "      <td>2.3</td>\n",
       "      <td>2</td>\n",
       "    </tr>\n",
       "    <tr>\n",
       "      <th>146</th>\n",
       "      <td>6.3</td>\n",
       "      <td>2.5</td>\n",
       "      <td>5.0</td>\n",
       "      <td>1.9</td>\n",
       "      <td>2</td>\n",
       "    </tr>\n",
       "    <tr>\n",
       "      <th>147</th>\n",
       "      <td>6.5</td>\n",
       "      <td>3.0</td>\n",
       "      <td>5.2</td>\n",
       "      <td>2.0</td>\n",
       "      <td>2</td>\n",
       "    </tr>\n",
       "    <tr>\n",
       "      <th>148</th>\n",
       "      <td>6.2</td>\n",
       "      <td>3.4</td>\n",
       "      <td>5.4</td>\n",
       "      <td>2.3</td>\n",
       "      <td>2</td>\n",
       "    </tr>\n",
       "    <tr>\n",
       "      <th>149</th>\n",
       "      <td>5.9</td>\n",
       "      <td>3.0</td>\n",
       "      <td>5.1</td>\n",
       "      <td>1.8</td>\n",
       "      <td>2</td>\n",
       "    </tr>\n",
       "  </tbody>\n",
       "</table>\n",
       "</div>"
      ],
      "text/plain": [
       "     sepal_length  sepal_width  petal_length  petal_width  target\n",
       "145           6.7          3.0           5.2          2.3       2\n",
       "146           6.3          2.5           5.0          1.9       2\n",
       "147           6.5          3.0           5.2          2.0       2\n",
       "148           6.2          3.4           5.4          2.3       2\n",
       "149           5.9          3.0           5.1          1.8       2"
      ]
     },
     "execution_count": 86,
     "metadata": {},
     "output_type": "execute_result"
    }
   ],
   "source": [
    "df.tail(5)"
   ]
  },
  {
   "cell_type": "markdown",
   "metadata": {},
   "source": [
    "#### # step4) train data와 test data split"
   ]
  },
  {
   "cell_type": "code",
   "execution_count": 87,
   "metadata": {},
   "outputs": [
    {
     "data": {
      "text/plain": [
       "(120, 30)"
      ]
     },
     "execution_count": 87,
     "metadata": {},
     "output_type": "execute_result"
    }
   ],
   "source": [
    "from sklearn.model_selection import train_test_split\n",
    "\n",
    "train, test = train_test_split(df, test_size=0.2, random_state=0)\n",
    "len(train), len(test)"
   ]
  },
  {
   "cell_type": "markdown",
   "metadata": {},
   "source": [
    "#### # step5) x data와 y 데이터 분리"
   ]
  },
  {
   "cell_type": "code",
   "execution_count": 88,
   "metadata": {},
   "outputs": [],
   "source": [
    "# train 데이터\n",
    "x_train = train[[\"sepal_length\",\"sepal_width\",\"petal_length\",\"petal_width\"]]\n",
    "y_train = train[[\"target\"]]"
   ]
  },
  {
   "cell_type": "code",
   "execution_count": 89,
   "metadata": {},
   "outputs": [],
   "source": [
    "# test 데이터\n",
    "x_test = test[[\"sepal_length\",\"sepal_width\",\"petal_length\",\"petal_width\"]]\n",
    "y_test = test[[\"target\"]]"
   ]
  },
  {
   "cell_type": "markdown",
   "metadata": {},
   "source": [
    "#### # step6) target value 원핫인코딩 조치"
   ]
  },
  {
   "cell_type": "code",
   "execution_count": 90,
   "metadata": {},
   "outputs": [
    {
     "data": {
      "text/plain": [
       "array([[0., 0., 1.],\n",
       "       [0., 1., 0.],\n",
       "       [1., 0., 0.],\n",
       "       [0., 0., 1.],\n",
       "       [0., 0., 1.]], dtype=float32)"
      ]
     },
     "execution_count": 90,
     "metadata": {},
     "output_type": "execute_result"
    }
   ],
   "source": [
    "from keras.utils import np_utils\n",
    "\n",
    "y_train = np_utils.to_categorical(y_train, 3)\n",
    "y_test = np_utils.to_categorical(y_test, 3)\n",
    "y_train[:5]"
   ]
  },
  {
   "cell_type": "markdown",
   "metadata": {},
   "source": [
    "#### # step7) 모델생성"
   ]
  },
  {
   "cell_type": "code",
   "execution_count": 93,
   "metadata": {},
   "outputs": [],
   "source": [
    "from keras.models import Sequential\n",
    "from keras.layers.core import Dense\n",
    "from keras.optimizers import SGD\n",
    "\n",
    "np.random.seed(0)\n",
    "\n",
    "model = Sequential()\n",
    "model.add(Dense(8, input_dim=4, activation=\"sigmoid\"))\n",
    "model.add(Dense(3, activation=\"sigmoid\"))\n",
    "model.compile(optimizer=SGD(lr=0.2), loss='mean_squared_error', metrics=[\"accuracy\"])"
   ]
  },
  {
   "cell_type": "code",
   "execution_count": 94,
   "metadata": {},
   "outputs": [
    {
     "data": {
      "image/svg+xml": [
       "<svg height=\"211pt\" viewBox=\"0.00 0.00 245.00 211.00\" width=\"245pt\" xmlns=\"http://www.w3.org/2000/svg\" xmlns:xlink=\"http://www.w3.org/1999/xlink\">\n",
       "<g class=\"graph\" id=\"graph0\" transform=\"scale(1 1) rotate(0) translate(4 207)\">\n",
       "<title>G</title>\n",
       "<polygon fill=\"white\" points=\"-4,4 -4,-207 241,-207 241,4 -4,4\" stroke=\"none\"/>\n",
       "<!-- 2415310241296 -->\n",
       "<g class=\"node\" id=\"node1\"><title>2415310241296</title>\n",
       "<polygon fill=\"none\" points=\"0,-83.5 0,-129.5 237,-129.5 237,-83.5 0,-83.5\" stroke=\"black\"/>\n",
       "<text font-family=\"Times New Roman,serif\" font-size=\"14.00\" text-anchor=\"middle\" x=\"55.5\" y=\"-102.8\">dense_11: Dense</text>\n",
       "<polyline fill=\"none\" points=\"111,-83.5 111,-129.5 \" stroke=\"black\"/>\n",
       "<text font-family=\"Times New Roman,serif\" font-size=\"14.00\" text-anchor=\"middle\" x=\"139\" y=\"-114.3\">input:</text>\n",
       "<polyline fill=\"none\" points=\"111,-106.5 167,-106.5 \" stroke=\"black\"/>\n",
       "<text font-family=\"Times New Roman,serif\" font-size=\"14.00\" text-anchor=\"middle\" x=\"139\" y=\"-91.3\">output:</text>\n",
       "<polyline fill=\"none\" points=\"167,-83.5 167,-129.5 \" stroke=\"black\"/>\n",
       "<text font-family=\"Times New Roman,serif\" font-size=\"14.00\" text-anchor=\"middle\" x=\"202\" y=\"-114.3\">(None, 4)</text>\n",
       "<polyline fill=\"none\" points=\"167,-106.5 237,-106.5 \" stroke=\"black\"/>\n",
       "<text font-family=\"Times New Roman,serif\" font-size=\"14.00\" text-anchor=\"middle\" x=\"202\" y=\"-91.3\">(None, 8)</text>\n",
       "</g>\n",
       "<!-- 2415310241464 -->\n",
       "<g class=\"node\" id=\"node2\"><title>2415310241464</title>\n",
       "<polygon fill=\"none\" points=\"0,-0.5 0,-46.5 237,-46.5 237,-0.5 0,-0.5\" stroke=\"black\"/>\n",
       "<text font-family=\"Times New Roman,serif\" font-size=\"14.00\" text-anchor=\"middle\" x=\"55.5\" y=\"-19.8\">dense_12: Dense</text>\n",
       "<polyline fill=\"none\" points=\"111,-0.5 111,-46.5 \" stroke=\"black\"/>\n",
       "<text font-family=\"Times New Roman,serif\" font-size=\"14.00\" text-anchor=\"middle\" x=\"139\" y=\"-31.3\">input:</text>\n",
       "<polyline fill=\"none\" points=\"111,-23.5 167,-23.5 \" stroke=\"black\"/>\n",
       "<text font-family=\"Times New Roman,serif\" font-size=\"14.00\" text-anchor=\"middle\" x=\"139\" y=\"-8.3\">output:</text>\n",
       "<polyline fill=\"none\" points=\"167,-0.5 167,-46.5 \" stroke=\"black\"/>\n",
       "<text font-family=\"Times New Roman,serif\" font-size=\"14.00\" text-anchor=\"middle\" x=\"202\" y=\"-31.3\">(None, 8)</text>\n",
       "<polyline fill=\"none\" points=\"167,-23.5 237,-23.5 \" stroke=\"black\"/>\n",
       "<text font-family=\"Times New Roman,serif\" font-size=\"14.00\" text-anchor=\"middle\" x=\"202\" y=\"-8.3\">(None, 3)</text>\n",
       "</g>\n",
       "<!-- 2415310241296&#45;&gt;2415310241464 -->\n",
       "<g class=\"edge\" id=\"edge2\"><title>2415310241296-&gt;2415310241464</title>\n",
       "<path d=\"M118.5,-83.3664C118.5,-75.1516 118.5,-65.6579 118.5,-56.7252\" fill=\"none\" stroke=\"black\"/>\n",
       "<polygon fill=\"black\" points=\"122,-56.6068 118.5,-46.6068 115,-56.6069 122,-56.6068\" stroke=\"black\"/>\n",
       "</g>\n",
       "<!-- 2415310241744 -->\n",
       "<g class=\"node\" id=\"node3\"><title>2415310241744</title>\n",
       "<polygon fill=\"none\" points=\"66.5,-166.5 66.5,-202.5 170.5,-202.5 170.5,-166.5 66.5,-166.5\" stroke=\"black\"/>\n",
       "<text font-family=\"Times New Roman,serif\" font-size=\"14.00\" text-anchor=\"middle\" x=\"118.5\" y=\"-180.8\">2415310241744</text>\n",
       "</g>\n",
       "<!-- 2415310241744&#45;&gt;2415310241296 -->\n",
       "<g class=\"edge\" id=\"edge1\"><title>2415310241744-&gt;2415310241296</title>\n",
       "<path d=\"M118.5,-166.254C118.5,-158.363 118.5,-148.749 118.5,-139.602\" fill=\"none\" stroke=\"black\"/>\n",
       "<polygon fill=\"black\" points=\"122,-139.591 118.5,-129.591 115,-139.591 122,-139.591\" stroke=\"black\"/>\n",
       "</g>\n",
       "</g>\n",
       "</svg>"
      ],
      "text/plain": [
       "<IPython.core.display.SVG object>"
      ]
     },
     "execution_count": 94,
     "metadata": {},
     "output_type": "execute_result"
    }
   ],
   "source": [
    "from IPython.display import SVG\n",
    "from keras.utils.vis_utils import model_to_dot\n",
    "\n",
    "SVG(model_to_dot(model, show_shapes=True).create(prog='dot', format='svg'))"
   ]
  },
  {
   "cell_type": "code",
   "execution_count": 95,
   "metadata": {},
   "outputs": [
    {
     "name": "stdout",
     "output_type": "stream",
     "text": [
      "_________________________________________________________________\n",
      "Layer (type)                 Output Shape              Param #   \n",
      "=================================================================\n",
      "dense_11 (Dense)             (None, 8)                 40        \n",
      "_________________________________________________________________\n",
      "dense_12 (Dense)             (None, 3)                 27        \n",
      "=================================================================\n",
      "Total params: 67\n",
      "Trainable params: 67\n",
      "Non-trainable params: 0\n",
      "_________________________________________________________________\n"
     ]
    }
   ],
   "source": [
    "model.summary()"
   ]
  },
  {
   "cell_type": "markdown",
   "metadata": {},
   "source": [
    "#### # step8) 모델성능확인"
   ]
  },
  {
   "cell_type": "code",
   "execution_count": 96,
   "metadata": {},
   "outputs": [
    {
     "name": "stdout",
     "output_type": "stream",
     "text": [
      "Train on 120 samples, validate on 30 samples\n",
      "Epoch 1/200\n",
      " - 0s - loss: 0.2487 - acc: 0.2250 - val_loss: 0.2402 - val_acc: 0.2000\n",
      "Epoch 2/200\n",
      " - 0s - loss: 0.2322 - acc: 0.3500 - val_loss: 0.2337 - val_acc: 0.2000\n",
      "Epoch 3/200\n",
      " - 0s - loss: 0.2250 - acc: 0.3667 - val_loss: 0.2295 - val_acc: 0.2000\n",
      "Epoch 4/200\n",
      " - 0s - loss: 0.2206 - acc: 0.3667 - val_loss: 0.2281 - val_acc: 0.2000\n",
      "Epoch 5/200\n",
      " - 0s - loss: 0.2177 - acc: 0.3667 - val_loss: 0.2264 - val_acc: 0.2000\n",
      "Epoch 6/200\n",
      " - 0s - loss: 0.2146 - acc: 0.3750 - val_loss: 0.2247 - val_acc: 0.2000\n",
      "Epoch 7/200\n",
      " - 0s - loss: 0.2119 - acc: 0.3917 - val_loss: 0.2209 - val_acc: 0.2000\n",
      "Epoch 8/200\n",
      " - 0s - loss: 0.2087 - acc: 0.5083 - val_loss: 0.2180 - val_acc: 0.5000\n",
      "Epoch 9/200\n",
      " - 0s - loss: 0.2056 - acc: 0.6667 - val_loss: 0.2141 - val_acc: 0.5667\n",
      "Epoch 10/200\n",
      " - 0s - loss: 0.2024 - acc: 0.6917 - val_loss: 0.2112 - val_acc: 0.5667\n",
      "Epoch 11/200\n",
      " - 0s - loss: 0.1988 - acc: 0.6917 - val_loss: 0.2073 - val_acc: 0.5667\n",
      "Epoch 12/200\n",
      " - 0s - loss: 0.1957 - acc: 0.6917 - val_loss: 0.2031 - val_acc: 0.5667\n",
      "Epoch 13/200\n",
      " - 0s - loss: 0.1917 - acc: 0.6917 - val_loss: 0.1999 - val_acc: 0.5667\n",
      "Epoch 14/200\n",
      " - 0s - loss: 0.1883 - acc: 0.6917 - val_loss: 0.1965 - val_acc: 0.5667\n",
      "Epoch 15/200\n",
      " - 0s - loss: 0.1846 - acc: 0.6917 - val_loss: 0.1934 - val_acc: 0.5667\n",
      "Epoch 16/200\n",
      " - 0s - loss: 0.1815 - acc: 0.6917 - val_loss: 0.1895 - val_acc: 0.5667\n",
      "Epoch 17/200\n",
      " - 0s - loss: 0.1783 - acc: 0.6917 - val_loss: 0.1867 - val_acc: 0.5667\n",
      "Epoch 18/200\n",
      " - 0s - loss: 0.1745 - acc: 0.6917 - val_loss: 0.1845 - val_acc: 0.5667\n",
      "Epoch 19/200\n",
      " - 0s - loss: 0.1713 - acc: 0.6917 - val_loss: 0.1809 - val_acc: 0.5667\n",
      "Epoch 20/200\n",
      " - 0s - loss: 0.1679 - acc: 0.6917 - val_loss: 0.1774 - val_acc: 0.5667\n",
      "Epoch 21/200\n",
      " - 0s - loss: 0.1650 - acc: 0.6917 - val_loss: 0.1738 - val_acc: 0.5667\n",
      "Epoch 22/200\n",
      " - 0s - loss: 0.1613 - acc: 0.6917 - val_loss: 0.1722 - val_acc: 0.5667\n",
      "Epoch 23/200\n",
      " - 0s - loss: 0.1583 - acc: 0.6917 - val_loss: 0.1686 - val_acc: 0.5667\n",
      "Epoch 24/200\n",
      " - 0s - loss: 0.1556 - acc: 0.6917 - val_loss: 0.1663 - val_acc: 0.5667\n",
      "Epoch 25/200\n",
      " - 0s - loss: 0.1524 - acc: 0.6917 - val_loss: 0.1649 - val_acc: 0.5667\n",
      "Epoch 26/200\n",
      " - 0s - loss: 0.1496 - acc: 0.6917 - val_loss: 0.1615 - val_acc: 0.5667\n",
      "Epoch 27/200\n",
      " - 0s - loss: 0.1470 - acc: 0.6917 - val_loss: 0.1596 - val_acc: 0.5667\n",
      "Epoch 28/200\n",
      " - 0s - loss: 0.1445 - acc: 0.6917 - val_loss: 0.1568 - val_acc: 0.5667\n",
      "Epoch 29/200\n",
      " - 0s - loss: 0.1419 - acc: 0.6917 - val_loss: 0.1528 - val_acc: 0.5667\n",
      "Epoch 30/200\n",
      " - 0s - loss: 0.1398 - acc: 0.6917 - val_loss: 0.1505 - val_acc: 0.5667\n",
      "Epoch 31/200\n",
      " - 0s - loss: 0.1387 - acc: 0.6917 - val_loss: 0.1499 - val_acc: 0.5667\n",
      "Epoch 32/200\n",
      " - 0s - loss: 0.1363 - acc: 0.6917 - val_loss: 0.1470 - val_acc: 0.5667\n",
      "Epoch 33/200\n",
      " - 0s - loss: 0.1340 - acc: 0.6917 - val_loss: 0.1439 - val_acc: 0.5667\n",
      "Epoch 34/200\n",
      " - 0s - loss: 0.1327 - acc: 0.6917 - val_loss: 0.1438 - val_acc: 0.5667\n",
      "Epoch 35/200\n",
      " - 0s - loss: 0.1309 - acc: 0.6917 - val_loss: 0.1433 - val_acc: 0.5667\n",
      "Epoch 36/200\n",
      " - 0s - loss: 0.1291 - acc: 0.6917 - val_loss: 0.1410 - val_acc: 0.5667\n",
      "Epoch 37/200\n",
      " - 0s - loss: 0.1279 - acc: 0.6917 - val_loss: 0.1390 - val_acc: 0.5667\n",
      "Epoch 38/200\n",
      " - 0s - loss: 0.1263 - acc: 0.6917 - val_loss: 0.1362 - val_acc: 0.5667\n",
      "Epoch 39/200\n",
      " - 0s - loss: 0.1252 - acc: 0.6917 - val_loss: 0.1339 - val_acc: 0.5667\n",
      "Epoch 40/200\n",
      " - 0s - loss: 0.1235 - acc: 0.7000 - val_loss: 0.1341 - val_acc: 0.5667\n",
      "Epoch 41/200\n",
      " - 0s - loss: 0.1222 - acc: 0.7000 - val_loss: 0.1324 - val_acc: 0.5667\n",
      "Epoch 42/200\n",
      " - 0s - loss: 0.1210 - acc: 0.7000 - val_loss: 0.1310 - val_acc: 0.5667\n",
      "Epoch 43/200\n",
      " - 0s - loss: 0.1199 - acc: 0.7083 - val_loss: 0.1284 - val_acc: 0.5667\n",
      "Epoch 44/200\n",
      " - 0s - loss: 0.1191 - acc: 0.7000 - val_loss: 0.1273 - val_acc: 0.5667\n",
      "Epoch 45/200\n",
      " - 0s - loss: 0.1184 - acc: 0.7250 - val_loss: 0.1270 - val_acc: 0.5667\n",
      "Epoch 46/200\n",
      " - 0s - loss: 0.1175 - acc: 0.7250 - val_loss: 0.1235 - val_acc: 0.6000\n",
      "Epoch 47/200\n",
      " - 0s - loss: 0.1168 - acc: 0.7917 - val_loss: 0.1264 - val_acc: 0.5667\n",
      "Epoch 48/200\n",
      " - 0s - loss: 0.1150 - acc: 0.7167 - val_loss: 0.1236 - val_acc: 0.5667\n",
      "Epoch 49/200\n",
      " - 0s - loss: 0.1139 - acc: 0.7083 - val_loss: 0.1195 - val_acc: 0.7000\n",
      "Epoch 50/200\n",
      " - 0s - loss: 0.1132 - acc: 0.7833 - val_loss: 0.1192 - val_acc: 0.6333\n",
      "Epoch 51/200\n",
      " - 0s - loss: 0.1123 - acc: 0.7583 - val_loss: 0.1178 - val_acc: 0.7000\n",
      "Epoch 52/200\n",
      " - 0s - loss: 0.1114 - acc: 0.7500 - val_loss: 0.1167 - val_acc: 0.7000\n",
      "Epoch 53/200\n",
      " - 0s - loss: 0.1107 - acc: 0.7917 - val_loss: 0.1171 - val_acc: 0.6333\n",
      "Epoch 54/200\n",
      " - 0s - loss: 0.1099 - acc: 0.7750 - val_loss: 0.1158 - val_acc: 0.7000\n",
      "Epoch 55/200\n",
      " - 0s - loss: 0.1098 - acc: 0.8083 - val_loss: 0.1148 - val_acc: 0.7000\n",
      "Epoch 56/200\n",
      " - 0s - loss: 0.1084 - acc: 0.7917 - val_loss: 0.1130 - val_acc: 0.7333\n",
      "Epoch 57/200\n",
      " - 0s - loss: 0.1076 - acc: 0.7917 - val_loss: 0.1132 - val_acc: 0.7333\n",
      "Epoch 58/200\n",
      " - 0s - loss: 0.1065 - acc: 0.8500 - val_loss: 0.1142 - val_acc: 0.6667\n",
      "Epoch 59/200\n",
      " - 0s - loss: 0.1057 - acc: 0.7750 - val_loss: 0.1081 - val_acc: 0.8333\n",
      "Epoch 60/200\n",
      " - 0s - loss: 0.1051 - acc: 0.8667 - val_loss: 0.1096 - val_acc: 0.7667\n",
      "Epoch 61/200\n",
      " - 0s - loss: 0.1045 - acc: 0.8417 - val_loss: 0.1094 - val_acc: 0.7667\n",
      "Epoch 62/200\n",
      " - 0s - loss: 0.1045 - acc: 0.8417 - val_loss: 0.1066 - val_acc: 0.8000\n",
      "Epoch 63/200\n",
      " - 0s - loss: 0.1026 - acc: 0.8667 - val_loss: 0.1081 - val_acc: 0.7667\n",
      "Epoch 64/200\n",
      " - 0s - loss: 0.1020 - acc: 0.8667 - val_loss: 0.1061 - val_acc: 0.8000\n",
      "Epoch 65/200\n",
      " - 0s - loss: 0.1029 - acc: 0.8833 - val_loss: 0.1092 - val_acc: 0.7333\n",
      "Epoch 66/200\n",
      " - 0s - loss: 0.1010 - acc: 0.8167 - val_loss: 0.1018 - val_acc: 0.8667\n",
      "Epoch 67/200\n",
      " - 0s - loss: 0.1004 - acc: 0.8917 - val_loss: 0.1056 - val_acc: 0.7667\n",
      "Epoch 68/200\n",
      " - 0s - loss: 0.0996 - acc: 0.8833 - val_loss: 0.1068 - val_acc: 0.7333\n",
      "Epoch 69/200\n",
      " - 0s - loss: 0.0986 - acc: 0.8833 - val_loss: 0.1055 - val_acc: 0.7667\n",
      "Epoch 70/200\n",
      " - 0s - loss: 0.0980 - acc: 0.8667 - val_loss: 0.1026 - val_acc: 0.8000\n",
      "Epoch 71/200\n",
      " - 0s - loss: 0.0975 - acc: 0.9083 - val_loss: 0.1029 - val_acc: 0.7667\n",
      "Epoch 72/200\n",
      " - 0s - loss: 0.0964 - acc: 0.9167 - val_loss: 0.1059 - val_acc: 0.7333\n",
      "Epoch 73/200\n",
      " - 0s - loss: 0.0963 - acc: 0.8417 - val_loss: 0.0998 - val_acc: 0.8333\n",
      "Epoch 74/200\n",
      " - 0s - loss: 0.0952 - acc: 0.9167 - val_loss: 0.0991 - val_acc: 0.8333\n",
      "Epoch 75/200\n",
      " - 0s - loss: 0.0940 - acc: 0.9000 - val_loss: 0.0961 - val_acc: 0.8667\n",
      "Epoch 76/200\n",
      " - 0s - loss: 0.0934 - acc: 0.9250 - val_loss: 0.0986 - val_acc: 0.8000\n",
      "Epoch 77/200\n",
      " - 0s - loss: 0.0926 - acc: 0.8917 - val_loss: 0.0959 - val_acc: 0.8667\n",
      "Epoch 78/200\n",
      " - 0s - loss: 0.0927 - acc: 0.8917 - val_loss: 0.0921 - val_acc: 0.9667\n",
      "Epoch 79/200\n",
      " - 0s - loss: 0.0925 - acc: 0.9250 - val_loss: 0.0967 - val_acc: 0.8333\n",
      "Epoch 80/200\n",
      " - 0s - loss: 0.0919 - acc: 0.9083 - val_loss: 0.0964 - val_acc: 0.8000\n",
      "Epoch 81/200\n",
      " - 0s - loss: 0.0899 - acc: 0.9083 - val_loss: 0.0905 - val_acc: 0.9667\n",
      "Epoch 82/200\n",
      " - 0s - loss: 0.0901 - acc: 0.9333 - val_loss: 0.0930 - val_acc: 0.8667\n",
      "Epoch 83/200\n",
      " - 0s - loss: 0.0890 - acc: 0.9583 - val_loss: 0.0976 - val_acc: 0.7667\n",
      "Epoch 84/200\n",
      " - 0s - loss: 0.0880 - acc: 0.8917 - val_loss: 0.0873 - val_acc: 0.9667\n",
      "Epoch 85/200\n",
      " - 0s - loss: 0.0885 - acc: 0.9250 - val_loss: 0.0864 - val_acc: 0.9667\n",
      "Epoch 86/200\n",
      " - 0s - loss: 0.0871 - acc: 0.9417 - val_loss: 0.0898 - val_acc: 0.8667\n",
      "Epoch 87/200\n",
      " - 0s - loss: 0.0859 - acc: 0.9417 - val_loss: 0.0875 - val_acc: 0.9333\n",
      "Epoch 88/200\n",
      " - 0s - loss: 0.0854 - acc: 0.9500 - val_loss: 0.0935 - val_acc: 0.8000\n",
      "Epoch 89/200\n",
      " - 0s - loss: 0.0860 - acc: 0.9167 - val_loss: 0.0859 - val_acc: 0.9333\n",
      "Epoch 90/200\n",
      " - 0s - loss: 0.0842 - acc: 0.9417 - val_loss: 0.0860 - val_acc: 0.9333\n",
      "Epoch 91/200\n",
      " - 0s - loss: 0.0839 - acc: 0.9333 - val_loss: 0.0862 - val_acc: 0.9333\n",
      "Epoch 92/200\n",
      " - 0s - loss: 0.0837 - acc: 0.9417 - val_loss: 0.0916 - val_acc: 0.8000\n",
      "Epoch 93/200\n",
      " - 0s - loss: 0.0824 - acc: 0.9250 - val_loss: 0.0826 - val_acc: 0.9667\n",
      "Epoch 94/200\n",
      " - 0s - loss: 0.0817 - acc: 0.9500 - val_loss: 0.0826 - val_acc: 0.9667\n",
      "Epoch 95/200\n",
      " - 0s - loss: 0.0808 - acc: 0.9333 - val_loss: 0.0858 - val_acc: 0.8667\n",
      "Epoch 96/200\n",
      " - 0s - loss: 0.0805 - acc: 0.9500 - val_loss: 0.0860 - val_acc: 0.8667\n"
     ]
    },
    {
     "name": "stdout",
     "output_type": "stream",
     "text": [
      "Epoch 97/200\n",
      " - 0s - loss: 0.0800 - acc: 0.9417 - val_loss: 0.0832 - val_acc: 0.9333\n",
      "Epoch 98/200\n",
      " - 0s - loss: 0.0803 - acc: 0.9417 - val_loss: 0.0875 - val_acc: 0.8667\n",
      "Epoch 99/200\n",
      " - 0s - loss: 0.0782 - acc: 0.9250 - val_loss: 0.0795 - val_acc: 0.9667\n",
      "Epoch 100/200\n",
      " - 0s - loss: 0.0784 - acc: 0.9417 - val_loss: 0.0793 - val_acc: 0.9333\n",
      "Epoch 101/200\n",
      " - 0s - loss: 0.0770 - acc: 0.9583 - val_loss: 0.0825 - val_acc: 0.8667\n",
      "Epoch 102/200\n",
      " - 0s - loss: 0.0772 - acc: 0.9667 - val_loss: 0.0854 - val_acc: 0.8667\n",
      "Epoch 103/200\n",
      " - 0s - loss: 0.0775 - acc: 0.9333 - val_loss: 0.0772 - val_acc: 0.9667\n",
      "Epoch 104/200\n",
      " - 0s - loss: 0.0753 - acc: 0.9417 - val_loss: 0.0786 - val_acc: 0.9333\n",
      "Epoch 105/200\n",
      " - 0s - loss: 0.0750 - acc: 0.9417 - val_loss: 0.0786 - val_acc: 0.9333\n",
      "Epoch 106/200\n",
      " - 0s - loss: 0.0740 - acc: 0.9417 - val_loss: 0.0756 - val_acc: 0.9667\n",
      "Epoch 107/200\n",
      " - 0s - loss: 0.0737 - acc: 0.9500 - val_loss: 0.0736 - val_acc: 0.9667\n",
      "Epoch 108/200\n",
      " - 0s - loss: 0.0728 - acc: 0.9500 - val_loss: 0.0698 - val_acc: 1.0000\n",
      "Epoch 109/200\n",
      " - 0s - loss: 0.0722 - acc: 0.9500 - val_loss: 0.0681 - val_acc: 1.0000\n",
      "Epoch 110/200\n",
      " - 0s - loss: 0.0721 - acc: 0.9583 - val_loss: 0.0667 - val_acc: 1.0000\n",
      "Epoch 111/200\n",
      " - 0s - loss: 0.0723 - acc: 0.9583 - val_loss: 0.0683 - val_acc: 1.0000\n",
      "Epoch 112/200\n",
      " - 0s - loss: 0.0703 - acc: 0.9583 - val_loss: 0.0695 - val_acc: 1.0000\n",
      "Epoch 113/200\n",
      " - 0s - loss: 0.0715 - acc: 0.9583 - val_loss: 0.0769 - val_acc: 0.8667\n",
      "Epoch 114/200\n",
      " - 0s - loss: 0.0717 - acc: 0.9417 - val_loss: 0.0681 - val_acc: 1.0000\n",
      "Epoch 115/200\n",
      " - 0s - loss: 0.0683 - acc: 0.9500 - val_loss: 0.0747 - val_acc: 0.9000\n",
      "Epoch 116/200\n",
      " - 0s - loss: 0.0683 - acc: 0.9417 - val_loss: 0.0649 - val_acc: 1.0000\n",
      "Epoch 117/200\n",
      " - 0s - loss: 0.0685 - acc: 0.9417 - val_loss: 0.0722 - val_acc: 0.9333\n",
      "Epoch 118/200\n",
      " - 0s - loss: 0.0675 - acc: 0.9583 - val_loss: 0.0622 - val_acc: 1.0000\n",
      "Epoch 119/200\n",
      " - 0s - loss: 0.0666 - acc: 0.9667 - val_loss: 0.0721 - val_acc: 0.9333\n",
      "Epoch 120/200\n",
      " - 0s - loss: 0.0664 - acc: 0.9417 - val_loss: 0.0619 - val_acc: 1.0000\n",
      "Epoch 121/200\n",
      " - 0s - loss: 0.0652 - acc: 0.9583 - val_loss: 0.0667 - val_acc: 0.9667\n",
      "Epoch 122/200\n",
      " - 0s - loss: 0.0671 - acc: 0.9500 - val_loss: 0.0631 - val_acc: 1.0000\n",
      "Epoch 123/200\n",
      " - 0s - loss: 0.0645 - acc: 0.9583 - val_loss: 0.0583 - val_acc: 1.0000\n",
      "Epoch 124/200\n",
      " - 0s - loss: 0.0647 - acc: 0.9500 - val_loss: 0.0569 - val_acc: 1.0000\n",
      "Epoch 125/200\n",
      " - 0s - loss: 0.0642 - acc: 0.9583 - val_loss: 0.0592 - val_acc: 1.0000\n",
      "Epoch 126/200\n",
      " - 0s - loss: 0.0622 - acc: 0.9583 - val_loss: 0.0630 - val_acc: 0.9667\n",
      "Epoch 127/200\n",
      " - 0s - loss: 0.0639 - acc: 0.9583 - val_loss: 0.0638 - val_acc: 0.9667\n",
      "Epoch 128/200\n",
      " - 0s - loss: 0.0620 - acc: 0.9583 - val_loss: 0.0646 - val_acc: 0.9667\n",
      "Epoch 129/200\n",
      " - 0s - loss: 0.0617 - acc: 0.9500 - val_loss: 0.0537 - val_acc: 1.0000\n",
      "Epoch 130/200\n",
      " - 0s - loss: 0.0612 - acc: 0.9583 - val_loss: 0.0610 - val_acc: 0.9667\n",
      "Epoch 131/200\n",
      " - 0s - loss: 0.0606 - acc: 0.9583 - val_loss: 0.0652 - val_acc: 0.9333\n",
      "Epoch 132/200\n",
      " - 0s - loss: 0.0602 - acc: 0.9500 - val_loss: 0.0552 - val_acc: 1.0000\n",
      "Epoch 133/200\n",
      " - 0s - loss: 0.0597 - acc: 0.9583 - val_loss: 0.0543 - val_acc: 1.0000\n",
      "Epoch 134/200\n",
      " - 0s - loss: 0.0603 - acc: 0.9750 - val_loss: 0.0601 - val_acc: 0.9667\n",
      "Epoch 135/200\n",
      " - 0s - loss: 0.0582 - acc: 0.9583 - val_loss: 0.0547 - val_acc: 1.0000\n",
      "Epoch 136/200\n",
      " - 0s - loss: 0.0577 - acc: 0.9583 - val_loss: 0.0530 - val_acc: 1.0000\n",
      "Epoch 137/200\n",
      " - 0s - loss: 0.0584 - acc: 0.9500 - val_loss: 0.0555 - val_acc: 1.0000\n",
      "Epoch 138/200\n",
      " - 0s - loss: 0.0582 - acc: 0.9583 - val_loss: 0.0536 - val_acc: 1.0000\n",
      "Epoch 139/200\n",
      " - 0s - loss: 0.0571 - acc: 0.9583 - val_loss: 0.0605 - val_acc: 0.9667\n",
      "Epoch 140/200\n",
      " - 0s - loss: 0.0565 - acc: 0.9667 - val_loss: 0.0557 - val_acc: 1.0000\n",
      "Epoch 141/200\n",
      " - 0s - loss: 0.0561 - acc: 0.9500 - val_loss: 0.0617 - val_acc: 0.9333\n",
      "Epoch 142/200\n",
      " - 0s - loss: 0.0562 - acc: 0.9500 - val_loss: 0.0527 - val_acc: 1.0000\n",
      "Epoch 143/200\n",
      " - 0s - loss: 0.0556 - acc: 0.9583 - val_loss: 0.0516 - val_acc: 1.0000\n",
      "Epoch 144/200\n",
      " - 0s - loss: 0.0561 - acc: 0.9583 - val_loss: 0.0524 - val_acc: 1.0000\n",
      "Epoch 145/200\n",
      " - 0s - loss: 0.0543 - acc: 0.9667 - val_loss: 0.0529 - val_acc: 1.0000\n",
      "Epoch 146/200\n",
      " - 0s - loss: 0.0542 - acc: 0.9583 - val_loss: 0.0490 - val_acc: 1.0000\n",
      "Epoch 147/200\n",
      " - 0s - loss: 0.0532 - acc: 0.9667 - val_loss: 0.0507 - val_acc: 1.0000\n",
      "Epoch 148/200\n",
      " - 0s - loss: 0.0528 - acc: 0.9750 - val_loss: 0.0585 - val_acc: 0.9333\n",
      "Epoch 149/200\n",
      " - 0s - loss: 0.0542 - acc: 0.9417 - val_loss: 0.0511 - val_acc: 1.0000\n",
      "Epoch 150/200\n",
      " - 0s - loss: 0.0523 - acc: 0.9583 - val_loss: 0.0512 - val_acc: 1.0000\n",
      "Epoch 151/200\n",
      " - 0s - loss: 0.0520 - acc: 0.9667 - val_loss: 0.0476 - val_acc: 1.0000\n",
      "Epoch 152/200\n",
      " - 0s - loss: 0.0519 - acc: 0.9750 - val_loss: 0.0534 - val_acc: 0.9667\n",
      "Epoch 153/200\n",
      " - 0s - loss: 0.0514 - acc: 0.9667 - val_loss: 0.0471 - val_acc: 1.0000\n",
      "Epoch 154/200\n",
      " - 0s - loss: 0.0509 - acc: 0.9667 - val_loss: 0.0552 - val_acc: 0.9667\n",
      "Epoch 155/200\n",
      " - 0s - loss: 0.0507 - acc: 0.9583 - val_loss: 0.0527 - val_acc: 0.9667\n",
      "Epoch 156/200\n",
      " - 0s - loss: 0.0501 - acc: 0.9583 - val_loss: 0.0443 - val_acc: 1.0000\n",
      "Epoch 157/200\n",
      " - 0s - loss: 0.0494 - acc: 0.9583 - val_loss: 0.0472 - val_acc: 1.0000\n",
      "Epoch 158/200\n",
      " - 0s - loss: 0.0489 - acc: 0.9583 - val_loss: 0.0444 - val_acc: 1.0000\n",
      "Epoch 159/200\n",
      " - 0s - loss: 0.0493 - acc: 0.9583 - val_loss: 0.0448 - val_acc: 1.0000\n",
      "Epoch 160/200\n",
      " - 0s - loss: 0.0484 - acc: 0.9750 - val_loss: 0.0509 - val_acc: 0.9667\n",
      "Epoch 161/200\n",
      " - 0s - loss: 0.0497 - acc: 0.9500 - val_loss: 0.0442 - val_acc: 1.0000\n",
      "Epoch 162/200\n",
      " - 0s - loss: 0.0479 - acc: 0.9583 - val_loss: 0.0420 - val_acc: 1.0000\n",
      "Epoch 163/200\n",
      " - 0s - loss: 0.0471 - acc: 0.9667 - val_loss: 0.0449 - val_acc: 1.0000\n",
      "Epoch 164/200\n",
      " - 0s - loss: 0.0481 - acc: 0.9750 - val_loss: 0.0508 - val_acc: 0.9667\n",
      "Epoch 165/200\n",
      " - 0s - loss: 0.0481 - acc: 0.9583 - val_loss: 0.0474 - val_acc: 0.9667\n",
      "Epoch 166/200\n",
      " - 0s - loss: 0.0468 - acc: 0.9667 - val_loss: 0.0410 - val_acc: 1.0000\n",
      "Epoch 167/200\n",
      " - 0s - loss: 0.0460 - acc: 0.9583 - val_loss: 0.0389 - val_acc: 1.0000\n",
      "Epoch 168/200\n",
      " - 0s - loss: 0.0463 - acc: 0.9500 - val_loss: 0.0407 - val_acc: 1.0000\n",
      "Epoch 169/200\n",
      " - 0s - loss: 0.0462 - acc: 0.9583 - val_loss: 0.0375 - val_acc: 1.0000\n",
      "Epoch 170/200\n",
      " - 0s - loss: 0.0452 - acc: 0.9583 - val_loss: 0.0465 - val_acc: 0.9667\n",
      "Epoch 171/200\n",
      " - 0s - loss: 0.0451 - acc: 0.9833 - val_loss: 0.0463 - val_acc: 0.9667\n",
      "Epoch 172/200\n",
      " - 0s - loss: 0.0447 - acc: 0.9667 - val_loss: 0.0364 - val_acc: 1.0000\n",
      "Epoch 173/200\n",
      " - 0s - loss: 0.0450 - acc: 0.9667 - val_loss: 0.0381 - val_acc: 1.0000\n",
      "Epoch 174/200\n",
      " - 0s - loss: 0.0448 - acc: 0.9583 - val_loss: 0.0402 - val_acc: 1.0000\n",
      "Epoch 175/200\n",
      " - 0s - loss: 0.0456 - acc: 0.9583 - val_loss: 0.0391 - val_acc: 1.0000\n",
      "Epoch 176/200\n",
      " - 0s - loss: 0.0446 - acc: 0.9667 - val_loss: 0.0369 - val_acc: 1.0000\n",
      "Epoch 177/200\n",
      " - 0s - loss: 0.0434 - acc: 0.9667 - val_loss: 0.0352 - val_acc: 1.0000\n",
      "Epoch 178/200\n",
      " - 0s - loss: 0.0435 - acc: 0.9667 - val_loss: 0.0396 - val_acc: 1.0000\n",
      "Epoch 179/200\n",
      " - 0s - loss: 0.0421 - acc: 0.9667 - val_loss: 0.0335 - val_acc: 1.0000\n",
      "Epoch 180/200\n",
      " - 0s - loss: 0.0427 - acc: 0.9667 - val_loss: 0.0362 - val_acc: 1.0000\n",
      "Epoch 181/200\n",
      " - 0s - loss: 0.0428 - acc: 0.9667 - val_loss: 0.0353 - val_acc: 1.0000\n",
      "Epoch 182/200\n",
      " - 0s - loss: 0.0414 - acc: 0.9667 - val_loss: 0.0380 - val_acc: 1.0000\n",
      "Epoch 183/200\n",
      " - 0s - loss: 0.0422 - acc: 0.9583 - val_loss: 0.0356 - val_acc: 1.0000\n",
      "Epoch 184/200\n",
      " - 0s - loss: 0.0419 - acc: 0.9750 - val_loss: 0.0380 - val_acc: 1.0000\n",
      "Epoch 185/200\n",
      " - 0s - loss: 0.0406 - acc: 0.9583 - val_loss: 0.0355 - val_acc: 1.0000\n",
      "Epoch 186/200\n",
      " - 0s - loss: 0.0406 - acc: 0.9583 - val_loss: 0.0336 - val_acc: 1.0000\n",
      "Epoch 187/200\n",
      " - 0s - loss: 0.0401 - acc: 0.9750 - val_loss: 0.0316 - val_acc: 1.0000\n",
      "Epoch 188/200\n",
      " - 0s - loss: 0.0399 - acc: 0.9500 - val_loss: 0.0344 - val_acc: 1.0000\n",
      "Epoch 189/200\n",
      " - 0s - loss: 0.0400 - acc: 0.9583 - val_loss: 0.0349 - val_acc: 1.0000\n",
      "Epoch 190/200\n",
      " - 0s - loss: 0.0398 - acc: 0.9667 - val_loss: 0.0318 - val_acc: 1.0000\n",
      "Epoch 191/200\n",
      " - 0s - loss: 0.0409 - acc: 0.9667 - val_loss: 0.0396 - val_acc: 1.0000\n",
      "Epoch 192/200\n",
      " - 0s - loss: 0.0396 - acc: 0.9667 - val_loss: 0.0371 - val_acc: 1.0000\n"
     ]
    },
    {
     "name": "stdout",
     "output_type": "stream",
     "text": [
      "Epoch 193/200\n",
      " - 0s - loss: 0.0391 - acc: 0.9667 - val_loss: 0.0320 - val_acc: 1.0000\n",
      "Epoch 194/200\n",
      " - 0s - loss: 0.0386 - acc: 0.9667 - val_loss: 0.0387 - val_acc: 1.0000\n",
      "Epoch 195/200\n",
      " - 0s - loss: 0.0395 - acc: 0.9583 - val_loss: 0.0336 - val_acc: 1.0000\n",
      "Epoch 196/200\n",
      " - 0s - loss: 0.0396 - acc: 0.9667 - val_loss: 0.0324 - val_acc: 1.0000\n",
      "Epoch 197/200\n",
      " - 0s - loss: 0.0390 - acc: 0.9500 - val_loss: 0.0355 - val_acc: 1.0000\n",
      "Epoch 198/200\n",
      " - 0s - loss: 0.0383 - acc: 0.9583 - val_loss: 0.0347 - val_acc: 1.0000\n",
      "Epoch 199/200\n",
      " - 0s - loss: 0.0387 - acc: 0.9583 - val_loss: 0.0283 - val_acc: 0.9667\n",
      "Epoch 200/200\n",
      " - 0s - loss: 0.0383 - acc: 0.9667 - val_loss: 0.0284 - val_acc: 1.0000\n",
      "Wall time: 2.23 s\n"
     ]
    }
   ],
   "source": [
    "%%time\n",
    "hist = model.fit(x_train, y_train,\n",
    "                 epochs=200, batch_size=10,\n",
    "                 validation_data=(x_test, y_test),\n",
    "                 verbose=2)"
   ]
  },
  {
   "cell_type": "code",
   "execution_count": 97,
   "metadata": {},
   "outputs": [
    {
     "data": {
      "image/png": "[encoded data removed]",
      "text/plain": [
       "<Figure size 576x288 with 2 Axes>"
      ]
     },
     "metadata": {
      "image/png": {
       "height": 281,
       "width": 567
      },
      "needs_background": "light"
     },
     "output_type": "display_data"
    }
   ],
   "source": [
    "%matplotlib inline\n",
    "%config InlineBackend.figure_formats = {'png', 'retina'}\n",
    "import matplotlib as mpl\n",
    "import matplotlib.pyplot as plt\n",
    "\n",
    "plt.figure(figsize=(8, 4))\n",
    "plt.subplot(1, 2, 1)\n",
    "plt.plot(hist.history['loss'])\n",
    "plt.title(\"cost function of training\")\n",
    "plt.ylabel(\"cost function value\")\n",
    "plt.subplot(1, 2, 2)\n",
    "plt.title(\"performance of training\")\n",
    "plt.ylabel(\"perfomance value\")\n",
    "plt.plot(hist.history['acc'], 'b-', label=\"train perfomance\")\n",
    "plt.plot(hist.history['val_acc'], 'r:', label=\"test performance\")\n",
    "plt.legend()\n",
    "plt.tight_layout()\n",
    "plt.show()"
   ]
  }
 ],
 "metadata": {
  "kernelspec": {
   "display_name": "Python 3",
   "language": "python",
   "name": "python3"
  },
  "language_info": {
   "codemirror_mode": {
    "name": "ipython",
    "version": 3
   },
   "file_extension": ".py",
   "mimetype": "text/x-python",
   "name": "python",
   "nbconvert_exporter": "python",
   "pygments_lexer": "ipython3",
   "version": "3.7.3"
  }
 },
 "nbformat": 4,
 "nbformat_minor": 2
}
