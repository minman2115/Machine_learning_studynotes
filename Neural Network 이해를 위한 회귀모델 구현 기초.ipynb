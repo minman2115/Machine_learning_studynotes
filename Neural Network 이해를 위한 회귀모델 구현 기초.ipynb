{
 "cells": [
  {
   "cell_type": "markdown",
   "metadata": {},
   "source": [
    "Deep_Learning_Studynotes_(20190629)\n",
    "\n",
    "study program : https://www.fastcampus.co.kr/data_camp_deeplearning\n",
    "\n",
    "#### [학습기록]\n",
    "\n",
    "#### 1. 텐서플로우 기초"
   ]
  },
  {
   "cell_type": "code",
   "execution_count": 0,
   "metadata": {
    "colab": {},
    "colab_type": "code",
    "id": "C2saaSpvyzaA"
   },
   "outputs": [],
   "source": [
    "import numpy as np\n",
    "import tensorflow as tf"
   ]
  },
  {
   "cell_type": "code",
   "execution_count": 23,
   "metadata": {
    "colab": {
     "base_uri": "https://localhost:8080/",
     "height": 34
    },
    "colab_type": "code",
    "executionInfo": {
     "elapsed": 1964,
     "status": "ok",
     "timestamp": 1561871573655,
     "user": {
      "displayName": "MINSU PARK",
      "photoUrl": "",
      "userId": "09880869099049781250"
     },
     "user_tz": -540
    },
    "id": "ZzJO-3IsyzaC",
    "outputId": "4328096c-1f40-4c16-ca91-267dd6dc4b0c"
   },
   "outputs": [
    {
     "name": "stdout",
     "output_type": "stream",
     "text": [
      "2.0.0-beta1\n"
     ]
    }
   ],
   "source": [
    "print (tf.__version__)"
   ]
  },
  {
   "cell_type": "code",
   "execution_count": 0,
   "metadata": {
    "colab": {},
    "colab_type": "code",
    "id": "RNL6RJqDy2Nu"
   },
   "outputs": [],
   "source": [
    "#tf.enable_eager_execution()"
   ]
  },
  {
   "cell_type": "code",
   "execution_count": 25,
   "metadata": {
    "colab": {
     "base_uri": "https://localhost:8080/",
     "height": 34
    },
    "colab_type": "code",
    "executionInfo": {
     "elapsed": 724,
     "status": "ok",
     "timestamp": 1561871576515,
     "user": {
      "displayName": "MINSU PARK",
      "photoUrl": "",
      "userId": "09880869099049781250"
     },
     "user_tz": -540
    },
    "id": "lL6BQmBF2rym",
    "outputId": "828067b6-89d2-423a-a24a-48cc98bbcea5"
   },
   "outputs": [
    {
     "data": {
      "text/plain": [
       "True"
      ]
     },
     "execution_count": 25,
     "metadata": {
      "tags": []
     },
     "output_type": "execute_result"
    }
   ],
   "source": [
    "tf.executing_eagerly()"
   ]
  },
  {
   "cell_type": "markdown",
   "metadata": {
    "colab_type": "text",
    "id": "Xow12zZgyzaE"
   },
   "source": [
    "[Defining Tensors]"
   ]
  },
  {
   "cell_type": "code",
   "execution_count": 30,
   "metadata": {
    "colab": {
     "base_uri": "https://localhost:8080/",
     "height": 70
    },
    "colab_type": "code",
    "executionInfo": {
     "elapsed": 800,
     "status": "ok",
     "timestamp": 1561871595716,
     "user": {
      "displayName": "MINSU PARK",
      "photoUrl": "",
      "userId": "09880869099049781250"
     },
     "user_tz": -540
    },
    "id": "naQ5OGBuyzaE",
    "outputId": "dbafacf8-ae8e-48c3-a5c1-df2869a0d43b"
   },
   "outputs": [
    {
     "name": "stdout",
     "output_type": "stream",
     "text": [
      "<class 'list'>\n",
      "<class 'numpy.ndarray'>\n",
      "<class 'tensorflow.python.framework.ops.EagerTensor'>\n"
     ]
    }
   ],
   "source": [
    "m1 = [[1.0, 2.0], \n",
    "      [3.0, 4.0]]\n",
    "m2 = np.array([[1.0, 2.0],\n",
    "              [3.0, 4.0]], dtype=np.float32)\n",
    "m3 = tf.constant([[1.0, 2.0],\n",
    "                 [3.0, 4.0]])\n",
    "\n",
    "print(type(m1))\n",
    "print(type(m2))\n",
    "print(type(m3))"
   ]
  },
  {
   "cell_type": "code",
   "execution_count": 31,
   "metadata": {
    "colab": {
     "base_uri": "https://localhost:8080/",
     "height": 70
    },
    "colab_type": "code",
    "executionInfo": {
     "elapsed": 679,
     "status": "ok",
     "timestamp": 1561871602686,
     "user": {
      "displayName": "MINSU PARK",
      "photoUrl": "",
      "userId": "09880869099049781250"
     },
     "user_tz": -540
    },
    "id": "42nKive3yzaH",
    "outputId": "05ca7d5a-8c53-4cd3-f38b-71c15d5f350c"
   },
   "outputs": [
    {
     "name": "stdout",
     "output_type": "stream",
     "text": [
      "<class 'tensorflow.python.framework.ops.EagerTensor'>\n",
      "<class 'tensorflow.python.framework.ops.EagerTensor'>\n",
      "<class 'tensorflow.python.framework.ops.EagerTensor'>\n"
     ]
    }
   ],
   "source": [
    "t1 = tf.convert_to_tensor(m1, dtype=tf.float32)\n",
    "t2 = tf.convert_to_tensor(m2, dtype=tf.float32)\n",
    "t3 = tf.convert_to_tensor(m3, dtype=tf.float32)\n",
    "\n",
    "print(type(t1))\n",
    "print(type(t2))\n",
    "print(type(t3))"
   ]
  },
  {
   "cell_type": "markdown",
   "metadata": {
    "colab_type": "text",
    "id": "hqzI1h7p3nbz"
   },
   "source": [
    "[Numpy Compatibility]"
   ]
  },
  {
   "cell_type": "code",
   "execution_count": 32,
   "metadata": {
    "colab": {
     "base_uri": "https://localhost:8080/",
     "height": 351
    },
    "colab_type": "code",
    "executionInfo": {
     "elapsed": 771,
     "status": "ok",
     "timestamp": 1561871607243,
     "user": {
      "displayName": "MINSU PARK",
      "photoUrl": "",
      "userId": "09880869099049781250"
     },
     "user_tz": -540
    },
    "id": "vt-JnM9U3mnc",
    "outputId": "222acdb9-c7c1-4d4e-9411-86489a758eee"
   },
   "outputs": [
    {
     "name": "stdout",
     "output_type": "stream",
     "text": [
      "[[1. 1. 1.]\n",
      " [1. 1. 1.]\n",
      " [1. 1. 1.]] \n",
      "\n",
      "TensorFlow operations convert numpy arrays to Tensors automatically\n",
      "tf.Tensor(\n",
      "[[42. 42. 42.]\n",
      " [42. 42. 42.]\n",
      " [42. 42. 42.]], shape=(3, 3), dtype=float64) \n",
      "\n",
      "And NumPy operations convert Tensors to numpy arrays automatically\n",
      "[[43. 43. 43.]\n",
      " [43. 43. 43.]\n",
      " [43. 43. 43.]] \n",
      "\n",
      "The .numpy() method explicitly converts a Tensor to a numpy array\n",
      "[[42. 42. 42.]\n",
      " [42. 42. 42.]\n",
      " [42. 42. 42.]]\n"
     ]
    }
   ],
   "source": [
    "ndarray = np.ones([3, 3])\n",
    "print(ndarray,'\\n')\n",
    "\n",
    "print(\"TensorFlow operations convert numpy arrays to Tensors automatically\")\n",
    "tensor = tf.multiply(ndarray, 42)\n",
    "print(tensor,'\\n')\n",
    "\n",
    "\n",
    "print(\"And NumPy operations convert Tensors to numpy arrays automatically\")\n",
    "print(np.add(tensor, 1),'\\n')\n",
    "# tf.add도 쓸 수 있다. 여기서 보여주고 싶은 것은 넘파이와 텐서플로우가 호환이 된다는 것이다.\n",
    "\n",
    "print(\"The .numpy() method explicitly converts a Tensor to a numpy array\")\n",
    "print(tensor.numpy())"
   ]
  },
  {
   "cell_type": "markdown",
   "metadata": {
    "colab_type": "text",
    "id": "QsfRucolyzaP"
   },
   "source": [
    "[Constants]\n",
    "\n",
    "1.x 버전에서는 변수 선언 후 출력 시 오류가 발생했는데, 2버전은 아래와 같이 바로 출력이 가능하다\n",
    "\n",
    "1.x 버전에서는 sess.run을 해주고 프린트를 해야 가능한 것이었다."
   ]
  },
  {
   "cell_type": "code",
   "execution_count": 33,
   "metadata": {
    "colab": {
     "base_uri": "https://localhost:8080/",
     "height": 34
    },
    "colab_type": "code",
    "executionInfo": {
     "elapsed": 719,
     "status": "ok",
     "timestamp": 1561871610494,
     "user": {
      "displayName": "MINSU PARK",
      "photoUrl": "",
      "userId": "09880869099049781250"
     },
     "user_tz": -540
    },
    "id": "Z4SlWvgUyzaP",
    "outputId": "407b36d6-48d1-40f4-ca74-13c5d82c287f"
   },
   "outputs": [
    {
     "name": "stdout",
     "output_type": "stream",
     "text": [
      "tf.Tensor(b'Hello World!', shape=(), dtype=string)\n"
     ]
    }
   ],
   "source": [
    "hello = tf.constant(\"Hello World!\")\n",
    "print(hello)"
   ]
  },
  {
   "cell_type": "code",
   "execution_count": 35,
   "metadata": {
    "colab": {
     "base_uri": "https://localhost:8080/",
     "height": 52
    },
    "colab_type": "code",
    "executionInfo": {
     "elapsed": 796,
     "status": "ok",
     "timestamp": 1561871614916,
     "user": {
      "displayName": "MINSU PARK",
      "photoUrl": "",
      "userId": "09880869099049781250"
     },
     "user_tz": -540
    },
    "id": "d2CkpJfXyzaU",
    "outputId": "f736559c-b3aa-4619-e74d-5ad0510761ab"
   },
   "outputs": [
    {
     "name": "stdout",
     "output_type": "stream",
     "text": [
      "tf.Tensor(1.5, shape=(), dtype=float32)\n",
      "tf.Tensor(2.5, shape=(), dtype=float32)\n"
     ]
    }
   ],
   "source": [
    "a = tf.constant(1.5)\n",
    "b = tf.constant(2.5)\n",
    "print(a)\n",
    "print(b)"
   ]
  },
  {
   "cell_type": "markdown",
   "metadata": {
    "colab_type": "text",
    "id": "8p-9WIcjyzaX"
   },
   "source": [
    "[Operations]"
   ]
  },
  {
   "cell_type": "code",
   "execution_count": 36,
   "metadata": {
    "colab": {
     "base_uri": "https://localhost:8080/",
     "height": 34
    },
    "colab_type": "code",
    "executionInfo": {
     "elapsed": 747,
     "status": "ok",
     "timestamp": 1561871616503,
     "user": {
      "displayName": "MINSU PARK",
      "photoUrl": "",
      "userId": "09880869099049781250"
     },
     "user_tz": -540
    },
    "id": "1vSgQmhHyzaY",
    "outputId": "b11375db-afbf-48c7-8e22-cf8bb418287c"
   },
   "outputs": [
    {
     "name": "stdout",
     "output_type": "stream",
     "text": [
      "tf.Tensor(4.0, shape=(), dtype=float32)\n"
     ]
    }
   ],
   "source": [
    "a_plus_b = tf.add(a, b)\n",
    "print(a_plus_b)"
   ]
  },
  {
   "cell_type": "code",
   "execution_count": 14,
   "metadata": {
    "colab": {
     "base_uri": "https://localhost:8080/",
     "height": 34
    },
    "colab_type": "code",
    "executionInfo": {
     "elapsed": 651,
     "status": "ok",
     "timestamp": 1561870305823,
     "user": {
      "displayName": "MINSU PARK",
      "photoUrl": "",
      "userId": "09880869099049781250"
     },
     "user_tz": -540
    },
    "id": "7VnPHySzyzac",
    "outputId": "04c49eef-f178-4a06-8c7f-7398860b66ae"
   },
   "outputs": [
    {
     "name": "stdout",
     "output_type": "stream",
     "text": [
      "tf.Tensor(3.75, shape=(), dtype=float32)\n"
     ]
    }
   ],
   "source": [
    "a_mul_b = tf.multiply(a, b)\n",
    "print(a_mul_b)"
   ]
  },
  {
   "cell_type": "markdown",
   "metadata": {
    "colab_type": "text",
    "id": "mAq50wFvzkj_"
   },
   "source": [
    "[Variables]\n",
    "\n",
    "머신러닝에서는 결국 w값을 찾는 것이 목적인데 처음에는 이 가중치 w가 어떤 값인지 모르니까 랜덤값으로 채우는 것이다. \n",
    "\n",
    "이때 보통은 가우시안 정규분포로 부터 랜덤한 값을 추출해서 쓴다. 아니면 유니폼분포를 쓰는 경우도 있다."
   ]
  },
  {
   "cell_type": "code",
   "execution_count": 37,
   "metadata": {
    "colab": {
     "base_uri": "https://localhost:8080/",
     "height": 122
    },
    "colab_type": "code",
    "executionInfo": {
     "elapsed": 675,
     "status": "ok",
     "timestamp": 1561871619498,
     "user": {
      "displayName": "MINSU PARK",
      "photoUrl": "",
      "userId": "09880869099049781250"
     },
     "user_tz": -540
    },
    "id": "QkvusA5vzkj9",
    "outputId": "ba03064b-c23b-4f12-b83e-3ae74b9a1ad4"
   },
   "outputs": [
    {
     "name": "stdout",
     "output_type": "stream",
     "text": [
      "<tf.Variable 'Variable:0' shape=(5, 2) dtype=float32, numpy=\n",
      "array([[-0.05714906, -0.08460012],\n",
      "       [ 0.02706867,  0.1198655 ],\n",
      "       [ 0.06843279,  0.05600017],\n",
      "       [-0.10192732, -0.05903401],\n",
      "       [ 0.03159029, -0.03104416]], dtype=float32)>\n"
     ]
    }
   ],
   "source": [
    "weight = tf.Variable(tf.random_normal_initializer(stddev=0.1)([5, 2]))\n",
    "# 평균이 0이고 표준편차가 0.1인 가우시안 정규분포 변수를 5행 2열 사이즈로 뽑는다.\n",
    "print(weight)\n",
    "\n",
    "# 1.x버전에서는 위와같이 variable을 선언하면 글로벌 베리어블 이니셜라이저 같은 것을 만들고\n",
    "# 실행하고 저 웨이트를 또 sess.run을 또 실행해줘야 나왔는데 2버전은 바로 실행이 가능하다."
   ]
  },
  {
   "cell_type": "markdown",
   "metadata": {
    "colab_type": "text",
    "id": "OysDqtn5yzax"
   },
   "source": [
    "[Shape, Rank, Axis]"
   ]
  },
  {
   "cell_type": "code",
   "execution_count": 38,
   "metadata": {
    "colab": {
     "base_uri": "https://localhost:8080/",
     "height": 34
    },
    "colab_type": "code",
    "executionInfo": {
     "elapsed": 1384,
     "status": "ok",
     "timestamp": 1561871622611,
     "user": {
      "displayName": "MINSU PARK",
      "photoUrl": "",
      "userId": "09880869099049781250"
     },
     "user_tz": -540
    },
    "id": "r93o1AqIyzaz",
    "outputId": "0a9bf96e-dfc6-4a1b-c268-6975c47ed336"
   },
   "outputs": [
    {
     "name": "stdout",
     "output_type": "stream",
     "text": [
      "(4,)\n"
     ]
    }
   ],
   "source": [
    "t = tf.constant([1,2,3,4])\n",
    "print(t.shape)\n",
    "\n",
    "# 텐서플로우에서 shape를 찍으면 파이썬의 튜플형태로 나온다."
   ]
  },
  {
   "cell_type": "code",
   "execution_count": 39,
   "metadata": {
    "colab": {
     "base_uri": "https://localhost:8080/",
     "height": 34
    },
    "colab_type": "code",
    "executionInfo": {
     "elapsed": 695,
     "status": "ok",
     "timestamp": 1561871622612,
     "user": {
      "displayName": "MINSU PARK",
      "photoUrl": "",
      "userId": "09880869099049781250"
     },
     "user_tz": -540
    },
    "id": "Lxjtpn4vyza0",
    "outputId": "0f2f6232-2063-4541-cbb2-eb742267ec4f"
   },
   "outputs": [
    {
     "name": "stdout",
     "output_type": "stream",
     "text": [
      "(2, 2)\n"
     ]
    }
   ],
   "source": [
    "t = tf.constant([[1,2],\n",
    "                 [3,4]])\n",
    "print(t.shape)"
   ]
  },
  {
   "cell_type": "code",
   "execution_count": 40,
   "metadata": {
    "colab": {
     "base_uri": "https://localhost:8080/",
     "height": 34
    },
    "colab_type": "code",
    "executionInfo": {
     "elapsed": 643,
     "status": "ok",
     "timestamp": 1561871625237,
     "user": {
      "displayName": "MINSU PARK",
      "photoUrl": "",
      "userId": "09880869099049781250"
     },
     "user_tz": -540
    },
    "id": "otowBHVSyza2",
    "outputId": "cd8b0bc4-bd48-439c-e8d0-f6ce4b3f85cb"
   },
   "outputs": [
    {
     "name": "stdout",
     "output_type": "stream",
     "text": [
      "(1, 2, 3, 4)\n"
     ]
    }
   ],
   "source": [
    "t = tf.constant([[[[1, 2, 3, 4], [5, 6, 7, 8], [9, 10, 11, 12]],[[13, 14, 15, 16], [17, 18, 19, 20], [21, 22, 23, 24]]]])\n",
    "print(t.shape)\n",
    "\n",
    "# 괄호가 4개가 있으니까 일단 4차원이다.\n",
    "# 이 4를 튜플의 맨 마지막에 써준다.\n",
    "# 그리고 두번째 닫는괄호가 2개연속 나올때까지 이 괄호가 몇개 나온가 보니까 3개이다.\n",
    "# 그러면 이 3을 튜플의 마지막에서 두번째로 써준다.\n",
    "# 그 다음에 두개받는 괄호가 3개닫는 괄호나올때까지 몇번나왔는지 보니까 2개이다.\n",
    "# 그 다음에 세개닫는 괄호가 네개 단는 괄호나올때까지 몇번나왔는지 보니까 1개이다.\n",
    "# 그래서 (1,2,3,4)이고 이게 텐서플로우에서 shape이다."
   ]
  },
  {
   "cell_type": "code",
   "execution_count": 41,
   "metadata": {
    "colab": {
     "base_uri": "https://localhost:8080/",
     "height": 34
    },
    "colab_type": "code",
    "executionInfo": {
     "elapsed": 439,
     "status": "ok",
     "timestamp": 1561871625493,
     "user": {
      "displayName": "MINSU PARK",
      "photoUrl": "",
      "userId": "09880869099049781250"
     },
     "user_tz": -540
    },
    "id": "On8QUvBnyza3",
    "outputId": "9ec84ab8-5d4b-490c-96c0-35544db7f730"
   },
   "outputs": [
    {
     "data": {
      "text/plain": [
       "(1, 2, 3, 4)"
      ]
     },
     "execution_count": 41,
     "metadata": {
      "tags": []
     },
     "output_type": "execute_result"
    }
   ],
   "source": [
    "np.array(\n",
    "[\n",
    "    [\n",
    "        [\n",
    "            [1,2,3,4], \n",
    "            [5,6,7,8],\n",
    "            [9,10,11,12]\n",
    "        ],\n",
    "        [\n",
    "            [13,14,15,16],\n",
    "            [17,18,19,20], \n",
    "            [21,22,23,24]\n",
    "        ]\n",
    "    ]\n",
    "]\n",
    ").shape"
   ]
  },
  {
   "cell_type": "markdown",
   "metadata": {
    "colab_type": "text",
    "id": "zOtrgZlAyza4"
   },
   "source": [
    "[Matmul VS multiply]"
   ]
  },
  {
   "cell_type": "code",
   "execution_count": 42,
   "metadata": {
    "colab": {
     "base_uri": "https://localhost:8080/",
     "height": 34
    },
    "colab_type": "code",
    "executionInfo": {
     "elapsed": 868,
     "status": "ok",
     "timestamp": 1561871628577,
     "user": {
      "displayName": "MINSU PARK",
      "photoUrl": "",
      "userId": "09880869099049781250"
     },
     "user_tz": -540
    },
    "id": "XL2qV6OZyza4",
    "outputId": "d59bf4b6-9420-4cf1-d910-24814c8e0ae0"
   },
   "outputs": [
    {
     "name": "stdout",
     "output_type": "stream",
     "text": [
      "tf.Tensor([[12.]], shape=(1, 1), dtype=float32)\n"
     ]
    }
   ],
   "source": [
    "matrix1 = tf.constant([[3., 3.]])\n",
    "matrix2 = tf.constant([[2.],\n",
    "                       [2.]])\n",
    "print(tf.matmul(matrix1, matrix2))"
   ]
  },
  {
   "cell_type": "code",
   "execution_count": 43,
   "metadata": {
    "colab": {
     "base_uri": "https://localhost:8080/",
     "height": 70
    },
    "colab_type": "code",
    "executionInfo": {
     "elapsed": 614,
     "status": "ok",
     "timestamp": 1561871628578,
     "user": {
      "displayName": "MINSU PARK",
      "photoUrl": "",
      "userId": "09880869099049781250"
     },
     "user_tz": -540
    },
    "id": "NNa_9YF4yza5",
    "outputId": "1f7f40b5-b70a-452a-8055-cdfe5c3655fa"
   },
   "outputs": [
    {
     "name": "stdout",
     "output_type": "stream",
     "text": [
      "tf.Tensor(\n",
      "[[6. 6.]\n",
      " [6. 6.]], shape=(2, 2), dtype=float32)\n"
     ]
    }
   ],
   "source": [
    "print(matrix1*matrix2)"
   ]
  },
  {
   "cell_type": "markdown",
   "metadata": {
    "colab_type": "text",
    "id": "D1TgD4kxyza6"
   },
   "source": [
    "[Watch out broadcasting]"
   ]
  },
  {
   "cell_type": "code",
   "execution_count": 44,
   "metadata": {
    "colab": {
     "base_uri": "https://localhost:8080/",
     "height": 70
    },
    "colab_type": "code",
    "executionInfo": {
     "elapsed": 771,
     "status": "ok",
     "timestamp": 1561871644795,
     "user": {
      "displayName": "MINSU PARK",
      "photoUrl": "",
      "userId": "09880869099049781250"
     },
     "user_tz": -540
    },
    "id": "7CGT7zkKyza7",
    "outputId": "c716d16e-33ff-4bd1-a1ae-06e742d89f61"
   },
   "outputs": [
    {
     "name": "stdout",
     "output_type": "stream",
     "text": [
      "tf.Tensor(\n",
      "[[5. 5.]\n",
      " [5. 5.]], shape=(2, 2), dtype=float32)\n"
     ]
    }
   ],
   "source": [
    "matrix1 = tf.constant([[3., 3.]])\n",
    "matrix2 = tf.constant([[2.],\n",
    "                       [2.]])\n",
    "print(matrix1+matrix2)"
   ]
  },
  {
   "cell_type": "code",
   "execution_count": 45,
   "metadata": {
    "colab": {
     "base_uri": "https://localhost:8080/",
     "height": 34
    },
    "colab_type": "code",
    "executionInfo": {
     "elapsed": 532,
     "status": "ok",
     "timestamp": 1561871644796,
     "user": {
      "displayName": "MINSU PARK",
      "photoUrl": "",
      "userId": "09880869099049781250"
     },
     "user_tz": -540
    },
    "id": "VmwpGXDMyza8",
    "outputId": "30468642-4726-4ff4-ea57-cac8489a36ed"
   },
   "outputs": [
    {
     "name": "stdout",
     "output_type": "stream",
     "text": [
      "tf.Tensor([[5. 5.]], shape=(1, 2), dtype=float32)\n"
     ]
    }
   ],
   "source": [
    "matrix1 = tf.constant([[3., 3.]])\n",
    "matrix2 = tf.constant([[2., 2.]])\n",
    "print(matrix1+matrix2)"
   ]
  },
  {
   "cell_type": "markdown",
   "metadata": {
    "colab_type": "text",
    "id": "F8e0eqFoyza-"
   },
   "source": [
    "[Reduce Mean/Sum]"
   ]
  },
  {
   "cell_type": "code",
   "execution_count": 48,
   "metadata": {
    "colab": {
     "base_uri": "https://localhost:8080/",
     "height": 52
    },
    "colab_type": "code",
    "executionInfo": {
     "elapsed": 1251,
     "status": "ok",
     "timestamp": 1561872186434,
     "user": {
      "displayName": "MINSU PARK",
      "photoUrl": "",
      "userId": "09880869099049781250"
     },
     "user_tz": -540
    },
    "id": "F1HZ02bkyza-",
    "outputId": "d5338dba-69b7-454e-fba8-19e4d3ac1659"
   },
   "outputs": [
    {
     "name": "stdout",
     "output_type": "stream",
     "text": [
      "tf.Tensor(1.5, shape=(), dtype=float32)\n",
      "tf.Tensor(1, shape=(), dtype=int32)\n"
     ]
    }
   ],
   "source": [
    "print(tf.cast(tf.reduce_mean([1., 2.], axis=0),tf.float32))\n",
    "# reduce_mean은 평균낸다는 것이다.\n",
    "\n",
    "print(tf.cast(tf.reduce_mean([1, 2], axis=0),tf.int32))"
   ]
  },
  {
   "cell_type": "code",
   "execution_count": 49,
   "metadata": {
    "colab": {
     "base_uri": "https://localhost:8080/",
     "height": 34
    },
    "colab_type": "code",
    "executionInfo": {
     "elapsed": 916,
     "status": "ok",
     "timestamp": 1561872194752,
     "user": {
      "displayName": "MINSU PARK",
      "photoUrl": "",
      "userId": "09880869099049781250"
     },
     "user_tz": -540
    },
    "id": "ZdR3JW0Uyza_",
    "outputId": "07ba7ad4-70c7-49eb-e0a6-55533a1341c1"
   },
   "outputs": [
    {
     "name": "stdout",
     "output_type": "stream",
     "text": [
      "tf.Tensor(2.5, shape=(), dtype=float32)\n"
     ]
    }
   ],
   "source": [
    "x = [[1., 2.],\n",
    "     [3., 4.]]\n",
    "\n",
    "\n",
    "print(tf.reduce_mean(x))"
   ]
  },
  {
   "cell_type": "code",
   "execution_count": 50,
   "metadata": {
    "colab": {
     "base_uri": "https://localhost:8080/",
     "height": 34
    },
    "colab_type": "code",
    "executionInfo": {
     "elapsed": 878,
     "status": "ok",
     "timestamp": 1561872196510,
     "user": {
      "displayName": "MINSU PARK",
      "photoUrl": "",
      "userId": "09880869099049781250"
     },
     "user_tz": -540
    },
    "id": "yvMP6OAkyzbA",
    "outputId": "81457a55-02b1-4ab5-a75d-c70a3c4b0fd5"
   },
   "outputs": [
    {
     "name": "stdout",
     "output_type": "stream",
     "text": [
      "tf.Tensor([2. 3.], shape=(2,), dtype=float32)\n"
     ]
    }
   ],
   "source": [
    "# 아래와 같이 축을 정해서 reduce_mean을 할 수 있다.\n",
    "# axis = 0은 행끼리 다 더해서 평균을 내는 것임\n",
    "print(tf.reduce_mean(x, axis=0))"
   ]
  },
  {
   "cell_type": "code",
   "execution_count": 51,
   "metadata": {
    "colab": {
     "base_uri": "https://localhost:8080/",
     "height": 34
    },
    "colab_type": "code",
    "executionInfo": {
     "elapsed": 426,
     "status": "ok",
     "timestamp": 1561872197497,
     "user": {
      "displayName": "MINSU PARK",
      "photoUrl": "",
      "userId": "09880869099049781250"
     },
     "user_tz": -540
    },
    "id": "zCd3sdsKyzbD",
    "outputId": "7815d4be-e642-4d67-dd99-d9f91a3ac268"
   },
   "outputs": [
    {
     "name": "stdout",
     "output_type": "stream",
     "text": [
      "tf.Tensor([1.5 3.5], shape=(2,), dtype=float32)\n"
     ]
    }
   ],
   "source": [
    "print(tf.reduce_mean(x, axis=1))\n",
    "# 반면에 axis =1 은 열끼리 더해서 평균을 낸다는 것이다."
   ]
  },
  {
   "cell_type": "code",
   "execution_count": 52,
   "metadata": {
    "colab": {
     "base_uri": "https://localhost:8080/",
     "height": 34
    },
    "colab_type": "code",
    "executionInfo": {
     "elapsed": 772,
     "status": "ok",
     "timestamp": 1561872199100,
     "user": {
      "displayName": "MINSU PARK",
      "photoUrl": "",
      "userId": "09880869099049781250"
     },
     "user_tz": -540
    },
    "id": "pq0LNKbRyzbE",
    "outputId": "3b9f8f5d-0def-4704-e283-e4ce3896fdd4"
   },
   "outputs": [
    {
     "name": "stdout",
     "output_type": "stream",
     "text": [
      "tf.Tensor([1.5 3.5], shape=(2,), dtype=float32)\n"
     ]
    }
   ],
   "source": [
    "print(tf.reduce_mean(x, axis=-1))\n",
    "# axis = -1은 맨마지막을 의미한다. \n",
    "# 0번 1번 축이 두개밖에 없는데 마지막이 1번 축이니까 1번축으로 reduce_mean을 한 것이다."
   ]
  },
  {
   "cell_type": "code",
   "execution_count": 53,
   "metadata": {
    "colab": {
     "base_uri": "https://localhost:8080/",
     "height": 34
    },
    "colab_type": "code",
    "executionInfo": {
     "elapsed": 851,
     "status": "ok",
     "timestamp": 1561872369746,
     "user": {
      "displayName": "MINSU PARK",
      "photoUrl": "",
      "userId": "09880869099049781250"
     },
     "user_tz": -540
    },
    "id": "Qca6adBdyzbF",
    "outputId": "0d67e351-f170-4d4a-f329-8b6512c60270"
   },
   "outputs": [
    {
     "name": "stdout",
     "output_type": "stream",
     "text": [
      "tf.Tensor(10.0, shape=(), dtype=float32)\n"
     ]
    }
   ],
   "source": [
    "print(tf.reduce_sum(x))"
   ]
  },
  {
   "cell_type": "code",
   "execution_count": 54,
   "metadata": {
    "colab": {
     "base_uri": "https://localhost:8080/",
     "height": 34
    },
    "colab_type": "code",
    "executionInfo": {
     "elapsed": 535,
     "status": "ok",
     "timestamp": 1561872370818,
     "user": {
      "displayName": "MINSU PARK",
      "photoUrl": "",
      "userId": "09880869099049781250"
     },
     "user_tz": -540
    },
    "id": "qtsFOZQKyzbG",
    "outputId": "df468256-e97f-4bed-ed02-b822a9511c4b"
   },
   "outputs": [
    {
     "name": "stdout",
     "output_type": "stream",
     "text": [
      "tf.Tensor([4. 6.], shape=(2,), dtype=float32)\n"
     ]
    }
   ],
   "source": [
    "print(tf.reduce_sum(x, axis=0))"
   ]
  },
  {
   "cell_type": "code",
   "execution_count": 55,
   "metadata": {
    "colab": {
     "base_uri": "https://localhost:8080/",
     "height": 34
    },
    "colab_type": "code",
    "executionInfo": {
     "elapsed": 460,
     "status": "ok",
     "timestamp": 1561872371736,
     "user": {
      "displayName": "MINSU PARK",
      "photoUrl": "",
      "userId": "09880869099049781250"
     },
     "user_tz": -540
    },
    "id": "kNSMO44NyzbH",
    "outputId": "6c29eb98-012b-4d53-a93c-d32960555144"
   },
   "outputs": [
    {
     "name": "stdout",
     "output_type": "stream",
     "text": [
      "tf.Tensor([3. 7.], shape=(2,), dtype=float32)\n"
     ]
    }
   ],
   "source": [
    "print(tf.reduce_sum(x, axis=-1))"
   ]
  },
  {
   "cell_type": "code",
   "execution_count": 56,
   "metadata": {
    "colab": {
     "base_uri": "https://localhost:8080/",
     "height": 34
    },
    "colab_type": "code",
    "executionInfo": {
     "elapsed": 469,
     "status": "ok",
     "timestamp": 1561872372675,
     "user": {
      "displayName": "MINSU PARK",
      "photoUrl": "",
      "userId": "09880869099049781250"
     },
     "user_tz": -540
    },
    "id": "59de3FjwyzbI",
    "outputId": "3af55746-d134-40d8-9ba0-c7a1e5b52b5d"
   },
   "outputs": [
    {
     "name": "stdout",
     "output_type": "stream",
     "text": [
      "tf.Tensor(5.0, shape=(), dtype=float32)\n"
     ]
    }
   ],
   "source": [
    "print(tf.reduce_mean(tf.reduce_sum(x, axis=-1)))"
   ]
  },
  {
   "cell_type": "markdown",
   "metadata": {
    "colab_type": "text",
    "id": "l8LI-8x0yzbJ"
   },
   "source": [
    "[Argmax with axis]"
   ]
  },
  {
   "cell_type": "code",
   "execution_count": 57,
   "metadata": {
    "colab": {
     "base_uri": "https://localhost:8080/",
     "height": 34
    },
    "colab_type": "code",
    "executionInfo": {
     "elapsed": 1046,
     "status": "ok",
     "timestamp": 1561872657792,
     "user": {
      "displayName": "MINSU PARK",
      "photoUrl": "",
      "userId": "09880869099049781250"
     },
     "user_tz": -540
    },
    "id": "KF64-x1zyzbJ",
    "outputId": "31a80c75-6959-4bda-ef03-a83a7b22924f"
   },
   "outputs": [
    {
     "name": "stdout",
     "output_type": "stream",
     "text": [
      "tf.Tensor([1 0 0], shape=(3,), dtype=int64)\n"
     ]
    }
   ],
   "source": [
    "x = [[5, 6, 7],\n",
    "     [7, 6, 5]]\n",
    "print(tf.argmax(x, axis=0))\n",
    "# argmax는 max값을 찾아서 거기의 index를 리턴하는 것이다.\n",
    "# 얘도 마찬가지로 축을 정해서 연산할 수 있다.\n",
    "# axis는 0이니까 행끼리 연산한다는 것이다."
   ]
  },
  {
   "cell_type": "code",
   "execution_count": 58,
   "metadata": {
    "colab": {
     "base_uri": "https://localhost:8080/",
     "height": 34
    },
    "colab_type": "code",
    "executionInfo": {
     "elapsed": 702,
     "status": "ok",
     "timestamp": 1561872659074,
     "user": {
      "displayName": "MINSU PARK",
      "photoUrl": "",
      "userId": "09880869099049781250"
     },
     "user_tz": -540
    },
    "id": "QZafQadYyzbK",
    "outputId": "0db2677e-6508-456d-cbf7-0b174b23a852"
   },
   "outputs": [
    {
     "name": "stdout",
     "output_type": "stream",
     "text": [
      "tf.Tensor([2 0], shape=(2,), dtype=int64)\n"
     ]
    }
   ],
   "source": [
    "print(tf.argmax(x, axis=1))\n",
    "# 반연에 여기서는 axis가 1이기 때문에 열끼리 연산한다."
   ]
  },
  {
   "cell_type": "code",
   "execution_count": 59,
   "metadata": {
    "colab": {
     "base_uri": "https://localhost:8080/",
     "height": 34
    },
    "colab_type": "code",
    "executionInfo": {
     "elapsed": 754,
     "status": "ok",
     "timestamp": 1561872660352,
     "user": {
      "displayName": "MINSU PARK",
      "photoUrl": "",
      "userId": "09880869099049781250"
     },
     "user_tz": -540
    },
    "id": "bTaJco9JyzbM",
    "outputId": "0541d574-a256-4f07-b322-9f11cb85fd94"
   },
   "outputs": [
    {
     "name": "stdout",
     "output_type": "stream",
     "text": [
      "tf.Tensor([2 0], shape=(2,), dtype=int64)\n"
     ]
    }
   ],
   "source": [
    "print(tf.argmax(x, axis=-1))"
   ]
  },
  {
   "cell_type": "markdown",
   "metadata": {
    "colab_type": "text",
    "id": "MW2RulKgyzbN"
   },
   "source": [
    "[Reshape, squeeze, expand_dims]"
   ]
  },
  {
   "cell_type": "code",
   "execution_count": 60,
   "metadata": {
    "colab": {
     "base_uri": "https://localhost:8080/",
     "height": 34
    },
    "colab_type": "code",
    "executionInfo": {
     "elapsed": 728,
     "status": "ok",
     "timestamp": 1561872663984,
     "user": {
      "displayName": "MINSU PARK",
      "photoUrl": "",
      "userId": "09880869099049781250"
     },
     "user_tz": -540
    },
    "id": "8xEzUyybyzbO",
    "outputId": "8c57b9f6-55ff-451d-eec5-fcfa34796d3b"
   },
   "outputs": [
    {
     "name": "stdout",
     "output_type": "stream",
     "text": [
      "(2, 2, 3)\n"
     ]
    }
   ],
   "source": [
    "t = np.array([[[0, 1, 2], \n",
    "               [3, 4, 5]],\n",
    "              \n",
    "              [[6, 7, 8], \n",
    "               [9, 10, 11]]])\n",
    "print(t.shape)"
   ]
  },
  {
   "cell_type": "code",
   "execution_count": 61,
   "metadata": {
    "colab": {
     "base_uri": "https://localhost:8080/",
     "height": 105
    },
    "colab_type": "code",
    "executionInfo": {
     "elapsed": 655,
     "status": "ok",
     "timestamp": 1561872664260,
     "user": {
      "displayName": "MINSU PARK",
      "photoUrl": "",
      "userId": "09880869099049781250"
     },
     "user_tz": -540
    },
    "id": "N1ZdyomtyzbP",
    "outputId": "cc1b8129-f5d0-4d1c-c376-cced19f2bff6"
   },
   "outputs": [
    {
     "name": "stdout",
     "output_type": "stream",
     "text": [
      "tf.Tensor(\n",
      "[[ 0  1  2]\n",
      " [ 3  4  5]\n",
      " [ 6  7  8]\n",
      " [ 9 10 11]], shape=(4, 3), dtype=int64)\n"
     ]
    }
   ],
   "source": [
    "print(tf.reshape(t, shape=[-1, 3]))\n",
    "# reshape도 가능하다. \n",
    "# -1로 되어 있으면 알아서 채우라는 말인데 무슨말이냐면\n",
    "# 총 숫자가 12개이고 열이 3개짜리니까 행은 4로해서 채우라는 것이다. "
   ]
  },
  {
   "cell_type": "code",
   "execution_count": 62,
   "metadata": {
    "colab": {
     "base_uri": "https://localhost:8080/",
     "height": 158
    },
    "colab_type": "code",
    "executionInfo": {
     "elapsed": 897,
     "status": "ok",
     "timestamp": 1561872804134,
     "user": {
      "displayName": "MINSU PARK",
      "photoUrl": "",
      "userId": "09880869099049781250"
     },
     "user_tz": -540
    },
    "id": "TRWz5m4TyzbP",
    "outputId": "e02d79f5-a560-4dfc-d09d-890e6c11f549"
   },
   "outputs": [
    {
     "name": "stdout",
     "output_type": "stream",
     "text": [
      "tf.Tensor(\n",
      "[[[ 0  1  2]]\n",
      "\n",
      " [[ 3  4  5]]\n",
      "\n",
      " [[ 6  7  8]]\n",
      "\n",
      " [[ 9 10 11]]], shape=(4, 1, 3), dtype=int64)\n"
     ]
    }
   ],
   "source": [
    "print(tf.reshape(t, shape=[-1, 1, 3]))\n",
    "# 결국에는 (4,1,3)이 된다."
   ]
  },
  {
   "cell_type": "code",
   "execution_count": 63,
   "metadata": {
    "colab": {
     "base_uri": "https://localhost:8080/",
     "height": 34
    },
    "colab_type": "code",
    "executionInfo": {
     "elapsed": 800,
     "status": "ok",
     "timestamp": 1561872870182,
     "user": {
      "displayName": "MINSU PARK",
      "photoUrl": "",
      "userId": "09880869099049781250"
     },
     "user_tz": -540
    },
    "id": "pJTPO1oHyzbR",
    "outputId": "5587178b-275d-49f4-d9e3-e24185a48607"
   },
   "outputs": [
    {
     "name": "stdout",
     "output_type": "stream",
     "text": [
      "tf.Tensor([0 1 2], shape=(3,), dtype=int32)\n"
     ]
    }
   ],
   "source": [
    "print(tf.squeeze([[0], [1], [2]]))\n",
    "# squeeze라는 것은 차원이 여러개 있는것을 한방에 1차원으로 줄여주는 것을 말한다."
   ]
  },
  {
   "cell_type": "code",
   "execution_count": 64,
   "metadata": {
    "colab": {
     "base_uri": "https://localhost:8080/",
     "height": 87
    },
    "colab_type": "code",
    "executionInfo": {
     "elapsed": 429,
     "status": "ok",
     "timestamp": 1561872870183,
     "user": {
      "displayName": "MINSU PARK",
      "photoUrl": "",
      "userId": "09880869099049781250"
     },
     "user_tz": -540
    },
    "id": "Ol019Po7yzbS",
    "outputId": "97ea4c3d-4b70-44df-d7dc-6ae81226a7a0"
   },
   "outputs": [
    {
     "name": "stdout",
     "output_type": "stream",
     "text": [
      "tf.Tensor(\n",
      "[[0]\n",
      " [1]\n",
      " [2]], shape=(3, 1), dtype=int32)\n"
     ]
    }
   ],
   "source": [
    "print(tf.expand_dims([0, 1, 2], 1))\n",
    "# 반면에 expand_dim이라는 것은 여기서는 얘가 지금 1차원을 하나 뒤에 늘려준다는 것이다."
   ]
  },
  {
   "cell_type": "markdown",
   "metadata": {
    "colab_type": "text",
    "id": "Ne-bXvG4yzbT"
   },
   "source": [
    "[One hot]"
   ]
  },
  {
   "cell_type": "code",
   "execution_count": 65,
   "metadata": {
    "colab": {
     "base_uri": "https://localhost:8080/",
     "height": 105
    },
    "colab_type": "code",
    "executionInfo": {
     "elapsed": 943,
     "status": "ok",
     "timestamp": 1561872912189,
     "user": {
      "displayName": "MINSU PARK",
      "photoUrl": "",
      "userId": "09880869099049781250"
     },
     "user_tz": -540
    },
    "id": "6VOrQRebyzbT",
    "outputId": "d15a2ce8-0a1c-45d6-e4be-66901980e944"
   },
   "outputs": [
    {
     "name": "stdout",
     "output_type": "stream",
     "text": [
      "tf.Tensor(\n",
      "[[1. 0. 0.]\n",
      " [0. 1. 0.]\n",
      " [0. 0. 1.]\n",
      " [1. 0. 0.]], shape=(4, 3), dtype=float32)\n"
     ]
    }
   ],
   "source": [
    "print(tf.one_hot([0, 1, 2, 0], depth=3))"
   ]
  },
  {
   "cell_type": "markdown",
   "metadata": {
    "colab_type": "text",
    "id": "ImzDui2yyzbV"
   },
   "source": [
    "[Type Casting]"
   ]
  },
  {
   "cell_type": "code",
   "execution_count": 66,
   "metadata": {
    "colab": {
     "base_uri": "https://localhost:8080/",
     "height": 34
    },
    "colab_type": "code",
    "executionInfo": {
     "elapsed": 942,
     "status": "ok",
     "timestamp": 1561873032920,
     "user": {
      "displayName": "MINSU PARK",
      "photoUrl": "",
      "userId": "09880869099049781250"
     },
     "user_tz": -540
    },
    "id": "p5WngMYsyzbW",
    "outputId": "7b853f10-24f3-4e07-d6e3-de154ccb98cc"
   },
   "outputs": [
    {
     "name": "stdout",
     "output_type": "stream",
     "text": [
      "tf.Tensor([1 2 3 4], shape=(4,), dtype=int32)\n"
     ]
    }
   ],
   "source": [
    "print(tf.cast([1.8, 2.2, 3.3, 4.9], tf.int32))"
   ]
  },
  {
   "cell_type": "code",
   "execution_count": 67,
   "metadata": {
    "colab": {
     "base_uri": "https://localhost:8080/",
     "height": 34
    },
    "colab_type": "code",
    "executionInfo": {
     "elapsed": 670,
     "status": "ok",
     "timestamp": 1561873033180,
     "user": {
      "displayName": "MINSU PARK",
      "photoUrl": "",
      "userId": "09880869099049781250"
     },
     "user_tz": -540
    },
    "id": "QWEt7Y-tyzbX",
    "outputId": "53151be6-e589-4fb8-8133-7adfd58ef463"
   },
   "outputs": [
    {
     "name": "stdout",
     "output_type": "stream",
     "text": [
      "tf.Tensor([1 0 1 0], shape=(4,), dtype=int32)\n"
     ]
    }
   ],
   "source": [
    "print(tf.cast([True, False, 1 == 1, 0 == 1], tf.int32))"
   ]
  },
  {
   "cell_type": "markdown",
   "metadata": {
    "colab_type": "text",
    "id": "5EQcz9OM34VC"
   },
   "source": [
    "[Create a Dataset]"
   ]
  },
  {
   "cell_type": "code",
   "execution_count": 68,
   "metadata": {
    "colab": {
     "base_uri": "https://localhost:8080/",
     "height": 34
    },
    "colab_type": "code",
    "executionInfo": {
     "elapsed": 807,
     "status": "ok",
     "timestamp": 1561873152828,
     "user": {
      "displayName": "MINSU PARK",
      "photoUrl": "",
      "userId": "09880869099049781250"
     },
     "user_tz": -540
    },
    "id": "4LhNqxUj34wZ",
    "outputId": "1aad822b-d8a3-478a-e0da-c7466f0acfb8"
   },
   "outputs": [
    {
     "name": "stdout",
     "output_type": "stream",
     "text": [
      "[0 1 2 3 4 5 6 7 8 9]\n"
     ]
    }
   ],
   "source": [
    "a = np.arange(10)\n",
    "print(a)\n",
    "ds_tensors = tf.data.Dataset.from_tensor_slices(a)\n",
    "\n",
    "# 데이터를 사용할 수 있게 전처리를 하면 네트워크에 데이터를 넣어줘야 하기 때문에\n",
    "# input 데이터랑 정답 레이블을 묶어서 보통 데이터셋이라는 것을 만들고 파이프 라인을 구성한다."
   ]
  },
  {
   "cell_type": "markdown",
   "metadata": {
    "colab_type": "text",
    "id": "TIAhx5Qa4A_S"
   },
   "source": [
    "[Apply Transformations]"
   ]
  },
  {
   "cell_type": "code",
   "execution_count": 0,
   "metadata": {
    "colab": {},
    "colab_type": "code",
    "id": "DsB2bHVb34_b"
   },
   "outputs": [],
   "source": [
    "ds_tensors = ds_tensors.map(tf.square).shuffle(20).batch(2)\n",
    "# tf.square = 제곱을해라\n",
    "# shuffle 괄호 안에 20은 20이라는 공간을 준다는 것이다 위에서는 10개를 만들었기 때문에\n",
    "# 공간은 10개 이상만 주면 문제 없다.\n",
    "# 예를 들어서 위와 같이 ds_tensors를 만들면 이걸 가지고 배치를 임의로 하라고 할 수도 있고, 셔플을 할 수도 있다."
   ]
  },
  {
   "cell_type": "markdown",
   "metadata": {
    "colab_type": "text",
    "id": "gt4rGl-d4Uby"
   },
   "source": [
    "[Iterate]"
   ]
  },
  {
   "cell_type": "code",
   "execution_count": 70,
   "metadata": {
    "colab": {
     "base_uri": "https://localhost:8080/",
     "height": 298
    },
    "colab_type": "code",
    "executionInfo": {
     "elapsed": 673,
     "status": "ok",
     "timestamp": 1561873379713,
     "user": {
      "displayName": "MINSU PARK",
      "photoUrl": "",
      "userId": "09880869099049781250"
     },
     "user_tz": -540
    },
    "id": "yPmUEpoG4Tf8",
    "outputId": "efe8d9af-4e62-46f8-f34e-52858b70ac39",
    "scrolled": true
   },
   "outputs": [
    {
     "name": "stdout",
     "output_type": "stream",
     "text": [
      "Elements of ds_tensors:\n",
      "tf.Tensor([36 81], shape=(2,), dtype=int64)\n",
      "tf.Tensor([4 1], shape=(2,), dtype=int64)\n",
      "tf.Tensor([49  0], shape=(2,), dtype=int64)\n",
      "tf.Tensor([64  9], shape=(2,), dtype=int64)\n",
      "tf.Tensor([16 25], shape=(2,), dtype=int64)\n",
      "tf.Tensor([36 81], shape=(2,), dtype=int64)\n",
      "tf.Tensor([4 1], shape=(2,), dtype=int64)\n",
      "tf.Tensor([49  0], shape=(2,), dtype=int64)\n",
      "tf.Tensor([64  9], shape=(2,), dtype=int64)\n",
      "tf.Tensor([16 25], shape=(2,), dtype=int64)\n",
      "tf.Tensor([36 81], shape=(2,), dtype=int64)\n",
      "tf.Tensor([4 1], shape=(2,), dtype=int64)\n",
      "tf.Tensor([49  0], shape=(2,), dtype=int64)\n",
      "tf.Tensor([64  9], shape=(2,), dtype=int64)\n",
      "tf.Tensor([16 25], shape=(2,), dtype=int64)\n"
     ]
    }
   ],
   "source": [
    "# 데이터 셋을 한번씩 다 쓰는 것을 1에포크라고 한다.\n",
    "# 보통 1에포크를 돌고나서 데이터셋을 셔플한다음에 또 에포크를 돈다.\n",
    "print('Elements of ds_tensors:')\n",
    "for _ in range(3):\n",
    "  for x in ds_tensors:\n",
    "    print(x)"
   ]
  },
  {
   "cell_type": "markdown",
   "metadata": {},
   "source": [
    "#### 2. 선형회귀, 로지스틱 회귀 기초개념\n",
    "\n",
    "- 선형회귀의 기본적인 목표 -> 정비례 규칙을 찾고 싶다.\n",
    "\n",
    "\n",
    "- 선형회귀는 딥러닝에서 계속 사용되는 것이다. 히든레이어에서 아웃풋레이어로 가는 마지막과정에서 무조건 선형회귀 아니면 로지스틱 회귀를 쓰기 때문이다. 딥러닝에서 classification을 하게되면 로지스틱 회귀를 쓸 것이고, 선형회귀를 한다면 선형회귀를 쓸 것이다.\n",
    "\n",
    "\n",
    "- 리그레션은 입력으로 discrete한게 들어갈 수도 있고, continuous한게 들어갈 수도 있는데 출력으로는 continuous한 것을 출력하는 것을 말한다.\n",
    "\n",
    "\n",
    "- 예를 들어서 내가 갖고 있는 데이터가 키와 몸무게 기록이 있는 학생들의 데이터라고 했을때 새로 전학온 학생의 키가 175cm라면 몸무게는 어떨지, 양의 상관관계가 있는 것인지 찾는 것이다.\n",
    "\n",
    "\n",
    "- 아래 그림과 같이 이 검정색 점들(데이터)을 가장 잘 표현할 수 있는 직선을 찾고 그 직선위에서 예측을 하는 것이라고 할 수 있다.\n",
    "\n",
    "\n",
    "- 이 선형회귀를 뉴럴네트워크로 만들면 아래의 그림과 같이 1개의 퍼셉트론이면 충분하다. 활성화 함수는 보통 시그모이드 함수 같은 non-linear 함수가 들어갔지만 선형회귀를 구현할때는 그냥 데이터를 변형없이 그대로 통과시키기만 하면 된다."
   ]
  },
  {
   "cell_type": "markdown",
   "metadata": {},
   "source": [
    "![1](https://user-images.githubusercontent.com/41605276/80909993-9a69e300-8d67-11ea-8c67-405a2c762cbe.png)"
   ]
  },
  {
   "cell_type": "markdown",
   "metadata": {},
   "source": [
    "- 그렇다면 데이터를 표현하는 직선은 여러개가 될텐데 어떤 직선이 가장 좋은 것이고 어떤 직선은 나쁜직선인지 판단할 수 있어야 한다. 그래서 대표적으로 하는 방법이 Residula Sum of Square(잔차제곱합) 또는 mean squared error이다."
   ]
  },
  {
   "cell_type": "markdown",
   "metadata": {},
   "source": [
    "![2](https://user-images.githubusercontent.com/41605276/80909997-a6ee3b80-8d67-11ea-9003-5f3f854b9e2a.png)"
   ]
  },
  {
   "cell_type": "markdown",
   "metadata": {},
   "source": [
    "- 그래서 우리는 이 잔차제곱합을 최소화하는 w와 b를 찾아야 한다. 그러면 어떻게 찾을 것이냐. cost function을 미분에서 최소값(미분=0이되는 점)을 찾아야 한다. 그래서 우리는 w로도 미분하고, b로도 미분하여 w로 미분했을때 0되는 점을 찾으면 그게 loss을 최소화하는 w를 찾는 것이다. b로 미분해서 0되는 점을 찾으면 그때 b값이 loss를 최소화하는 b가 될 것이다."
   ]
  },
  {
   "cell_type": "markdown",
   "metadata": {},
   "source": [
    "![3](https://user-images.githubusercontent.com/41605276/80910001-ace41c80-8d67-11ea-9a79-b9f560f17ed2.png)"
   ]
  },
  {
   "cell_type": "markdown",
   "metadata": {},
   "source": [
    "- 예를 들어서 아래 그림과 같이 x와 y값을 갖는 데이터가 3개 있다고 치자. 이때 이 세점을 가장 잘 설명하는 선형회귀를 한다고하자."
   ]
  },
  {
   "cell_type": "markdown",
   "metadata": {},
   "source": [
    "![4](https://user-images.githubusercontent.com/41605276/80910005-b3729400-8d67-11ea-8ca3-0c858ff0ceb0.png)"
   ]
  },
  {
   "cell_type": "markdown",
   "metadata": {},
   "source": [
    "- 위에서는 간단하게 x가 스칼리인 단순한 형태의 선형회귀를 한 것이었다. 보통 현실에서는 x라는게 스칼라값이 아니라 아래 예시와 같이 벡터값인 멀티베리어블 리니어 리그레션이 대부분이다."
   ]
  },
  {
   "cell_type": "markdown",
   "metadata": {},
   "source": [
    "![5](https://user-images.githubusercontent.com/41605276/80910007-b9687500-8d67-11ea-8553-a0b0d9af1465.png)"
   ]
  },
  {
   "cell_type": "markdown",
   "metadata": {},
   "source": [
    "- 결론적으로 잔차제곱합을 최소화 하는 w를 구하는 공식이 있고, 아래와 같다.\n",
    "\n",
    "$$\\ w = (X^TX)^{-1} X^T y $$\n",
    "\n",
    "위의 식을 증명하는 과정은 아래와 같다.\n",
    "\n",
    "y헷 = Xw, e(잔차벡터) = y - y헷 = y - Xw\n",
    "\n",
    "$$\\ \\begin{eqnarray}\n",
    "\\text{RSS}\n",
    "&=&  e^Te \\\\\n",
    "&=& (y - Xw)^T(y - Xw) \\\\\n",
    "&=& y^Ty - 2y^T X w + w^TX^TXw  \n",
    "\\end{eqnarray} $$ \n",
    "\n",
    "잔차제곱합을 가장 작게하는 가중치 벡터 w를 구하기 위해 잔차제곱합의 그레디언트 벡터(w로 미분)를 구하면 아래와 같다.\n",
    "\n",
    "$$\\ \\dfrac{d \\text{RSS}}{d w} = -2 X^T y + 2 X^TX w $$\n",
    "\n",
    "잔차가 최소가 되는 최적화 조건은 그레디언트 벡터가 0벡터여야 한다. 따라서 아래와 같은 식이 나온다.\n",
    "\n",
    "dRSS / dW = 0\n",
    "\n",
    "$$\\ X^TX w = X^T y $$\n",
    "\n",
    "$$\\ w = (X^TX)^{-1} X^T y $$\n",
    "\n",
    "단 XTX행렬의 역행렬이 존재해야하고, 양의 정부호 행렬이어야 한다. 또한 X의 각 행렬이 서로 독립이어야 한다. XTX행렬이 역행렬이 존재하지 않다는 의미는 해가 무수히 많거나 해가 없다는 의미이다.\n",
    "\n",
    "\n",
    "- 선형회귀는 closed form이 위와 같이 존재한다. 최적점을 directly 구할 수 있다는 것이다."
   ]
  },
  {
   "cell_type": "markdown",
   "metadata": {},
   "source": [
    "![7](https://user-images.githubusercontent.com/41605276/80910014-c6856400-8d67-11ea-857c-ef24f0152a34.png)"
   ]
  },
  {
   "cell_type": "markdown",
   "metadata": {},
   "source": [
    "- 위와 같은 경우도 주의해야 한다. 위와 같은 경우는 예를들어서 내가 풀어야 하는 미지수는 두개 인데 데이터를 한개 준 경우이다.\n",
    "\n",
    "\n",
    "- 선형회귀로 classification도 가능한데 아래 예시와 같이 아웃라이어에는 취약하다는 단점이 있다."
   ]
  },
  {
   "cell_type": "markdown",
   "metadata": {},
   "source": [
    "![6](https://user-images.githubusercontent.com/41605276/80910018-cbe2ae80-8d67-11ea-8312-83ffc474f47b.png)"
   ]
  },
  {
   "cell_type": "markdown",
   "metadata": {},
   "source": [
    "- 보통 잔차를 제곱하기 때문에 잔차가 커질 경우 이것이 극대화 되기 때문에 이런 현상이 있는 것이다. 그래서 잔차제곱합이 아니라 mean absolute error를 쓰기도 한다.\n",
    "\n",
    "\n",
    "- 어쨌든 이런 문제점 때문에 나온 개념이 시그모이드 함수를 적용하는 것이다. 아주 크거나 아주 작은 데이터에 영향을 받지 않았으면 좋겠고, 바이너리 classification에 맞게 0에서 1사이 값으로 출력하는 것이다. \n",
    "\n",
    "\n",
    "- 그래서 선형회귀에 로지스틱 함수를 적용한 것이 로지스틱 선형회귀다. 뉴럴네트워크에서도 퍼셉트론 한개에 활성화 함수로 시그모이드를 집어넣어주면 로지스틱 선형회귀를 구현할 수 있다."
   ]
  },
  {
   "cell_type": "markdown",
   "metadata": {},
   "source": [
    "![8](https://user-images.githubusercontent.com/41605276/80910022-d1d88f80-8d67-11ea-87b5-9897f5bbf4c3.png)"
   ]
  },
  {
   "cell_type": "markdown",
   "metadata": {},
   "source": [
    "- 선형회귀와 마찬가지로 cost function을 정의해줘야 한다. 로지스틱 리그레션의 로스함수는 위에 나와있는 것을 미분하여 나온 결과(아래 수식에서 가장 하단에 있는 빨간색박스, LL)을 최소화 시켜주면 된다. "
   ]
  },
  {
   "cell_type": "markdown",
   "metadata": {},
   "source": [
    "![16](https://user-images.githubusercontent.com/41605276/80910027-d8670700-8d67-11ea-9ba0-0c0b26cf79ea.png)"
   ]
  },
  {
   "cell_type": "markdown",
   "metadata": {},
   "source": [
    "\\begin{eqnarray}\n",
    "w_{k+1} \n",
    "&=& w_{k} - \\eta_k \\dfrac{1}{m} \\sum_{i=1}^m \\big(\\mu(x_i; w_k) - y_i  \\big ) x_i\\\\\n",
    "\\end{eqnarray}\n",
    "\n",
    "\n",
    "- 그러면 로지스틱 회귀분석을 확률적인 관점에서 접근해보자.\n",
    "\n",
    "\n",
    "- 로지스틱 회귀분석에서 손실함수로 크로스엔트로피를 주로 많이 쓴다. mean squared error를 쓸 수도 있지만 통상적으로는 크로스 엔트로피를 많이 쓴다. 위에서 정의한 로스함수가 베르누이 확률분포의 MLE인데 이게 결국에는 크로스 엔트로피를 말하는 것이다. "
   ]
  },
  {
   "cell_type": "markdown",
   "metadata": {},
   "source": [
    "![9](https://user-images.githubusercontent.com/41605276/80910031-ddc45180-8d67-11ea-8eda-8dbcc26c3e68.png)"
   ]
  },
  {
   "cell_type": "markdown",
   "metadata": {},
   "source": [
    "- 크로스 엔트로피는 그래서 pi에다가 데이터셋의 정답의 분포를 넣고, qi에다가는 내 모델이 예측한 값의 분포를 넣어서 엔트로피를 계산하게 된다. 그래서 이 크로스 엔트로피를 최소화 하는 것은 p와 q의 분포가 가까워 지도록 만들어지는 것이다. 그러면 결과적으로는 H(p)에 p와 q의 쿨벡라이불러 디버전스를 더한 것이 되고 이 값을 최소화 시켜야 한다."
   ]
  },
  {
   "cell_type": "markdown",
   "metadata": {},
   "source": [
    "![10](https://user-images.githubusercontent.com/41605276/80910035-e3ba3280-8d67-11ea-8735-c07543766e14.png)"
   ]
  },
  {
   "cell_type": "markdown",
   "metadata": {},
   "source": [
    "- p와 q가 가까울 수록 KL Divergence가 작아지게 된다. 반면에 멀어질 수록 커진다. 결국에는 크로스엔트로피를 최소화 한다는 것은 KL Divergence 즉, 실제 정답의 확률분포와 내 네트워크가 예측한 확률분포가 최대한 같게 만든다는 것이다.\n",
    "\n",
    "\n",
    "- 결국에는 아래와 같은 식이 나오고 이 케이스에서는 선형회귀처럼 closed form이 없기 때문에 미분을 사용해서 iterative하게 최적점을 찾아야 한다."
   ]
  },
  {
   "cell_type": "markdown",
   "metadata": {},
   "source": [
    "![11](https://user-images.githubusercontent.com/41605276/80910045-ea48aa00-8d67-11ea-9452-61fc10074a63.png)"
   ]
  },
  {
   "cell_type": "markdown",
   "metadata": {},
   "source": [
    "- 그레디언트가 벡터의 미분이기 때문에 항상 가리키는 방향이 있다. 이 가리키는 방향이 최대로 상승하는 방향이고 그래서 그것의 반대방향으로 조금식 이동해야한다.\n",
    "\n",
    "\n",
    "- 만개의 데이터가 있다면 만개 데이터를 다 집어넣고 그거에 대해서 loss를 만개 계산하고 로스를 평균해서 그레디언트를 조금 업데이트하고, 다시 만개의 데이터를 이용해서 loss 계산하고 로스를 평균해서 그레디언트를 조금 업데이트하는 이런 과정이 너무 비효율적이어서 나온 것이 SGD 방법이다.\n",
    "\n",
    "\n",
    "- 미니배치 사이즈를 더 작은 배치사이즈를 가져가면 경험적으로 일반화 성능이 증가한다는 연구결과가 있다. \n",
    "\n",
    "\n",
    "- 아래 빨간 글씨와 같이 배치사이즈에 비례해서 learning rate를 키워줘야 한다."
   ]
  },
  {
   "cell_type": "markdown",
   "metadata": {},
   "source": [
    "![12](https://user-images.githubusercontent.com/41605276/80910052-f03e8b00-8d67-11ea-9577-e8031dd1f86b.png)"
   ]
  },
  {
   "cell_type": "markdown",
   "metadata": {},
   "source": [
    "- 로지스틱 회귀분석의 확률적인 관점"
   ]
  },
  {
   "cell_type": "markdown",
   "metadata": {},
   "source": [
    "![13](https://user-images.githubusercontent.com/41605276/80910054-f6346c00-8d67-11ea-99e9-254a6d53cd44.png)"
   ]
  },
  {
   "cell_type": "markdown",
   "metadata": {},
   "source": [
    "- 결국에는 Maximum likelihood estimation이 핵심이다. 예를 들어서 어떤 물건을 동전던지기 처럼 던져서 앞면이 나올 확률을 계산한다고 하면 10번던져서 앞면이 6번 나왔다고 하면 MLE를 계산하면 0.6의 확률로 앞면이 나올것이라고 판단할 수 있는 것이다. 다시말해서 p(앞면이 나올 확률)가 얼마면 10번 던졌을때 6번 나올 확률이 최대가 될 것이냐이다.\n",
    "\n",
    "\n",
    "- 선형회귀는 가우시안 정규분포를 가정하고 한다. 그래서 내 네트워크에서 가우시안 정규분포를 표현하려면 평균과 분산이 필요한데 보통 분산을 1로 넣고 평균을 내 네트워크의 아웃풋값을 넣는것이다. 다시말해 내 네트워크는 y에 대한 평균값을 예측하는 것이다. 그래서 이 내 네트워크의 예측값이 얼마가 되면 y의 평균이 제일 확률이 커질지 (평균이 y가 되면 확률이 커질 것이다) 구하는 것이다. 그래서 세타랑 x가 주어지면 y가 나올 확률을 최대화하는 모델을 만드는 것이다. \n",
    "\n",
    "\n",
    "- 이를 위해 아래 그림과 같은 개념을 가정한다. 이러한 가정을 바탕으로 NLL을 최소화 시키는 것을 목적으로 한다."
   ]
  },
  {
   "cell_type": "markdown",
   "metadata": {},
   "source": [
    "![14](https://user-images.githubusercontent.com/41605276/80910061-fb91b680-8d67-11ea-98f0-71bb8eeed162.png)"
   ]
  },
  {
   "cell_type": "markdown",
   "metadata": {},
   "source": [
    "- 그래서 확률론적인 관점에서의 선형회귀에서 평균을 예측한다는 것은 아래 그림과 같다. y가 세타(w)x + e(엡실론 = 노이즈)로 되어 있어서 원래 직선이 있는데 노이즈의 변동이 있을 수 있다는 것이다. 그래서 나는 아래 그림에서 빨간선을 예측하고 싶다는 것이다. 그리고 로지스틱 리그레션에서는 베르누이 분포를 가정하기 때문에 아래처럼 표현할 수 있다. 그래서 x랑 세타가 주어졌을때 나오는 모델의 예측값이 1이될 확률을 구하는 것이다. \n",
    "\n",
    "\n",
    "- 결론적으로는 확률론적인 관점에서 각각 가우시안분포와 베르누이 분포의 log likelihood가 되는 것이다. classification에서 MSE는 거의 안쓴다고 보면 된다. 딥러닝에서 back propogation할때 문제가 발생하기 때문이다."
   ]
  },
  {
   "cell_type": "markdown",
   "metadata": {},
   "source": [
    "![15](https://user-images.githubusercontent.com/41605276/80910069-02b8c480-8d68-11ea-8271-cc8d4843345c.png)"
   ]
  },
  {
   "cell_type": "markdown",
   "metadata": {},
   "source": [
    "#### 3. 텐서플로우로 구현하는 선형회귀 기초예시"
   ]
  },
  {
   "cell_type": "code",
   "execution_count": 0,
   "metadata": {
    "colab": {},
    "colab_type": "code",
    "id": "3VXWoEL0RCYr"
   },
   "outputs": [],
   "source": [
    "# For reproducibility\n",
    "np.random.seed(777)"
   ]
  },
  {
   "cell_type": "code",
   "execution_count": 6,
   "metadata": {
    "colab": {
     "base_uri": "https://localhost:8080/",
     "height": 334
    },
    "colab_type": "code",
    "executionInfo": {
     "elapsed": 804,
     "status": "ok",
     "timestamp": 1561897760826,
     "user": {
      "displayName": "MINSU PARK",
      "photoUrl": "",
      "userId": "09880869099049781250"
     },
     "user_tz": -540
    },
    "id": "a_OhuYyERCYt",
    "outputId": "97bc6ceb-77f9-403d-b2fe-38c4086ff1ff"
   },
   "outputs": [
    {
     "name": "stdout",
     "output_type": "stream",
     "text": [
      "1 \n",
      "\n",
      "[1.9547869 1.824274  1.8056791 2.010833  2.0122182 2.2347631 2.2287183\n",
      " 2.077177  2.1068094 2.1087186 1.9466289 1.91932   1.9549191 1.8770003\n",
      " 2.2847564 2.2275352 1.8689951 2.1924345 2.1293433 2.0995014 1.7575988\n",
      " 1.6364014 2.181351  2.2058055 2.099426  2.3211308 1.9810917 2.0393143\n",
      " 2.2172887 2.1068354 2.0735013 1.4907011 1.9785335 1.9774646 1.9980901\n",
      " 1.8917161 1.8111721 2.1072378 1.9168694 2.064694  2.0898936 2.4954464\n",
      " 1.9638982 2.0016527 1.9123851 2.2182038 2.0242357 1.8930213 2.2925956\n",
      " 1.7977242 2.0249991 1.6656373 2.3446465 2.1401873 2.3759246 2.336075\n",
      " 1.9173069 1.8972042 1.9103351 1.9130999 2.0994534 2.0899262 1.9150633\n",
      " 1.6544553 1.8792466 2.0961046 2.0391808 2.3070164 1.9809688 1.7562392\n",
      " 1.8053478 2.2675219 1.9953964 1.8409156 2.1230865 1.8717061 1.9040357\n",
      " 1.8411719 1.8584155 1.96766   2.0622861 1.5282812 2.181365  2.26566\n",
      " 2.1062274 2.1265802 2.1384265 1.7657336 2.1723344 1.578645  1.905852\n",
      " 1.8994441 1.9445403 2.231417  2.2262204 1.7743596 1.9463279 2.162859\n",
      " 1.8059686 2.0007808] \n",
      "\n"
     ]
    }
   ],
   "source": [
    "# inputs\n",
    "x = np.linspace(0, 1, 100, dtype=np.float32)\n",
    "\n",
    "# ground truth\n",
    "#slopes = np.random.normal(1, 0.5, 100).astype(np.float32)\n",
    "#intercept = 2.\n",
    "\n",
    "slopes = 1\n",
    "intercept = np.random.normal(2, 0.2, 100).astype(np.float32) \n",
    "# intercept는 y절편을 말하는건데 가우시안노이즈를 추가했다.\n",
    "# 평균을 2로하고 표준편차를 0.2로해서 숫자를 100개를 뽑은 것이다.\n",
    "\n",
    "# outputs\n",
    "y = x * slopes + intercept\n",
    "\n",
    "print(slopes,'\\n')\n",
    "print(intercept,'\\n')"
   ]
  },
  {
   "cell_type": "code",
   "execution_count": 7,
   "metadata": {
    "colab": {
     "base_uri": "https://localhost:8080/",
     "height": 269
    },
    "colab_type": "code",
    "executionInfo": {
     "elapsed": 851,
     "status": "ok",
     "timestamp": 1561897766551,
     "user": {
      "displayName": "MINSU PARK",
      "photoUrl": "",
      "userId": "09880869099049781250"
     },
     "user_tz": -540
    },
    "id": "SuZG3RwcRCYz",
    "outputId": "e983381b-cdb6-4801-d037-9004146e3a50"
   },
   "outputs": [
    {
     "data": {
      "image/png": "[encoded data removed]",
      "text/plain": [
       "<Figure size 432x288 with 1 Axes>"
      ]
     },
     "metadata": {
      "tags": []
     },
     "output_type": "display_data"
    }
   ],
   "source": [
    "plt.scatter(x, y)\n",
    "plt.plot(x, x * 1 + 2., label=\"ground truth\", c=\"r\")\n",
    "plt.legend()\n",
    "plt.show()"
   ]
  },
  {
   "cell_type": "code",
   "execution_count": 8,
   "metadata": {
    "colab": {
     "base_uri": "https://localhost:8080/",
     "height": 34
    },
    "colab_type": "code",
    "executionInfo": {
     "elapsed": 950,
     "status": "ok",
     "timestamp": 1561897817066,
     "user": {
      "displayName": "MINSU PARK",
      "photoUrl": "",
      "userId": "09880869099049781250"
     },
     "user_tz": -540
    },
    "id": "_RYh0pBmRCY1",
    "outputId": "79875383-639d-4a6a-8ca8-500849ede56d"
   },
   "outputs": [
    {
     "data": {
      "text/plain": [
       "dtype('float32')"
      ]
     },
     "execution_count": 8,
     "metadata": {
      "tags": []
     },
     "output_type": "execute_result"
    }
   ],
   "source": [
    "x.dtype"
   ]
  },
  {
   "cell_type": "code",
   "execution_count": 9,
   "metadata": {
    "colab": {
     "base_uri": "https://localhost:8080/",
     "height": 34
    },
    "colab_type": "code",
    "executionInfo": {
     "elapsed": 502,
     "status": "ok",
     "timestamp": 1561897817506,
     "user": {
      "displayName": "MINSU PARK",
      "photoUrl": "",
      "userId": "09880869099049781250"
     },
     "user_tz": -540
    },
    "id": "ITSzn8wwRCY2",
    "outputId": "869e6856-f1ef-48ba-f60e-3f98e0a22bed"
   },
   "outputs": [
    {
     "data": {
      "text/plain": [
       "dtype('float32')"
      ]
     },
     "execution_count": 9,
     "metadata": {
      "tags": []
     },
     "output_type": "execute_result"
    }
   ],
   "source": [
    "y.dtype"
   ]
  },
  {
   "cell_type": "code",
   "execution_count": 10,
   "metadata": {
    "colab": {
     "base_uri": "https://localhost:8080/",
     "height": 34
    },
    "colab_type": "code",
    "executionInfo": {
     "elapsed": 833,
     "status": "ok",
     "timestamp": 1561897819043,
     "user": {
      "displayName": "MINSU PARK",
      "photoUrl": "",
      "userId": "09880869099049781250"
     },
     "user_tz": -540
    },
    "id": "hq_B_CjjRCY4",
    "outputId": "67d746a4-f012-4999-a7f7-1bfc3e5504c3"
   },
   "outputs": [
    {
     "data": {
      "text/plain": [
       "(100,)"
      ]
     },
     "execution_count": 10,
     "metadata": {
      "tags": []
     },
     "output_type": "execute_result"
    }
   ],
   "source": [
    "x.shape"
   ]
  },
  {
   "cell_type": "code",
   "execution_count": 11,
   "metadata": {
    "colab": {
     "base_uri": "https://localhost:8080/",
     "height": 34
    },
    "colab_type": "code",
    "executionInfo": {
     "elapsed": 884,
     "status": "ok",
     "timestamp": 1561897820027,
     "user": {
      "displayName": "MINSU PARK",
      "photoUrl": "",
      "userId": "09880869099049781250"
     },
     "user_tz": -540
    },
    "id": "Lh67tp9kRCY6",
    "outputId": "2f9f1125-f3a7-4dc7-da07-6fd52cc68baa"
   },
   "outputs": [
    {
     "data": {
      "text/plain": [
       "(100,)"
      ]
     },
     "execution_count": 11,
     "metadata": {
      "tags": []
     },
     "output_type": "execute_result"
    }
   ],
   "source": [
    "y.shape"
   ]
  },
  {
   "cell_type": "code",
   "execution_count": 0,
   "metadata": {
    "colab": {},
    "colab_type": "code",
    "id": "meht_hFTRCY8"
   },
   "outputs": [],
   "source": [
    "# Computation\n",
    "## Variables = Parameters = Weights\n",
    "w = tf.Variable(.1, tf.float32)\n",
    "b = tf.Variable(0., tf.float32)\n",
    "\n",
    "# y = 0.1x + 0 부터 시작하겠다는 의미이다."
   ]
  },
  {
   "cell_type": "code",
   "execution_count": 14,
   "metadata": {
    "colab": {
     "base_uri": "https://localhost:8080/",
     "height": 369
    },
    "colab_type": "code",
    "executionInfo": {
     "elapsed": 810,
     "status": "ok",
     "timestamp": 1561897941754,
     "user": {
      "displayName": "MINSU PARK",
      "photoUrl": "",
      "userId": "09880869099049781250"
     },
     "user_tz": -540
    },
    "id": "55A1pRh-RCZA",
    "outputId": "de4bc230-8602-44e2-89dc-884ffa5ba88b"
   },
   "outputs": [
    {
     "name": "stdout",
     "output_type": "stream",
     "text": [
      "1 \t 6.148821 \t 0.36019328 \t 0.49210268\n",
      "2 \t 3.443053 \t 0.55374247 \t 0.8597654\n",
      "3 \t 1.9355677 \t 0.697557 \t 1.1345408\n",
      "4 \t 1.0956739 \t 0.80425787 \t 1.3399796\n",
      "5 \t 0.6277118 \t 0.88326555 \t 1.4936606\n",
      "6 \t 0.36696243 \t 0.94161135 \t 1.6087046\n",
      "7 \t 0.22165686 \t 0.9845434 \t 1.6949052\n",
      "8 \t 0.14066862 \t 1.0159788 \t 1.7595725\n",
      "9 \t 0.095513895 \t 1.0388412 \t 1.8081628\n",
      "10 \t 0.070323855 \t 1.0553128 \t 1.8447487\n",
      "11 \t 0.056257486 \t 1.067022 \t 1.8723704\n",
      "12 \t 0.048389196 \t 1.0751845 \t 1.8932967\n",
      "13 \t 0.04397484 \t 1.0807074 \t 1.9092215\n",
      "14 \t 0.041485578 \t 1.0842679 \t 1.9214091\n",
      "15 \t 0.04006961 \t 1.086371 \t 1.9308032\n",
      "16 \t 0.03925238 \t 1.0873938 \t 1.9381081\n",
      "17 \t 0.038769484 \t 1.0876175 \t 1.9438498\n",
      "18 \t 0.03847358 \t 1.0872521 \t 1.9484208\n",
      "19 \t 0.038282588 \t 1.0864542 \t 1.9521141\n",
      "20 \t 0.038150713 \t 1.0853403 \t 1.9551486\n"
     ]
    }
   ],
   "source": [
    "learning_rate = 0.1\n",
    "\n",
    "loss_list, w_list, b_list = [], [], []\n",
    "\n",
    "for epoch in range(20): \n",
    "# 데이터가 100가 있는데 미니배치를 하지는 않을 것이고 통째로 20 에포크를 돈다는 것이다.\n",
    "    with tf.GradientTape() as tape: \n",
    "        ## prediction = y_hat = hypothesis\n",
    "        preds = x * w + b # (100,)\n",
    "        loss = tf.reduce_mean(tf.square(preds - y))\n",
    "        \n",
    "    w_grad, b_grad = tape.gradient(loss, [w, b])\n",
    "    # 그레디언트로 w와 b로 미분해라\n",
    "    w.assign_sub(learning_rate * w_grad)\n",
    "    # 이전의 w값에다가 러닝레이트 곱하기 w그레디언트 계산한 것을 할당해라\n",
    "    b.assign_sub(learning_rate * b_grad)\n",
    "    print(epoch+1, \"\\t\", loss.numpy(), \"\\t\", w.numpy(), \"\\t\", b.numpy())\n",
    "    loss_list.append(loss.numpy())\n",
    "    w_list.append(w.numpy())\n",
    "    b_list.append(b.numpy())"
   ]
  },
  {
   "cell_type": "code",
   "execution_count": 15,
   "metadata": {
    "colab": {
     "base_uri": "https://localhost:8080/",
     "height": 269
    },
    "colab_type": "code",
    "executionInfo": {
     "elapsed": 975,
     "status": "ok",
     "timestamp": 1561897946757,
     "user": {
      "displayName": "MINSU PARK",
      "photoUrl": "",
      "userId": "09880869099049781250"
     },
     "user_tz": -540
    },
    "id": "WmeGLmiiRCZD",
    "outputId": "8c1662b4-b7c7-434b-e772-c9fb570e6570"
   },
   "outputs": [
    {
     "data": {
      "image/png": "[encoded data removed]",
      "text/plain": [
       "<Figure size 432x288 with 1 Axes>"
      ]
     },
     "metadata": {
      "tags": []
     },
     "output_type": "display_data"
    }
   ],
   "source": [
    "plt.plot(loss_list, label=\"loss\")\n",
    "plt.plot(w_list, label=\"w\")\n",
    "plt.plot(b_list, label=\"b\")\n",
    "plt.legend()\n",
    "plt.show()"
   ]
  },
  {
   "cell_type": "code",
   "execution_count": 16,
   "metadata": {
    "colab": {
     "base_uri": "https://localhost:8080/",
     "height": 269
    },
    "colab_type": "code",
    "executionInfo": {
     "elapsed": 1193,
     "status": "ok",
     "timestamp": 1561897954600,
     "user": {
      "displayName": "MINSU PARK",
      "photoUrl": "",
      "userId": "09880869099049781250"
     },
     "user_tz": -540
    },
    "id": "sD3hBCI6RCZF",
    "outputId": "7365ca8f-5f32-4f2b-d91d-803ca0739d06",
    "scrolled": false
   },
   "outputs": [
    {
     "data": {
      "image/png": "[encoded data removed]",
      "text/plain": [
       "<Figure size 432x288 with 1 Axes>"
      ]
     },
     "metadata": {
      "tags": []
     },
     "output_type": "display_data"
    }
   ],
   "source": [
    "# 빨간색 선이 모델에서 예측한 선, 초록색이 정답\n",
    "plt.scatter(x, y)\n",
    "plt.plot(x, x * w_list[-1] + b_list[-1], label=\"model\", c=\"r\")\n",
    "plt.plot(x, x * 1 + 2., label=\"ground truth\", c=\"g\")\n",
    "plt.legend()\n",
    "plt.show()"
   ]
  },
  {
   "cell_type": "markdown",
   "metadata": {},
   "source": [
    "#### 4. 텐서플로우의 캐라스로 구현하는 선형회귀 기초예시"
   ]
  },
  {
   "cell_type": "code",
   "execution_count": 0,
   "metadata": {
    "colab": {},
    "colab_type": "code",
    "id": "w5JGqVErZkVt"
   },
   "outputs": [],
   "source": [
    "# For reproducibility\n",
    "np.random.seed(777)"
   ]
  },
  {
   "cell_type": "code",
   "execution_count": 0,
   "metadata": {
    "colab": {},
    "colab_type": "code",
    "id": "vmKYK_rvZkVv"
   },
   "outputs": [],
   "source": [
    "# inputs\n",
    "x = np.linspace(0, 1, 100, dtype=np.float32)\n",
    "\n",
    "# ground truth\n",
    "#slopes = np.random.normal(1, 0.5, 100).astype(np.float32)\n",
    "#intercept = 2.\n",
    "\n",
    "slopes = 1\n",
    "intercept = np.random.normal(2, 0.2, 100).astype(np.float32)\n",
    "\n",
    "# outputs\n",
    "y = x * slopes + intercept"
   ]
  },
  {
   "cell_type": "code",
   "execution_count": 5,
   "metadata": {
    "colab": {
     "base_uri": "https://localhost:8080/",
     "height": 34
    },
    "colab_type": "code",
    "executionInfo": {
     "elapsed": 917,
     "status": "ok",
     "timestamp": 1561898435225,
     "user": {
      "displayName": "MINSU PARK",
      "photoUrl": "",
      "userId": "09880869099049781250"
     },
     "user_tz": -540
    },
    "id": "MemltZ5XZkVw",
    "outputId": "64bc83b4-b887-4841-ce24-09ac215c2dc7"
   },
   "outputs": [
    {
     "data": {
      "text/plain": [
       "1"
      ]
     },
     "execution_count": 5,
     "metadata": {
      "tags": []
     },
     "output_type": "execute_result"
    }
   ],
   "source": [
    "slopes"
   ]
  },
  {
   "cell_type": "code",
   "execution_count": 6,
   "metadata": {
    "colab": {
     "base_uri": "https://localhost:8080/",
     "height": 316
    },
    "colab_type": "code",
    "executionInfo": {
     "elapsed": 746,
     "status": "ok",
     "timestamp": 1561898436179,
     "user": {
      "displayName": "MINSU PARK",
      "photoUrl": "",
      "userId": "09880869099049781250"
     },
     "user_tz": -540
    },
    "id": "e4K7RiZXZkVy",
    "outputId": "e13fab1b-66fe-40ff-cb8f-6bbb46323ce5"
   },
   "outputs": [
    {
     "data": {
      "text/plain": [
       "array([1.9063582, 1.835435 , 1.9869239, 1.8573276, 2.1812701, 2.1532474,\n",
       "       2.1652107, 1.7352635, 1.6495111, 2.2004898, 2.1089618, 2.3790321,\n",
       "       1.8461285, 1.7193809, 1.8735065, 1.8882253, 1.7533537, 1.9120992,\n",
       "       2.1829574, 2.053008 , 1.723326 , 2.1371024, 2.0912182, 1.9077251,\n",
       "       2.01894  , 1.6914377, 2.495874 , 2.0913734, 1.9372255, 2.0042074,\n",
       "       2.1921587, 2.0116966, 1.9107935, 2.0638394, 2.1682336, 1.6934476,\n",
       "       1.9436831, 2.3488905, 1.8651522, 2.1176803, 2.3608727, 2.41125  ,\n",
       "       2.2909164, 1.9723177, 2.0685744, 1.8544763, 1.7192107, 1.7518778,\n",
       "       1.9113035, 1.990535 , 2.151537 , 1.9695828, 1.9457442, 1.8800321,\n",
       "       1.5946192, 2.0660684, 1.9338338, 1.9930116, 2.0579495, 1.878746 ,\n",
       "       1.9463191, 2.2382956, 2.0315228, 2.2349648, 2.264182 , 1.8303926,\n",
       "       2.1491416, 1.9376757, 1.7897869, 1.7847006, 2.090122 , 2.0817482,\n",
       "       1.7140917, 2.2034855, 1.9836458, 1.9232163, 1.9523549, 2.0017576,\n",
       "       2.1040938, 2.080741 , 1.9196435, 1.860551 , 2.1291966, 1.9448934,\n",
       "       1.924158 , 2.393607 , 2.0404994, 2.0745394, 2.1962693, 2.1472924,\n",
       "       2.2822602, 1.9746964, 2.1106315, 1.8368928, 2.1077404, 1.556441 ,\n",
       "       1.8187416, 1.7075751, 1.864487 , 2.3045607], dtype=float32)"
      ]
     },
     "execution_count": 6,
     "metadata": {
      "tags": []
     },
     "output_type": "execute_result"
    }
   ],
   "source": [
    "intercept"
   ]
  },
  {
   "cell_type": "code",
   "execution_count": 8,
   "metadata": {
    "colab": {
     "base_uri": "https://localhost:8080/",
     "height": 270
    },
    "colab_type": "code",
    "executionInfo": {
     "elapsed": 968,
     "status": "ok",
     "timestamp": 1561898442334,
     "user": {
      "displayName": "MINSU PARK",
      "photoUrl": "",
      "userId": "09880869099049781250"
     },
     "user_tz": -540
    },
    "id": "sOyUqvmVZkVz",
    "outputId": "61ce50b7-bc3a-4cc1-d010-f59d23f90d5a"
   },
   "outputs": [
    {
     "data": {
      "image/png": "[encoded data removed]",
      "text/plain": [
       "<Figure size 432x288 with 1 Axes>"
      ]
     },
     "metadata": {
      "tags": []
     },
     "output_type": "display_data"
    }
   ],
   "source": [
    "plt.scatter(x, y)\n",
    "plt.plot(x, x * 1 + 2., label=\"ground truth\", c=\"r\")\n",
    "plt.legend()\n",
    "plt.show()"
   ]
  },
  {
   "cell_type": "code",
   "execution_count": 9,
   "metadata": {
    "colab": {
     "base_uri": "https://localhost:8080/",
     "height": 34
    },
    "colab_type": "code",
    "executionInfo": {
     "elapsed": 646,
     "status": "ok",
     "timestamp": 1561898443486,
     "user": {
      "displayName": "MINSU PARK",
      "photoUrl": "",
      "userId": "09880869099049781250"
     },
     "user_tz": -540
    },
    "id": "enZhmoCFZkV1",
    "outputId": "b45cde48-7319-46de-fb07-e48fdd7ab85c"
   },
   "outputs": [
    {
     "data": {
      "text/plain": [
       "dtype('float32')"
      ]
     },
     "execution_count": 9,
     "metadata": {
      "tags": []
     },
     "output_type": "execute_result"
    }
   ],
   "source": [
    "x.dtype"
   ]
  },
  {
   "cell_type": "code",
   "execution_count": 10,
   "metadata": {
    "colab": {
     "base_uri": "https://localhost:8080/",
     "height": 34
    },
    "colab_type": "code",
    "executionInfo": {
     "elapsed": 590,
     "status": "ok",
     "timestamp": 1561898443841,
     "user": {
      "displayName": "MINSU PARK",
      "photoUrl": "",
      "userId": "09880869099049781250"
     },
     "user_tz": -540
    },
    "id": "1WB1OX9pZkV3",
    "outputId": "765c8cdd-3ce1-4d19-90c5-2cedfa6949d2"
   },
   "outputs": [
    {
     "data": {
      "text/plain": [
       "dtype('float32')"
      ]
     },
     "execution_count": 10,
     "metadata": {
      "tags": []
     },
     "output_type": "execute_result"
    }
   ],
   "source": [
    "y.dtype"
   ]
  },
  {
   "cell_type": "code",
   "execution_count": 11,
   "metadata": {
    "colab": {
     "base_uri": "https://localhost:8080/",
     "height": 34
    },
    "colab_type": "code",
    "executionInfo": {
     "elapsed": 562,
     "status": "ok",
     "timestamp": 1561898444209,
     "user": {
      "displayName": "MINSU PARK",
      "photoUrl": "",
      "userId": "09880869099049781250"
     },
     "user_tz": -540
    },
    "id": "ck_qwsV2ZkV4",
    "outputId": "c5bf4cae-6e47-4df4-8a02-02df4bfe22d4"
   },
   "outputs": [
    {
     "data": {
      "text/plain": [
       "(100,)"
      ]
     },
     "execution_count": 11,
     "metadata": {
      "tags": []
     },
     "output_type": "execute_result"
    }
   ],
   "source": [
    "x.shape"
   ]
  },
  {
   "cell_type": "code",
   "execution_count": 12,
   "metadata": {
    "colab": {
     "base_uri": "https://localhost:8080/",
     "height": 34
    },
    "colab_type": "code",
    "executionInfo": {
     "elapsed": 497,
     "status": "ok",
     "timestamp": 1561898444554,
     "user": {
      "displayName": "MINSU PARK",
      "photoUrl": "",
      "userId": "09880869099049781250"
     },
     "user_tz": -540
    },
    "id": "Q-3kDUdDZkV6",
    "outputId": "2e81ac9a-db11-4e5d-8ccb-44f94b226bdf"
   },
   "outputs": [
    {
     "data": {
      "text/plain": [
       "(100,)"
      ]
     },
     "execution_count": 12,
     "metadata": {
      "tags": []
     },
     "output_type": "execute_result"
    }
   ],
   "source": [
    "y.shape"
   ]
  },
  {
   "cell_type": "code",
   "execution_count": 0,
   "metadata": {
    "colab": {},
    "colab_type": "code",
    "id": "KurbaEX2ZkV8"
   },
   "outputs": [],
   "source": [
    "l0 = tf.keras.layers.Dense(units=1, input_shape=[1])\n",
    "# dense layer라고해서 fully connected layer이다.\n",
    "# 하나의 입력이 있고 하나의 units(출력의 갯수)가 있는 것이다.\n",
    "# input shape = 1로 되어 있는데 데이터 100개가 있고 이게 다 들어갈거지만 \n",
    "# 데이터가 하나씩 스칼라로 들어가기 때문에 1이다."
   ]
  },
  {
   "cell_type": "code",
   "execution_count": 0,
   "metadata": {
    "colab": {},
    "colab_type": "code",
    "id": "OEJQVdvvZkV9"
   },
   "outputs": [],
   "source": [
    "model = tf.keras.models.Sequential([l0])\n",
    "# 모델.시퀀스에 레이어를 넣어주면 된다."
   ]
  },
  {
   "cell_type": "code",
   "execution_count": 20,
   "metadata": {
    "colab": {
     "base_uri": "https://localhost:8080/",
     "height": 193
    },
    "colab_type": "code",
    "executionInfo": {
     "elapsed": 834,
     "status": "ok",
     "timestamp": 1561898683400,
     "user": {
      "displayName": "MINSU PARK",
      "photoUrl": "",
      "userId": "09880869099049781250"
     },
     "user_tz": -540
    },
    "id": "ERs83nvZamYM",
    "outputId": "df274ff7-f22e-4185-e0f3-d79730ac77e6"
   },
   "outputs": [
    {
     "name": "stdout",
     "output_type": "stream",
     "text": [
      "Model: \"sequential\"\n",
      "_________________________________________________________________\n",
      "Layer (type)                 Output Shape              Param #   \n",
      "=================================================================\n",
      "dense (Dense)                (None, 1)                 2         \n",
      "=================================================================\n",
      "Total params: 2\n",
      "Trainable params: 2\n",
      "Non-trainable params: 0\n",
      "_________________________________________________________________\n"
     ]
    }
   ],
   "source": [
    "model.summary()\n",
    "# 레이어가 하나이고 입력으로 들어갈 것은 \n",
    "# (None, 1)은 None은 항상 배치사이즈이다. \n",
    "# 데이터는 배치사이즈 만큼 들어갈거고 우리는 100개 다 집어넣을 것이다.\n",
    "# 그리고 아웃풋은 항상 1로 나오는 걸로 할 것이다.\n",
    "# 파라미터는 w랑 b 두개이다."
   ]
  },
  {
   "cell_type": "code",
   "execution_count": 0,
   "metadata": {
    "colab": {},
    "colab_type": "code",
    "id": "sL68ldODZkV_"
   },
   "outputs": [],
   "source": [
    "model.compile(loss='mean_squared_error', optimizer=tf.keras.optimizers.SGD(0.1))"
   ]
  },
  {
   "cell_type": "code",
   "execution_count": 16,
   "metadata": {
    "colab": {
     "base_uri": "https://localhost:8080/",
     "height": 738
    },
    "colab_type": "code",
    "executionInfo": {
     "elapsed": 1665,
     "status": "ok",
     "timestamp": 1561898623828,
     "user": {
      "displayName": "MINSU PARK",
      "photoUrl": "",
      "userId": "09880869099049781250"
     },
     "user_tz": -540
    },
    "id": "oYQBb1XFZkWA",
    "outputId": "dc356e6b-5c88-45f3-976c-b600f63dd5ec"
   },
   "outputs": [
    {
     "name": "stdout",
     "output_type": "stream",
     "text": [
      "Train on 100 samples\n",
      "Epoch 1/20\n",
      "100/100 [==============================] - 1s 7ms/sample - loss: 5.3434\n",
      "Epoch 2/20\n",
      "100/100 [==============================] - 0s 93us/sample - loss: 0.5485\n",
      "Epoch 3/20\n",
      "100/100 [==============================] - 0s 90us/sample - loss: 0.1098\n",
      "Epoch 4/20\n",
      "100/100 [==============================] - 0s 89us/sample - loss: 0.0609\n",
      "Epoch 5/20\n",
      "100/100 [==============================] - 0s 104us/sample - loss: 0.0569\n",
      "Epoch 6/20\n",
      "100/100 [==============================] - 0s 79us/sample - loss: 0.0542\n",
      "Epoch 7/20\n",
      "100/100 [==============================] - 0s 97us/sample - loss: 0.0522\n",
      "Epoch 8/20\n",
      "100/100 [==============================] - 0s 97us/sample - loss: 0.0505\n",
      "Epoch 9/20\n",
      "100/100 [==============================] - 0s 86us/sample - loss: 0.0493\n",
      "Epoch 10/20\n",
      "100/100 [==============================] - 0s 113us/sample - loss: 0.0483\n",
      "Epoch 11/20\n",
      "100/100 [==============================] - 0s 72us/sample - loss: 0.0474\n",
      "Epoch 12/20\n",
      "100/100 [==============================] - 0s 86us/sample - loss: 0.0464\n",
      "Epoch 13/20\n",
      "100/100 [==============================] - 0s 87us/sample - loss: 0.0446\n",
      "Epoch 14/20\n",
      "100/100 [==============================] - 0s 91us/sample - loss: 0.0445\n",
      "Epoch 15/20\n",
      "100/100 [==============================] - 0s 98us/sample - loss: 0.0435\n",
      "Epoch 16/20\n",
      "100/100 [==============================] - 0s 96us/sample - loss: 0.0429\n",
      "Epoch 17/20\n",
      "100/100 [==============================] - 0s 98us/sample - loss: 0.0423\n",
      "Epoch 18/20\n",
      "100/100 [==============================] - 0s 97us/sample - loss: 0.0414\n",
      "Epoch 19/20\n",
      "100/100 [==============================] - 0s 93us/sample - loss: 0.0416\n",
      "Epoch 20/20\n",
      "100/100 [==============================] - 0s 95us/sample - loss: 0.0407\n"
     ]
    }
   ],
   "source": [
    "history = model.fit(x, y, epochs=20)"
   ]
  },
  {
   "cell_type": "code",
   "execution_count": 17,
   "metadata": {
    "colab": {
     "base_uri": "https://localhost:8080/",
     "height": 301
    },
    "colab_type": "code",
    "executionInfo": {
     "elapsed": 841,
     "status": "ok",
     "timestamp": 1561898625696,
     "user": {
      "displayName": "MINSU PARK",
      "photoUrl": "",
      "userId": "09880869099049781250"
     },
     "user_tz": -540
    },
    "id": "cG45LpdPZkWC",
    "outputId": "ec842950-e22b-4e5f-9705-36e6fa6cdf98"
   },
   "outputs": [
    {
     "data": {
      "text/plain": [
       "[<matplotlib.lines.Line2D at 0x7f6ad0050710>]"
      ]
     },
     "execution_count": 17,
     "metadata": {
      "tags": []
     },
     "output_type": "execute_result"
    },
    {
     "data": {
      "image/png": "[encoded data removed]",
      "text/plain": [
       "<Figure size 432x288 with 1 Axes>"
      ]
     },
     "metadata": {
      "tags": []
     },
     "output_type": "display_data"
    }
   ],
   "source": [
    "plt.xlabel('Epoch Number')\n",
    "plt.ylabel(\"Loss Magnitude\")\n",
    "plt.plot(history.history['loss'])"
   ]
  },
  {
   "cell_type": "code",
   "execution_count": 18,
   "metadata": {
    "colab": {
     "base_uri": "https://localhost:8080/",
     "height": 34
    },
    "colab_type": "code",
    "executionInfo": {
     "elapsed": 803,
     "status": "ok",
     "timestamp": 1561898629489,
     "user": {
      "displayName": "MINSU PARK",
      "photoUrl": "",
      "userId": "09880869099049781250"
     },
     "user_tz": -540
    },
    "id": "krhe7jFHZkWD",
    "outputId": "99204538-e556-4332-c7a2-74a76acace49"
   },
   "outputs": [
    {
     "data": {
      "text/plain": [
       "(array([[0.82106805]], dtype=float32), array([2.0804424], dtype=float32))"
      ]
     },
     "execution_count": 18,
     "metadata": {
      "tags": []
     },
     "output_type": "execute_result"
    }
   ],
   "source": [
    "model.variables[0].numpy(), model.variables[1].numpy()\n",
    "# 0번은 w, 1번은 b를 말하는 것이다."
   ]
  },
  {
   "cell_type": "code",
   "execution_count": 19,
   "metadata": {
    "colab": {
     "base_uri": "https://localhost:8080/",
     "height": 270
    },
    "colab_type": "code",
    "executionInfo": {
     "elapsed": 864,
     "status": "ok",
     "timestamp": 1561898631191,
     "user": {
      "displayName": "MINSU PARK",
      "photoUrl": "",
      "userId": "09880869099049781250"
     },
     "user_tz": -540
    },
    "id": "uWa7ldhbZkWF",
    "outputId": "2b58db16-e041-4c52-ef8b-bad4696929df",
    "scrolled": true
   },
   "outputs": [
    {
     "data": {
      "image/png": "[encoded data removed]",
      "text/plain": [
       "<Figure size 432x288 with 1 Axes>"
      ]
     },
     "metadata": {
      "tags": []
     },
     "output_type": "display_data"
    }
   ],
   "source": [
    "plt.scatter(x, y)\n",
    "plt.plot(x, x * model.variables[0][0].numpy() + model.variables[1].numpy(), label=\"model\", c=\"r\")\n",
    "plt.plot(x, x * 1 + 2., label=\"ground truth\", c=\"g\")\n",
    "plt.legend()\n",
    "plt.show()"
   ]
  },
  {
   "cell_type": "markdown",
   "metadata": {},
   "source": [
    "#### 5. 실제 데이터를 이용한 선형회귀 구현예시\n",
    "\n",
    "- 사용한 데이터 : birth_life_2010.txt\n",
    "\n",
    "\n",
    "- 독립변수 : 국가별 평균출생률\n",
    "\n",
    "\n",
    "- 종속변수 : 국가별 기대수명"
   ]
  },
  {
   "cell_type": "code",
   "execution_count": 0,
   "metadata": {
    "colab": {},
    "colab_type": "code",
    "id": "xFmzEjUAdpYJ"
   },
   "outputs": [],
   "source": [
    "#DATA_FILE = './data/birth_life_2010.txt'\n",
    "DATA_FILE = '/content/gdrive/My Drive/TensorFlow_Training_13th/data/birth_life_2010.txt'"
   ]
  },
  {
   "cell_type": "code",
   "execution_count": 0,
   "metadata": {
    "colab": {},
    "colab_type": "code",
    "id": "GAkAMdZRdpYL"
   },
   "outputs": [],
   "source": [
    "def read_birth_life_data(filename):\n",
    "    \"\"\"\n",
    "    Read in birth_life_2010.txt and return:\n",
    "    data in the form of NumPy array\n",
    "    n_samples: number of samples\n",
    "    \"\"\"\n",
    "    text = open(filename, 'r').readlines()[1:]\n",
    "    data = [line[:-1].split('\\t') for line in text]\n",
    "    births = [float(line[1]) for line in data]\n",
    "    lifes = [float(line[2]) for line in data]\n",
    "    data = list(zip(births, lifes))\n",
    "    n_samples = len(data)\n",
    "    data = np.asarray(data, dtype=np.float32)\n",
    "    return data, n_samples"
   ]
  },
  {
   "cell_type": "code",
   "execution_count": 21,
   "metadata": {
    "colab": {
     "base_uri": "https://localhost:8080/",
     "height": 70
    },
    "colab_type": "code",
    "executionInfo": {
     "elapsed": 818,
     "status": "ok",
     "timestamp": 1561900056947,
     "user": {
      "displayName": "MINSU PARK",
      "photoUrl": "",
      "userId": "09880869099049781250"
     },
     "user_tz": -540
    },
    "id": "lNi9LsC5dpYN",
    "outputId": "8879edb6-003e-4f50-ce43-f5d598253c69"
   },
   "outputs": [
    {
     "data": {
      "text/plain": [
       "array([[ 1.822  , 74.82825],\n",
       "       [ 3.869  , 70.81949],\n",
       "       [ 3.911  , 72.15066]], dtype=float32)"
      ]
     },
     "execution_count": 21,
     "metadata": {
      "tags": []
     },
     "output_type": "execute_result"
    }
   ],
   "source": [
    "data, n_samples = read_birth_life_data(DATA_FILE)\n",
    "data[:3]"
   ]
  },
  {
   "cell_type": "code",
   "execution_count": 0,
   "metadata": {
    "colab": {},
    "colab_type": "code",
    "id": "KUQRNG9jdpYQ"
   },
   "outputs": [],
   "source": [
    "w = tf.Variable(0.1, tf.float32)\n",
    "b = tf.Variable(0., tf.float32)"
   ]
  },
  {
   "cell_type": "code",
   "execution_count": 0,
   "metadata": {
    "colab": {},
    "colab_type": "code",
    "id": "U5RDpZH-dpYS"
   },
   "outputs": [],
   "source": [
    "learning_rate = 0.001\n",
    "optimizer = tf.keras.optimizers.SGD(learning_rate=learning_rate)"
   ]
  },
  {
   "cell_type": "code",
   "execution_count": 18,
   "metadata": {
    "colab": {
     "base_uri": "https://localhost:8080/",
     "height": 1000
    },
    "colab_type": "code",
    "executionInfo": {
     "elapsed": 46563,
     "status": "ok",
     "timestamp": 1561899850579,
     "user": {
      "displayName": "MINSU PARK",
      "photoUrl": "",
      "userId": "09880869099049781250"
     },
     "user_tz": -540
    },
    "id": "HcPcGvxMdpYU",
    "outputId": "e4677e85-451c-43f5-f2d9-eebcd40447dc",
    "scrolled": false
   },
   "outputs": [
    {
     "name": "stdout",
     "output_type": "stream",
     "text": [
      "Epoch 1: 1656.550048828125\n",
      "Epoch 2: 957.05224609375\n",
      "Epoch 3: 845.3574829101562\n",
      "Epoch 4: 751.33642578125\n",
      "Epoch 5: 668.1957397460938\n",
      "Epoch 6: 594.6158447265625\n",
      "Epoch 7: 529.498779296875\n",
      "Epoch 8: 471.8717956542969\n",
      "Epoch 9: 420.87432861328125\n",
      "Epoch 10: 375.7457275390625\n",
      "Epoch 11: 335.8111877441406\n",
      "Epoch 12: 300.47357177734375\n",
      "Epoch 13: 269.2049865722656\n",
      "Epoch 14: 241.5377655029297\n",
      "Epoch 15: 217.05789184570312\n",
      "Epoch 16: 195.3992156982422\n",
      "Epoch 17: 176.23704528808594\n",
      "Epoch 18: 159.28453063964844\n",
      "Epoch 19: 144.2869415283203\n",
      "Epoch 20: 131.0201873779297\n",
      "Epoch 21: 119.28470611572266\n",
      "Epoch 22: 108.90458679199219\n",
      "Epoch 23: 99.72322845458984\n",
      "Epoch 24: 91.60327911376953\n",
      "Epoch 25: 84.4225845336914\n",
      "Epoch 26: 78.07245635986328\n",
      "Epoch 27: 72.45730590820312\n",
      "Epoch 28: 67.49275970458984\n",
      "Epoch 29: 63.103614807128906\n",
      "Epoch 30: 59.22303771972656\n",
      "Epoch 31: 55.793113708496094\n",
      "Epoch 32: 52.76158905029297\n",
      "Epoch 33: 50.08254623413086\n",
      "Epoch 34: 47.715213775634766\n",
      "Epoch 35: 45.623287200927734\n",
      "Epoch 36: 43.77528762817383\n",
      "Epoch 37: 42.142906188964844\n",
      "Epoch 38: 40.701255798339844\n",
      "Epoch 39: 39.42827224731445\n",
      "Epoch 40: 38.304073333740234\n",
      "Epoch 41: 37.31173324584961\n",
      "Epoch 42: 36.435970306396484\n",
      "Epoch 43: 35.66320037841797\n",
      "Epoch 44: 34.98141860961914\n",
      "Epoch 45: 34.38019561767578\n",
      "Epoch 46: 33.8498649597168\n",
      "Epoch 47: 33.38246536254883\n",
      "Epoch 48: 32.97057342529297\n",
      "Epoch 49: 32.60768508911133\n",
      "Epoch 50: 32.288116455078125\n",
      "Epoch 51: 32.00660705566406\n",
      "Epoch 52: 31.758989334106445\n",
      "Epoch 53: 31.54110336303711\n",
      "Epoch 54: 31.34950065612793\n",
      "Epoch 55: 31.181076049804688\n",
      "Epoch 56: 31.033130645751953\n",
      "Epoch 57: 30.903223037719727\n",
      "Epoch 58: 30.789226531982422\n",
      "Epoch 59: 30.689340591430664\n",
      "Epoch 60: 30.601768493652344\n",
      "Epoch 61: 30.525074005126953\n",
      "Epoch 62: 30.457931518554688\n",
      "Epoch 63: 30.399337768554688\n",
      "Epoch 64: 30.348064422607422\n",
      "Epoch 65: 30.30340003967285\n",
      "Epoch 66: 30.264480590820312\n",
      "Epoch 67: 30.23057746887207\n",
      "Epoch 68: 30.20111083984375\n",
      "Epoch 69: 30.175609588623047\n",
      "Epoch 70: 30.153446197509766\n",
      "Epoch 71: 30.134305953979492\n",
      "Epoch 72: 30.11781883239746\n",
      "Epoch 73: 30.10361671447754\n",
      "Epoch 74: 30.09145164489746\n",
      "Epoch 75: 30.081008911132812\n",
      "Epoch 76: 30.072124481201172\n",
      "Epoch 77: 30.06454086303711\n",
      "Epoch 78: 30.05818748474121\n",
      "Epoch 79: 30.05280303955078\n",
      "Epoch 80: 30.048303604125977\n",
      "Epoch 81: 30.044593811035156\n",
      "Epoch 82: 30.041576385498047\n",
      "Epoch 83: 30.0390682220459\n",
      "Epoch 84: 30.037050247192383\n",
      "Epoch 85: 30.035449981689453\n",
      "Epoch 86: 30.034282684326172\n",
      "Epoch 87: 30.033401489257812\n",
      "Epoch 88: 30.032764434814453\n",
      "Epoch 89: 30.03238868713379\n",
      "Epoch 90: 30.03215980529785\n",
      "Epoch 91: 30.03208351135254\n",
      "Epoch 92: 30.032203674316406\n",
      "Epoch 93: 30.03240394592285\n",
      "Epoch 94: 30.03264045715332\n",
      "Epoch 95: 30.03304100036621\n",
      "Epoch 96: 30.03343391418457\n",
      "Epoch 97: 30.033906936645508\n",
      "Epoch 98: 30.034433364868164\n",
      "Epoch 99: 30.034929275512695\n",
      "Epoch 100: 30.0355281829834\n"
     ]
    }
   ],
   "source": [
    "for epoch in range(100):\n",
    "    total_loss = 0.\n",
    "    for x, y in data:\n",
    "        with tf.GradientTape() as tape:\n",
    "            hypothesis = w * x + b\n",
    "            loss = tf.reduce_mean(tf.square(hypothesis - y))\n",
    "        grads = tape.gradient(loss, [w, b])\n",
    "        optimizer.apply_gradients(grads_and_vars=zip(grads, [w, b]))\n",
    "        # sgd라는 옵티마이저를 이용해서 그레디언트를 업데이트 해달라는 의미이고\n",
    "        # grads and vars라는 곳에는 그레디언트랑 weight 바이어스를 zip으로 묶어서 넣어주면 된다.\n",
    "        total_loss += loss\n",
    "    print('Epoch {0}: {1}'.format(epoch+1, total_loss/n_samples))"
   ]
  },
  {
   "cell_type": "code",
   "execution_count": 19,
   "metadata": {
    "colab": {
     "base_uri": "https://localhost:8080/",
     "height": 269
    },
    "colab_type": "code",
    "executionInfo": {
     "elapsed": 877,
     "status": "ok",
     "timestamp": 1561899863103,
     "user": {
      "displayName": "MINSU PARK",
      "photoUrl": "",
      "userId": "09880869099049781250"
     },
     "user_tz": -540
    },
    "id": "zRBVF3lmdpYW",
    "outputId": "433fee34-9a28-45d8-9c22-f1471f9be6ae",
    "scrolled": false
   },
   "outputs": [
    {
     "data": {
      "image/png": "[encoded data removed]",
      "text/plain": [
       "<Figure size 432x288 with 1 Axes>"
      ]
     },
     "metadata": {
      "tags": []
     },
     "output_type": "display_data"
    }
   ],
   "source": [
    "# plot the results\n",
    "plt.plot(data[:,0], data[:,1], 'bo', label='Real data')\n",
    "plt.plot(data[:,0], data[:,0] * w.numpy() + b.numpy(), 'r', label='Predicted data')\n",
    "plt.legend()\n",
    "plt.show()"
   ]
  },
  {
   "cell_type": "markdown",
   "metadata": {},
   "source": [
    "#### 6. 실제 데이터를 이용한 선형회귀 구현예시(미니배치를 적용해보자)"
   ]
  },
  {
   "cell_type": "code",
   "execution_count": 0,
   "metadata": {
    "colab": {},
    "colab_type": "code",
    "id": "pRKmSlqyhSBa"
   },
   "outputs": [],
   "source": [
    "#DATA_FILE = './data/birth_life_2010.txt'\n",
    "DATA_FILE = '/content/gdrive/My Drive/TensorFlow_Training_13th/data/birth_life_2010.txt'"
   ]
  },
  {
   "cell_type": "code",
   "execution_count": 0,
   "metadata": {
    "colab": {},
    "colab_type": "code",
    "id": "TCfVzR6ihSBc"
   },
   "outputs": [],
   "source": [
    "def read_birth_life_data(filename):\n",
    "    \"\"\"\n",
    "    Read in birth_life_2010.txt and return:\n",
    "    data in the form of NumPy array\n",
    "    n_samples: number of samples\n",
    "    \"\"\"\n",
    "    text = open(filename, 'r').readlines()[1:]\n",
    "    data = [line[:-1].split('\\t') for line in text]\n",
    "    births = [float(line[1]) for line in data]\n",
    "    lifes = [float(line[2]) for line in data]\n",
    "    data = list(zip(births, lifes))\n",
    "    n_samples = len(data)\n",
    "    data = np.asarray(data, dtype=np.float32)\n",
    "    return data, n_samples"
   ]
  },
  {
   "cell_type": "code",
   "execution_count": 0,
   "metadata": {
    "colab": {},
    "colab_type": "code",
    "id": "T5R5bFdHhSBe"
   },
   "outputs": [],
   "source": [
    "data, n_samples = read_birth_life_data(DATA_FILE)"
   ]
  },
  {
   "cell_type": "code",
   "execution_count": 0,
   "metadata": {
    "colab": {},
    "colab_type": "code",
    "id": "QyABuXMzhSBf"
   },
   "outputs": [],
   "source": [
    "w = tf.Variable(0.1, tf.float32)\n",
    "b = tf.Variable(0., tf.float32)"
   ]
  },
  {
   "cell_type": "code",
   "execution_count": 0,
   "metadata": {
    "colab": {},
    "colab_type": "code",
    "id": "qizm4QNzhSBh"
   },
   "outputs": [],
   "source": [
    "learning_rate = 0.01\n",
    "optimizer = tf.keras.optimizers.SGD(learning_rate=learning_rate)"
   ]
  },
  {
   "cell_type": "code",
   "execution_count": 12,
   "metadata": {
    "colab": {
     "base_uri": "https://localhost:8080/",
     "height": 1000
    },
    "colab_type": "code",
    "executionInfo": {
     "elapsed": 7082,
     "status": "ok",
     "timestamp": 1561900629945,
     "user": {
      "displayName": "MINSU PARK",
      "photoUrl": "",
      "userId": "09880869099049781250"
     },
     "user_tz": -540
    },
    "id": "X-P_cJ9OhSBi",
    "outputId": "f86a840d-049f-4ae0-9032-6483de8a7c07",
    "scrolled": false
   },
   "outputs": [
    {
     "name": "stdout",
     "output_type": "stream",
     "text": [
      "Epoch 1: 265.4019470214844\n",
      "Epoch 2: 276.8383483886719\n",
      "Epoch 3: 248.3880157470703\n",
      "Epoch 4: 222.95660400390625\n",
      "Epoch 5: 200.50357055664062\n",
      "Epoch 6: 180.68170166015625\n",
      "Epoch 7: 163.18255615234375\n",
      "Epoch 8: 147.73382568359375\n",
      "Epoch 9: 134.09532165527344\n",
      "Epoch 10: 122.0547103881836\n",
      "Epoch 11: 111.42464447021484\n",
      "Epoch 12: 102.03982543945312\n",
      "Epoch 13: 93.75440216064453\n",
      "Epoch 14: 86.4394302368164\n",
      "Epoch 15: 79.98108673095703\n",
      "Epoch 16: 74.27924346923828\n",
      "Epoch 17: 69.24494934082031\n",
      "Epoch 18: 64.80011749267578\n",
      "Epoch 19: 60.87559509277344\n",
      "Epoch 20: 57.410587310791016\n",
      "Epoch 21: 54.35100173950195\n",
      "Epoch 22: 51.649654388427734\n",
      "Epoch 23: 49.26433181762695\n",
      "Epoch 24: 47.15803909301758\n",
      "Epoch 25: 45.29821014404297\n",
      "Epoch 26: 43.655887603759766\n",
      "Epoch 27: 42.20565414428711\n",
      "Epoch 28: 40.92494201660156\n",
      "Epoch 29: 39.793941497802734\n",
      "Epoch 30: 38.79512023925781\n",
      "Epoch 31: 37.912994384765625\n",
      "Epoch 32: 37.13389587402344\n",
      "Epoch 33: 36.4458122253418\n",
      "Epoch 34: 35.838050842285156\n",
      "Epoch 35: 35.30128479003906\n",
      "Epoch 36: 34.827083587646484\n",
      "Epoch 37: 34.40825271606445\n",
      "Epoch 38: 34.03824996948242\n",
      "Epoch 39: 33.711368560791016\n",
      "Epoch 40: 33.42259979248047\n",
      "Epoch 41: 33.167396545410156\n",
      "Epoch 42: 32.94196319580078\n",
      "Epoch 43: 32.74275588989258\n",
      "Epoch 44: 32.56673812866211\n",
      "Epoch 45: 32.4111328125\n",
      "Epoch 46: 32.273616790771484\n",
      "Epoch 47: 32.15208435058594\n",
      "Epoch 48: 32.044639587402344\n",
      "Epoch 49: 31.94965171813965\n",
      "Epoch 50: 31.865678787231445\n",
      "Epoch 51: 31.79144859313965\n",
      "Epoch 52: 31.725784301757812\n",
      "Epoch 53: 31.66773223876953\n",
      "Epoch 54: 31.616374969482422\n",
      "Epoch 55: 31.570955276489258\n",
      "Epoch 56: 31.53074836730957\n",
      "Epoch 57: 31.495176315307617\n",
      "Epoch 58: 31.463703155517578\n",
      "Epoch 59: 31.435819625854492\n",
      "Epoch 60: 31.411174774169922\n",
      "Epoch 61: 31.389333724975586\n",
      "Epoch 62: 31.36998176574707\n",
      "Epoch 63: 31.352853775024414\n",
      "Epoch 64: 31.33767318725586\n",
      "Epoch 65: 31.324214935302734\n",
      "Epoch 66: 31.312301635742188\n",
      "Epoch 67: 31.30173110961914\n",
      "Epoch 68: 31.292354583740234\n",
      "Epoch 69: 31.284040451049805\n",
      "Epoch 70: 31.27666664123535\n",
      "Epoch 71: 31.270109176635742\n",
      "Epoch 72: 31.264297485351562\n",
      "Epoch 73: 31.259143829345703\n",
      "Epoch 74: 31.254547119140625\n",
      "Epoch 75: 31.250469207763672\n",
      "Epoch 76: 31.24685287475586\n",
      "Epoch 77: 31.243614196777344\n",
      "Epoch 78: 31.24074935913086\n",
      "Epoch 79: 31.238170623779297\n",
      "Epoch 80: 31.23590660095215\n",
      "Epoch 81: 31.233884811401367\n",
      "Epoch 82: 31.23208236694336\n",
      "Epoch 83: 31.23044776916504\n",
      "Epoch 84: 31.22901153564453\n",
      "Epoch 85: 31.22772789001465\n",
      "Epoch 86: 31.226593017578125\n",
      "Epoch 87: 31.225549697875977\n",
      "Epoch 88: 31.22464370727539\n",
      "Epoch 89: 31.223812103271484\n",
      "Epoch 90: 31.223087310791016\n",
      "Epoch 91: 31.222410202026367\n",
      "Epoch 92: 31.221820831298828\n",
      "Epoch 93: 31.221288681030273\n",
      "Epoch 94: 31.220809936523438\n",
      "Epoch 95: 31.220378875732422\n",
      "Epoch 96: 31.219993591308594\n",
      "Epoch 97: 31.219640731811523\n",
      "Epoch 98: 31.219329833984375\n",
      "Epoch 99: 31.219045639038086\n",
      "Epoch 100: 31.21879005432129\n"
     ]
    }
   ],
   "source": [
    "batch_size = 10\n",
    "n_epoch = 100\n",
    "\n",
    "total_steps = int(n_samples/batch_size)\n",
    "for epoch in range(n_epoch):\n",
    "    total_loss = 0.\n",
    "    for i in range(total_steps):\n",
    "        x = data[i*batch_size:(i+1)*batch_size, 0]\n",
    "        y = data[i*batch_size:(i+1)*batch_size, 1]\n",
    "        with tf.GradientTape() as tape:\n",
    "            hypothesis = w * x + b\n",
    "            loss = tf.reduce_mean(tf.square(hypothesis - y))\n",
    "        grads = tape.gradient(loss, [w, b])\n",
    "        optimizer.apply_gradients(grads_and_vars=zip(grads, [w, b]))\n",
    "        total_loss += loss / total_steps\n",
    "    print('Epoch {0}: {1}'.format(epoch+1, total_loss))"
   ]
  },
  {
   "cell_type": "code",
   "execution_count": 13,
   "metadata": {
    "colab": {
     "base_uri": "https://localhost:8080/",
     "height": 269
    },
    "colab_type": "code",
    "executionInfo": {
     "elapsed": 939,
     "status": "ok",
     "timestamp": 1561900633047,
     "user": {
      "displayName": "MINSU PARK",
      "photoUrl": "",
      "userId": "09880869099049781250"
     },
     "user_tz": -540
    },
    "id": "9VyaCw4qhSBk",
    "outputId": "0de509f9-f55f-4a37-f794-3e62db288fdb",
    "scrolled": true
   },
   "outputs": [
    {
     "data": {
      "image/png": "[encoded data removed]",
      "text/plain": [
       "<Figure size 432x288 with 1 Axes>"
      ]
     },
     "metadata": {
      "tags": []
     },
     "output_type": "display_data"
    }
   ],
   "source": [
    "# plot the results\n",
    "plt.plot(data[:,0], data[:,1], 'bo', label='Real data')\n",
    "plt.plot(data[:,0], data[:,0] * w.numpy() + b.numpy(), 'r', label='Predicted data')\n",
    "plt.legend()\n",
    "plt.show()"
   ]
  },
  {
   "cell_type": "markdown",
   "metadata": {},
   "source": [
    "#### 7. 실제 데이터를 이용한 선형회귀 구현예시(미니배치를 적용해보자 + 텐서플로우의 유용한 매서드를 이용)"
   ]
  },
  {
   "cell_type": "code",
   "execution_count": 0,
   "metadata": {
    "colab": {},
    "colab_type": "code",
    "id": "a__YWdSoiVYB"
   },
   "outputs": [],
   "source": [
    "batch_size = 10\n",
    "n_epoch = 100"
   ]
  },
  {
   "cell_type": "code",
   "execution_count": 0,
   "metadata": {
    "colab": {},
    "colab_type": "code",
    "id": "dXVw4uT1iVYD"
   },
   "outputs": [],
   "source": [
    "#DATA_FILE = './data/birth_life_2010.txt'\n",
    "DATA_FILE = '/content/gdrive/My Drive/TensorFlow_Training_13th/data/birth_life_2010.txt'"
   ]
  },
  {
   "cell_type": "code",
   "execution_count": 0,
   "metadata": {
    "colab": {},
    "colab_type": "code",
    "id": "McFpwY35iVYF"
   },
   "outputs": [],
   "source": [
    "def read_birth_life_data(filename):\n",
    "    \"\"\"\n",
    "    Read in birth_life_2010.txt and return:\n",
    "    data in the form of NumPy array\n",
    "    n_samples: number of samples\n",
    "    \"\"\"\n",
    "    text = open(filename, 'r').readlines()[1:]\n",
    "    data = [line[:-1].split('\\t') for line in text]\n",
    "    births = [float(line[1]) for line in data]\n",
    "    lifes = [float(line[2]) for line in data]\n",
    "    data = list(zip(births, lifes))\n",
    "    n_samples = len(data)\n",
    "    data = np.asarray(data, dtype=np.float32)\n",
    "    return data, n_samples"
   ]
  },
  {
   "cell_type": "code",
   "execution_count": 0,
   "metadata": {
    "colab": {},
    "colab_type": "code",
    "id": "ccZcqM0hiVYG"
   },
   "outputs": [],
   "source": [
    "data, n_samples = read_birth_life_data(DATA_FILE)"
   ]
  },
  {
   "cell_type": "code",
   "execution_count": 0,
   "metadata": {
    "colab": {},
    "colab_type": "code",
    "id": "uB0iYqLwiVYI"
   },
   "outputs": [],
   "source": [
    "dataset = tf.data.Dataset.from_tensor_slices((data[:,0], data[:,1]))\n",
    "dataset = dataset.shuffle(1000).batch(10)"
   ]
  },
  {
   "cell_type": "code",
   "execution_count": 0,
   "metadata": {
    "colab": {},
    "colab_type": "code",
    "id": "fFJ0qeIpiVYK"
   },
   "outputs": [],
   "source": [
    "w = tf.Variable(0.1, tf.float32)\n",
    "b = tf.Variable(0., tf.float32)"
   ]
  },
  {
   "cell_type": "code",
   "execution_count": 0,
   "metadata": {
    "colab": {},
    "colab_type": "code",
    "id": "GTk78e22iVYL"
   },
   "outputs": [],
   "source": [
    "learning_rate = 0.01\n",
    "optimizer = tf.keras.optimizers.SGD(learning_rate=learning_rate)"
   ]
  },
  {
   "cell_type": "code",
   "execution_count": 10,
   "metadata": {
    "colab": {
     "base_uri": "https://localhost:8080/",
     "height": 1000
    },
    "colab_type": "code",
    "executionInfo": {
     "elapsed": 8605,
     "status": "ok",
     "timestamp": 1561900949812,
     "user": {
      "displayName": "MINSU PARK",
      "photoUrl": "",
      "userId": "09880869099049781250"
     },
     "user_tz": -540
    },
    "id": "Lss-D8SSiVYP",
    "outputId": "e87df590-7270-41da-e1e4-3747e7af5dc0"
   },
   "outputs": [
    {
     "name": "stdout",
     "output_type": "stream",
     "text": [
      "Epoch 1: 1742.0859375\n",
      "Epoch 2: 1126.128662109375\n",
      "Epoch 3: 979.6088256835938\n",
      "Epoch 4: 852.522216796875\n",
      "Epoch 5: 742.4463500976562\n",
      "Epoch 6: 647.1064453125\n",
      "Epoch 7: 564.5300903320312\n",
      "Epoch 8: 493.0089416503906\n",
      "Epoch 9: 431.0635986328125\n",
      "Epoch 10: 377.412109375\n",
      "Epoch 11: 330.9443054199219\n",
      "Epoch 12: 290.6987609863281\n",
      "Epoch 13: 255.8425750732422\n",
      "Epoch 14: 225.65428161621094\n",
      "Epoch 15: 199.5089874267578\n",
      "Epoch 16: 176.86538696289062\n",
      "Epoch 17: 157.25486755371094\n",
      "Epoch 18: 140.27125549316406\n",
      "Epoch 19: 125.56282806396484\n",
      "Epoch 20: 112.8250961303711\n",
      "Epoch 21: 101.79405212402344\n",
      "Epoch 22: 92.24114227294922\n",
      "Epoch 23: 83.96859741210938\n",
      "Epoch 24: 76.80487823486328\n",
      "Epoch 25: 70.60147094726562\n",
      "Epoch 26: 65.22976684570312\n",
      "Epoch 27: 60.57827377319336\n",
      "Epoch 28: 56.55058288574219\n",
      "Epoch 29: 53.06315612792969\n",
      "Epoch 30: 50.04361343383789\n",
      "Epoch 31: 47.42922592163086\n",
      "Epoch 32: 45.16574478149414\n",
      "Epoch 33: 43.20611572265625\n",
      "Epoch 34: 41.509586334228516\n",
      "Epoch 35: 40.04093551635742\n",
      "Epoch 36: 38.76959991455078\n",
      "Epoch 37: 37.66910171508789\n",
      "Epoch 38: 36.716522216796875\n",
      "Epoch 39: 35.89202117919922\n",
      "Epoch 40: 35.17844009399414\n",
      "Epoch 41: 34.5609245300293\n",
      "Epoch 42: 34.02655029296875\n",
      "Epoch 43: 33.564151763916016\n",
      "Epoch 44: 33.164058685302734\n",
      "Epoch 45: 32.817935943603516\n",
      "Epoch 46: 32.51848602294922\n",
      "Epoch 47: 32.25947570800781\n",
      "Epoch 48: 32.03544998168945\n",
      "Epoch 49: 31.841718673706055\n",
      "Epoch 50: 31.674179077148438\n",
      "Epoch 51: 31.529327392578125\n",
      "Epoch 52: 31.404138565063477\n",
      "Epoch 53: 31.295909881591797\n",
      "Epoch 54: 31.2023868560791\n",
      "Epoch 55: 31.1215877532959\n",
      "Epoch 56: 31.051780700683594\n",
      "Epoch 57: 30.99148178100586\n",
      "Epoch 58: 30.93941879272461\n",
      "Epoch 59: 30.89447784423828\n",
      "Epoch 60: 30.855690002441406\n",
      "Epoch 61: 30.822223663330078\n",
      "Epoch 62: 30.793354034423828\n",
      "Epoch 63: 30.768463134765625\n",
      "Epoch 64: 30.74700927734375\n",
      "Epoch 65: 30.72852897644043\n",
      "Epoch 66: 30.71260643005371\n",
      "Epoch 67: 30.69890022277832\n",
      "Epoch 68: 30.687114715576172\n",
      "Epoch 69: 30.676965713500977\n",
      "Epoch 70: 30.66825294494629\n",
      "Epoch 71: 30.660762786865234\n",
      "Epoch 72: 30.654346466064453\n",
      "Epoch 73: 30.64883041381836\n",
      "Epoch 74: 30.644105911254883\n",
      "Epoch 75: 30.640071868896484\n",
      "Epoch 76: 30.636619567871094\n",
      "Epoch 77: 30.633670806884766\n",
      "Epoch 78: 30.63115119934082\n",
      "Epoch 79: 30.62900161743164\n",
      "Epoch 80: 30.62717628479004\n",
      "Epoch 81: 30.625629425048828\n",
      "Epoch 82: 30.624313354492188\n",
      "Epoch 83: 30.62320899963379\n",
      "Epoch 84: 30.622264862060547\n",
      "Epoch 85: 30.621477127075195\n",
      "Epoch 86: 30.620819091796875\n",
      "Epoch 87: 30.620267868041992\n",
      "Epoch 88: 30.61981201171875\n",
      "Epoch 89: 30.619428634643555\n",
      "Epoch 90: 30.619117736816406\n",
      "Epoch 91: 30.618854522705078\n",
      "Epoch 92: 30.6186466217041\n",
      "Epoch 93: 30.61848258972168\n",
      "Epoch 94: 30.61834716796875\n",
      "Epoch 95: 30.61824607849121\n",
      "Epoch 96: 30.61817169189453\n",
      "Epoch 97: 30.618114471435547\n",
      "Epoch 98: 30.618070602416992\n",
      "Epoch 99: 30.618040084838867\n",
      "Epoch 100: 30.618026733398438\n"
     ]
    }
   ],
   "source": [
    "total_steps = int(n_samples/batch_size)\n",
    "for epoch in range(n_epoch):\n",
    "    total_loss = 0.\n",
    "    for x, y in dataset:        \n",
    "        with tf.GradientTape() as tape:\n",
    "            hypothesis = w * x + b\n",
    "            loss = tf.reduce_mean(tf.square(hypothesis - y))\n",
    "        grads = tape.gradient(loss, [w, b])\n",
    "        optimizer.apply_gradients(grads_and_vars=zip(grads, [w, b]))\n",
    "        total_loss += loss / total_steps\n",
    "    print('Epoch {0}: {1}'.format(epoch+1, total_loss))"
   ]
  },
  {
   "cell_type": "code",
   "execution_count": 11,
   "metadata": {
    "colab": {
     "base_uri": "https://localhost:8080/",
     "height": 269
    },
    "colab_type": "code",
    "executionInfo": {
     "elapsed": 971,
     "status": "ok",
     "timestamp": 1561900954439,
     "user": {
      "displayName": "MINSU PARK",
      "photoUrl": "",
      "userId": "09880869099049781250"
     },
     "user_tz": -540
    },
    "id": "dX3laE5fiVYR",
    "outputId": "68679cbc-bcf1-4600-f88a-72ab04e02dd7",
    "scrolled": false
   },
   "outputs": [
    {
     "data": {
      "image/png": "[encoded data removed]",
      "text/plain": [
       "<Figure size 432x288 with 1 Axes>"
      ]
     },
     "metadata": {
      "tags": []
     },
     "output_type": "display_data"
    }
   ],
   "source": [
    "# plot the results\n",
    "plt.plot(data[:,0], data[:,1], 'bo', label='Real data')\n",
    "plt.plot(data[:,0], data[:,0] * w.numpy() + b.numpy(), 'r', label='Predicted data')\n",
    "plt.legend()\n",
    "plt.show()"
   ]
  },
  {
   "cell_type": "markdown",
   "metadata": {},
   "source": [
    "#### 8. tensorflow를 이용한 logistic regression 구현실습 1"
   ]
  },
  {
   "cell_type": "markdown",
   "metadata": {
    "colab_type": "text",
    "id": "-_3lWwBa29wW"
   },
   "source": [
    "## Pima Indians Diabetes Dataset for Binary Classification\n",
    "\n",
    "This dataset describes the medical records for Pima Indians and whether or not each patient will have an onset of diabetes within five years."
   ]
  },
  {
   "cell_type": "markdown",
   "metadata": {
    "colab_type": "text",
    "id": "Ea97MnvP29wZ"
   },
   "source": [
    "This dataset can be downloaded from https://www.kaggle.com/kumargh/pimaindiansdiabetescsv"
   ]
  },
  {
   "cell_type": "markdown",
   "metadata": {
    "colab_type": "text",
    "id": "GOHCtXwn29wb"
   },
   "source": [
    "이 dataset의 몇가지 주요 항목을 살펴보면 다음과 같습니다\n",
    "\n",
    "- 인스턴스 수 : 768개\n",
    "- 속성 수 : 8가지\n",
    "- 클래스 수 : 2가지\n",
    "\n",
    "8가지 속성(1번~8번)과 결과(9번)의 상세 내용은 다음과 같습니다.\n",
    "\n",
    "1. 임신 횟수\n",
    "2. 경구 포도당 내성 검사에서 2시간 동안의 혈장 포도당 농도\n",
    "3. 이완기 혈압 (mm Hg)\n",
    "4. 삼두근 피부 두겹 두께 (mm)\n",
    "5. 2 시간 혈청 인슐린 (mu U/ml)\n",
    "6. 체질량 지수\n",
    "7. 당뇨 직계 가족력\n",
    "8. 나이 (세)\n",
    "9. 5년 이내 당뇨병이 발병 여부"
   ]
  },
  {
   "cell_type": "code",
   "execution_count": 0,
   "metadata": {
    "colab": {
     "base_uri": "https://localhost:8080/",
     "height": 34
    },
    "colab_type": "code",
    "id": "3qI_mCpB29wc",
    "outputId": "d22b4b97-75d8-451f-9e2c-b79c4c5842a4"
   },
   "outputs": [
    {
     "name": "stdout",
     "output_type": "stream",
     "text": [
      "2.0.0-beta1\n"
     ]
    }
   ],
   "source": [
    "import numpy as np\n",
    "import matplotlib.pyplot as plt\n",
    "import tensorflow as tf\n",
    "#from sklearn.preprocessing import MinMaxScaler\n",
    "\n",
    "print(tf.__version__)"
   ]
  },
  {
   "cell_type": "code",
   "execution_count": 0,
   "metadata": {
    "colab": {},
    "colab_type": "code",
    "id": "Y6yqDe8S29wi"
   },
   "outputs": [],
   "source": [
    "#tf.enable_eager_execution()"
   ]
  },
  {
   "cell_type": "code",
   "execution_count": 0,
   "metadata": {
    "colab": {},
    "colab_type": "code",
    "id": "SimVyf-b29wl"
   },
   "outputs": [],
   "source": [
    "#DATA_FILE = './data/pima-indians-diabetes.csv'\n",
    "DATA_FILE = '/content/gdrive/My Drive/TensorFlow_Training_13th/data/pima-indians-diabetes.csv'"
   ]
  },
  {
   "cell_type": "code",
   "execution_count": 0,
   "metadata": {
    "colab": {
     "base_uri": "https://localhost:8080/",
     "height": 158
    },
    "colab_type": "code",
    "id": "pgr8HMWn29wo",
    "outputId": "f94498b9-9910-4b75-aef8-572d6c23432e"
   },
   "outputs": [
    {
     "name": "stdout",
     "output_type": "stream",
     "text": [
      "(768, 8) (768, 1)\n",
      "[[  6.    148.     72.    ...   0.627  50.      1.   ]\n",
      " [  1.     85.     66.    ...   0.351  31.      0.   ]\n",
      " [  8.    183.     64.    ...   0.672  32.      1.   ]\n",
      " ...\n",
      " [  5.    121.     72.    ...   0.245  30.      0.   ]\n",
      " [  1.    126.     60.    ...   0.349  47.      1.   ]\n",
      " [  1.     93.     70.    ...   0.315  23.      0.   ]]\n"
     ]
    }
   ],
   "source": [
    "xy = np.loadtxt(DATA_FILE, delimiter=',', dtype=np.float32)\n",
    "x_train = xy[:, 0:-1]\n",
    "y_train = xy[:, [-1]]\n",
    "# 여기서 -1이라는 것은 맨 마지막 부터인것은 동일하나 대괄호가 들어가면 디멘전이 달라지게 된다.\n",
    "\n",
    "print(x_train.shape, y_train.shape)\n",
    "print(xy)"
   ]
  },
  {
   "cell_type": "code",
   "execution_count": 0,
   "metadata": {
    "colab": {},
    "colab_type": "code",
    "id": "5xBBkSaj29ws"
   },
   "outputs": [],
   "source": [
    "# 피쳐들의 스케일이 다르면 가중치를 곱해져서 더할건데 이때 스케일이 큰숫자가 가장 영향력이 커지기 때문에\n",
    "# 모든데이터에서 이 데이터들 중에 미니멈값을 뺀 숫자를 맥시멈에서 미니멈을 뺀 것을 나눠주게 된다.\n",
    "# 통상 피쳐들을 0 ~ 1 사이의 값으로 노멀라이징하는 전처리를 해주게 된다.\n",
    "\n",
    "# 참고로 다음과 같은 패키지를 임포트하여도 됨\n",
    "# from sklearn.preprocessing import MinMaxScaler\n",
    "\n",
    "def MinMaxScaler(data):\n",
    "    ''' Min Max Normalization\n",
    "    Parameters\n",
    "    ----------\n",
    "    data : numpy.ndarray\n",
    "        input data to be normalized\n",
    "        shape: [Batch size, dimension]\n",
    "    Returns\n",
    "    ----------\n",
    "    data : numpy.ndarry\n",
    "        normalized data\n",
    "        shape: [Batch size, dimension]\n",
    "    References\n",
    "    ----------\n",
    "    .. [1] http://sebastianraschka.com/Articles/2014_about_feature_scaling.html\n",
    "    '''\n",
    "    numerator = data - np.min(data, 0)\n",
    "    denominator = np.max(data, 0) - np.min(data, 0)\n",
    "    # noise term prevents the zero division\n",
    "    return numerator / (denominator + 1e-7)\n",
    "  \n",
    "  # 여기서 10의 -7승이 왜 들어갔냐면 모든숫자가 다 같으면 맥시멈 - 미니멈이 0이 되기 때문에 그것을 방지하기 위함이다."
   ]
  },
  {
   "cell_type": "code",
   "execution_count": 0,
   "metadata": {
    "colab": {
     "base_uri": "https://localhost:8080/",
     "height": 246
    },
    "colab_type": "code",
    "id": "wedpFyAb29ww",
    "outputId": "c5e093ae-ae5a-4b95-b198-752f3cfa4d8c"
   },
   "outputs": [
    {
     "data": {
      "text/plain": [
       "array([[0.3529412 , 0.74371856, 0.59016395, ..., 0.5007451 , 0.23441501,\n",
       "        0.48333332],\n",
       "       [0.05882353, 0.42713568, 0.5409836 , ..., 0.39642325, 0.11656704,\n",
       "        0.16666667],\n",
       "       [0.47058824, 0.919598  , 0.52459013, ..., 0.34724292, 0.25362936,\n",
       "        0.18333334],\n",
       "       ...,\n",
       "       [0.29411766, 0.6080402 , 0.59016395, ..., 0.390462  , 0.07130657,\n",
       "        0.15      ],\n",
       "       [0.05882353, 0.63316584, 0.4918033 , ..., 0.44858423, 0.11571307,\n",
       "        0.43333334],\n",
       "       [0.05882353, 0.46733668, 0.57377046, ..., 0.45305514, 0.10119555,\n",
       "        0.03333334]], dtype=float32)"
      ]
     },
     "execution_count": 39,
     "metadata": {
      "tags": []
     },
     "output_type": "execute_result"
    }
   ],
   "source": [
    "x_train = MinMaxScaler(x_train)\n",
    "x_train"
   ]
  },
  {
   "cell_type": "code",
   "execution_count": 0,
   "metadata": {
    "colab": {},
    "colab_type": "code",
    "id": "v4eABRlS29wz"
   },
   "outputs": [],
   "source": [
    "batch_size = x_train.shape[0]\n",
    "n_epoch = 1000\n",
    "learning_rate = 0.1"
   ]
  },
  {
   "cell_type": "code",
   "execution_count": 0,
   "metadata": {
    "colab": {},
    "colab_type": "code",
    "id": "Yn0USCV029w1"
   },
   "outputs": [],
   "source": [
    "dataset = tf.data.Dataset.from_tensor_slices((x_train, y_train)).shuffle(1000).batch(batch_size)"
   ]
  },
  {
   "cell_type": "code",
   "execution_count": 0,
   "metadata": {
    "colab": {},
    "colab_type": "code",
    "id": "Yg48I0Tb29w4"
   },
   "outputs": [],
   "source": [
    "w = tf.Variable(tf.random_normal_initializer()([8, 1]))\n",
    "# 8행 1열 매트릭스가 되야지 길이가 8짜리 x가 들어오면 곱할 수 있기 때문이다.\n",
    "# 그래서 8값에 입력의 길이를 보통 넣어주게 된다.\n",
    "\n",
    "b = tf.Variable(tf.random_normal_initializer()([1]))"
   ]
  },
  {
   "cell_type": "code",
   "execution_count": 0,
   "metadata": {
    "colab": {},
    "colab_type": "code",
    "id": "JOIcfyr129w8"
   },
   "outputs": [],
   "source": [
    "def logistic_regression(inputs):\n",
    "    hypothesis = tf.keras.activations.sigmoid(tf.matmul(inputs, w) + b)\n",
    "    return hypothesis"
   ]
  },
  {
   "cell_type": "code",
   "execution_count": 0,
   "metadata": {
    "colab": {},
    "colab_type": "code",
    "id": "B0t9mPYs29w-"
   },
   "outputs": [],
   "source": [
    "def loss_fn(inputs, labels):\n",
    "    hypothesis = logistic_regression(inputs)\n",
    "    loss = tf.reduce_mean(tf.keras.losses.binary_crossentropy(labels, hypothesis))\n",
    "    return loss"
   ]
  },
  {
   "cell_type": "code",
   "execution_count": 0,
   "metadata": {
    "colab": {},
    "colab_type": "code",
    "id": "hZbArAsk29xA"
   },
   "outputs": [],
   "source": [
    "def grad(inputs, labels):\n",
    "    hypothesis = logistic_regression(inputs)\n",
    "    with tf.GradientTape() as tape:\n",
    "        loss = loss_fn(inputs, labels)\n",
    "    grads = tape.gradient(loss, [w, b])\n",
    "    return grads"
   ]
  },
  {
   "cell_type": "code",
   "execution_count": 0,
   "metadata": {
    "colab": {},
    "colab_type": "code",
    "id": "YMCLD8_729xC"
   },
   "outputs": [],
   "source": [
    "def accuracy_fn(inputs, labels):\n",
    "    hypothesis = logistic_regression(inputs)\n",
    "    prediction = tf.cast(hypothesis > 0.5, dtype=tf.float32)\n",
    "    # true는 1.0, false는 0.0을 리턴해줄 것이다.\n",
    "    \n",
    "    accuracy = tf.reduce_mean(tf.cast(tf.equal(prediction, labels), dtype=tf.float32))\n",
    "    return accuracy"
   ]
  },
  {
   "cell_type": "code",
   "execution_count": 0,
   "metadata": {
    "colab": {},
    "colab_type": "code",
    "id": "JhZCX_0r29xE"
   },
   "outputs": [],
   "source": [
    "optimizer = tf.keras.optimizers.SGD(learning_rate=learning_rate)"
   ]
  },
  {
   "cell_type": "code",
   "execution_count": 0,
   "metadata": {
    "colab": {
     "base_uri": "https://localhost:8080/",
     "height": 1000
    },
    "colab_type": "code",
    "id": "EygAg7JG29xH",
    "outputId": "efdf669d-191f-4d48-b48e-92e0d35e72e5",
    "scrolled": false
   },
   "outputs": [
    {
     "name": "stdout",
     "output_type": "stream",
     "text": [
      "Epoch 10: 0.67067021\n",
      "Epoch 20: 0.66268939\n",
      "Epoch 30: 0.65868026\n",
      "Epoch 40: 0.65606815\n",
      "Epoch 50: 0.65396786\n",
      "Epoch 60: 0.65206867\n",
      "Epoch 70: 0.65026015\n",
      "Epoch 80: 0.64850199\n",
      "Epoch 90: 0.64677942\n",
      "Epoch 100: 0.64508677\n",
      "Epoch 110: 0.64342165\n",
      "Epoch 120: 0.64178276\n",
      "Epoch 130: 0.64016962\n",
      "Epoch 140: 0.63858140\n",
      "Epoch 150: 0.63701773\n",
      "Epoch 160: 0.63547802\n",
      "Epoch 170: 0.63396186\n",
      "Epoch 180: 0.63246888\n",
      "Epoch 190: 0.63099843\n",
      "Epoch 200: 0.62955028\n",
      "Epoch 210: 0.62812376\n",
      "Epoch 220: 0.62671870\n",
      "Epoch 230: 0.62533456\n",
      "Epoch 240: 0.62397087\n",
      "Epoch 250: 0.62262732\n",
      "Epoch 260: 0.62130350\n",
      "Epoch 270: 0.61999905\n",
      "Epoch 280: 0.61871356\n",
      "Epoch 290: 0.61744678\n",
      "Epoch 300: 0.61619812\n",
      "Epoch 310: 0.61496741\n",
      "Epoch 320: 0.61375433\n",
      "Epoch 330: 0.61255842\n",
      "Epoch 340: 0.61137944\n",
      "Epoch 350: 0.61021698\n",
      "Epoch 360: 0.60907078\n",
      "Epoch 370: 0.60794050\n",
      "Epoch 380: 0.60682589\n",
      "Epoch 390: 0.60572672\n",
      "Epoch 400: 0.60464257\n",
      "Epoch 410: 0.60357314\n",
      "Epoch 420: 0.60251826\n",
      "Epoch 430: 0.60147756\n",
      "Epoch 440: 0.60045081\n",
      "Epoch 450: 0.59943789\n",
      "Epoch 460: 0.59843826\n",
      "Epoch 470: 0.59745193\n",
      "Epoch 480: 0.59647858\n",
      "Epoch 490: 0.59551787\n",
      "Epoch 500: 0.59456968\n",
      "Epoch 510: 0.59363371\n",
      "Epoch 520: 0.59270978\n",
      "Epoch 530: 0.59179777\n",
      "Epoch 540: 0.59089726\n",
      "Epoch 550: 0.59000814\n",
      "Epoch 560: 0.58913022\n",
      "Epoch 570: 0.58826333\n",
      "Epoch 580: 0.58740717\n",
      "Epoch 590: 0.58656162\n",
      "Epoch 600: 0.58572656\n",
      "Epoch 610: 0.58490169\n",
      "Epoch 620: 0.58408684\n",
      "Epoch 630: 0.58328193\n",
      "Epoch 640: 0.58248663\n",
      "Epoch 650: 0.58170098\n",
      "Epoch 660: 0.58092457\n",
      "Epoch 670: 0.58015746\n",
      "Epoch 680: 0.57939935\n",
      "Epoch 690: 0.57865018\n",
      "Epoch 700: 0.57790965\n",
      "Epoch 710: 0.57717788\n",
      "Epoch 720: 0.57645446\n",
      "Epoch 730: 0.57573932\n",
      "Epoch 740: 0.57503241\n",
      "Epoch 750: 0.57433361\n",
      "Epoch 760: 0.57364255\n",
      "Epoch 770: 0.57295936\n",
      "Epoch 780: 0.57228380\n",
      "Epoch 790: 0.57161576\n",
      "Epoch 800: 0.57095510\n",
      "Epoch 810: 0.57030171\n",
      "Epoch 820: 0.56965548\n",
      "Epoch 830: 0.56901628\n",
      "Epoch 840: 0.56838399\n",
      "Epoch 850: 0.56775862\n",
      "Epoch 860: 0.56713992\n",
      "Epoch 870: 0.56652778\n",
      "Epoch 880: 0.56592220\n",
      "Epoch 890: 0.56532294\n",
      "Epoch 900: 0.56473005\n",
      "Epoch 910: 0.56414336\n",
      "Epoch 920: 0.56356275\n",
      "Epoch 930: 0.56298822\n",
      "Epoch 940: 0.56241953\n",
      "Epoch 950: 0.56185669\n",
      "Epoch 960: 0.56129956\n",
      "Epoch 970: 0.56074816\n",
      "Epoch 980: 0.56020230\n",
      "Epoch 990: 0.55966181\n",
      "Epoch 1000: 0.55912691\n"
     ]
    }
   ],
   "source": [
    "total_steps = int(x_train.shape[0]/batch_size)\n",
    "for epoch in range(n_epoch):\n",
    "    total_loss = 0.\n",
    "    for x, y in dataset: \n",
    "        grads = grad(x, y)        \n",
    "        optimizer.apply_gradients(grads_and_vars=zip(grads, [w, b]))\n",
    "        loss = loss_fn(x, y)\n",
    "        total_loss += loss / total_steps\n",
    "    if (epoch+1) % 10 == 0:\n",
    "        print('Epoch {0}: {1:.8f}'.format(epoch+1, total_loss))"
   ]
  },
  {
   "cell_type": "code",
   "execution_count": 0,
   "metadata": {
    "colab": {
     "base_uri": "https://localhost:8080/",
     "height": 34
    },
    "colab_type": "code",
    "id": "HazFS4t729xJ",
    "outputId": "76120730-4c1c-43e7-aa0b-39e16ff07bf1"
   },
   "outputs": [
    {
     "name": "stdout",
     "output_type": "stream",
     "text": [
      "Accuracy: 0.7200520634651184\n"
     ]
    }
   ],
   "source": [
    "print('Accuracy: {}'.format(accuracy_fn(x_train, y_train)))"
   ]
  },
  {
   "cell_type": "markdown",
   "metadata": {},
   "source": [
    "#### 9. tensorflow를 이용한 logistic regression 구현실습 2\n",
    "\n",
    "(MLP로 Classification 하는 모델구현)"
   ]
  },
  {
   "cell_type": "markdown",
   "metadata": {
    "colab_type": "text",
    "id": "GmMvJGddZODW"
   },
   "source": [
    "## Importing Libraries"
   ]
  },
  {
   "cell_type": "code",
   "execution_count": 0,
   "metadata": {
    "colab": {
     "base_uri": "https://localhost:8080/",
     "height": 52
    },
    "colab_type": "code",
    "id": "McaDIfAXZODY",
    "outputId": "726a051f-ccff-4357-aba1-68b2ef02787e"
   },
   "outputs": [
    {
     "name": "stdout",
     "output_type": "stream",
     "text": [
      "2.0.0-beta1\n",
      "2.2.4-tf\n"
     ]
    }
   ],
   "source": [
    "import tensorflow as tf\n",
    "from tensorflow import keras\n",
    "from tensorflow.keras.utils import to_categorical\n",
    "import numpy as np\n",
    "import matplotlib.pyplot as plt\n",
    "import os\n",
    "\n",
    "print(tf.__version__)\n",
    "print(keras.__version__)"
   ]
  },
  {
   "cell_type": "markdown",
   "metadata": {
    "colab_type": "text",
    "id": "SrP6j3RWZODa"
   },
   "source": [
    "## Enable Eager Mode"
   ]
  },
  {
   "cell_type": "code",
   "execution_count": 0,
   "metadata": {
    "colab": {},
    "colab_type": "code",
    "id": "E-3K1VKhZODb"
   },
   "outputs": [],
   "source": [
    "if tf.__version__ < '2.0.0':\n",
    "    tf.enable_eager_execution()"
   ]
  },
  {
   "cell_type": "markdown",
   "metadata": {
    "colab_type": "text",
    "id": "wWfEdB4gZODc"
   },
   "source": [
    "## Hyper Parameters"
   ]
  },
  {
   "cell_type": "code",
   "execution_count": 0,
   "metadata": {
    "colab": {},
    "colab_type": "code",
    "id": "gJXs_ny6ZODd"
   },
   "outputs": [],
   "source": [
    "learning_rate = 0.001\n",
    "training_epochs = 20\n",
    "batch_size = 100\n",
    "n_class = 10"
   ]
  },
  {
   "cell_type": "markdown",
   "metadata": {
    "colab_type": "text",
    "id": "jQlH52ObZODe"
   },
   "source": [
    "## MNIST/Fashion MNIST Data"
   ]
  },
  {
   "cell_type": "code",
   "execution_count": 0,
   "metadata": {
    "colab": {},
    "colab_type": "code",
    "id": "zdqU8iNUZODf"
   },
   "outputs": [],
   "source": [
    "## MNIST Dataset #########################################################\n",
    "mnist = keras.datasets.mnist\n",
    "class_names = ['0', '1', '2', '3', '4', '5', '6', '7', '8', '9']\n",
    "##########################################################################\n",
    "\n",
    "## Fashion MNIST Dataset #################################################\n",
    "#mnist = keras.datasets.fashion_mnist\n",
    "#class_names = ['T-shirt/top', 'Trouser', 'Pullover', 'Dress', 'Coat', 'Sandal', 'Shirt', 'Sneaker', 'Bag', 'Ankle boot']\n",
    "##########################################################################"
   ]
  },
  {
   "cell_type": "markdown",
   "metadata": {
    "colab_type": "text",
    "id": "71Z1bTQOZODg"
   },
   "source": [
    "## Datasets"
   ]
  },
  {
   "cell_type": "code",
   "execution_count": 0,
   "metadata": {
    "colab": {
     "base_uri": "https://localhost:8080/",
     "height": 52
    },
    "colab_type": "code",
    "id": "y7ZP6TcrZODh",
    "outputId": "088c5927-8270-47ba-c305-35563a413909"
   },
   "outputs": [
    {
     "name": "stdout",
     "output_type": "stream",
     "text": [
      "Downloading data from https://storage.googleapis.com/tensorflow/tf-keras-datasets/mnist.npz\n",
      "11493376/11490434 [==============================] - 0s 0us/step\n"
     ]
    }
   ],
   "source": [
    "(train_images, train_labels), (test_images, test_labels) = mnist.load_data()  "
   ]
  },
  {
   "cell_type": "code",
   "execution_count": 0,
   "metadata": {
    "colab": {
     "base_uri": "https://localhost:8080/",
     "height": 34
    },
    "colab_type": "code",
    "id": "pxbmzTAZZODj",
    "outputId": "cadd87e4-b129-4a06-8746-09f622d359f7"
   },
   "outputs": [
    {
     "data": {
      "text/plain": [
       "(numpy.ndarray, numpy.ndarray)"
      ]
     },
     "execution_count": 6,
     "metadata": {
      "tags": []
     },
     "output_type": "execute_result"
    }
   ],
   "source": [
    "type(train_images), type(train_labels)"
   ]
  },
  {
   "cell_type": "code",
   "execution_count": 0,
   "metadata": {
    "colab": {
     "base_uri": "https://localhost:8080/",
     "height": 34
    },
    "colab_type": "code",
    "id": "2u9eC9lFZODl",
    "outputId": "59b2ee73-e206-4b61-b765-316d00e1cc8e"
   },
   "outputs": [
    {
     "data": {
      "text/plain": [
       "((60000, 28, 28), (60000,))"
      ]
     },
     "execution_count": 7,
     "metadata": {
      "tags": []
     },
     "output_type": "execute_result"
    }
   ],
   "source": [
    "train_images.shape, train_labels.shape"
   ]
  },
  {
   "cell_type": "code",
   "execution_count": 0,
   "metadata": {
    "colab": {
     "base_uri": "https://localhost:8080/",
     "height": 34
    },
    "colab_type": "code",
    "id": "Tm2KzyoZZODm",
    "outputId": "52f95060-a3da-463c-807f-1a547a7cbafe"
   },
   "outputs": [
    {
     "data": {
      "text/plain": [
       "((10000, 28, 28), (10000,))"
      ]
     },
     "execution_count": 8,
     "metadata": {
      "tags": []
     },
     "output_type": "execute_result"
    }
   ],
   "source": [
    "test_images.shape, test_labels.shape"
   ]
  },
  {
   "cell_type": "code",
   "execution_count": 0,
   "metadata": {
    "colab": {},
    "colab_type": "code",
    "id": "sAZgMHuyZODp"
   },
   "outputs": [],
   "source": [
    "n_train = train_images.shape[0]\n",
    "n_test = test_images.shape[0]"
   ]
  },
  {
   "cell_type": "code",
   "execution_count": 0,
   "metadata": {
    "colab": {
     "base_uri": "https://localhost:8080/",
     "height": 286
    },
    "colab_type": "code",
    "id": "vjdarWSpZODr",
    "outputId": "3f690c75-c41f-4de3-9e7b-cc7a9e8c5c1c"
   },
   "outputs": [
    {
     "data": {
      "text/plain": [
       "<matplotlib.colorbar.Colorbar at 0x7f15c638b1d0>"
      ]
     },
     "execution_count": 10,
     "metadata": {
      "tags": []
     },
     "output_type": "execute_result"
    },
    {
     "data": {
      "image/png": "[encoded data removed]",
      "text/plain": [
       "<Figure size 432x288 with 2 Axes>"
      ]
     },
     "metadata": {
      "tags": []
     },
     "output_type": "display_data"
    }
   ],
   "source": [
    "plt.figure()\n",
    "plt.imshow(train_images[0], cmap=plt.cm.binary)\n",
    "plt.colorbar()"
   ]
  },
  {
   "cell_type": "code",
   "execution_count": 0,
   "metadata": {
    "colab": {
     "base_uri": "https://localhost:8080/",
     "height": 864
    },
    "colab_type": "code",
    "id": "_-NC8zdXZODt",
    "outputId": "e2306823-f43a-4378-9875-eea80d929af0"
   },
   "outputs": [
    {
     "data": {
      "image/png": "[encoded data removed]",
      "text/plain": [
       "<Figure size 1080x1080 with 25 Axes>"
      ]
     },
     "metadata": {
      "tags": []
     },
     "output_type": "display_data"
    }
   ],
   "source": [
    "plt.figure(figsize=(15,15))\n",
    "for i in range(25):\n",
    "    plt.subplot(5,5,i+1)\n",
    "    plt.xticks([])\n",
    "    plt.yticks([])\n",
    "    plt.grid(False)\n",
    "    plt.imshow(train_images[i], cmap=plt.cm.binary)\n",
    "    plt.xlabel(class_names[train_labels[i]])"
   ]
  },
  {
   "cell_type": "code",
   "execution_count": 0,
   "metadata": {
    "colab": {},
    "colab_type": "code",
    "id": "DkYP9MeAZODu"
   },
   "outputs": [],
   "source": [
    "train_images = train_images.astype(np.float32) / 255.\n",
    "test_images = test_images.astype(np.float32) / 255.\n",
    "    \n",
    "train_labels = to_categorical(train_labels, n_class)\n",
    "test_labels = to_categorical(test_labels, n_class)    \n",
    "    \n",
    "train_dataset = tf.data.Dataset.from_tensor_slices((train_images, train_labels)).shuffle(\n",
    "                buffer_size=100000).batch(batch_size)\n",
    "test_dataset = tf.data.Dataset.from_tensor_slices((test_images, test_labels)).batch(batch_size)"
   ]
  },
  {
   "cell_type": "markdown",
   "metadata": {
    "colab_type": "text",
    "id": "KPrLryuQZODw"
   },
   "source": [
    "## Model Function"
   ]
  },
  {
   "cell_type": "code",
   "execution_count": 0,
   "metadata": {
    "colab": {},
    "colab_type": "code",
    "id": "16Cv2i0IZODw"
   },
   "outputs": [],
   "source": [
    "def create_model():\n",
    "    model = keras.Sequential()\n",
    "    model.add(keras.layers.Flatten(input_shape=(28,28)))\n",
    "    model.add(keras.layers.Dense(10, kernel_initializer=tf.keras.initializers.RandomNormal(),\n",
    "                                activation='softmax'))    \n",
    "    return model"
   ]
  },
  {
   "cell_type": "code",
   "execution_count": 0,
   "metadata": {
    "colab": {
     "base_uri": "https://localhost:8080/",
     "height": 228
    },
    "colab_type": "code",
    "id": "UYx7r2jLZODy",
    "outputId": "1ea0607a-84eb-491a-c6d2-584058cd7908"
   },
   "outputs": [
    {
     "name": "stdout",
     "output_type": "stream",
     "text": [
      "Model: \"sequential\"\n",
      "_________________________________________________________________\n",
      "Layer (type)                 Output Shape              Param #   \n",
      "=================================================================\n",
      "flatten (Flatten)            (None, 784)               0         \n",
      "_________________________________________________________________\n",
      "dense (Dense)                (None, 10)                7850      \n",
      "=================================================================\n",
      "Total params: 7,850\n",
      "Trainable params: 7,850\n",
      "Non-trainable params: 0\n",
      "_________________________________________________________________\n"
     ]
    }
   ],
   "source": [
    "model = create_model()\n",
    "model.summary()"
   ]
  },
  {
   "cell_type": "markdown",
   "metadata": {
    "colab_type": "text",
    "id": "BFsk8NCWZOD0"
   },
   "source": [
    "## Loss Function"
   ]
  },
  {
   "cell_type": "code",
   "execution_count": 0,
   "metadata": {
    "colab": {},
    "colab_type": "code",
    "id": "bdfmtSFxZOD0"
   },
   "outputs": [],
   "source": [
    "def loss_fn(model, images, labels):\n",
    "    predictions = model(images, training=True)\n",
    "    loss = tf.reduce_mean(keras.losses.categorical_crossentropy(labels, predictions))   \n",
    "    return loss"
   ]
  },
  {
   "cell_type": "markdown",
   "metadata": {
    "colab_type": "text",
    "id": "JVrGPa9aZOD2"
   },
   "source": [
    "## Calculating Gradient & Updating Weights"
   ]
  },
  {
   "cell_type": "code",
   "execution_count": 0,
   "metadata": {
    "colab": {},
    "colab_type": "code",
    "id": "gohhnhRiZOD2"
   },
   "outputs": [],
   "source": [
    "def train(model, images, labels):\n",
    "    with tf.GradientTape() as tape:\n",
    "        loss = loss_fn(model, images, labels)\n",
    "    grads = tape.gradient(loss, model.trainable_variables)\n",
    "    optimizer.apply_gradients(zip(grads, model.trainable_variables))"
   ]
  },
  {
   "cell_type": "markdown",
   "metadata": {
    "colab_type": "text",
    "id": "3vw5P-WgZOD4"
   },
   "source": [
    "## Caculating Model's Accuracy"
   ]
  },
  {
   "cell_type": "code",
   "execution_count": 0,
   "metadata": {
    "colab": {},
    "colab_type": "code",
    "id": "z-iV8o-jZOD4"
   },
   "outputs": [],
   "source": [
    "def evaluate(model, images, labels):\n",
    "    predictions = model(images, training=False)\n",
    "    correct_prediction = tf.equal(tf.argmax(predictions, 1), tf.argmax(labels, 1))\n",
    "    accuracy = tf.reduce_mean(tf.cast(correct_prediction, tf.float32))    \n",
    "    return accuracy"
   ]
  },
  {
   "cell_type": "markdown",
   "metadata": {
    "colab_type": "text",
    "id": "PeD2D7zVZOD6"
   },
   "source": [
    "## Optimizer"
   ]
  },
  {
   "cell_type": "code",
   "execution_count": 0,
   "metadata": {
    "colab": {},
    "colab_type": "code",
    "id": "TCy6zpEFZOD8"
   },
   "outputs": [],
   "source": [
    "optimizer = tf.keras.optimizers.Adam(learning_rate=learning_rate)"
   ]
  },
  {
   "cell_type": "markdown",
   "metadata": {
    "colab_type": "text",
    "id": "6tft3QOGZOD-"
   },
   "source": [
    "## Training"
   ]
  },
  {
   "cell_type": "code",
   "execution_count": 0,
   "metadata": {
    "colab": {
     "base_uri": "https://localhost:8080/",
     "height": 494
    },
    "colab_type": "code",
    "id": "MfQqvfJqZOD_",
    "outputId": "0208ed29-c894-4575-b8fb-5b4463b7831d",
    "scrolled": false
   },
   "outputs": [
    {
     "name": "stdout",
     "output_type": "stream",
     "text": [
      "Learning started. It takes sometime.\n"
     ]
    },
    {
     "name": "stderr",
     "output_type": "stream",
     "text": [
      "WARNING: Logging before flag parsing goes to stderr.\n",
      "W0706 04:04:00.560467 139733226547072 deprecation.py:323] From /usr/local/lib/python3.6/dist-packages/tensorflow/python/ops/math_grad.py:1220: add_dispatch_support.<locals>.wrapper (from tensorflow.python.ops.array_ops) is deprecated and will be removed in a future version.\n",
      "Instructions for updating:\n",
      "Use tf.where in 2.0, which has the same broadcast rule as np.where\n"
     ]
    },
    {
     "name": "stdout",
     "output_type": "stream",
     "text": [
      "Epoch: 1 loss = 0.62537342 train accuracy =  0.8450 test accuracy =  0.9039\n",
      "Epoch: 2 loss = 0.34447038 train accuracy =  0.9061 test accuracy =  0.9140\n",
      "Epoch: 3 loss = 0.30790135 train accuracy =  0.9153 test accuracy =  0.9180\n",
      "Epoch: 4 loss = 0.29076752 train accuracy =  0.9192 test accuracy =  0.9222\n",
      "Epoch: 5 loss = 0.28040630 train accuracy =  0.9218 test accuracy =  0.9239\n",
      "Epoch: 6 loss = 0.27327609 train accuracy =  0.9237 test accuracy =  0.9250\n",
      "Epoch: 7 loss = 0.26795337 train accuracy =  0.9256 test accuracy =  0.9254\n",
      "Epoch: 8 loss = 0.26376852 train accuracy =  0.9266 test accuracy =  0.9252\n",
      "Epoch: 9 loss = 0.26036763 train accuracy =  0.9274 test accuracy =  0.9257\n",
      "Epoch: 10 loss = 0.25752684 train accuracy =  0.9283 test accuracy =  0.9261\n",
      "Epoch: 11 loss = 0.25509214 train accuracy =  0.9290 test accuracy =  0.9269\n",
      "Epoch: 12 loss = 0.25297555 train accuracy =  0.9298 test accuracy =  0.9274\n",
      "Epoch: 13 loss = 0.25111151 train accuracy =  0.9304 test accuracy =  0.9275\n",
      "Epoch: 14 loss = 0.24945579 train accuracy =  0.9311 test accuracy =  0.9274\n",
      "Epoch: 15 loss = 0.24797162 train accuracy =  0.9318 test accuracy =  0.9278\n",
      "Epoch: 16 loss = 0.24662957 train accuracy =  0.9323 test accuracy =  0.9277\n",
      "Epoch: 17 loss = 0.24539943 train accuracy =  0.9325 test accuracy =  0.9275\n",
      "Epoch: 18 loss = 0.24427384 train accuracy =  0.9329 test accuracy =  0.9273\n",
      "Epoch: 19 loss = 0.24323754 train accuracy =  0.9331 test accuracy =  0.9274\n",
      "Epoch: 20 loss = 0.24227658 train accuracy =  0.9334 test accuracy =  0.9273\n",
      "Learning Finished!\n"
     ]
    }
   ],
   "source": [
    "# train my model\n",
    "print('Learning started. It takes sometime.')\n",
    "for epoch in range(training_epochs):\n",
    "    avg_loss = 0.\n",
    "    avg_train_acc = 0.\n",
    "    avg_test_acc = 0.\n",
    "    train_step = 0\n",
    "    test_step = 0\n",
    "    \n",
    "    for images, labels in train_dataset:\n",
    "        train(model,images, labels)\n",
    "        loss = loss_fn(model, images, labels)\n",
    "        acc = evaluate(model, images, labels)        \n",
    "        avg_loss = avg_loss + loss\n",
    "        avg_train_acc = avg_train_acc + acc\n",
    "        train_step += 1\n",
    "    avg_loss = avg_loss / train_step\n",
    "    avg_train_acc = avg_train_acc / train_step\n",
    "    \n",
    "    for images, labels in test_dataset:        \n",
    "        acc = evaluate(model, images, labels)        \n",
    "        avg_test_acc = avg_test_acc + acc\n",
    "        test_step += 1    \n",
    "    avg_test_acc = avg_test_acc / test_step    \n",
    "\n",
    "    print('Epoch:', '{}'.format(epoch + 1), 'loss =', '{:.8f}'.format(avg_loss), \n",
    "          'train accuracy = ', '{:.4f}'.format(avg_train_acc), \n",
    "          'test accuracy = ', '{:.4f}'.format(avg_test_acc))\n",
    "\n",
    "\n",
    "print('Learning Finished!')"
   ]
  },
  {
   "cell_type": "code",
   "execution_count": 0,
   "metadata": {
    "colab": {},
    "colab_type": "code",
    "id": "CrBbaj-ZZOEB"
   },
   "outputs": [],
   "source": [
    "def plot_image(i, predictions_array, true_label, img):\n",
    "    predictions_array, true_label, img = predictions_array[i], true_label[i], img[i]\n",
    "    plt.grid(False)\n",
    "    plt.xticks([])\n",
    "    plt.yticks([])\n",
    "\n",
    "    plt.imshow(img,cmap=plt.cm.binary)\n",
    "\n",
    "    predicted_label = np.argmax(predictions_array)\n",
    "    if predicted_label == true_label:\n",
    "        color = 'blue'\n",
    "    else:\n",
    "        color = 'red'\n",
    "\n",
    "    plt.xlabel(\"{} {:2.0f}% ({})\".format(class_names[predicted_label],\n",
    "                                100*np.max(predictions_array),\n",
    "                                class_names[true_label]),\n",
    "                                color=color)\n",
    "\n",
    "def plot_value_array(i, predictions_array, true_label):\n",
    "    predictions_array, true_label = predictions_array[i], true_label[i]\n",
    "    plt.grid(False)\n",
    "    #plt.xticks([])\n",
    "    plt.xticks(range(n_class), class_names, rotation=90)\n",
    "    plt.yticks([])\n",
    "    thisplot = plt.bar(range(n_class), predictions_array, color=\"#777777\")\n",
    "    plt.ylim([0, 1]) \n",
    "    predicted_label = np.argmax(predictions_array)\n",
    " \n",
    "    thisplot[predicted_label].set_color('red')\n",
    "    thisplot[true_label].set_color('blue')"
   ]
  },
  {
   "cell_type": "code",
   "execution_count": 0,
   "metadata": {
    "colab": {
     "base_uri": "https://localhost:8080/",
     "height": 1000
    },
    "colab_type": "code",
    "id": "oc8eXrk-ZOEC",
    "outputId": "73404f73-6276-4d71-9b1c-748cf5316b4d",
    "scrolled": true
   },
   "outputs": [
    {
     "data": {
      "image/png": "[encoded data removed]",
      "text/plain": [
       "<Figure size 1296x1440 with 30 Axes>"
      ]
     },
     "metadata": {
      "tags": []
     },
     "output_type": "display_data"
    }
   ],
   "source": [
    "rnd_idx = np.random.randint(1, n_test//batch_size)\n",
    "img_cnt = 0\n",
    "for images, labels in test_dataset:\n",
    "    img_cnt += 1\n",
    "    if img_cnt != rnd_idx:\n",
    "        continue\n",
    "    predictions = model(images, training=False)\n",
    "    num_rows = 5\n",
    "    num_cols = 3\n",
    "    num_images = num_rows*num_cols\n",
    "    labels = tf.argmax(labels, axis=-1)\n",
    "    plt.figure(figsize=(3*2*num_cols, 4*num_rows))\n",
    "    plt.subplots_adjust(hspace=1.0)\n",
    "    for i in range(num_images):\n",
    "        plt.subplot(num_rows, 2*num_cols, 2*i+1)\n",
    "        plot_image(i, predictions.numpy(), labels.numpy(), images.numpy())\n",
    "        plt.subplot(num_rows, 2*num_cols, 2*i+2)\n",
    "        plot_value_array(i, predictions.numpy(), labels.numpy())        \n",
    "    break"
   ]
  }
 ],
 "metadata": {
  "kernelspec": {
   "display_name": "Python 3",
   "language": "python",
   "name": "python3"
  },
  "language_info": {
   "codemirror_mode": {
    "name": "ipython",
    "version": 3
   },
   "file_extension": ".py",
   "mimetype": "text/x-python",
   "name": "python",
   "nbconvert_exporter": "python",
   "pygments_lexer": "ipython3",
   "version": "3.7.4"
  }
 },
 "nbformat": 4,
 "nbformat_minor": 2
}
