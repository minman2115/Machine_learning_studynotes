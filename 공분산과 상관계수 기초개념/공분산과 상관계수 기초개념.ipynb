{
 "cells": [
  {
   "cell_type": "markdown",
   "metadata": {},
   "source": [
    "#### 그림, 실습코드 등 학습자료 출처 : https://datascienceschool.net\n",
    "\n",
    "#### 1. 공분산과 상관계수"
   ]
  },
  {
   "cell_type": "markdown",
   "metadata": {},
   "source": [
    "<img src=\"1.jpg\" width=\"1000\" />"
   ]
  },
  {
   "cell_type": "markdown",
   "metadata": {},
   "source": [
    "#### 2. 확률변수의 공분산과 상관계수"
   ]
  },
  {
   "cell_type": "markdown",
   "metadata": {},
   "source": [
    "<img src=\"2.jpg\" width=\"1000\" />"
   ]
  },
  {
   "cell_type": "markdown",
   "metadata": {},
   "source": [
    "상관계수로 분포의 형상을 추측할 때 주의할 점은 개별 자료가 상관계수에 미치는 영향력이 각각 다르다는 점이다. 다음은 Frank Anscombe의 논문에 예시된 자료로 서로 다른 4종류의 2차원 데이터셋을 포함하는데 4종류 데이터셋 모두 상관계수가 약 0.816로 동일하다."
   ]
  },
  {
   "cell_type": "code",
   "execution_count": 1,
   "metadata": {},
   "outputs": [
    {
     "data": {
      "image/png": "[encoded data removed]",
      "text/plain": [
       "<Figure size 432x288 with 4 Axes>"
      ]
     },
     "metadata": {
      "needs_background": "light"
     },
     "output_type": "display_data"
    }
   ],
   "source": [
    "%matplotlib inline\n",
    "\n",
    "data = sm.datasets.get_rdataset(\"anscombe\")\n",
    "df = data.data\n",
    "df[[\"x1\", \"y1\", \"x2\", \"y2\", \"x3\", \"y1\", \"x4\", \"y4\"]]\n",
    "\n",
    "plt.subplot(221)\n",
    "sns.regplot(x=\"x1\", y=\"y1\", data=df)\n",
    "plt.subplot(222)\n",
    "sns.regplot(x=\"x2\", y=\"y2\", data=df)\n",
    "plt.subplot(223)\n",
    "sns.regplot(x=\"x3\", y=\"y3\", data=df)\n",
    "plt.subplot(224)\n",
    "sns.regplot(x=\"x4\", y=\"y4\", data=df)\n",
    "plt.tight_layout()\n",
    "plt.subplots_adjust(top=0.9)\n",
    "plt.suptitle(\"Anscombe's data\")\n",
    "plt.show()"
   ]
  },
  {
   "cell_type": "markdown",
   "metadata": {},
   "source": [
    "첫번째 데이터셋은 우리가 통상적으로 많이 볼 수 있는 데이터 세트라고 할 수 있다. 그러나 두번째 데이터셋은 비선형으로 완벽한 상관관계를 가진다. 즉 x값을 알면 y값을 완벽하게 알 수 있다. 하지만 상관계수는 약 0.816으로 1인 아닌 값을 가진다. 즉, 상관계수는 비선형 상관관계를 표현하지 못한다.\n",
    "\n",
    "세번째 데이터셋과 네번째 데이터 세트에서 볼 수 있듯이 나머지 데이터의 상관계수가 1 또는 0인 경우에도 단 하나의 outlier 데이터에 의해 상관계수가 크게 달라질 수 있다.\n",
    "\n",
    "#### 3. 다변수 확률변수의 표본공분산"
   ]
  },
  {
   "cell_type": "markdown",
   "metadata": {},
   "source": [
    "<img src=\"3.jpg\" width=\"1000\" />"
   ]
  },
  {
   "cell_type": "markdown",
   "metadata": {},
   "source": [
    "<img src=\"4.jpg\" width=\"1000\" />"
   ]
  },
  {
   "cell_type": "markdown",
   "metadata": {},
   "source": [
    "<img src=\"5.jpg\" width=\"1000\" />"
   ]
  },
  {
   "cell_type": "markdown",
   "metadata": {},
   "source": [
    "#### 4. 다변수 확률변수의 공분산\n",
    "\n",
    "다변수 확률변수의 이론적 공분산 행렬은 시그마로 표기하며 아래와 같이 정의할 수 있다.\n",
    "\n",
    "$$\\ \\begin{eqnarray}\n",
    "\\Sigma \n",
    "&=& \\text{Cov}[X] \\\\\n",
    "&=& \\text{E} \\left[ (X - \\text{E}[X])(X - \\text{E}[X])^T \\right] \\\\\n",
    "&=& \\text{E} \n",
    "\\left[ \n",
    "\\begin{bmatrix}\n",
    "X_1 - \\text{E}[X_1] \\\\\n",
    "X_2 - \\text{E}[X_2] \\\\\n",
    "\\vdots \\\\\n",
    "X_M - \\text{E}[X_M] \\\\\n",
    "\\end{bmatrix}\n",
    "\\begin{bmatrix}\n",
    "X_1 - \\text{E}[X_1] &\n",
    "X_2 - \\text{E}[X_2] &\n",
    "\\cdots &\n",
    "X_M - \\text{E}[X_M]\n",
    "\\end{bmatrix}\n",
    "\\right] \\\\\n",
    "&=&\n",
    "\\text{E} \n",
    "\\begin{bmatrix}\n",
    "(X_1 - \\text{E}[X_1])^2 & (X_1 - \\text{E}[X_1])(X_2 - \\text{E}[X_2]) & \\cdots & (X_1 - \\text{E}[X_1])(X_M - \\text{E}[X_M]) \\\\\n",
    "(X_1 - \\text{E}[X_1])(X_2 - \\text{E}[X_2]) & (X_2 - \\text{E}[X_2])^2 & \\cdots & (X_2 - \\text{E}[X_2])(X_M - \\text{E}[X_M]) \\\\\n",
    "\\vdots &  \\vdots  & \\ddots &  \\vdots  \\\\\n",
    "(X_1 - \\text{E}[X_1])(X_M - \\text{E}[X_M]) & (X_2 - \\text{E}[X_2])(X_M - \\text{E}[X_M]) & \\cdots & (X_M - \\text{E}[X_M])^2 \\end{bmatrix}\n",
    "\\\\\n",
    "&=&\n",
    "\\begin{bmatrix}\n",
    "\\sigma_{x_1}^2  &  \\sigma_{x_1x_2} &  \\sigma_{x_1x_3} &  \\cdots &  \\sigma_{x_1x_M} \\\\\n",
    "\\sigma_{x_1x_2} &  \\sigma_{x_2}^2  &  \\sigma_{x_2x_3} &  \\cdots &  \\sigma_{x_2x_M} \\\\\n",
    "\\vdots          &  \\vdots          &  \\vdots          &  \\ddots &  \\vdots          \\\\\n",
    "\\sigma_{x_1x_M} &  \\sigma_{x_2x_M} &  \\sigma_{x_3x_M} &  \\cdots &  \\sigma_{x_M}^2 \\\\\n",
    "\\end{bmatrix}\n",
    "\\end{eqnarray} $$"
   ]
  }
 ],
 "metadata": {
  "kernelspec": {
   "display_name": "Python 3",
   "language": "python",
   "name": "python3"
  },
  "language_info": {
   "codemirror_mode": {
    "name": "ipython",
    "version": 3
   },
   "file_extension": ".py",
   "mimetype": "text/x-python",
   "name": "python",
   "nbconvert_exporter": "python",
   "pygments_lexer": "ipython3",
   "version": "3.7.3"
  }
 },
 "nbformat": 4,
 "nbformat_minor": 2
}
