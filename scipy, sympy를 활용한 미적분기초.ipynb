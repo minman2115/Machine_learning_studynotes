{
 "cells": [
  {
   "cell_type": "markdown",
   "metadata": {},
   "source": [
    "#### 그림, 실습코드 등 학습자료 출처 : https://datascienceschool.net"
   ]
  },
  {
   "cell_type": "markdown",
   "metadata": {},
   "source": [
    "# 미분"
   ]
  },
  {
   "cell_type": "code",
   "execution_count": 1,
   "metadata": {},
   "outputs": [],
   "source": [
    "import sympy\n",
    "from scipy.misc import derivative\n",
    "sympy.init_printing(use_latex='mathjax')"
   ]
  },
  {
   "cell_type": "markdown",
   "metadata": {},
   "source": [
    "### 기본 미분공식\n",
    "1. $\\ x^3$ -> 미분 -> $\\ 3x^2 $\n",
    "\n",
    "\n",
    "2. $\\ x^2 $ -> 미분 -> 2x\n",
    "\n",
    "\n",
    "3. x -> 미분 -> 1\n",
    "\n",
    "\n",
    "4. 상수 -> 미분 -> 0\n",
    "\n",
    "\n",
    "5. $\\ x^{-1} $ -> 미분 -> $\\ \\dfrac{1}{x^2} $\n",
    "\n",
    "\n",
    "6. $\\ x^{-2} $ -> 미분 -> $\\ \\dfrac{2}{x^3} $\n",
    "\n",
    "\n",
    "7. log x -> 미분 -> $\\ \\dfrac{1}{x} $\n",
    "\n",
    "\n",
    "8. exp -> 미분 -> exp"
   ]
  },
  {
   "cell_type": "markdown",
   "metadata": {},
   "source": [
    "### 연쇄법칙의 예 : 로그함수의 미분\n",
    "로그 함수에 연쇄법칙을 적용하면 다음과 같은 규칙을 얻을 수 있다.\n",
    "\n",
    "$\\ \\dfrac{d}{dx} \\log f(x) = \\dfrac{f'(x)}{f(x)} $"
   ]
  },
  {
   "cell_type": "markdown",
   "metadata": {},
   "source": [
    "## 6.1.6 다음 함수를 미분하시오.\n",
    " - 이식에서 k, a, b는 변수가 아니라 상수임"
   ]
  },
  {
   "cell_type": "markdown",
   "metadata": {},
   "source": [
    "1. $\\ f(x) = x^3 - 1 $"
   ]
  },
  {
   "cell_type": "code",
   "execution_count": 40,
   "metadata": {},
   "outputs": [
    {
     "data": {
      "text/latex": [
       "$$3 x^{2}$$"
      ],
      "text/plain": [
       "   2\n",
       "3⋅x "
      ]
     },
     "execution_count": 40,
     "metadata": {},
     "output_type": "execute_result"
    }
   ],
   "source": [
    "f2 = x**3 -1\n",
    "sympy.diff(f2)"
   ]
  },
  {
   "cell_type": "markdown",
   "metadata": {},
   "source": [
    "2. $\\ f(x) = \\log (x^{2}-3k) $"
   ]
  },
  {
   "cell_type": "code",
   "execution_count": 41,
   "metadata": {},
   "outputs": [
    {
     "data": {
      "text/latex": [
       "$$\\frac{2 x}{- 3 k + x^{2}}$$"
      ],
      "text/plain": [
       "   2⋅x   \n",
       "─────────\n",
       "        2\n",
       "-3⋅k + x "
      ]
     },
     "execution_count": 41,
     "metadata": {},
     "output_type": "execute_result"
    }
   ],
   "source": [
    "x, k = sympy.symbols('x k')\n",
    "f3 = sympy.log(x**2-3*k)\n",
    "sympy.diff(f3, x)"
   ]
  },
  {
   "cell_type": "markdown",
   "metadata": {},
   "source": [
    "3. $\\ f(x) =\\exp({ax^b}) $"
   ]
  },
  {
   "cell_type": "code",
   "execution_count": 38,
   "metadata": {},
   "outputs": [
    {
     "data": {
      "text/latex": [
       "$$\\frac{a b}{x} x^{b} e^{a x^{b}}$$"
      ],
      "text/plain": [
       "           b\n",
       "     b  a⋅x \n",
       "a⋅b⋅x ⋅ℯ    \n",
       "────────────\n",
       "     x      "
      ]
     },
     "execution_count": 38,
     "metadata": {},
     "output_type": "execute_result"
    }
   ],
   "source": [
    "a,b,x = sympy.symbols('a b x')\n",
    "f4 = sympy.exp(a*x**b)\n",
    "sympy.diff(f4, x)"
   ]
  },
  {
   "cell_type": "markdown",
   "metadata": {},
   "source": [
    "step1) $\\ f(g(x)) $ 형태임을 파악할 수 있다.\n",
    "\n",
    "step2) $\\ f(g(x)) $ = $\\ f'(g(x)) * g'(x) $ 임을 알 수 있다.\n",
    "\n",
    "step3) $\\ \\exp({ax^b}) $ * $\\ bax^{b-1} $ 을 구할 수 있다."
   ]
  },
  {
   "cell_type": "markdown",
   "metadata": {},
   "source": [
    "3. $\\ f = \\exp \\dfrac{(x-\\mu)^2}{\\sigma^2} $"
   ]
  },
  {
   "cell_type": "code",
   "execution_count": 42,
   "metadata": {},
   "outputs": [
    {
     "data": {
      "text/latex": [
       "$$\\frac{1}{\\sigma^{2}} \\left(- 2 \\mu + 2 x\\right) e^{\\frac{1}{\\sigma^{2}} \\left(- \\mu + x\\right)^{2}}$$"
      ],
      "text/plain": [
       "                      2\n",
       "              (-μ + x) \n",
       "              ─────────\n",
       "                   2   \n",
       "                  σ    \n",
       "(-2⋅μ + 2⋅x)⋅ℯ         \n",
       "───────────────────────\n",
       "            2          \n",
       "           σ           "
      ]
     },
     "execution_count": 42,
     "metadata": {},
     "output_type": "execute_result"
    }
   ],
   "source": [
    "s,m = sympy.symbols('sigma mu')\n",
    "f5 = sympy.exp( (x-m)**2 / s**2 )\n",
    "sympy.diff(f5,x)"
   ]
  },
  {
   "cell_type": "markdown",
   "metadata": {},
   "source": [
    "step1) $\\ f = \\exp(z) \\;,\\;\\;\\;\\; z = \\dfrac{y^2}{\\sigma^2}   \\;,\\;\\;\\;\\;   y = x-\\mu $ 형태임을 파악할 수 있다.\n",
    "\n",
    "step2) 연쇄법칙을 적용해서 다음과 같은 형태로 계산할 것이다.\n",
    "\n",
    "$\\ \\dfrac{df}{dx} = \\dfrac{df}{dz} \\cdot \\dfrac{dz}{dy} \\cdot \\dfrac{dy}{dx} $\n",
    "\n",
    "step3) f,z,y를 아래와 같이 쪼갤 수 있다.\n",
    "\n",
    "$\\ \\dfrac{df}{dz} = \\exp(z) = \\exp \\dfrac{(x-\\mu)^2}{\\sigma^2} $\n",
    "\n",
    "$\\ \\dfrac{dz}{dy} =  \\dfrac{2y}{\\sigma^2} = \\dfrac{2(x-\\mu)}{\\sigma^2} $\n",
    "\n",
    "$\\ \\dfrac{dy}{dx} =  1 $\n",
    "\n",
    "step4)최종적으로 아래와 같은 도함수를 구할 수 있다.\n",
    "\n",
    "$\\ \\dfrac{df}{dx} =  \\dfrac{2(x-\\mu)}{\\sigma^2} \\exp \\dfrac{(x-\\mu)^2}{\\sigma^2} $"
   ]
  },
  {
   "cell_type": "markdown",
   "metadata": {},
   "source": [
    "## 6.1.7 미분 구하기\n",
    " - 다음 함수에 대한 1차/2차 편미분 $\\ f_x $ ,$\\ f_y $, $\\ f_{xx} $, $\\ f_{yy} $ , $\\ f_{xy} $, $\\ f_{yx} $ 를 구하라\n"
   ]
  },
  {
   "cell_type": "markdown",
   "metadata": {},
   "source": [
    "$\\ f(x, y) = \\exp{(x^2 + 2y^2)} $"
   ]
  },
  {
   "cell_type": "markdown",
   "metadata": {},
   "source": [
    "1. $\\ f_x $"
   ]
  },
  {
   "cell_type": "code",
   "execution_count": 43,
   "metadata": {},
   "outputs": [
    {
     "data": {
      "text/latex": [
       "$$2 x e^{x^{2} + 2 y^{2}}$$"
      ],
      "text/plain": [
       "      2      2\n",
       "     x  + 2⋅y \n",
       "2⋅x⋅ℯ         "
      ]
     },
     "execution_count": 43,
     "metadata": {},
     "output_type": "execute_result"
    }
   ],
   "source": [
    "x, y = sympy.symbols('x y')\n",
    "f = sympy.exp(x**2 + 2*y**2)\n",
    "sympy.diff(f,x)"
   ]
  },
  {
   "cell_type": "markdown",
   "metadata": {},
   "source": [
    "2. $\\ f_y $"
   ]
  },
  {
   "cell_type": "code",
   "execution_count": 44,
   "metadata": {},
   "outputs": [
    {
     "data": {
      "text/latex": [
       "$$4 y e^{x^{2} + 2 y^{2}}$$"
      ],
      "text/plain": [
       "      2      2\n",
       "     x  + 2⋅y \n",
       "4⋅y⋅ℯ         "
      ]
     },
     "execution_count": 44,
     "metadata": {},
     "output_type": "execute_result"
    }
   ],
   "source": [
    "sympy.diff(f,y)"
   ]
  },
  {
   "cell_type": "markdown",
   "metadata": {},
   "source": [
    "2. $\\ f_{xx} $"
   ]
  },
  {
   "cell_type": "code",
   "execution_count": 48,
   "metadata": {},
   "outputs": [
    {
     "data": {
      "text/latex": [
       "$$\\left(4 x^{2} + 2\\right) e^{x^{2} + 2 y^{2}}$$"
      ],
      "text/plain": [
       "             2      2\n",
       "⎛   2    ⎞  x  + 2⋅y \n",
       "⎝4⋅x  + 2⎠⋅ℯ         "
      ]
     },
     "execution_count": 48,
     "metadata": {},
     "output_type": "execute_result"
    }
   ],
   "source": [
    "sympy.simplify(sympy.diff(f,x,x))"
   ]
  },
  {
   "cell_type": "markdown",
   "metadata": {},
   "source": [
    "3. $\\ f_{xy} $"
   ]
  },
  {
   "cell_type": "code",
   "execution_count": 49,
   "metadata": {},
   "outputs": [
    {
     "data": {
      "text/latex": [
       "$$8 x y e^{x^{2} + 2 y^{2}}$$"
      ],
      "text/plain": [
       "        2      2\n",
       "       x  + 2⋅y \n",
       "8⋅x⋅y⋅ℯ         "
      ]
     },
     "execution_count": 49,
     "metadata": {},
     "output_type": "execute_result"
    }
   ],
   "source": [
    "sympy.diff(f,x,y)"
   ]
  },
  {
   "cell_type": "markdown",
   "metadata": {},
   "source": [
    "4. $\\ f_{yx} $"
   ]
  },
  {
   "cell_type": "code",
   "execution_count": 51,
   "metadata": {},
   "outputs": [
    {
     "data": {
      "text/latex": [
       "$$8 x y e^{x^{2} + 2 y^{2}}$$"
      ],
      "text/plain": [
       "        2      2\n",
       "       x  + 2⋅y \n",
       "8⋅x⋅y⋅ℯ         "
      ]
     },
     "execution_count": 51,
     "metadata": {},
     "output_type": "execute_result"
    }
   ],
   "source": [
    "sympy.diff(f,y,x)"
   ]
  },
  {
   "cell_type": "markdown",
   "metadata": {},
   "source": [
    "5. $\\ f_{yy} $"
   ]
  },
  {
   "cell_type": "code",
   "execution_count": 53,
   "metadata": {},
   "outputs": [
    {
     "data": {
      "text/latex": [
       "$$4 \\left(4 y^{2} + 1\\right) e^{x^{2} + 2 y^{2}}$$"
      ],
      "text/plain": [
       "               2      2\n",
       "  ⎛   2    ⎞  x  + 2⋅y \n",
       "4⋅⎝4⋅y  + 1⎠⋅ℯ         "
      ]
     },
     "execution_count": 53,
     "metadata": {},
     "output_type": "execute_result"
    }
   ],
   "source": [
    "sympy.diff(f,y,y)"
   ]
  },
  {
   "cell_type": "markdown",
   "metadata": {},
   "source": [
    "6. $\\ f_{xx} $"
   ]
  },
  {
   "cell_type": "code",
   "execution_count": 54,
   "metadata": {},
   "outputs": [
    {
     "data": {
      "text/latex": [
       "$$2 \\left(2 x^{2} + 1\\right) e^{x^{2} + 2 y^{2}}$$"
      ],
      "text/plain": [
       "               2      2\n",
       "  ⎛   2    ⎞  x  + 2⋅y \n",
       "2⋅⎝2⋅x  + 1⎠⋅ℯ         "
      ]
     },
     "execution_count": 54,
     "metadata": {},
     "output_type": "execute_result"
    }
   ],
   "source": [
    "sympy.diff(f,x,x)"
   ]
  },
  {
   "cell_type": "markdown",
   "metadata": {},
   "source": [
    "step1) $\\ 2 x e^{x^{2} + 2 y^{2}} $ 를 미분하면 된다.\n",
    "\n",
    "step2) $\\ 2 x e^{x^{2} + 2 y^{2}} $ 는 2x * $\\ e^{x^{2} + 2 y^{2}} $ 형태이다\n",
    "\n",
    "step3) 이는 2x * $\\ f(g(x)) $ 형태이다.\n",
    "\n",
    "step4) 따라서 곱셈법칙을 적용하여 아래와 같이 표현할 수 있다.\n",
    "\n",
    "2  *  $\\ e^{x^{2} + 2 y^{2}} $ + $\\ e^{x^{2} + 2 y^{2}} $ $\\ *  2x  $\n",
    "\n",
    "step5) 위 식에서 +를 기준으로 오른쪽에 $\\ e^{x^{2} + 2 y^{2}} $ $\\ *  2x  $ 에서 $\\ e^{x^{2} + 2 y^{2}} $ 을 미분해야 한다. 미분한 결과는 아래와 같다.\n",
    "\n",
    "$\\ 2x *  $ $\\ e^{x^{2} + 2 y^{2}} $ $\\ *  2x  $\n",
    "\n",
    "step6) 따라서 step4)에서 곱셈법칙을 적용한 식을 아래와 같이 표현할 수 있다.\n",
    "\n",
    "2  *  $\\ e^{x^{2} + 2 y^{2}} $ + $\\ 4x^2e^{x^{2} + 2 y^{2}} $\n",
    "\n",
    "step7) 소인수 분해하면 위와 같은 정답이 나온다."
   ]
  },
  {
   "cell_type": "markdown",
   "metadata": {},
   "source": [
    "# 적분"
   ]
  },
  {
   "cell_type": "markdown",
   "metadata": {},
   "source": [
    "- 적분의 표기는 아래와 같다.\n",
    "\n",
    "$\\ \\dfrac{dF(x)}{dx} = f(x) \\;\\;\\leftrightarrow\\;\\; F(x) = \\int_{}^{} f(x) dx + C $\n",
    "\n",
    "여기서 C는 상수항을 말하고 생략가능하다. 너무나도 당연하기 때문에"
   ]
  },
  {
   "cell_type": "markdown",
   "metadata": {},
   "source": [
    "## 6.1.10 다음 부정적분을 구하시오."
   ]
  },
  {
   "cell_type": "markdown",
   "metadata": {},
   "source": [
    "1. $\\ \\int 3x^2 dx $"
   ]
  },
  {
   "cell_type": "code",
   "execution_count": 57,
   "metadata": {},
   "outputs": [
    {
     "data": {
      "text/latex": [
       "$$x^{3}$$"
      ],
      "text/plain": [
       " 3\n",
       "x "
      ]
     },
     "execution_count": 57,
     "metadata": {},
     "output_type": "execute_result"
    }
   ],
   "source": [
    "f = 3*x**2\n",
    "sympy.integrate(f, x)"
   ]
  },
  {
   "cell_type": "markdown",
   "metadata": {},
   "source": [
    "2. $\\ \\int (3x^2 - 6x + 1)dx $"
   ]
  },
  {
   "cell_type": "code",
   "execution_count": 58,
   "metadata": {},
   "outputs": [
    {
     "data": {
      "text/latex": [
       "$$x^{3} - 3 x^{2} + x$$"
      ],
      "text/plain": [
       " 3      2    \n",
       "x  - 3⋅x  + x"
      ]
     },
     "execution_count": 58,
     "metadata": {},
     "output_type": "execute_result"
    }
   ],
   "source": [
    "f = 3*x**2 - 6*x + 1\n",
    "sympy.integrate(f,x)"
   ]
  },
  {
   "cell_type": "markdown",
   "metadata": {},
   "source": [
    "3. $\\ \\int \\left( 2 + 6x + 4\\exp(x) + \\dfrac{5}{x} \\right) dx $"
   ]
  },
  {
   "cell_type": "code",
   "execution_count": 59,
   "metadata": {},
   "outputs": [
    {
     "data": {
      "text/latex": [
       "$$3 x^{2} + 2 x + 4 e^{x} + 5 \\log{\\left (x \\right )}$$"
      ],
      "text/plain": [
       "   2            x           \n",
       "3⋅x  + 2⋅x + 4⋅ℯ  + 5⋅log(x)"
      ]
     },
     "execution_count": 59,
     "metadata": {},
     "output_type": "execute_result"
    }
   ],
   "source": [
    "f = 2 + 6*x + 4*sympy.exp(x) + 5/x\n",
    "sympy.integrate(f,x)"
   ]
  },
  {
   "cell_type": "markdown",
   "metadata": {},
   "source": [
    "4. $\\ \\int \\frac{2x}{x^2 - 1} dx $"
   ]
  },
  {
   "cell_type": "code",
   "execution_count": 9,
   "metadata": {},
   "outputs": [
    {
     "data": {
      "text/latex": [
       "$$\\log{\\left (x^{2} - 1 \\right )}$$"
      ],
      "text/plain": [
       "   ⎛ 2    ⎞\n",
       "log⎝x  - 1⎠"
      ]
     },
     "execution_count": 9,
     "metadata": {},
     "output_type": "execute_result"
    }
   ],
   "source": [
    "f = 2*x / (x**2 - 1)\n",
    "sympy.integrate(f,x)"
   ]
  },
  {
   "cell_type": "markdown",
   "metadata": {},
   "source": [
    "- 편미분의 부정적분\n",
    "\n",
    "만약 $\\ f(x, y) $ 가 함수 $\\ F_1(x, y) $를 x로 편미분한 함수였다면 이 함수를 찾는 식은 다음과 같다.\n",
    "\n",
    "$\\ \\dfrac{\\partial F_1(x, y)}{\\partial x} = f(x, y) \\; \\leftrightarrow \\; F_1(x, y) = \\int_{}^{} f(x, y) dx + C(y) $\n",
    "\n",
    "마찬가지로 $\\ f(x, y) $ 가 함수 $\\ F_2(x, y) $를 y로 편미분한 함수였다면 이 함수를 찾는 식은 다음과 같다.\n",
    "\n",
    "$\\ \\dfrac{\\partial F_2(x, y)}{\\partial y} = f(x, y) \\; \\leftrightarrow \\; F_2(x, y) = \\int_{}^{} f(x, y) dy + C(x) \\\\ $"
   ]
  },
  {
   "cell_type": "markdown",
   "metadata": {},
   "source": [
    "## 6.1.11 다음 부정적분을 구하시오."
   ]
  },
  {
   "cell_type": "markdown",
   "metadata": {},
   "source": [
    "1. $\\ \\int \\left( 1 + xy \\right) dx $"
   ]
  },
  {
   "cell_type": "markdown",
   "metadata": {},
   "source": [
    "x로 적분했을때"
   ]
  },
  {
   "cell_type": "code",
   "execution_count": 66,
   "metadata": {},
   "outputs": [
    {
     "data": {
      "text/latex": [
       "$$\\frac{x^{2} y}{2} + x$$"
      ],
      "text/plain": [
       " 2      \n",
       "x ⋅y    \n",
       "──── + x\n",
       " 2      "
      ]
     },
     "execution_count": 66,
     "metadata": {},
     "output_type": "execute_result"
    }
   ],
   "source": [
    "f = 1 + x*y\n",
    "sympy.integrate(f,x)"
   ]
  },
  {
   "cell_type": "markdown",
   "metadata": {},
   "source": [
    "y로 적분했을때"
   ]
  },
  {
   "cell_type": "code",
   "execution_count": 68,
   "metadata": {},
   "outputs": [
    {
     "data": {
      "text/latex": [
       "$$\\frac{x y^{2}}{2} + y$$"
      ],
      "text/plain": [
       "   2    \n",
       "x⋅y     \n",
       "──── + y\n",
       " 2      "
      ]
     },
     "execution_count": 68,
     "metadata": {},
     "output_type": "execute_result"
    }
   ],
   "source": [
    "f = 1 + x*y\n",
    "sympy.integrate(f,y)"
   ]
  },
  {
   "cell_type": "markdown",
   "metadata": {},
   "source": [
    "2. $\\ \\int xy\\exp({x^2 + y^2}) dx $"
   ]
  },
  {
   "cell_type": "markdown",
   "metadata": {},
   "source": [
    "x로 적분했을때"
   ]
  },
  {
   "cell_type": "code",
   "execution_count": 69,
   "metadata": {},
   "outputs": [
    {
     "data": {
      "text/latex": [
       "$$\\frac{y}{2} e^{x^{2} + y^{2}}$$"
      ],
      "text/plain": [
       "    2    2\n",
       "   x  + y \n",
       "y⋅ℯ       \n",
       "──────────\n",
       "    2     "
      ]
     },
     "execution_count": 69,
     "metadata": {},
     "output_type": "execute_result"
    }
   ],
   "source": [
    "f = x*y*sympy.exp(x**2 + y**2)\n",
    "sympy.integrate(f,x)"
   ]
  },
  {
   "cell_type": "markdown",
   "metadata": {},
   "source": [
    "y로 적분했을때"
   ]
  },
  {
   "cell_type": "code",
   "execution_count": 70,
   "metadata": {},
   "outputs": [
    {
     "data": {
      "text/latex": [
       "$$\\frac{x}{2} e^{x^{2} + y^{2}}$$"
      ],
      "text/plain": [
       "    2    2\n",
       "   x  + y \n",
       "x⋅ℯ       \n",
       "──────────\n",
       "    2     "
      ]
     },
     "execution_count": 70,
     "metadata": {},
     "output_type": "execute_result"
    }
   ],
   "source": [
    "f = x*y*sympy.exp(x**2 + y**2)\n",
    "sympy.integrate(f,y)"
   ]
  },
  {
   "cell_type": "markdown",
   "metadata": {},
   "source": [
    "- 다차 도함수와 다중적분\n",
    "\n",
    "미분을 여러번 한 결과로 나온 다차 도함수로부터 원래의 함수를 찾아내려면 여러번 적분을 하는 다중적분이 필요하다.\n",
    "\n",
    "예를 들어 $\\ f(x, y) $ 가 함수 $\\ F_3(x, y) $를 x로 한번 편미분한 후 y로 다시 편미분하여 나온 이차 도함수라고 하자. \n",
    "\n",
    "이 이차 도함수에서 원래의 함수를 찾으려면 y로 적분한 후 다시 x로 적분해야 한다. 식으로 표현하면 다음과 같다.\n",
    "\n",
    "$\\ \\dfrac{\\partial^2 F_3(x)}{\\partial x \\partial y} = f(x, y) \\; \\leftrightarrow \\; F_3(x, y) = \\int_x \\int_y f(x, y) dydx $"
   ]
  },
  {
   "cell_type": "markdown",
   "metadata": {},
   "source": [
    "## 6.1.12 다음 부정적분을 구하시오.\n",
    "\n",
    "$\\ \\iint xy \\exp({x^2 + y^2}) dxdy $"
   ]
  },
  {
   "cell_type": "code",
   "execution_count": 82,
   "metadata": {},
   "outputs": [
    {
     "data": {
      "text/latex": [
       "$$\\frac{1}{4} e^{x^{2} + y^{2}}$$"
      ],
      "text/plain": [
       "  2    2\n",
       " x  + y \n",
       "ℯ       \n",
       "────────\n",
       "   4    "
      ]
     },
     "execution_count": 82,
     "metadata": {},
     "output_type": "execute_result"
    }
   ],
   "source": [
    "f = x*y*sympy.exp(x**2 + y**2)\n",
    "sympy.integrate(f,x,y)"
   ]
  },
  {
   "cell_type": "markdown",
   "metadata": {},
   "source": [
    "## 정적분\n",
    "\n",
    "정적분은 독립변수가 x가 어떤 구간 [a,b] 사이일때 그 구간에서 함수f(x)의 값과 수평선(x축)이 이루는 면적을 구하는 행위 혹은 그 값을 말하고 수학기호로는 아래와 같다.\n",
    "\n",
    "$\\ \\int_{a}^{b} f(x) dx $\n",
    "\n",
    "정적분은 미분과 아무런 상관이 없어 보이지만 부정적분으로 구한 함수 F(x)를 이용하면 정적분의 값을 구할 수 있다.\n",
    "\n",
    "$\\ \\int_{a}^{b} f(x) dx = F(b) - F(a) $\n",
    "\n",
    "이를 미적분학의 기본정리라고 부른다."
   ]
  },
  {
   "cell_type": "markdown",
   "metadata": {},
   "source": [
    "### 예시문제) 다음 정적분을 구해보자\n",
    "\n",
    "$\\ \\int_0^2 ( x^3 - 3x^2 + x + 6) dx $"
   ]
  },
  {
   "cell_type": "markdown",
   "metadata": {},
   "source": [
    "step1) 함수를 표현한다."
   ]
  },
  {
   "cell_type": "code",
   "execution_count": 72,
   "metadata": {},
   "outputs": [
    {
     "data": {
      "text/latex": [
       "$$x^{3} - 3 x^{2} + x + 6$$"
      ],
      "text/plain": [
       " 3      2        \n",
       "x  - 3⋅x  + x + 6"
      ]
     },
     "execution_count": 72,
     "metadata": {},
     "output_type": "execute_result"
    }
   ],
   "source": [
    "x, y = sympy.symbols('x y')\n",
    "f = x ** 3 - 3 * x ** 2 + x + 6\n",
    "f"
   ]
  },
  {
   "cell_type": "markdown",
   "metadata": {},
   "source": [
    "step2) 우선 부정적분 방법으로 미분하기전의 함수를 구한다."
   ]
  },
  {
   "cell_type": "code",
   "execution_count": 73,
   "metadata": {},
   "outputs": [
    {
     "data": {
      "text/latex": [
       "$$\\frac{x^{4}}{4} - x^{3} + \\frac{x^{2}}{2} + 6 x$$"
      ],
      "text/plain": [
       " 4         2      \n",
       "x     3   x       \n",
       "── - x  + ── + 6⋅x\n",
       "4         2       "
      ]
     },
     "execution_count": 73,
     "metadata": {},
     "output_type": "execute_result"
    }
   ],
   "source": [
    "F = sympy.integrate(f)\n",
    "F"
   ]
  },
  {
   "cell_type": "markdown",
   "metadata": {},
   "source": [
    "step3) 구해진 미분하기 전의 함수에 정적분 구간을 넣어 값을 계산한다. 심볼릭 함수의 변수에 실제 숫자를 넣어서 함수의 값을 계산하려면 subs, evalf 메서드를 이용한다.\n",
    "\n",
    "subs => 변수 대신 특정 숫자를 입력하여 연산을 유도함"
   ]
  },
  {
   "cell_type": "code",
   "execution_count": 75,
   "metadata": {},
   "outputs": [
    {
     "data": {
      "text/latex": [
       "$$10.0$$"
      ],
      "text/plain": [
       "10.0000000000000"
      ]
     },
     "execution_count": 75,
     "metadata": {},
     "output_type": "execute_result"
    }
   ],
   "source": [
    "(F.subs(x, 2) - F.subs(x, 0)).evalf()"
   ]
  },
  {
   "cell_type": "markdown",
   "metadata": {},
   "source": [
    "## 수치적분\n",
    "\n",
    "수치적분은 함수를 아주 작은 구간으로 나누어 실제 면적을 계산함으로써 정적분의 값을 구하는 방법이다. scipy의 integrate 서브패키지의 quad 명령으로 수치적분을 할 수 있다."
   ]
  },
  {
   "cell_type": "markdown",
   "metadata": {},
   "source": [
    "## 다변수 정적분\n",
    "\n",
    "입력변수가 2개인 2차원 함수 f(x,y)의 경우에는 정적분을 다양한 방법으로 정의할 수 있다.\n",
    "\n",
    "두 변수로 모두 적분하는 것은 다음과 같이 2차원 평면에서 주어진 사각형 영역 아래의 부피를 구하는 것과 같다.\n",
    "\n",
    "영역 아래의 부피 = $\\ \\int_{y=c}^{y=d} \\int_{x=a}^{x=b} f(x, y) dx dy $"
   ]
  },
  {
   "cell_type": "markdown",
   "metadata": {},
   "source": [
    "## 다차원 함수의 단일 정적분\n",
    "\n",
    "2차원 함수이지만 이중적분을 하지 않고 단일 정적분을 하는 경우도 있다. 이때 하나의 변수만 진짜 변수로 보고 나머지 하나는 상수라고 간주하는 경우이다.\n",
    "\n",
    "$\\ \\int_a^b f(x, y) dx $\n",
    "\n",
    "예를 들어 다음과 같은 함수를 생각하자.\n",
    "\n",
    "$\\ f(x, y) = 4x^2 + 4xy + y^2 $\n",
    "\n",
    "여기에서 변수 x만 진짜 입력 변수로 보고 y는 단순히 정해지지 않은 상수로 보면 이 함수는 다음과 같은 1차원 함수이다.\n",
    "\n",
    "$\\ f(x; y) = 4x^2 + (4y)x + (y^2) $\n",
    "\n",
    "y의 앞에 쉼표가 아니라 세미콜론을 써서 y가 변수가 아니라는 점을 강조하였다."
   ]
  },
  {
   "cell_type": "markdown",
   "metadata": {},
   "source": [
    "- 정적분 연습문제 : 아래의 식을 정적분 하시오\n",
    "\n",
    "범위 x는 1부터 10\n",
    "\n",
    "$\\ \\int \\left( 2 + 6x + 4\\exp(x) + \\dfrac{5}{x} \\right) dx $"
   ]
  },
  {
   "cell_type": "code",
   "execution_count": 4,
   "metadata": {},
   "outputs": [
    {
     "data": {
      "text/latex": [
       "$$6 x + 4 e^{x} + 2 + \\frac{5}{x}$$"
      ],
      "text/plain": [
       "         x       5\n",
       "6⋅x + 4⋅ℯ  + 2 + ─\n",
       "                 x"
      ]
     },
     "execution_count": 4,
     "metadata": {},
     "output_type": "execute_result"
    }
   ],
   "source": [
    "x, y = sympy.symbols('x y')\n",
    "f = 2+ 6*x + 4*sympy.exp(x) + 5/x\n",
    "f"
   ]
  },
  {
   "cell_type": "code",
   "execution_count": 5,
   "metadata": {},
   "outputs": [
    {
     "data": {
      "text/latex": [
       "$$3 x^{2} + 2 x + 4 e^{x} + 5 \\log{\\left (x \\right )}$$"
      ],
      "text/plain": [
       "   2            x           \n",
       "3⋅x  + 2⋅x + 4⋅ℯ  + 5⋅log(x)"
      ]
     },
     "execution_count": 5,
     "metadata": {},
     "output_type": "execute_result"
    }
   ],
   "source": [
    "F = sympy.integrate(f)\n",
    "F"
   ]
  },
  {
   "cell_type": "code",
   "execution_count": 11,
   "metadata": {},
   "outputs": [
    {
     "data": {
      "text/latex": [
       "$$88421.502977378$$"
      ],
      "text/plain": [
       "88421.5029773780"
      ]
     },
     "execution_count": 11,
     "metadata": {},
     "output_type": "execute_result"
    }
   ],
   "source": [
    "(F.subs(x, 10) - F.subs(x, 1)).evalf()"
   ]
  },
  {
   "cell_type": "markdown",
   "metadata": {},
   "source": [
    "## 용어정리\n",
    "\n",
    "1. 손실함수 : 모수를 입력받아 오차 혹은 오류의 크기를 출력하는 함수로, 결과 최소화를 목표로한다.\n",
    "\n",
    "\n",
    "2. 연쇄법칙 :  $\\ f(x) = h(g(x)) $ 의 형태를 지니며, 미분하려는 함수의 입력 변수가 다른 함수의 출력 변수인 경우 적용할 수 있는 미분공식이다.\n",
    "\n",
    "\n",
    "3. 2차 도함수 : 도함수를 한 번 더 미분하여 만들어진 함수를 2차 도함수라고 한다.\n",
    "\n",
    "\n",
    "4. 정적분 : 독립변수 x가 어떤 구간 [a,b]사이일 때 그 구간에서 함수 $\\ f(x) $의 값과 수평선(x축)이 이루는 \"면적\"을 구하는 행위나 그 값을 말한다.\n",
    "\n",
    "\n",
    "5. 미분학의 기본정리 : 함수 $\\ F(x) $를 이용하면 아래 식처럼 정적분의 값을 구할 수 있는데, 이를 미적분학의 기본정리라고 한다.\n",
    "\n",
    "\n",
    "$\\ \\int_a^b f(x)dx = F(b) - F(a) $"
   ]
  },
  {
   "cell_type": "markdown",
   "metadata": {},
   "source": [
    "### 연습문제\n",
    "\n",
    "1번문제) 함수 $\\ f(x, y) = x^3 + 3xy^2 + y^2 $를 x,y로 편미분한 값을 구하시오."
   ]
  },
  {
   "cell_type": "markdown",
   "metadata": {},
   "source": [
    "1. $\\ f_x $"
   ]
  },
  {
   "cell_type": "code",
   "execution_count": 4,
   "metadata": {},
   "outputs": [
    {
     "data": {
      "text/latex": [
       "$$3 x^{2} + 3 y^{2}$$"
      ],
      "text/plain": [
       "   2      2\n",
       "3⋅x  + 3⋅y "
      ]
     },
     "execution_count": 4,
     "metadata": {},
     "output_type": "execute_result"
    }
   ],
   "source": [
    "x, y = sympy.symbols('x y')\n",
    "f = x**3+3*x*y**2+2*y**2\n",
    "sympy.diff(f,x)"
   ]
  },
  {
   "cell_type": "markdown",
   "metadata": {},
   "source": [
    "2. $\\ f_{xx} $"
   ]
  },
  {
   "cell_type": "code",
   "execution_count": 5,
   "metadata": {},
   "outputs": [
    {
     "data": {
      "text/latex": [
       "$$6 x$$"
      ],
      "text/plain": [
       "6⋅x"
      ]
     },
     "execution_count": 5,
     "metadata": {},
     "output_type": "execute_result"
    }
   ],
   "source": [
    "sympy.diff(f,x,x)"
   ]
  },
  {
   "cell_type": "markdown",
   "metadata": {},
   "source": [
    "3. $\\ f_{xy} $"
   ]
  },
  {
   "cell_type": "code",
   "execution_count": 6,
   "metadata": {},
   "outputs": [
    {
     "data": {
      "text/latex": [
       "$$6 y$$"
      ],
      "text/plain": [
       "6⋅y"
      ]
     },
     "execution_count": 6,
     "metadata": {},
     "output_type": "execute_result"
    }
   ],
   "source": [
    "sympy.diff(f,x,y)"
   ]
  },
  {
   "cell_type": "markdown",
   "metadata": {},
   "source": [
    "3. $\\ f_{y} $"
   ]
  },
  {
   "cell_type": "code",
   "execution_count": 8,
   "metadata": {},
   "outputs": [
    {
     "data": {
      "text/latex": [
       "$$6 x y + 4 y$$"
      ],
      "text/plain": [
       "6⋅x⋅y + 4⋅y"
      ]
     },
     "execution_count": 8,
     "metadata": {},
     "output_type": "execute_result"
    }
   ],
   "source": [
    "sympy.diff(f,y)"
   ]
  },
  {
   "cell_type": "markdown",
   "metadata": {},
   "source": [
    "3. $\\ f_{yy} $"
   ]
  },
  {
   "cell_type": "code",
   "execution_count": 9,
   "metadata": {},
   "outputs": [
    {
     "data": {
      "text/latex": [
       "$$2 \\left(3 x + 2\\right)$$"
      ],
      "text/plain": [
       "2⋅(3⋅x + 2)"
      ]
     },
     "execution_count": 9,
     "metadata": {},
     "output_type": "execute_result"
    }
   ],
   "source": [
    "sympy.diff(f,y,y)"
   ]
  },
  {
   "cell_type": "markdown",
   "metadata": {},
   "source": [
    "3. $\\ f_{yx} $"
   ]
  },
  {
   "cell_type": "code",
   "execution_count": 10,
   "metadata": {},
   "outputs": [
    {
     "data": {
      "text/latex": [
       "$$6 y$$"
      ],
      "text/plain": [
       "6⋅y"
      ]
     },
     "execution_count": 10,
     "metadata": {},
     "output_type": "execute_result"
    }
   ],
   "source": [
    "sympy.diff(f,y,x)"
   ]
  },
  {
   "cell_type": "markdown",
   "metadata": {},
   "source": [
    "2번문제) $\\ \\int_0^3 (3x^2-6x+1)dx $의 결과를 정적분으로 구하시오."
   ]
  },
  {
   "cell_type": "markdown",
   "metadata": {},
   "source": [
    "step1) $\\ \\int_a^b f(x)dx = F(b) - F(a) $ 의 형태로 변환\n",
    "\n",
    "a = 0\n",
    "b = 3\n",
    "\n",
    "$\\ f(x) = 3x^2-6x+1 $\n",
    "\n",
    "$\\ F(x) = x^3-3x^2+x $\n",
    "\n",
    "step2) $\\ \\int_0^3 (3x^2-6x+1)dx = F(3) - F(0) $ = 3"
   ]
  }
 ],
 "metadata": {
  "kernelspec": {
   "display_name": "Python 3",
   "language": "python",
   "name": "python3"
  },
  "language_info": {
   "codemirror_mode": {
    "name": "ipython",
    "version": 3
   },
   "file_extension": ".py",
   "mimetype": "text/x-python",
   "name": "python",
   "nbconvert_exporter": "python",
   "pygments_lexer": "ipython3",
   "version": "3.7.3"
  }
 },
 "nbformat": 4,
 "nbformat_minor": 2
}
