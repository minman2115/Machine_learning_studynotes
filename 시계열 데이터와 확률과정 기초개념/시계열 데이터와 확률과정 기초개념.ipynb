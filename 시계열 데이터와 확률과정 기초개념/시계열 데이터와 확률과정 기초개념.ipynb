{
 "cells": [
  {
   "cell_type": "markdown",
   "metadata": {},
   "source": [
    "#### 그림, 실습코드 등 학습자료 출처 : https://datascienceschool.net\n",
    "\n",
    "#### 1. 확률과정"
   ]
  },
  {
   "cell_type": "markdown",
   "metadata": {},
   "source": [
    "<img src=\"1.jpg\" width=\"1000\" />"
   ]
  },
  {
   "cell_type": "code",
   "execution_count": 3,
   "metadata": {},
   "outputs": [
    {
     "data": {
      "image/png": "[encoded data removed]",
      "text/plain": [
       "<Figure size 432x288 with 4 Axes>"
      ]
     },
     "metadata": {
      "needs_background": "light"
     },
     "output_type": "display_data"
    }
   ],
   "source": [
    "from matplotlib.patches import ConnectionPatch\n",
    "%matplotlib inline\n",
    "\n",
    "t = np.arange(10)\n",
    "np.random.seed(99)\n",
    "y1 = np.insert(np.cumsum(sp.stats.norm.rvs(size=9)), 0, 0)\n",
    "y2 = np.insert(np.cumsum(sp.stats.norm.rvs(size=9)), 0, 0)\n",
    "y3 = np.insert(np.cumsum(sp.stats.norm.rvs(size=9)), 0, 0)\n",
    "y4 = np.insert(np.cumsum(sp.stats.norm.rvs(size=9)), 0, 0)\n",
    "\n",
    "ax1 = plt.subplot(4, 1, 1)\n",
    "ax1.plot(t, y1, '-o')\n",
    "ax1.set_xticklabels([])\n",
    "ax1.set_yticklabels([])\n",
    "ax1.set_ylim(-9, 9)\n",
    "ax1.set_zorder(2)\n",
    "ax1.set_ylabel(\"sample 1\").set_rotation(0)\n",
    "ax1.yaxis.set_tick_params(pad=30)\n",
    "\n",
    "plt.title(\"sample of Random process\")\n",
    "\n",
    "ax2 = plt.subplot(4, 1, 2)\n",
    "ax2.plot(t, y2, '-o')\n",
    "ax2.set_xticklabels([])\n",
    "ax2.set_yticklabels([])\n",
    "ax2.set_ylim(-9, 9)\n",
    "ax2.set_zorder(1)\n",
    "ax2.set_ylabel(\"sample 2\").set_rotation(0)\n",
    "ax2.yaxis.set_tick_params(pad=30)\n",
    "\n",
    "ax3 = plt.subplot(4, 1, 3)\n",
    "ax3.plot(t, y3, '-o')\n",
    "ax3.set_xticklabels([])\n",
    "ax3.set_yticklabels([])\n",
    "ax3.set_ylim(-9, 9)\n",
    "ax3.set_zorder(1)\n",
    "ax3.set_ylabel(\"sample 3\").set_rotation(0)\n",
    "ax3.yaxis.set_tick_params(pad=30)\n",
    "\n",
    "ax4 = plt.subplot(4, 1, 4)\n",
    "ax4.plot(t, y4, '-o')\n",
    "ax4.set_yticklabels([])\n",
    "ax4.set_ylim(-9, 9)\n",
    "ax4.set_zorder(1)\n",
    "ax4.set_ylabel(\"sample 4\").set_rotation(0)\n",
    "ax4.yaxis.set_tick_params(pad=30)\n",
    "ax4.annotate('$Y_6$', xy=(5.92, -19), xycoords='data', annotation_clip=False)\n",
    "\n",
    "con = ConnectionPatch(xyA=(6, 9), xyB=(6, -9), ls=\"--\", lw=2, color=\"gray\",\n",
    "                      coordsA=\"data\", coordsB=\"data\", axesA=ax1, axesB=ax4)\n",
    "ax1.add_artist(con)\n",
    "\n",
    "plt.show()"
   ]
  },
  {
   "cell_type": "markdown",
   "metadata": {},
   "source": [
    "<img src=\"2.jpg\" width=\"1000\" />"
   ]
  },
  {
   "cell_type": "markdown",
   "metadata": {},
   "source": [
    "#### 2. 앙상블평균"
   ]
  },
  {
   "cell_type": "markdown",
   "metadata": {},
   "source": [
    "<img src=\"3.jpg\" width=\"1000\" />"
   ]
  },
  {
   "cell_type": "markdown",
   "metadata": {},
   "source": [
    "#### 3. 확률과정의 기댓값, 자기공분산, 자기상관계수"
   ]
  },
  {
   "cell_type": "markdown",
   "metadata": {},
   "source": [
    "<img src=\"4.jpg\" width=\"1000\" />"
   ]
  }
 ],
 "metadata": {
  "kernelspec": {
   "display_name": "Python 3",
   "language": "python",
   "name": "python3"
  },
  "language_info": {
   "codemirror_mode": {
    "name": "ipython",
    "version": 3
   },
   "file_extension": ".py",
   "mimetype": "text/x-python",
   "name": "python",
   "nbconvert_exporter": "python",
   "pygments_lexer": "ipython3",
   "version": "3.7.3"
  }
 },
 "nbformat": 4,
 "nbformat_minor": 2
}
