{
 "cells": [
  {
   "cell_type": "markdown",
   "metadata": {},
   "source": [
    "- 신경망모형은 `기저함수`도 모수값에 의해 변화할 수 있는 적응형 기저함수모형이며 구조적으로는 여러개의 퍼셉트론 레이어를 쌓아놓은 형태이므로 `MLP(Multi-layer perceptron)`으로도 불린다.\n",
    "\n",
    "\n",
    "- 신경망에 속한 퍼셉트론은 `neuron, node`라고 불린다. 각 계층은 다음 계층에 대해 적응형 기저함수의 역할을 한다. 최초의 계층은 입력계층, 마지막 계층은 출력계층, 중간은 은닉계층이라고 한다."
   ]
  },
  {
   "cell_type": "markdown",
   "metadata": {},
   "source": [
    "- 신경망 계수탐색 프로세스\n",
    "\n",
    "#### 1) initialize\n",
    "\n",
    "모든 w,b 값을 임의의 값으로 초기화\n",
    "\n",
    "#### 2) input\n",
    "\n",
    "하나의 표본데이터 $\\ x_i $로 입력 계층 설정\n",
    "\n",
    "#### 3) feedforward propagation\n",
    "\n",
    "모든 뉴런에 대해 a, z값 계산\n",
    "\n",
    "#### 4) output and error calculation\n",
    "\n",
    "최종출력계층의 값 $\\ z^{(L)} $ 및 오차 $\\ \\delta^{(L)} $계산\n",
    "\n",
    "#### 5) back propagation\n",
    "\n",
    "반대방향으로 오차 $\\ \\delta $ 전파 \n",
    "\n",
    "#### 6) gradient calculation\n",
    "\n",
    "표본데이터 $\\ x_i $에 의한 오차함수의 미분값(그레디언트) $\\ \\frac{\\partial C_i}{\\partial w}=z \\, \\delta $, $\\ \\frac{\\partial C_i}{\\partial b}=\\delta $ 계산\n",
    "\n",
    "#### 7) minibatch-size iteration\n",
    "\n",
    "표본데이터를 $\\ x_{i+1} $로 바꾸어 미니배치크기 만큼 2) ~ 6) 단계를 반복\n",
    "\n",
    "#### 8) weight update\n",
    "\n",
    "미니배치크기 만큼의 데이터를 사용한 후 그레디언트 $\\ \\frac{\\partial C}{\\partial w} $, $\\ \\frac{\\partial C}{\\partial b} $ 계산\n",
    "\n",
    "이 그레디언트 값으로 w, b값을 업데이트"
   ]
  },
  {
   "cell_type": "markdown",
   "metadata": {},
   "source": [
    "- 단순하게 수치적으로 미분을 계산한다면 모든 가중치에 대해서 개별적으로 미분을 계산해야 한다. 그러나 `Back propagation`방법을 사용하면 모든 가중치에 대한 미분값을 한번에 계산할 수 있다."
   ]
  },
  {
   "cell_type": "markdown",
   "metadata": {},
   "source": [
    "- 신경망에서 Back propagation 단계별 수행과정"
   ]
  },
  {
   "cell_type": "markdown",
   "metadata": {},
   "source": [
    "<img src=\"1.png\" width=\"500\" />"
   ]
  },
  {
   "cell_type": "markdown",
   "metadata": {},
   "source": [
    "<img src=\"2.png\" width=\"500\" />"
   ]
  },
  {
   "cell_type": "markdown",
   "metadata": {},
   "source": [
    "<img src=\"3.png\" width=\"500\" />"
   ]
  },
  {
   "cell_type": "markdown",
   "metadata": {},
   "source": [
    "<img src=\"4.png\" width=\"500\" />"
   ]
  },
  {
   "cell_type": "markdown",
   "metadata": {},
   "source": [
    "#### * 이미지 및 자료출처 : 데이터 사이언스 스쿨 홈페이지 5부 딥러닝\n",
    "https://datascienceschool.net/view-notebook/0178802a219c4e6bb9b820b49bf57f91/"
   ]
  }
 ],
 "metadata": {
  "kernelspec": {
   "display_name": "Python 3",
   "language": "python",
   "name": "python3"
  },
  "language_info": {
   "codemirror_mode": {
    "name": "ipython",
    "version": 3
   },
   "file_extension": ".py",
   "mimetype": "text/x-python",
   "name": "python",
   "nbconvert_exporter": "python",
   "pygments_lexer": "ipython3",
   "version": "3.7.1"
  }
 },
 "nbformat": 4,
 "nbformat_minor": 2
}
