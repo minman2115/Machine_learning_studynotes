{
 "cells": [
  {
   "cell_type": "markdown",
   "metadata": {},
   "source": [
    "- 상태값이 K개의 유한한 값만 가질 수 있는 이산상태 시계열 확률과정에서 시간 t의 값 $\\ X_t $의 확률분포 $\\ p(X_t) $ 가 시간 t-1의 값의 확률분포 $\\ p(x_{t-1}) $과 조건부확률분포 $\\ p(X_t \\mid x_{t-1}) $에만 의존하면 이 시계열 확률과정을 `마코프 체인` 이라고 한다."
   ]
  },
  {
   "cell_type": "markdown",
   "metadata": {},
   "source": [
    "- 실수값을 출력하는 확률변수 X가 사실 눈에 보이지 않는(관측되지 않는) K-클래스 카테고리 확률변수 Z의 값에 따라 다른 기댓값과 분산을 가지는 복수의 가우시안 정규분포들로 이루어진 모형을 `가우시안 혼합모형`이라고 한다."
   ]
  },
  {
   "cell_type": "markdown",
   "metadata": {},
   "source": [
    "- EM(Expectation-Maximization)방법은 혼합모형의 `모수`와 `responsibility`를 번갈아 추정하며 정확도를 높이는 방법이다."
   ]
  },
  {
   "cell_type": "markdown",
   "metadata": {},
   "source": [
    "- `Hidden Markov Model`은 독립 혼합모형에서 연속 확률분포를 선택하는 이산확률과정 $\\ C_t $가 마코프 체인이고 연속확률분포 $\\ X_t $가 그 시점의 이산확률과정의 값에만 의존하는 모형을 말한다."
   ]
  },
  {
   "cell_type": "markdown",
   "metadata": {},
   "source": [
    "- EM(Expectation-Maximization)방법에서 각 과정(E step과 M step)과 모수추정법 요약\n",
    "\n",
    "\n",
    "1) E step에서는 우리가 현재까지 알고 있는 모수가 정확하다고 가정하고 이를 사용하여 각 데이터가 어느 카테고리에 속하는지 다시말해, responsibility를 추정한다.\n",
    "\n",
    "$\\ (\\pi_k, \\mu_k, \\Sigma_k) \\;\\; \\implies \\;\\; \\pi_{ik} $\n",
    "\n",
    "\n",
    "2) M step에서는 우리가 현재까지 알고있는 responsibility가 정확하다고 가정하고 이를 사용하여 모수값을 추정한다.\n",
    "\n",
    "$\\ \\pi_{ik} \\;\\; \\implies \\;\\; (\\pi_k, \\mu_k, \\Sigma_k ) $\n",
    "\n",
    "이를 반복하여 모수와 responsibility를 동시에 점진적으로 개선한다."
   ]
  },
  {
   "cell_type": "markdown",
   "metadata": {},
   "source": [
    "- hidden markov model의 예시 설명 요약"
   ]
  },
  {
   "cell_type": "markdown",
   "metadata": {},
   "source": [
    "<img src=\"1.png\" width=\"500\" />"
   ]
  },
  {
   "cell_type": "markdown",
   "metadata": {},
   "source": [
    "-> 위의 그림은 0.75, 0.25의 초기확률 벡터와 ((0.9,0.1), (0.3,0.7))의 전이확률 행렬을 가지는 모형이다"
   ]
  }
 ],
 "metadata": {
  "kernelspec": {
   "display_name": "Python 3",
   "language": "python",
   "name": "python3"
  },
  "language_info": {
   "codemirror_mode": {
    "name": "ipython",
    "version": 3
   },
   "file_extension": ".py",
   "mimetype": "text/x-python",
   "name": "python",
   "nbconvert_exporter": "python",
   "pygments_lexer": "ipython3",
   "version": "3.7.1"
  }
 },
 "nbformat": 4,
 "nbformat_minor": 2
}
