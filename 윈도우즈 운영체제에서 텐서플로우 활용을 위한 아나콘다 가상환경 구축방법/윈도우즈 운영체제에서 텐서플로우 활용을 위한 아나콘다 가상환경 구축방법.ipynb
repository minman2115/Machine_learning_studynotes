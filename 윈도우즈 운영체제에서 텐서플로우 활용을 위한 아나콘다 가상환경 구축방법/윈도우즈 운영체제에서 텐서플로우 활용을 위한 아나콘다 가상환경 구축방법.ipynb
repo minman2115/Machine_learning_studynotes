{
 "cells": [
  {
   "cell_type": "markdown",
   "metadata": {},
   "source": [
    "#### [ 요약 ]\n",
    "\n",
    "- 문제인식 : 윈도우즈 환경에서 파이썬 3.7 버전의 경우 텐서플로우 패키지를 사용할 수 없는 상황\n",
    "\n",
    "\n",
    "- 해결방안 : 아나콘다 가상환경을 이용하여 별도의 파이썬 3.6 버전 가상환경을 구축하고 그 환경에서 텐서플로우를 사용\n",
    "\n",
    "#### step 1) cuda 9.0 설치\n",
    "- https://developer.nvidia.com/cuda-90-download-archive 접속\n",
    "- 내 컴퓨터 사양으로 선택하고 install type은 local로 선택한다.\n",
    "- 다운로드 및 설치\n",
    "\n",
    "#### step2) cuDnn 설치\n",
    "- https://developer.nvidia.com/rdp/cudnn-download 접속\n",
    "- (만약에 nvidia계정이 없으면 생성해야함)\n",
    "- cuda9.0 선택, os선택\n",
    "- 다운로드 및 압축해제\n",
    "- bin폴더, include폴더, lib폴더, NVIDIA_SLA_cuDNN_Support.txt파일 복사해서 cuda설치경로로 붙어넣기.\n",
    "\n",
    "경로예시) C:\\Program Files\\NVIDIA GPU Computing Toolkit\\CUDA\\v9.0\n",
    "\n",
    "\n",
    "#### step 3) 명령프롬프트(관리자권한) 실행\n",
    "\n",
    "#### step 4) \"conda create -n 가상환경이름 python=3.6\" 명령어 실행\n",
    "- 파이썬 3.6버전을 사용할 수 있는 가상환경이 생성된다\n",
    "ex) conda create -n VE python=3.6\n",
    "\n",
    "#### step 5) \"activate 가상환경이름\" 명령어를 실행하여 생성한 가상환경을 활성화 한다.\n",
    "ex) activate VE\n",
    "\n",
    "- \"conda info --envs\" 명령어는 내가 생성한 가상환경이 어떤게 있는지 확인할 수 있는 명령어이다.\n",
    "- \"deactivate\"는 가상환경을 비활성화 시키는 명령어이다.\n",
    "- 가상환경 삭제는 'conda remove --name 가상환경이름 --all'\n",
    "\n",
    "ex) conda remove --name VE --all\n",
    "\n",
    "- 아래는 예시"
   ]
  },
  {
   "cell_type": "markdown",
   "metadata": {},
   "source": [
    "<img src=\"1.png\" width=\"500\" />"
   ]
  },
  {
   "cell_type": "markdown",
   "metadata": {},
   "source": [
    "#### step 6) 'tensorflow' 패키지 설치\n",
    "\n",
    "- 가상환경을 활성화한다.\n",
    "- 'pip install tensorflow' 명령어를 이용하여 패키지를 설치한다.\n",
    "- (만약에 내 딥러닝 연산 시 gpu 안쓰려면 저명령어에 -gpu뺀것을 입력한다.)\n",
    "- 패키지 설치가 완료되면 다음과 같이 실행하여 문제가 없는지 확인한다."
   ]
  },
  {
   "cell_type": "markdown",
   "metadata": {},
   "source": [
    "<img src=\"2.png\" width=\"500\" />"
   ]
  },
  {
   "cell_type": "markdown",
   "metadata": {},
   "source": [
    "#### step 7) 'keras', 'theano'설치\n",
    "\n",
    "- 'conda install keras' 명령어로 케라스 설치\n",
    "- 'conda install theano' 명령어로 띠아노 설치"
   ]
  },
  {
   "cell_type": "markdown",
   "metadata": {},
   "source": [
    "#### step 8) '주피터 노트북' 다중커널 설정\n",
    "\n",
    "- 'ipython' 패키지 설치 \n",
    "- 'ipykernel' 패키지 설치\n",
    "- 'ipython kernel install --user' 명령어로 새로운 주피터 커널을 생성한다.\n",
    "- C:\\Users\\사용자이름\\Anaconda3\\share\\jupyter\\kernels 밑에 가상개발환경을 위한 커널폴더를 만들고 kernel.json 파일을 생성한다."
   ]
  },
  {
   "cell_type": "markdown",
   "metadata": {},
   "source": [
    "기본적으로 python3 폴더가 있고 그안에 kernel.json파일이 있다. kernel.json파일에는 주피터 노트북에서 기본으로 사용할 수 있는 Python3 노트북의 설정이 여기 있는데, 그 내용은 다음과 같다.\n",
    "\n",
    "{\n",
    "\n",
    "\"argv\": [\n",
    "\n",
    "\"C:\\\\Users\\\\사용자이름\\\\Anaconda3\\\\python.exe\",\n",
    "\n",
    "\"-m\",\n",
    "\n",
    "\"ipykernel_launcher\",\n",
    "\n",
    "\"-f\",\n",
    "\n",
    "\"{connection_file}\"\n",
    "],\n",
    "\n",
    "\"display_name\": \"Python 3\",\n",
    "\n",
    "\"language\": \"python\"\n",
    "\n",
    "}"
   ]
  },
  {
   "cell_type": "markdown",
   "metadata": {},
   "source": [
    "- 가상개발환경을 위한 노트북용 폴더(폴더이름이 가상개발환경의 이름과 일치하지 않아도 된다)를 하나 만들고 python3 폴더 내에 kernel.json 파일을 복사해서 가상환경을 위한 노트북용 폴더 안에 붙어넣어준다."
   ]
  },
  {
   "cell_type": "markdown",
   "metadata": {},
   "source": [
    "- kernel.json 파일 편집\n",
    "\n",
    "kernel.json의 세 번째 행은 파이썬 실행파일이 있는 경로와 파일명이다. 보통 가상개발환경은 C:\\Users\\사용자이름\\Anaconda3\\envs 아래에 만들어 진다. 그리고 가상개발환경 폴더에 python.exe가 있다. 그리고 \"display_name\" 에는 주피터 노트북 이름을 적어준다, 이름은 가상개발환경의 그것과 달라도 된다.\n",
    "\n",
    "{\n",
    "\n",
    "\"argv\": [\n",
    "\n",
    "\"C:\\\\Users\\\\사용자이름\\\\Anaconda3\\\\envs\\\\가상개발환경을 위한 노트북용 폴더이름\\\\python.exe\",\n",
    "\n",
    "\"-m\",\n",
    "\n",
    "\"ipykernel_launcher\",\n",
    "\n",
    "\"-f\",\n",
    "\n",
    "\"{connection_file}\"\n",
    "\n",
    "],\n",
    "\n",
    "\"display_name\": \"가상환경이름\",\n",
    "\n",
    "\"language\": \"python\"\n",
    "}"
   ]
  },
  {
   "cell_type": "markdown",
   "metadata": {},
   "source": [
    "- 주피터 노트북 실행 후 아래와 같은 그림처럼 가상환경의 커널이 추가되었는지 확인한다."
   ]
  },
  {
   "cell_type": "markdown",
   "metadata": {},
   "source": [
    "<img src=\"3.png\" width=\"500\" />"
   ]
  },
  {
   "cell_type": "markdown",
   "metadata": {},
   "source": [
    "#### step 9) 아래와 같이 텐서플로우 사용을 위한 패키지들을 아나콘다 클라우드에서 검색하여 인스톨 명령어로 설치한다.\n",
    "\n",
    "- 아나콘다 클라우드 URL : https://anaconda.org/\n",
    "- 텐서플로우 사용을 위한 패키지 목록\n",
    "\n",
    "matplotlib, seaborn, scikit-learn"
   ]
  }
 ],
 "metadata": {
  "kernelspec": {
   "display_name": "Python 3",
   "language": "python",
   "name": "python3"
  },
  "language_info": {
   "codemirror_mode": {
    "name": "ipython",
    "version": 3
   },
   "file_extension": ".py",
   "mimetype": "text/x-python",
   "name": "python",
   "nbconvert_exporter": "python",
   "pygments_lexer": "ipython3",
   "version": "3.7.1"
  }
 },
 "nbformat": 4,
 "nbformat_minor": 2
}
