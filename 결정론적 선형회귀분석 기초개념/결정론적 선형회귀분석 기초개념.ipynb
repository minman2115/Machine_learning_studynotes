{
 "cells": [
  {
   "cell_type": "markdown",
   "metadata": {},
   "source": [
    "#### # 학습 시 참고한 URL : https://datascienceschool.net\n",
    "\n",
    "#### 1. 회귀분석(regression analysis) 정의\n",
    "\n",
    "D차원 벡터 독립변수  x와 이에 대응하는 스칼라 종속변수  y간의 관계를 정량적으로 찾아내는 작업\n",
    "\n",
    "휘귀분석의 종류는 크게 결정론적 모형, 확률론적 모형 두가지가 있다.\n",
    "\n",
    "#### 2. 선형회귀분석의 기초원리"
   ]
  },
  {
   "cell_type": "markdown",
   "metadata": {},
   "source": [
    "<img src=\"1.jpg\" width=\"1000\" />"
   ]
  },
  {
   "cell_type": "markdown",
   "metadata": {},
   "source": [
    "#### 3. 결정론적 선형회귀모형의 기초원리"
   ]
  },
  {
   "cell_type": "markdown",
   "metadata": {},
   "source": [
    "<img src=\"2.png\" width=\"1000\" />"
   ]
  },
  {
   "cell_type": "markdown",
   "metadata": {},
   "source": [
    "#### 4. bias augmentation"
   ]
  },
  {
   "cell_type": "markdown",
   "metadata": {},
   "source": [
    "<img src=\"3.png\" width=\"1000\" />"
   ]
  },
  {
   "cell_type": "markdown",
   "metadata": {},
   "source": [
    "#### 5. OLS(Ordinary Least Squares)\n",
    "\n",
    "- OLS(Ordinary Least Squares)는 가장 기본적인 결정론적 선형회귀방법으로 잔차제곱합(RSS)를 최소화하는 가중치 벡터를 행렬 미분으로 구하는 방법이다.\n",
    "\n",
    "\n",
    "- 우리가 사용하는 예측 모형은 다음과 같이 상수항이 결합된 선형 모형이다.\n",
    "\n",
    "$$\\ \\hat{y} = Xw $$\n",
    "\n",
    "- 이때 잔차 벡터(residual vector) e는 아래 수식과 같다.\n",
    "\n",
    "$$\\ e = {y} - \\hat{y} = y - Xw $$\n",
    "\n",
    "- 잔차제곱합(RSS : Residual sum of squares)은 아래 수식과 같다.\n",
    "\n",
    "$$\\ \\begin{eqnarray}\n",
    "\\text{RSS}\n",
    "&=&  e^Te \\\\\n",
    "&=& (y - Xw)^T(y - Xw) \\\\\n",
    "&=& y^Ty - 2y^T X w + w^TX^TXw  \n",
    "\\end{eqnarray} $$\n",
    "\n",
    "\n",
    "- 잔차의 크기 즉, 잔차 제곱합을 가장 작게 하는 가중치 벡터를 구하기 위해 잔차 제곱합의 그레디언트 벡터를 구하면 다음과 같다.\n",
    "\n",
    "$$ \\ \\dfrac{d \\text{RSS}}{d w} = -2 X^T y + 2 X^TX w $$\n",
    "\n",
    "\n",
    "- 잔차가 최소가 되는 최적화 조건은 그레디언트 벡터가 0벡터이어야 하므로 다음 식이 성립한다.\n",
    "\n",
    "$$\\ \\dfrac{d \\text{RSS}}{d w}  = 0  →  X^TX w = X^T y $$\n",
    "\n",
    "- 만약 $\\ X^TX $ 행렬의 역행렬이 존재한다면 다음처럼 최적가중치 벡터 w를 구할 수 있다.\n",
    "\n",
    "$$\\ w = (X^TX)^{-1} X^T y $$\n",
    "\n",
    "- $\\ X^TX $ 행렬의 역행렬이 존재하고 위에서 구한 값이 $\\ f(w) $ 의 최고값이 아닌 최저값이 되려면 조건\n",
    "\n",
    "\n",
    "$\\ X^TX $ 가 양의 정부호(positive definite) 행렬을 만족해야 함\n",
    "\n",
    "\n",
    "만약 X가 풀랭크가 아니면 OLS는 성립하지 않는다. 즉 X의 각 행렬이 서로 독립이 아니면 $\\ X^TX $가 양의 정부호가 아니고 역행렬이 존재하지 않으기 때문이다.\n",
    "\n",
    "#### 6. normal equation(직교방정식)"
   ]
  },
  {
   "cell_type": "markdown",
   "metadata": {},
   "source": [
    "<img src=\"4.jpg\" width=\"1000\" />"
   ]
  },
  {
   "cell_type": "markdown",
   "metadata": {},
   "source": [
    "#### 7. NumPy를 이용한 결정론적 선형회귀모형 구현\n",
    "\n",
    "NumPy의 선형대수 기능을 사용하여 OLS 방법으로 선형 회귀분석모형을 구현한다. \n",
    "\n",
    "우선 make_regression 명령을 사용하여 다음과 같이 1차원 특징 데이터 x와 이 값에 의존하는 y를 만든다."
   ]
  },
  {
   "cell_type": "code",
   "execution_count": 23,
   "metadata": {},
   "outputs": [],
   "source": [
    "%matplotlib inline\n",
    "import numpy as np\n",
    "import matplotlib as mpl\n",
    "import matplotlib.pyplot as plt\n",
    "from sklearn.datasets import make_regression\n",
    "\n",
    "X0, y, w = make_regression(n_samples=200, n_features=1, bias=300, noise=15, coef=True, random_state = 1)\n",
    "\n",
    "X = sm.add_constant(X0)\n",
    "\n",
    "y = y.reshape(len(y), 1)"
   ]
  },
  {
   "cell_type": "markdown",
   "metadata": {},
   "source": [
    "우리가 준 bias 값은 300 이고 make_regression 명령이 생성한 모수 값은 다음과 같다."
   ]
  },
  {
   "cell_type": "code",
   "execution_count": 24,
   "metadata": {},
   "outputs": [
    {
     "data": {
      "text/plain": [
       "array(86.44794301)"
      ]
     },
     "execution_count": 24,
     "metadata": {},
     "output_type": "execute_result"
    }
   ],
   "source": [
    "w"
   ]
  },
  {
   "cell_type": "markdown",
   "metadata": {},
   "source": [
    "따라서 x와 y는 다음과 같은 관계를 가진다.\n",
    "\n",
    "$$\\ y = 300 + 86.4479 x + \\epsilon $$"
   ]
  },
  {
   "cell_type": "markdown",
   "metadata": {},
   "source": [
    "위에서 구한 수식을 이용하여 선형회귀 계수를 추정하면 다음과 같다.\n",
    "\n",
    "OLS 해를 numpy로 다이렉트로 구할때\n",
    "\n",
    "$$\\ w = (X^TX)^{-1} X^T y $$ 의 공식을 아래와 같이 직접 넣어준다."
   ]
  },
  {
   "cell_type": "code",
   "execution_count": 25,
   "metadata": {},
   "outputs": [
    {
     "data": {
      "text/plain": [
       "array([[299.68726303],\n",
       "       [ 87.21859652]])"
      ]
     },
     "execution_count": 25,
     "metadata": {},
     "output_type": "execute_result"
    }
   ],
   "source": [
    "w = np.dot(np.dot(np.linalg.inv(np.dot(X.T, X)), X.T), y)\n",
    "w"
   ]
  },
  {
   "cell_type": "markdown",
   "metadata": {},
   "source": [
    "즉, 다음 방정식을 이용하여 y를 예측한다.\n",
    "\n",
    "$$\\ \\hat{y} = 299.6872 + 87.2189 x $$\n",
    "\n",
    "이 결과에서 알 수 있는 것은 선형 회귀를 통해 구한 결과는 실제(자연 법칙)와 비슷하지만 정확하지는 않다는 점이다."
   ]
  },
  {
   "cell_type": "code",
   "execution_count": 26,
   "metadata": {},
   "outputs": [
    {
     "data": {
      "text/plain": [
       "array([[299.68726303],\n",
       "       [ 87.21859652]])"
      ]
     },
     "execution_count": 26,
     "metadata": {},
     "output_type": "execute_result"
    }
   ],
   "source": [
    "# lstsq 명령을 이용하는 방법\n",
    "w = np.linalg.lstsq(X, y)[0]\n",
    "w"
   ]
  },
  {
   "cell_type": "markdown",
   "metadata": {},
   "source": [
    "다음 코드는 여러가지 새로운  x값에 대해  y헷을 구해본 결과를 원래 데이터와 비교한 것이다."
   ]
  },
  {
   "cell_type": "code",
   "execution_count": 27,
   "metadata": {},
   "outputs": [
    {
     "data": {
      "image/png": "[encoded data removed]",
      "text/plain": [
       "<Figure size 432x288 with 1 Axes>"
      ]
     },
     "metadata": {
      "needs_background": "light"
     },
     "output_type": "display_data"
    }
   ],
   "source": [
    "x_new = np.linspace(np.min(X0), np.max(X0), 200)\n",
    "X_new = sm.add_constant(x_new)  # 상수항 결합\n",
    "y_new = np.dot(X_new, w)\n",
    "\n",
    "plt.scatter(X0, y, label=\"data\")\n",
    "plt.plot(x_new, y_new, 'r-', label=\"prediction result\")\n",
    "plt.xlabel(\"x\")\n",
    "plt.ylabel(\"y\")\n",
    "plt.legend()\n",
    "plt.show()"
   ]
  }
 ],
 "metadata": {
  "kernelspec": {
   "display_name": "Python 3",
   "language": "python",
   "name": "python3"
  },
  "language_info": {
   "codemirror_mode": {
    "name": "ipython",
    "version": 3
   },
   "file_extension": ".py",
   "mimetype": "text/x-python",
   "name": "python",
   "nbconvert_exporter": "python",
   "pygments_lexer": "ipython3",
   "version": "3.7.1"
  }
 },
 "nbformat": 4,
 "nbformat_minor": 2
}
