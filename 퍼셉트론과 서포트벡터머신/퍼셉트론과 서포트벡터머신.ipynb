{
 "cells": [
  {
   "cell_type": "markdown",
   "metadata": {},
   "source": [
    "- 퍼셉트론 모형의 target 값은 1 또는 -1이다."
   ]
  },
  {
   "cell_type": "markdown",
   "metadata": {},
   "source": [
    "- 퍼셉트론은 $\\ h(a) = \\begin{cases} -1, & a < 0, \\\\ 1, & a \\ge 0 \\end{cases} $과 같은 판별함수를 갖는다. 이를 `Heaviside step function`이라고 한다."
   ]
  },
  {
   "cell_type": "markdown",
   "metadata": {},
   "source": [
    "- 퍼셉트론에서는 가중치를 업데이트할때, mini batch size마다의 loss에 대한 gradient로 가중치를 업데이트 하는 Stochastic Gradient Descent 방법을 사용한다."
   ]
  },
  {
   "cell_type": "markdown",
   "metadata": {},
   "source": [
    "- 서포트벡터머신에서 서포트벡터의 판별함수 값은 -1 과 1이다."
   ]
  },
  {
   "cell_type": "markdown",
   "metadata": {},
   "source": [
    "- 서포트벡터머신에서 support 혹은 support vector란\n",
    "\n",
    "-> y값이 +1인 데이터 중에서 판별함수 값이 가장 작은 데이터를 x+라고 하고 y값이 -1인 데이터 중에서 판별함수의 값이 가장 큰 데이터를 x-라고 한다. 이 데이터 들은 각각의 클래스에 속한 데이터 중에서 가장 경계선에 가까이 붙어 있는 최전방(most front)의 데이터들을 support 또는 support vector라고 한다."
   ]
  },
  {
   "cell_type": "markdown",
   "metadata": {},
   "source": [
    "- 만약에 데이터가 직선인 판별 경계선으로 나누어지지 않는 즉, 선형분리가 불가능한 경우에는 `슬랙변수(slack variable)`를 사용하여 개별적인 오차를 허용할 수 있다. 이를 고려한 최적화 목적함수는 다음과 같다.\n",
    "\n",
    "-> $\\  L = \\dfrac{1}{2} ||w||^2 - \\sum_{i=1}^N a_i (y_i \\cdot ( w^Tx_i - w_o) - 1 + \\xi_i ) - \\sum_{i=1}^N \\mu_i \\xi_i  + C \\sum_{i=1}^N \\xi_i $\n",
    "\n",
    "\n",
    "여기서 $\\ C \\sum_{i=1}^N \\xi_i $는 슬랙변수의 합이 너무 커지지 않도록 제한하는 역할을 한다.\n",
    "\n",
    "아래 그림 중에 $\\ C \\sum_{i=1}^N \\xi_i $ 을 더 크게 적용한 그림은 좌측그림이다."
   ]
  },
  {
   "cell_type": "markdown",
   "metadata": {},
   "source": [
    "<img src=\"1.png\" width=\"500\" />"
   ]
  }
 ],
 "metadata": {
  "kernelspec": {
   "display_name": "Python 3",
   "language": "python",
   "name": "python3"
  },
  "language_info": {
   "codemirror_mode": {
    "name": "ipython",
    "version": 3
   },
   "file_extension": ".py",
   "mimetype": "text/x-python",
   "name": "python",
   "nbconvert_exporter": "python",
   "pygments_lexer": "ipython3",
   "version": "3.7.1"
  }
 },
 "nbformat": 4,
 "nbformat_minor": 2
}
