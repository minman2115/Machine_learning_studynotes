{
 "cells": [
  {
   "cell_type": "markdown",
   "metadata": {},
   "source": [
    "### [추천시스템 구현 예시]\n",
    "\n",
    "- 여행지 평점데이터에 대한 추천시스템 구현"
   ]
  },
  {
   "cell_type": "markdown",
   "metadata": {},
   "source": [
    "[구현순서]\n",
    "- 샘플 데이터 생성\n",
    "- 사용자 기반의 유사도 행렬 생성\n",
    "- 유사도 행렬 기반 예측행렬 생성\n",
    "- 기사추천 리스트 생성\n",
    "- 모델에 대한 성능측정"
   ]
  },
  {
   "cell_type": "markdown",
   "metadata": {},
   "source": [
    "#### 1. 간단한 샘플 데이터 생성"
   ]
  },
  {
   "cell_type": "markdown",
   "metadata": {},
   "source": [
    "[사용할 변수설명]\n",
    "\n",
    "- sample_df : 샘플데이터\n",
    "- sm_df : 유사도행렬\n",
    "- closer_count : 유사한 사용자 데이터의 갯수\n",
    "- ms_df : 유사도 행렬의 평균값\n",
    "- predict_df : 예측값에 대한 행렬데이터\n",
    "- recommand_def : 추천결과"
   ]
  },
  {
   "cell_type": "code",
   "execution_count": 1,
   "metadata": {},
   "outputs": [
    {
     "data": {
      "text/html": [
       "<div>\n",
       "<style scoped>\n",
       "    .dataframe tbody tr th:only-of-type {\n",
       "        vertical-align: middle;\n",
       "    }\n",
       "\n",
       "    .dataframe tbody tr th {\n",
       "        vertical-align: top;\n",
       "    }\n",
       "\n",
       "    .dataframe thead th {\n",
       "        text-align: right;\n",
       "    }\n",
       "</style>\n",
       "<table border=\"1\" class=\"dataframe\">\n",
       "  <thead>\n",
       "    <tr style=\"text-align: right;\">\n",
       "      <th></th>\n",
       "      <th>두바이</th>\n",
       "      <th>뉴욕</th>\n",
       "      <th>런던</th>\n",
       "      <th>멜번</th>\n",
       "      <th>도쿄</th>\n",
       "    </tr>\n",
       "  </thead>\n",
       "  <tbody>\n",
       "    <tr>\n",
       "      <th>또치</th>\n",
       "      <td>5</td>\n",
       "      <td>3</td>\n",
       "      <td>0</td>\n",
       "      <td>0</td>\n",
       "      <td>2</td>\n",
       "    </tr>\n",
       "    <tr>\n",
       "      <th>둘리</th>\n",
       "      <td>2</td>\n",
       "      <td>0</td>\n",
       "      <td>0</td>\n",
       "      <td>1</td>\n",
       "      <td>4</td>\n",
       "    </tr>\n",
       "    <tr>\n",
       "      <th>희동</th>\n",
       "      <td>0</td>\n",
       "      <td>0</td>\n",
       "      <td>4</td>\n",
       "      <td>3</td>\n",
       "      <td>1</td>\n",
       "    </tr>\n",
       "    <tr>\n",
       "      <th>마이콜</th>\n",
       "      <td>4</td>\n",
       "      <td>0</td>\n",
       "      <td>4</td>\n",
       "      <td>5</td>\n",
       "      <td>0</td>\n",
       "    </tr>\n",
       "  </tbody>\n",
       "</table>\n",
       "</div>"
      ],
      "text/plain": [
       "     두바이  뉴욕  런던  멜번  도쿄\n",
       "또치     5   3   0   0   2\n",
       "둘리     2   0   0   1   4\n",
       "희동     0   0   4   3   1\n",
       "마이콜    4   0   4   5   0"
      ]
     },
     "execution_count": 1,
     "metadata": {},
     "output_type": "execute_result"
    }
   ],
   "source": [
    "from scipy import spatial\n",
    "# 여행지 평점데이터 샘플 생성\n",
    "\n",
    "# sample data set matrix\n",
    "columns = [\"두바이\",\"뉴욕\",\"런던\",\"멜번\",\"도쿄\"]\n",
    "index = [\"또치\", \"둘리\", \"희동\", \"마이콜\"]\n",
    "\n",
    "data = np.array([\n",
    " [5,3,0,0,2],\n",
    " [2,0,0,1,4],\n",
    " [0,0,4,3,1],\n",
    " [4,0,4,5,0],\n",
    "])\n",
    "\n",
    "sample_df = pd.DataFrame(data, columns=columns, index=index)\n",
    "sample_df"
   ]
  },
  {
   "cell_type": "markdown",
   "metadata": {},
   "source": [
    "#### 2. 샘플데이터를 기반으로 유사도 행렬 생성"
   ]
  },
  {
   "cell_type": "markdown",
   "metadata": {},
   "source": [
    "- 유사도 측정함수 정의"
   ]
  },
  {
   "cell_type": "code",
   "execution_count": 6,
   "metadata": {},
   "outputs": [],
   "source": [
    "def Euclidean_Distance_Similarity(vector_1, vector_2):\n",
    "    \n",
    "    ## 샘플데이터에서 데이터가 0인 것들은 먼저 제거해줘야 하는데 방법은 아래와 같다.\n",
    "    ## 0으로 비어있는 데이터 제거\n",
    "    idx = np.array(vector_1).nonzero()[0]\n",
    "    vector_1 = np.array(vector_1[idx])\n",
    "    vector_2 = np.array(vector_2[idx])\n",
    "    \n",
    "#     idx = np.array(vector_2).nonzero()[0]\n",
    "#     vector_1 = np.array(vector_1[idx])\n",
    "#     vector_2 = np.array(vector_2[idx])\n",
    "    \n",
    "    return np.linalg.norm(vector_1 - vector_2)\n",
    "\n",
    "def Cosine_Similarity(vector_1, vector_2):\n",
    "    \n",
    "    ## 0으로 비어있는 데이터 제거\n",
    "    idx = np.array(vector_1).nonzero()[0]\n",
    "    vector_1 = np.array(vector_1[idx])\n",
    "    vector_2 = np.array(vector_2[idx])\n",
    "    \n",
    "#     idx = np.array(vector_2).nonzero()[0]\n",
    "#     vector_1 = np.array(vector_1[idx])\n",
    "#     vector_2 = np.array(vector_2[idx])\n",
    "    \n",
    "    return 1 - spatial.distance.cosine(vector_1, vector_2)"
   ]
  },
  {
   "cell_type": "markdown",
   "metadata": {},
   "source": [
    "- 유사도 행렬 산출하는 함수정의"
   ]
  },
  {
   "cell_type": "code",
   "execution_count": 7,
   "metadata": {},
   "outputs": [],
   "source": [
    "def similarity_matrix(sample_df, similarity_function):\n",
    "    \n",
    "    index = sample_df.index\n",
    "    \n",
    "    matrix = []\n",
    "    # sample_df의 로우를 하나씩 돌면서 데이터를 가져옴\n",
    "    for idx_1, value_1 in sample_df.iterrows():\n",
    "        row = []\n",
    "        for idx_2, value_2 in sample_df.iterrows():\n",
    "            row.append(similarity_function(value_1, value_2))\n",
    "        matrix.append(row)\n",
    "        \n",
    "    return pd.DataFrame(matrix, columns = index, index=index)"
   ]
  },
  {
   "cell_type": "code",
   "execution_count": 8,
   "metadata": {},
   "outputs": [
    {
     "data": {
      "text/html": [
       "<div>\n",
       "<style scoped>\n",
       "    .dataframe tbody tr th:only-of-type {\n",
       "        vertical-align: middle;\n",
       "    }\n",
       "\n",
       "    .dataframe tbody tr th {\n",
       "        vertical-align: top;\n",
       "    }\n",
       "\n",
       "    .dataframe thead th {\n",
       "        text-align: right;\n",
       "    }\n",
       "</style>\n",
       "<table border=\"1\" class=\"dataframe\">\n",
       "  <thead>\n",
       "    <tr style=\"text-align: right;\">\n",
       "      <th></th>\n",
       "      <th>또치</th>\n",
       "      <th>둘리</th>\n",
       "      <th>희동</th>\n",
       "      <th>마이콜</th>\n",
       "    </tr>\n",
       "  </thead>\n",
       "  <tbody>\n",
       "    <tr>\n",
       "      <th>또치</th>\n",
       "      <td>1.000000</td>\n",
       "      <td>0.652929</td>\n",
       "      <td>0.324443</td>\n",
       "      <td>0.811107</td>\n",
       "    </tr>\n",
       "    <tr>\n",
       "      <th>둘리</th>\n",
       "      <td>0.729397</td>\n",
       "      <td>1.000000</td>\n",
       "      <td>0.483046</td>\n",
       "      <td>0.443039</td>\n",
       "    </tr>\n",
       "    <tr>\n",
       "      <th>희동</th>\n",
       "      <td>0.196116</td>\n",
       "      <td>0.332956</td>\n",
       "      <td>1.000000</td>\n",
       "      <td>0.949474</td>\n",
       "    </tr>\n",
       "    <tr>\n",
       "      <th>마이콜</th>\n",
       "      <td>0.529813</td>\n",
       "      <td>0.770054</td>\n",
       "      <td>0.821210</td>\n",
       "      <td>1.000000</td>\n",
       "    </tr>\n",
       "  </tbody>\n",
       "</table>\n",
       "</div>"
      ],
      "text/plain": [
       "           또치        둘리        희동       마이콜\n",
       "또치   1.000000  0.652929  0.324443  0.811107\n",
       "둘리   0.729397  1.000000  0.483046  0.443039\n",
       "희동   0.196116  0.332956  1.000000  0.949474\n",
       "마이콜  0.529813  0.770054  0.821210  1.000000"
      ]
     },
     "execution_count": 8,
     "metadata": {},
     "output_type": "execute_result"
    }
   ],
   "source": [
    "sm_df =similarity_matrix(sample_df, Cosine_Similarity)\n",
    "sm_df"
   ]
  },
  {
   "cell_type": "markdown",
   "metadata": {},
   "source": [
    "#### 3. 유사도에 대한 평균값 산출 (산출수단 : Mean Score)"
   ]
  },
  {
   "cell_type": "code",
   "execution_count": 9,
   "metadata": {},
   "outputs": [],
   "source": [
    "# 추천할 대상, 유사한 데이터를 몇개까지 사용할지 결정\n",
    "target, closer_count = '또치', 2"
   ]
  },
  {
   "cell_type": "code",
   "execution_count": 10,
   "metadata": {},
   "outputs": [
    {
     "data": {
      "text/html": [
       "<div>\n",
       "<style scoped>\n",
       "    .dataframe tbody tr th:only-of-type {\n",
       "        vertical-align: middle;\n",
       "    }\n",
       "\n",
       "    .dataframe tbody tr th {\n",
       "        vertical-align: top;\n",
       "    }\n",
       "\n",
       "    .dataframe thead th {\n",
       "        text-align: right;\n",
       "    }\n",
       "</style>\n",
       "<table border=\"1\" class=\"dataframe\">\n",
       "  <thead>\n",
       "    <tr style=\"text-align: right;\">\n",
       "      <th></th>\n",
       "      <th>또치</th>\n",
       "      <th>둘리</th>\n",
       "      <th>희동</th>\n",
       "      <th>마이콜</th>\n",
       "    </tr>\n",
       "  </thead>\n",
       "  <tbody>\n",
       "    <tr>\n",
       "      <th>둘리</th>\n",
       "      <td>0.729397</td>\n",
       "      <td>1.000000</td>\n",
       "      <td>0.483046</td>\n",
       "      <td>0.443039</td>\n",
       "    </tr>\n",
       "    <tr>\n",
       "      <th>희동</th>\n",
       "      <td>0.196116</td>\n",
       "      <td>0.332956</td>\n",
       "      <td>1.000000</td>\n",
       "      <td>0.949474</td>\n",
       "    </tr>\n",
       "    <tr>\n",
       "      <th>마이콜</th>\n",
       "      <td>0.529813</td>\n",
       "      <td>0.770054</td>\n",
       "      <td>0.821210</td>\n",
       "      <td>1.000000</td>\n",
       "    </tr>\n",
       "  </tbody>\n",
       "</table>\n",
       "</div>"
      ],
      "text/plain": [
       "           또치        둘리        희동       마이콜\n",
       "둘리   0.729397  1.000000  0.483046  0.443039\n",
       "희동   0.196116  0.332956  1.000000  0.949474\n",
       "마이콜  0.529813  0.770054  0.821210  1.000000"
      ]
     },
     "execution_count": 10,
     "metadata": {},
     "output_type": "execute_result"
    }
   ],
   "source": [
    "ms_df = sm_df.drop(target)\n",
    "ms_df"
   ]
  },
  {
   "cell_type": "code",
   "execution_count": 11,
   "metadata": {},
   "outputs": [
    {
     "data": {
      "text/html": [
       "<div>\n",
       "<style scoped>\n",
       "    .dataframe tbody tr th:only-of-type {\n",
       "        vertical-align: middle;\n",
       "    }\n",
       "\n",
       "    .dataframe tbody tr th {\n",
       "        vertical-align: top;\n",
       "    }\n",
       "\n",
       "    .dataframe thead th {\n",
       "        text-align: right;\n",
       "    }\n",
       "</style>\n",
       "<table border=\"1\" class=\"dataframe\">\n",
       "  <thead>\n",
       "    <tr style=\"text-align: right;\">\n",
       "      <th></th>\n",
       "      <th>또치</th>\n",
       "      <th>둘리</th>\n",
       "      <th>희동</th>\n",
       "      <th>마이콜</th>\n",
       "    </tr>\n",
       "  </thead>\n",
       "  <tbody>\n",
       "    <tr>\n",
       "      <th>둘리</th>\n",
       "      <td>0.729397</td>\n",
       "      <td>1.000000</td>\n",
       "      <td>0.483046</td>\n",
       "      <td>0.443039</td>\n",
       "    </tr>\n",
       "    <tr>\n",
       "      <th>마이콜</th>\n",
       "      <td>0.529813</td>\n",
       "      <td>0.770054</td>\n",
       "      <td>0.821210</td>\n",
       "      <td>1.000000</td>\n",
       "    </tr>\n",
       "    <tr>\n",
       "      <th>희동</th>\n",
       "      <td>0.196116</td>\n",
       "      <td>0.332956</td>\n",
       "      <td>1.000000</td>\n",
       "      <td>0.949474</td>\n",
       "    </tr>\n",
       "  </tbody>\n",
       "</table>\n",
       "</div>"
      ],
      "text/plain": [
       "           또치        둘리        희동       마이콜\n",
       "둘리   0.729397  1.000000  0.483046  0.443039\n",
       "마이콜  0.529813  0.770054  0.821210  1.000000\n",
       "희동   0.196116  0.332956  1.000000  0.949474"
      ]
     },
     "execution_count": 11,
     "metadata": {},
     "output_type": "execute_result"
    }
   ],
   "source": [
    "## 유사도값을 내림차순으로 정렬\n",
    "ms_df = ms_df.sort_values(target, ascending = False)\n",
    "ms_df"
   ]
  },
  {
   "cell_type": "code",
   "execution_count": 12,
   "metadata": {},
   "outputs": [
    {
     "data": {
      "text/html": [
       "<div>\n",
       "<style scoped>\n",
       "    .dataframe tbody tr th:only-of-type {\n",
       "        vertical-align: middle;\n",
       "    }\n",
       "\n",
       "    .dataframe tbody tr th {\n",
       "        vertical-align: top;\n",
       "    }\n",
       "\n",
       "    .dataframe thead th {\n",
       "        text-align: right;\n",
       "    }\n",
       "</style>\n",
       "<table border=\"1\" class=\"dataframe\">\n",
       "  <thead>\n",
       "    <tr style=\"text-align: right;\">\n",
       "      <th></th>\n",
       "      <th>또치</th>\n",
       "      <th>둘리</th>\n",
       "      <th>희동</th>\n",
       "      <th>마이콜</th>\n",
       "    </tr>\n",
       "  </thead>\n",
       "  <tbody>\n",
       "    <tr>\n",
       "      <th>둘리</th>\n",
       "      <td>0.729397</td>\n",
       "      <td>1.000000</td>\n",
       "      <td>0.483046</td>\n",
       "      <td>0.443039</td>\n",
       "    </tr>\n",
       "    <tr>\n",
       "      <th>마이콜</th>\n",
       "      <td>0.529813</td>\n",
       "      <td>0.770054</td>\n",
       "      <td>0.821210</td>\n",
       "      <td>1.000000</td>\n",
       "    </tr>\n",
       "  </tbody>\n",
       "</table>\n",
       "</div>"
      ],
      "text/plain": [
       "           또치        둘리        희동       마이콜\n",
       "둘리   0.729397  1.000000  0.483046  0.443039\n",
       "마이콜  0.529813  0.770054  0.821210  1.000000"
      ]
     },
     "execution_count": 12,
     "metadata": {},
     "output_type": "execute_result"
    }
   ],
   "source": [
    "## 사용자와 유사도가 높은 사용자를 필터링\n",
    "## 가까운 2명만 산출\n",
    "ms_df = ms_df[:closer_count]\n",
    "ms_df"
   ]
  },
  {
   "cell_type": "code",
   "execution_count": 13,
   "metadata": {},
   "outputs": [
    {
     "data": {
      "text/html": [
       "<div>\n",
       "<style scoped>\n",
       "    .dataframe tbody tr th:only-of-type {\n",
       "        vertical-align: middle;\n",
       "    }\n",
       "\n",
       "    .dataframe tbody tr th {\n",
       "        vertical-align: top;\n",
       "    }\n",
       "\n",
       "    .dataframe thead th {\n",
       "        text-align: right;\n",
       "    }\n",
       "</style>\n",
       "<table border=\"1\" class=\"dataframe\">\n",
       "  <thead>\n",
       "    <tr style=\"text-align: right;\">\n",
       "      <th></th>\n",
       "      <th>두바이</th>\n",
       "      <th>뉴욕</th>\n",
       "      <th>런던</th>\n",
       "      <th>멜번</th>\n",
       "      <th>도쿄</th>\n",
       "    </tr>\n",
       "  </thead>\n",
       "  <tbody>\n",
       "    <tr>\n",
       "      <th>둘리</th>\n",
       "      <td>2</td>\n",
       "      <td>0</td>\n",
       "      <td>0</td>\n",
       "      <td>1</td>\n",
       "      <td>4</td>\n",
       "    </tr>\n",
       "    <tr>\n",
       "      <th>마이콜</th>\n",
       "      <td>4</td>\n",
       "      <td>0</td>\n",
       "      <td>4</td>\n",
       "      <td>5</td>\n",
       "      <td>0</td>\n",
       "    </tr>\n",
       "  </tbody>\n",
       "</table>\n",
       "</div>"
      ],
      "text/plain": [
       "     두바이  뉴욕  런던  멜번  도쿄\n",
       "둘리     2   0   0   1   4\n",
       "마이콜    4   0   4   5   0"
      ]
     },
     "execution_count": 13,
     "metadata": {},
     "output_type": "execute_result"
    }
   ],
   "source": [
    "sample_df.loc[ms_df.index]"
   ]
  },
  {
   "cell_type": "code",
   "execution_count": 14,
   "metadata": {},
   "outputs": [
    {
     "data": {
      "text/plain": [
       "array([0., 0., 0., 0., 0.])"
      ]
     },
     "execution_count": 14,
     "metadata": {},
     "output_type": "execute_result"
    }
   ],
   "source": [
    "# 평균값을 저장할 ndarray를 생성\n",
    "mean = np.zeros(len(sample_df.columns))\n",
    "mean"
   ]
  },
  {
   "cell_type": "code",
   "execution_count": 15,
   "metadata": {},
   "outputs": [
    {
     "data": {
      "text/plain": [
       "두바이    3.0\n",
       "뉴욕     0.0\n",
       "런던     2.0\n",
       "멜번     3.0\n",
       "도쿄     2.0\n",
       "Name: 둘리, dtype: float64"
      ]
     },
     "execution_count": 15,
     "metadata": {},
     "output_type": "execute_result"
    }
   ],
   "source": [
    "# ms_df의 데이터 평균값을 구함\n",
    "for ms_user in ms_df.index:\n",
    "    mean += sample_df.loc[ms_user]\n",
    "\n",
    "mean /= len(ms_df.index)\n",
    "mean"
   ]
  },
  {
   "cell_type": "code",
   "execution_count": 16,
   "metadata": {},
   "outputs": [],
   "source": [
    "pre_df = pd.DataFrame(columns = sample_df.columns)\n",
    "pre_df.loc['유저'] = sample_df.loc[target]\n",
    "pre_df.loc['평균'] = mean"
   ]
  },
  {
   "cell_type": "code",
   "execution_count": 17,
   "metadata": {},
   "outputs": [
    {
     "data": {
      "text/html": [
       "<div>\n",
       "<style scoped>\n",
       "    .dataframe tbody tr th:only-of-type {\n",
       "        vertical-align: middle;\n",
       "    }\n",
       "\n",
       "    .dataframe tbody tr th {\n",
       "        vertical-align: top;\n",
       "    }\n",
       "\n",
       "    .dataframe thead th {\n",
       "        text-align: right;\n",
       "    }\n",
       "</style>\n",
       "<table border=\"1\" class=\"dataframe\">\n",
       "  <thead>\n",
       "    <tr style=\"text-align: right;\">\n",
       "      <th></th>\n",
       "      <th>두바이</th>\n",
       "      <th>뉴욕</th>\n",
       "      <th>런던</th>\n",
       "      <th>멜번</th>\n",
       "      <th>도쿄</th>\n",
       "    </tr>\n",
       "  </thead>\n",
       "  <tbody>\n",
       "    <tr>\n",
       "      <th>유저</th>\n",
       "      <td>5</td>\n",
       "      <td>3</td>\n",
       "      <td>0</td>\n",
       "      <td>0</td>\n",
       "      <td>2</td>\n",
       "    </tr>\n",
       "    <tr>\n",
       "      <th>평균</th>\n",
       "      <td>3</td>\n",
       "      <td>0</td>\n",
       "      <td>2</td>\n",
       "      <td>3</td>\n",
       "      <td>2</td>\n",
       "    </tr>\n",
       "  </tbody>\n",
       "</table>\n",
       "</div>"
      ],
      "text/plain": [
       "   두바이 뉴욕 런던 멜번 도쿄\n",
       "유저   5  3  0  0  2\n",
       "평균   3  0  2  3  2"
      ]
     },
     "execution_count": 17,
     "metadata": {},
     "output_type": "execute_result"
    }
   ],
   "source": [
    "pre_df"
   ]
  },
  {
   "cell_type": "markdown",
   "metadata": {},
   "source": [
    "- 위의 작업들을 한번에 처리할 수 있는 mean_score 함수 정의"
   ]
  },
  {
   "cell_type": "code",
   "execution_count": 18,
   "metadata": {},
   "outputs": [],
   "source": [
    "def mean_score(sample_df, sm_df, target, closer_count):\n",
    "    ms_df = sm_df.drop(target)\n",
    "    ms_df = ms_df.sort_values(target, ascending = False)\n",
    "    ms_df = ms_df[:closer_count]\n",
    "    ms_df = sample_df.loc[ms_df.index]\n",
    "    \n",
    "    # 결과데이터 생성\n",
    "    pred_df = pd.DataFrame(columns = sample_df.columns)\n",
    "    pred_df.loc['유저'] = sample_df.loc[target]\n",
    "    pred_df.loc['평균'] = ms_df.mean()\n",
    "   \n",
    "    return pred_df"
   ]
  },
  {
   "cell_type": "code",
   "execution_count": 19,
   "metadata": {},
   "outputs": [
    {
     "data": {
      "text/html": [
       "<div>\n",
       "<style scoped>\n",
       "    .dataframe tbody tr th:only-of-type {\n",
       "        vertical-align: middle;\n",
       "    }\n",
       "\n",
       "    .dataframe tbody tr th {\n",
       "        vertical-align: top;\n",
       "    }\n",
       "\n",
       "    .dataframe thead th {\n",
       "        text-align: right;\n",
       "    }\n",
       "</style>\n",
       "<table border=\"1\" class=\"dataframe\">\n",
       "  <thead>\n",
       "    <tr style=\"text-align: right;\">\n",
       "      <th></th>\n",
       "      <th>두바이</th>\n",
       "      <th>뉴욕</th>\n",
       "      <th>런던</th>\n",
       "      <th>멜번</th>\n",
       "      <th>도쿄</th>\n",
       "    </tr>\n",
       "  </thead>\n",
       "  <tbody>\n",
       "    <tr>\n",
       "      <th>유저</th>\n",
       "      <td>5</td>\n",
       "      <td>3</td>\n",
       "      <td>0</td>\n",
       "      <td>0</td>\n",
       "      <td>2</td>\n",
       "    </tr>\n",
       "    <tr>\n",
       "      <th>평균</th>\n",
       "      <td>3</td>\n",
       "      <td>0</td>\n",
       "      <td>2</td>\n",
       "      <td>3</td>\n",
       "      <td>2</td>\n",
       "    </tr>\n",
       "  </tbody>\n",
       "</table>\n",
       "</div>"
      ],
      "text/plain": [
       "   두바이 뉴욕 런던 멜번 도쿄\n",
       "유저   5  3  0  0  2\n",
       "평균   3  0  2  3  2"
      ]
     },
     "execution_count": 19,
     "metadata": {},
     "output_type": "execute_result"
    }
   ],
   "source": [
    "target, closer_count = \"또치\", 2\n",
    "\n",
    "pred_df = mean_score(sample_df, sm_df, target, closer_count)\n",
    "pred_df"
   ]
  },
  {
   "cell_type": "markdown",
   "metadata": {},
   "source": [
    "#### 4. 추천여행지 출력"
   ]
  },
  {
   "cell_type": "code",
   "execution_count": 20,
   "metadata": {},
   "outputs": [
    {
     "data": {
      "text/html": [
       "<div>\n",
       "<style scoped>\n",
       "    .dataframe tbody tr th:only-of-type {\n",
       "        vertical-align: middle;\n",
       "    }\n",
       "\n",
       "    .dataframe tbody tr th {\n",
       "        vertical-align: top;\n",
       "    }\n",
       "\n",
       "    .dataframe thead th {\n",
       "        text-align: right;\n",
       "    }\n",
       "</style>\n",
       "<table border=\"1\" class=\"dataframe\">\n",
       "  <thead>\n",
       "    <tr style=\"text-align: right;\">\n",
       "      <th></th>\n",
       "      <th>유저</th>\n",
       "      <th>평균</th>\n",
       "    </tr>\n",
       "  </thead>\n",
       "  <tbody>\n",
       "    <tr>\n",
       "      <th>두바이</th>\n",
       "      <td>5</td>\n",
       "      <td>3</td>\n",
       "    </tr>\n",
       "    <tr>\n",
       "      <th>뉴욕</th>\n",
       "      <td>3</td>\n",
       "      <td>0</td>\n",
       "    </tr>\n",
       "    <tr>\n",
       "      <th>런던</th>\n",
       "      <td>0</td>\n",
       "      <td>2</td>\n",
       "    </tr>\n",
       "    <tr>\n",
       "      <th>멜번</th>\n",
       "      <td>0</td>\n",
       "      <td>3</td>\n",
       "    </tr>\n",
       "    <tr>\n",
       "      <th>도쿄</th>\n",
       "      <td>2</td>\n",
       "      <td>2</td>\n",
       "    </tr>\n",
       "  </tbody>\n",
       "</table>\n",
       "</div>"
      ],
      "text/plain": [
       "    유저 평균\n",
       "두바이  5  3\n",
       "뉴욕   3  0\n",
       "런던   0  2\n",
       "멜번   0  3\n",
       "도쿄   2  2"
      ]
     },
     "execution_count": 20,
     "metadata": {},
     "output_type": "execute_result"
    }
   ],
   "source": [
    "recommand_df = pred_df.T\n",
    "recommand_df"
   ]
  },
  {
   "cell_type": "code",
   "execution_count": 21,
   "metadata": {},
   "outputs": [
    {
     "data": {
      "text/html": [
       "<div>\n",
       "<style scoped>\n",
       "    .dataframe tbody tr th:only-of-type {\n",
       "        vertical-align: middle;\n",
       "    }\n",
       "\n",
       "    .dataframe tbody tr th {\n",
       "        vertical-align: top;\n",
       "    }\n",
       "\n",
       "    .dataframe thead th {\n",
       "        text-align: right;\n",
       "    }\n",
       "</style>\n",
       "<table border=\"1\" class=\"dataframe\">\n",
       "  <thead>\n",
       "    <tr style=\"text-align: right;\">\n",
       "      <th></th>\n",
       "      <th>유저</th>\n",
       "      <th>평균</th>\n",
       "    </tr>\n",
       "  </thead>\n",
       "  <tbody>\n",
       "    <tr>\n",
       "      <th>런던</th>\n",
       "      <td>0</td>\n",
       "      <td>2</td>\n",
       "    </tr>\n",
       "    <tr>\n",
       "      <th>멜번</th>\n",
       "      <td>0</td>\n",
       "      <td>3</td>\n",
       "    </tr>\n",
       "  </tbody>\n",
       "</table>\n",
       "</div>"
      ],
      "text/plain": [
       "   유저 평균\n",
       "런던  0  2\n",
       "멜번  0  3"
      ]
     },
     "execution_count": 21,
     "metadata": {},
     "output_type": "execute_result"
    }
   ],
   "source": [
    "recommand_df = recommand_df[recommand_df[\"유저\"]==0]\n",
    "recommand_df"
   ]
  },
  {
   "cell_type": "code",
   "execution_count": 22,
   "metadata": {},
   "outputs": [
    {
     "data": {
      "text/html": [
       "<div>\n",
       "<style scoped>\n",
       "    .dataframe tbody tr th:only-of-type {\n",
       "        vertical-align: middle;\n",
       "    }\n",
       "\n",
       "    .dataframe tbody tr th {\n",
       "        vertical-align: top;\n",
       "    }\n",
       "\n",
       "    .dataframe thead th {\n",
       "        text-align: right;\n",
       "    }\n",
       "</style>\n",
       "<table border=\"1\" class=\"dataframe\">\n",
       "  <thead>\n",
       "    <tr style=\"text-align: right;\">\n",
       "      <th></th>\n",
       "      <th>유저</th>\n",
       "      <th>평균</th>\n",
       "    </tr>\n",
       "  </thead>\n",
       "  <tbody>\n",
       "    <tr>\n",
       "      <th>멜번</th>\n",
       "      <td>0</td>\n",
       "      <td>3</td>\n",
       "    </tr>\n",
       "    <tr>\n",
       "      <th>런던</th>\n",
       "      <td>0</td>\n",
       "      <td>2</td>\n",
       "    </tr>\n",
       "  </tbody>\n",
       "</table>\n",
       "</div>"
      ],
      "text/plain": [
       "   유저 평균\n",
       "멜번  0  3\n",
       "런던  0  2"
      ]
     },
     "execution_count": 22,
     "metadata": {},
     "output_type": "execute_result"
    }
   ],
   "source": [
    "recommand_df = recommand_df.sort_values(\"평균\",ascending=False)\n",
    "recommand_df"
   ]
  },
  {
   "cell_type": "code",
   "execution_count": 23,
   "metadata": {},
   "outputs": [
    {
     "data": {
      "text/plain": [
       "['멜번', '런던']"
      ]
     },
     "execution_count": 23,
     "metadata": {},
     "output_type": "execute_result"
    }
   ],
   "source": [
    "list(recommand_df.index)"
   ]
  },
  {
   "cell_type": "markdown",
   "metadata": {},
   "source": [
    "- 위의 작업들을 한번에 처리할 수 있는 recommand 함수 정의"
   ]
  },
  {
   "cell_type": "code",
   "execution_count": 24,
   "metadata": {},
   "outputs": [],
   "source": [
    "def recommand(pred_df):\n",
    "    recommand_df = pred_df.T\n",
    "    recommand_df = recommand_df[recommand_df[\"유저\"]==0]\n",
    "    recommand_df = recommand_df.sort_values(\"평균\",ascending=False)\n",
    "    return list(recommand_df.index)"
   ]
  },
  {
   "cell_type": "code",
   "execution_count": 25,
   "metadata": {},
   "outputs": [
    {
     "data": {
      "text/plain": [
       "['멜번', '런던']"
      ]
     },
     "execution_count": 25,
     "metadata": {},
     "output_type": "execute_result"
    }
   ],
   "source": [
    "recommand(pred_df)"
   ]
  },
  {
   "cell_type": "markdown",
   "metadata": {},
   "source": [
    "#### 5. run function 생성"
   ]
  },
  {
   "cell_type": "code",
   "execution_count": 26,
   "metadata": {},
   "outputs": [],
   "source": [
    "def run(sample_df, similarity_func, target, closer_count):\n",
    "    \n",
    "    # 유사도 행렬 데이터 생성\n",
    "    sm_df = similarity_matrix(sample_df, similarity_func)\n",
    "    \n",
    "    # 유사도가 높은 데이터의 평균값 산출\n",
    "    pred_df = mean_score(sample_df, sm_df, target, closer_count)\n",
    "    \n",
    "    return recommand(pred_df)"
   ]
  },
  {
   "cell_type": "code",
   "execution_count": 27,
   "metadata": {},
   "outputs": [
    {
     "data": {
      "text/plain": [
       "['멜번', '런던']"
      ]
     },
     "execution_count": 27,
     "metadata": {},
     "output_type": "execute_result"
    }
   ],
   "source": [
    "run(sample_df, Cosine_Similarity, '또치', 2)"
   ]
  },
  {
   "cell_type": "code",
   "execution_count": 28,
   "metadata": {},
   "outputs": [
    {
     "data": {
      "text/plain": [
       "['런던', '뉴욕']"
      ]
     },
     "execution_count": 28,
     "metadata": {},
     "output_type": "execute_result"
    }
   ],
   "source": [
    "run(sample_df, Cosine_Similarity, '둘리', 2)"
   ]
  },
  {
   "cell_type": "code",
   "execution_count": 29,
   "metadata": {},
   "outputs": [
    {
     "data": {
      "text/plain": [
       "['두바이', '뉴욕']"
      ]
     },
     "execution_count": 29,
     "metadata": {},
     "output_type": "execute_result"
    }
   ],
   "source": [
    "run(sample_df, Cosine_Similarity, '희동', 2)"
   ]
  },
  {
   "cell_type": "code",
   "execution_count": 30,
   "metadata": {},
   "outputs": [
    {
     "data": {
      "text/plain": [
       "['뉴욕', '도쿄']"
      ]
     },
     "execution_count": 30,
     "metadata": {},
     "output_type": "execute_result"
    }
   ],
   "source": [
    "run(sample_df, Cosine_Similarity, '마이콜', 2)"
   ]
  },
  {
   "cell_type": "markdown",
   "metadata": {},
   "source": [
    "#### 6. 성능평가\n",
    "- 평가수단 : \n",
    "    - MSE(Mean Squared Error) = $\\ \\frac{1}{{n}} \\sum_{i=1}^n(y_{i} - \\hat{y}_{i})^2 $\n",
    "    - RMSE(Root Mean Squared Error) = $\\ \\sqrt{\\frac{1}{{n}} \\sum_{i=1}^n(y_{i} - \\hat{y}_{i})^2} $\n",
    "    - MAE(Mean Absolute Error) = $\\ \\dfrac{1}{n} \\sum_{i=1}^n |y_{i} - \\hat{y}_{i}| $ (직관적이기 때문에 가장 많이 사용됨)\n",
    "    \n",
    "실제값 : $\\ y_{i} $, 예측치 : $\\ \\hat{y}_{i} $"
   ]
  },
  {
   "cell_type": "code",
   "execution_count": 31,
   "metadata": {},
   "outputs": [],
   "source": [
    "def mse(value, pred):\n",
    "    # user 데이터에서 0인 데이터 제거\n",
    "    idx = value.nonzero()[0]\n",
    "    value, pred = np.array(value)[idx], np.array(pred)[idx]\n",
    "    # user 데이터에서 0인 데이터 제거\n",
    "    idx = pred.nonzero()[0]\n",
    "    value, pred = np.array(value)[idx], np.array(pred)[idx]\n",
    "    \n",
    "    # 수식 계산후 결과 리턴\n",
    "    return sum((value - pred)**2) / len(idx)"
   ]
  },
  {
   "cell_type": "code",
   "execution_count": 32,
   "metadata": {},
   "outputs": [
    {
     "data": {
      "text/plain": [
       "2.0"
      ]
     },
     "execution_count": 32,
     "metadata": {},
     "output_type": "execute_result"
    }
   ],
   "source": [
    "mse(pred_df.loc[\"유저\"], pred_df.loc[\"평균\"])"
   ]
  },
  {
   "cell_type": "code",
   "execution_count": 33,
   "metadata": {},
   "outputs": [],
   "source": [
    "def rmse(value, pred):\n",
    "    # user 데이터에서 0인 데이터 제거\n",
    "    idx = value.nonzero()[0]\n",
    "    value, pred = np.array(value)[idx], np.array(pred)[idx]\n",
    "    # user 데이터에서 0인 데이터 제거\n",
    "    idx = pred.nonzero()[0]\n",
    "    value, pred = np.array(value)[idx], np.array(pred)[idx]\n",
    "    # 수식 계산후 결과 리턴\n",
    "    return np.sqrt(sum((value - pred)**2) / len(idx))"
   ]
  },
  {
   "cell_type": "code",
   "execution_count": 34,
   "metadata": {},
   "outputs": [
    {
     "data": {
      "text/plain": [
       "1.4142135623730951"
      ]
     },
     "execution_count": 34,
     "metadata": {},
     "output_type": "execute_result"
    }
   ],
   "source": [
    "rmse(pred_df.loc[\"유저\"], pred_df.loc[\"평균\"])"
   ]
  },
  {
   "cell_type": "code",
   "execution_count": 35,
   "metadata": {},
   "outputs": [],
   "source": [
    "def mae(value, pred):\n",
    "    \n",
    "    # value의 0 데이터 제거\n",
    "    idx = value.nonzero()[0]\n",
    "    value, pred = np.array(value)[idx], np.array(pred)[idx]\n",
    "    \n",
    "    # pred의 0 데이터 제거\n",
    "    idx = pred.nonzero()[0]\n",
    "    value, pred = np.array(value)[idx], np.array(pred)[idx]\n",
    "    \n",
    "    return sum(np.absolute(value - pred)) / len(idx)"
   ]
  },
  {
   "cell_type": "code",
   "execution_count": 36,
   "metadata": {},
   "outputs": [
    {
     "data": {
      "text/plain": [
       "1.0"
      ]
     },
     "execution_count": 36,
     "metadata": {},
     "output_type": "execute_result"
    }
   ],
   "source": [
    "mae(pred_df.loc[\"유저\"], pred_df.loc[\"평균\"])"
   ]
  },
  {
   "cell_type": "code",
   "execution_count": 37,
   "metadata": {},
   "outputs": [],
   "source": [
    "# 전체 추천 모델에 대한 성능평가\n",
    "def evaluate(df, sm_df, closer_count, algorithm):\n",
    "    \n",
    "    # 유저리스트\n",
    "    users = df.index\n",
    "    \n",
    "    # 유저별 evaluate 값의 모음\n",
    "    evaluate_list = []\n",
    "    \n",
    "    # 모든 user에 대해서 mae 값을 구함\n",
    "    for target in users:\n",
    "        # 하나의 유저에 대한 예측 값을 획득\n",
    "        result_df = mean_score(df, sm_df, target, closer_count)\n",
    "        evaluate_list.append(algorithm(result_df.loc[\"유저\"], result_df.loc[\"평균\"]))\n",
    "\n",
    "     # 모든 user의 mae값의 평균을 리턴\n",
    "    return np.average(evaluate_list)"
   ]
  },
  {
   "cell_type": "code",
   "execution_count": 38,
   "metadata": {},
   "outputs": [
    {
     "data": {
      "text/plain": [
       "3.916666666666667"
      ]
     },
     "execution_count": 38,
     "metadata": {},
     "output_type": "execute_result"
    }
   ],
   "source": [
    "evaluate(sample_df, sm_df, 2, mse)"
   ]
  },
  {
   "cell_type": "code",
   "execution_count": 39,
   "metadata": {},
   "outputs": [
    {
     "data": {
      "text/plain": [
       "1.9009287182747576"
      ]
     },
     "execution_count": 39,
     "metadata": {},
     "output_type": "execute_result"
    }
   ],
   "source": [
    "evaluate(sample_df, sm_df, 2, rmse)"
   ]
  },
  {
   "cell_type": "code",
   "execution_count": 40,
   "metadata": {},
   "outputs": [
    {
     "data": {
      "text/plain": [
       "1.666666666666667"
      ]
     },
     "execution_count": 40,
     "metadata": {},
     "output_type": "execute_result"
    }
   ],
   "source": [
    "evaluate(sample_df, sm_df, 2, mae)"
   ]
  }
 ],
 "metadata": {
  "kernelspec": {
   "display_name": "Python 3",
   "language": "python",
   "name": "python3"
  },
  "language_info": {
   "codemirror_mode": {
    "name": "ipython",
    "version": 3
   },
   "file_extension": ".py",
   "mimetype": "text/x-python",
   "name": "python",
   "nbconvert_exporter": "python",
   "pygments_lexer": "ipython3",
   "version": "3.7.1"
  }
 },
 "nbformat": 4,
 "nbformat_minor": 2
}
