{
 "cells": [
  {
   "cell_type": "markdown",
   "metadata": {},
   "source": [
    "#### 기본개념\n",
    "\n",
    "주어진 데이터 집합을 유사한 데이터들의 그룹으로 나누는 것을 '클러스터링'이라고 하고 이렇게 나누어진 유사한 데이터의 그룹을 클러스터라고 한다.\n",
    "\n",
    "클러스터링은 예측문제와 달리 특정한 독립변수와 종속변수의 구분도 없고 학습을 위한 목표값도 필요로 하지 않는 비지도학습의 일종이다."
   ]
  },
  {
   "cell_type": "markdown",
   "metadata": {},
   "source": [
    "#### 많이 쓰이는 클러스터링 기법\n",
    "\n",
    "대부분의 클러스터링 방법들도 예측모형처럼 특정한 목표함수의 값을 최소화 혹은 최대화하지만 예측모형과 달리 다만 목표함수가 명확히 주어지지 않았기 때문에 목표함수의 정의 및 최적화 방법들이 각기 다른 다양한 클러스터링 방법이 존재한다.\n",
    "\n",
    "- K-means\n",
    "- DBSCAN\n",
    "- Spectral Clustering\n",
    "- Affinity Propagation\n",
    "- 계층적 클러스터링(Hierarchical Clustering)"
   ]
  },
  {
   "cell_type": "markdown",
   "metadata": {},
   "source": [
    "#### 가장 많이 쓰이는 클러스터링 성능평가 방법 : 실루엣 계수(silhouette coefficient)\n",
    "\n",
    "각각의 데이터가 원래 어떤 클러스터에 속해있었는지 정답이 없을 경우 클러스터링의 성능을 평가하기 위한 방법이다. 모든 데이터 쌍(i, j)에 대해 거리 혹은 비유사도를 구한다. 이 결과를 이용하여 모든 데이터 i에  대해 다음 값을 구한다.\n",
    "\n",
    "$\\ s = \\dfrac{b - a}{\\max{(a, b)}} $"
   ]
  },
  {
   "cell_type": "markdown",
   "metadata": {},
   "source": [
    "#### 클러스터간의 비유사도 혹은 거리를 측정하는 방법\n",
    "\n",
    "1. 비귀납적 방법 : single, complete, average\n",
    "2. 귀납적 방법 : median, weighted, Ward"
   ]
  },
  {
   "cell_type": "markdown",
   "metadata": {},
   "source": [
    "#### DBSCAN에서는 두가지 하이퍼 파라미터를 이용해 클러스터링을 진행한다.\n",
    "\n",
    "1. 엡실론 : 이웃을 정의하기 위한 거리\n",
    "2. MinPts : 밀집지역을 정의하기 위해 필요한 이웃의 개수"
   ]
  }
 ],
 "metadata": {
  "kernelspec": {
   "display_name": "Python 3",
   "language": "python",
   "name": "python3"
  },
  "language_info": {
   "codemirror_mode": {
    "name": "ipython",
    "version": 3
   },
   "file_extension": ".py",
   "mimetype": "text/x-python",
   "name": "python",
   "nbconvert_exporter": "python",
   "pygments_lexer": "ipython3",
   "version": "3.7.1"
  }
 },
 "nbformat": 4,
 "nbformat_minor": 2
}
