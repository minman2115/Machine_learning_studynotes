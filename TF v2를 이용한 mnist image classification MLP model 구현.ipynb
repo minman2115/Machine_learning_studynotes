{
  "nbformat": 4,
  "nbformat_minor": 0,
  "metadata": {
    "colab": {
      "name": "3_2.mnist_mlp.ipynb",
      "provenance": [],
      "collapsed_sections": []
    },
    "language_info": {
      "codemirror_mode": {
        "name": "ipython",
        "version": 3
      },
      "file_extension": ".py",
      "mimetype": "text/x-python",
      "name": "python",
      "nbconvert_exporter": "python",
      "pygments_lexer": "ipython3",
      "version": "3.5.6"
    },
    "kernelspec": {
      "name": "python3",
      "display_name": "Python 3"
    },
    "accelerator": "GPU"
  },
  "cells": [
    {
      "cell_type": "markdown",
      "metadata": {
        "id": "sOZFfQ39IGMC",
        "colab_type": "text"
      },
      "source": [
        "Deep_Learning_Studynotes_(20190713)\n",
        "\n",
        "study program : https://www.fastcampus.co.kr/data_camp_deeplearning\n",
        "\n",
        "실습환경 : Google colab gpu 엔진\n",
        "\n",
        "### step 1) Importing Libraries"
      ]
    },
    {
      "cell_type": "code",
      "metadata": {
        "id": "ASipxOKDyzfW",
        "colab_type": "code",
        "colab": {}
      },
      "source": [
        "!pip install --upgrade tensorflow"
      ],
      "execution_count": 0,
      "outputs": []
    },
    {
      "cell_type": "code",
      "metadata": {
        "id": "S-uMSodQIGMD",
        "colab_type": "code",
        "outputId": "c2bd6ba1-6443-4aa8-efb3-d29bae5f993d",
        "colab": {
          "base_uri": "https://localhost:8080/",
          "height": 52
        }
      },
      "source": [
        "import tensorflow as tf\n",
        "from tensorflow import keras\n",
        "from tensorflow.keras.utils import to_categorical\n",
        "import numpy as np\n",
        "import matplotlib.pyplot as plt\n",
        "import os\n",
        "\n",
        "print(tf.__version__)\n",
        "print(keras.__version__)"
      ],
      "execution_count": 0,
      "outputs": [
        {
          "output_type": "stream",
          "text": [
            "2.1.0\n",
            "2.2.4-tf\n"
          ],
          "name": "stdout"
        }
      ]
    },
    {
      "cell_type": "markdown",
      "metadata": {
        "id": "FBCOVvqvIGMH",
        "colab_type": "text"
      },
      "source": [
        "### step 2) Enable Eager Mode 설정"
      ]
    },
    {
      "cell_type": "code",
      "metadata": {
        "id": "25Ge0rX6IGMI",
        "colab_type": "code",
        "colab": {}
      },
      "source": [
        "if tf.__version__ < '2.0.0':\n",
        "    tf.enable_eager_execution()"
      ],
      "execution_count": 0,
      "outputs": []
    },
    {
      "cell_type": "markdown",
      "metadata": {
        "id": "hrJxSG1rIGMK",
        "colab_type": "text"
      },
      "source": [
        "### step 3) Hyper Parameters 셋팅"
      ]
    },
    {
      "cell_type": "code",
      "metadata": {
        "id": "mjzvEJOEIGML",
        "colab_type": "code",
        "colab": {}
      },
      "source": [
        "learning_rate = 0.001\n",
        "training_epochs = 30\n",
        "batch_size = 100\n",
        "n_class = 10"
      ],
      "execution_count": 0,
      "outputs": []
    },
    {
      "cell_type": "markdown",
      "metadata": {
        "id": "95uJRgrxIGMO",
        "colab_type": "text"
      },
      "source": [
        "### step 4) MNIST/Fashion MNIST Data 선택"
      ]
    },
    {
      "cell_type": "code",
      "metadata": {
        "id": "N2Yy_ncDIGMP",
        "colab_type": "code",
        "colab": {}
      },
      "source": [
        "# ## MNIST Dataset #########################################################\n",
        "# mnist = keras.datasets.mnist\n",
        "# class_names = ['0', '1', '2', '3', '4', '5', '6', '7', '8', '9']\n",
        "# ##########################################################################\n",
        "\n",
        "# Fashion MNIST Dataset #################################################\n",
        "mnist = keras.datasets.fashion_mnist\n",
        "class_names = ['T-shirt/top', 'Trouser', 'Pullover', 'Dress', 'Coat', 'Sandal', 'Shirt', 'Sneaker', 'Bag', 'Ankle boot']\n",
        "#########################################################################"
      ],
      "execution_count": 0,
      "outputs": []
    },
    {
      "cell_type": "markdown",
      "metadata": {
        "id": "MnrKuRCkIGMQ",
        "colab_type": "text"
      },
      "source": [
        "### step 5) Datasets 임포트"
      ]
    },
    {
      "cell_type": "code",
      "metadata": {
        "id": "8H1IArUlIGMR",
        "colab_type": "code",
        "outputId": "f1c815ee-d437-4bb3-cfc2-91fe6df15b28",
        "colab": {
          "base_uri": "https://localhost:8080/",
          "height": 158
        }
      },
      "source": [
        "(train_images, train_labels), (test_images, test_labels) = mnist.load_data()  "
      ],
      "execution_count": 0,
      "outputs": [
        {
          "output_type": "stream",
          "text": [
            "Downloading data from https://storage.googleapis.com/tensorflow/tf-keras-datasets/train-labels-idx1-ubyte.gz\n",
            "32768/29515 [=================================] - 0s 0us/step\n",
            "Downloading data from https://storage.googleapis.com/tensorflow/tf-keras-datasets/train-images-idx3-ubyte.gz\n",
            "26427392/26421880 [==============================] - 0s 0us/step\n",
            "Downloading data from https://storage.googleapis.com/tensorflow/tf-keras-datasets/t10k-labels-idx1-ubyte.gz\n",
            "8192/5148 [===============================================] - 0s 0us/step\n",
            "Downloading data from https://storage.googleapis.com/tensorflow/tf-keras-datasets/t10k-images-idx3-ubyte.gz\n",
            "4423680/4422102 [==============================] - 0s 0us/step\n"
          ],
          "name": "stdout"
        }
      ]
    },
    {
      "cell_type": "markdown",
      "metadata": {
        "id": "VPK6u6jiVBPb",
        "colab_type": "text"
      },
      "source": [
        "### step 6) 데이터 셋팅"
      ]
    },
    {
      "cell_type": "code",
      "metadata": {
        "id": "uDal4Zv5IGMV",
        "colab_type": "code",
        "colab": {}
      },
      "source": [
        "n_train = train_images.shape[0]\n",
        "n_test = test_images.shape[0]\n",
        "\n",
        "train_images = train_images.astype(np.float32) / 255.\n",
        "test_images = test_images.astype(np.float32) / 255.\n",
        "    \n",
        "train_labels = to_categorical(train_labels, 10)\n",
        "test_labels = to_categorical(test_labels, 10)    \n",
        "    \n",
        "train_dataset = tf.data.Dataset.from_tensor_slices((train_images, train_labels)).shuffle(buffer_size=100000).batch(batch_size)\n",
        "test_dataset = tf.data.Dataset.from_tensor_slices((test_images, test_labels)).batch(batch_size)"
      ],
      "execution_count": 0,
      "outputs": []
    },
    {
      "cell_type": "markdown",
      "metadata": {
        "id": "6rP6iNWdIGMX",
        "colab_type": "text"
      },
      "source": [
        "### step 7) Model 설계"
      ]
    },
    {
      "cell_type": "code",
      "metadata": {
        "id": "mpuLhDfJIGMY",
        "colab_type": "code",
        "colab": {}
      },
      "source": [
        "def create_model():\n",
        "    model = keras.Sequential()\n",
        "    model.add(keras.layers.Flatten(input_shape=(28,28)))\n",
        "    ## 기존에 이미지가 28 X 28 사이즈이므로 \n",
        "    ## 백터로 일자로 펴서 데이터를 넣어줘야 하기 때문에 위와 같이 코딩함\n",
        "    model.add(keras.layers.Dense(256,activation='relu'))\n",
        "    ## fully connected layer(MLP 하나의 층)를 추가하는데 몇개의 퍼셉트론을 둘거냐\n",
        "    ## 여기서는 256개를 두겠다. 활성화함수는 렐루를 쓰겠다.\n",
        "    model.add(keras.layers.Dense(128,activation='relu'))\n",
        "    ## 거기에 하나의 층으로 또 128개의 퍼셉트론을 더 쌓겠다. 역시 AF는 렐루로\n",
        "    model.add(keras.layers.Dense(10,activation='softmax'))\n",
        "    ## MLP의 마지막 층은 10개로 두겠다. 이 10개는 소프트맥스로..\n",
        "    return model"
      ],
      "execution_count": 0,
      "outputs": []
    },
    {
      "cell_type": "code",
      "metadata": {
        "id": "QOqK9qJIIGMa",
        "colab_type": "code",
        "outputId": "bfb8a288-33c0-4609-dbf6-e2db111824a6",
        "colab": {
          "base_uri": "https://localhost:8080/",
          "height": 298
        }
      },
      "source": [
        "model = create_model()\n",
        "model.summary()"
      ],
      "execution_count": 0,
      "outputs": [
        {
          "output_type": "stream",
          "text": [
            "Model: \"sequential\"\n",
            "_________________________________________________________________\n",
            "Layer (type)                 Output Shape              Param #   \n",
            "=================================================================\n",
            "flatten (Flatten)            (None, 784)               0         \n",
            "_________________________________________________________________\n",
            "dense (Dense)                (None, 256)               200960    \n",
            "_________________________________________________________________\n",
            "dense_1 (Dense)              (None, 128)               32896     \n",
            "_________________________________________________________________\n",
            "dense_2 (Dense)              (None, 10)                1290      \n",
            "=================================================================\n",
            "Total params: 235,146\n",
            "Trainable params: 235,146\n",
            "Non-trainable params: 0\n",
            "_________________________________________________________________\n"
          ],
          "name": "stdout"
        }
      ]
    },
    {
      "cell_type": "markdown",
      "metadata": {
        "id": "_recR28FIGMd",
        "colab_type": "text"
      },
      "source": [
        "### step 8) Loss Function 계산함수 구현"
      ]
    },
    {
      "cell_type": "code",
      "metadata": {
        "id": "7LcEIrxtIGMd",
        "colab_type": "code",
        "colab": {}
      },
      "source": [
        "## 아래와 같이 @tf.function을 붙여주면 그래프 모드로 전환되어 연산이 빨라진다.\n",
        "@tf.function\n",
        "def loss_fn(model, images, labels):\n",
        "    predictions = model(images, training=True)\n",
        "    loss = tf.reduce_mean(keras.losses.categorical_crossentropy(labels, predictions))   \n",
        "    return loss"
      ],
      "execution_count": 0,
      "outputs": []
    },
    {
      "cell_type": "markdown",
      "metadata": {
        "id": "KugZ5wd_IGMf",
        "colab_type": "text"
      },
      "source": [
        "### step 9) Calculating Gradient & Updating Weights 함수 구현"
      ]
    },
    {
      "cell_type": "code",
      "metadata": {
        "id": "aDO_5VHNIGMg",
        "colab_type": "code",
        "colab": {}
      },
      "source": [
        "@tf.function\n",
        "def train(model, images, labels):\n",
        "    with tf.GradientTape() as tape:\n",
        "        loss = loss_fn(model, images, labels)\n",
        "    grads = tape.gradient(loss, model.trainable_variables)\n",
        "    optimizer.apply_gradients(zip(grads, model.trainable_variables))"
      ],
      "execution_count": 0,
      "outputs": []
    },
    {
      "cell_type": "markdown",
      "metadata": {
        "id": "DULymS2kIGMi",
        "colab_type": "text"
      },
      "source": [
        "### step 10) Caculating Model's Accuracy 계산함수 구현"
      ]
    },
    {
      "cell_type": "code",
      "metadata": {
        "id": "IZ9UijfrIGMi",
        "colab_type": "code",
        "colab": {}
      },
      "source": [
        "@tf.function\n",
        "def evaluate(model, images, labels):\n",
        "    predictions = model(images, training=False)\n",
        "    correct_prediction = tf.equal(tf.argmax(predictions, 1), tf.argmax(labels, 1))\n",
        "    accuracy = tf.reduce_mean(tf.cast(correct_prediction, tf.float32))    \n",
        "    return accuracy"
      ],
      "execution_count": 0,
      "outputs": []
    },
    {
      "cell_type": "markdown",
      "metadata": {
        "id": "ru5LHzOWIGMk",
        "colab_type": "text"
      },
      "source": [
        "### step 11) Optimizer 설정"
      ]
    },
    {
      "cell_type": "code",
      "metadata": {
        "id": "23It-2zNIGMk",
        "colab_type": "code",
        "colab": {}
      },
      "source": [
        "optimizer = tf.keras.optimizers.Adam(learning_rate=learning_rate)"
      ],
      "execution_count": 0,
      "outputs": []
    },
    {
      "cell_type": "markdown",
      "metadata": {
        "id": "axHp6iB_IGMm",
        "colab_type": "text"
      },
      "source": [
        "### step 12) Training 수행"
      ]
    },
    {
      "cell_type": "code",
      "metadata": {
        "scrolled": false,
        "id": "s_sL6-8fIGMm",
        "colab_type": "code",
        "outputId": "e9fb6b30-a434-473f-f2a1-678183c9656f",
        "colab": {
          "base_uri": "https://localhost:8080/",
          "height": 580
        }
      },
      "source": [
        "# train my model\n",
        "print('Learning started. It takes sometime.')\n",
        "for epoch in range(training_epochs):\n",
        "    avg_loss = 0.\n",
        "    avg_train_acc = 0.\n",
        "    avg_test_acc = 0.\n",
        "    train_step = 0\n",
        "    test_step = 0\n",
        "    \n",
        "    for images, labels in train_dataset:\n",
        "    ## for images, labels in train_dataset.repeat(training_epochs):\n",
        "    ## 위와 같이 .repeat를 적용해주면 한 에포크를 돌때마다 셔플을 해준다.\n",
        "        train(model,images, labels)\n",
        "        loss = loss_fn(model, images, labels)\n",
        "        acc = evaluate(model, images, labels)\n",
        "        avg_loss = avg_loss + loss\n",
        "        avg_train_acc = avg_train_acc + acc\n",
        "        train_step += 1\n",
        "    avg_loss = avg_loss / train_step\n",
        "    avg_train_acc = avg_train_acc / train_step\n",
        "    \n",
        "    for images, labels in test_dataset:        \n",
        "        acc = evaluate(model, images, labels)        \n",
        "        avg_test_acc = avg_test_acc + acc\n",
        "        test_step += 1    \n",
        "    avg_test_acc = avg_test_acc / test_step    \n",
        "\n",
        "    print('Epoch:', '{}'.format(epoch + 1), \n",
        "          'loss =', '{:.8f}'.format(avg_loss), \n",
        "          'train accuracy = ', '{:.4f}'.format(avg_train_acc), \n",
        "          'test accuracy = ', '{:.4f}'.format(avg_test_acc))\n",
        "\n",
        "\n",
        "print('Learning Finished!')"
      ],
      "execution_count": 0,
      "outputs": [
        {
          "output_type": "stream",
          "text": [
            "Learning started. It takes sometime.\n",
            "Epoch: 1 loss = 0.47122025 train accuracy =  0.8334 test accuracy =  0.8503\n",
            "Epoch: 2 loss = 0.34015965 train accuracy =  0.8769 test accuracy =  0.8601\n",
            "Epoch: 3 loss = 0.30349249 train accuracy =  0.8895 test accuracy =  0.8727\n",
            "Epoch: 4 loss = 0.28034952 train accuracy =  0.8972 test accuracy =  0.8774\n",
            "Epoch: 5 loss = 0.25995550 train accuracy =  0.9037 test accuracy =  0.8777\n",
            "Epoch: 6 loss = 0.24598221 train accuracy =  0.9084 test accuracy =  0.8732\n",
            "Epoch: 7 loss = 0.23506032 train accuracy =  0.9131 test accuracy =  0.8802\n",
            "Epoch: 8 loss = 0.22246923 train accuracy =  0.9170 test accuracy =  0.8859\n",
            "Epoch: 9 loss = 0.21404687 train accuracy =  0.9201 test accuracy =  0.8873\n",
            "Epoch: 10 loss = 0.20306093 train accuracy =  0.9240 test accuracy =  0.8851\n",
            "Epoch: 11 loss = 0.19534108 train accuracy =  0.9262 test accuracy =  0.8868\n",
            "Epoch: 12 loss = 0.18795916 train accuracy =  0.9305 test accuracy =  0.8850\n",
            "Epoch: 13 loss = 0.18208914 train accuracy =  0.9321 test accuracy =  0.8903\n",
            "Epoch: 14 loss = 0.17431562 train accuracy =  0.9357 test accuracy =  0.8884\n",
            "Epoch: 15 loss = 0.16442259 train accuracy =  0.9386 test accuracy =  0.8893\n",
            "Epoch: 16 loss = 0.16249800 train accuracy =  0.9406 test accuracy =  0.8922\n",
            "Epoch: 17 loss = 0.15301982 train accuracy =  0.9428 test accuracy =  0.8941\n",
            "Epoch: 18 loss = 0.15008074 train accuracy =  0.9438 test accuracy =  0.8848\n",
            "Epoch: 19 loss = 0.14261821 train accuracy =  0.9475 test accuracy =  0.8878\n",
            "Epoch: 20 loss = 0.13615653 train accuracy =  0.9490 test accuracy =  0.8931\n",
            "Epoch: 21 loss = 0.13391495 train accuracy =  0.9494 test accuracy =  0.8901\n",
            "Epoch: 22 loss = 0.12801310 train accuracy =  0.9521 test accuracy =  0.8972\n",
            "Epoch: 23 loss = 0.12218244 train accuracy =  0.9556 test accuracy =  0.8913\n",
            "Epoch: 24 loss = 0.11631814 train accuracy =  0.9569 test accuracy =  0.8914\n",
            "Epoch: 25 loss = 0.11678679 train accuracy =  0.9567 test accuracy =  0.8878\n",
            "Epoch: 26 loss = 0.10753930 train accuracy =  0.9607 test accuracy =  0.8980\n",
            "Epoch: 27 loss = 0.10477049 train accuracy =  0.9613 test accuracy =  0.8989\n",
            "Epoch: 28 loss = 0.10153881 train accuracy =  0.9622 test accuracy =  0.8913\n",
            "Epoch: 29 loss = 0.09684762 train accuracy =  0.9642 test accuracy =  0.8879\n",
            "Epoch: 30 loss = 0.09497685 train accuracy =  0.9655 test accuracy =  0.8951\n",
            "Learning Finished!\n"
          ],
          "name": "stdout"
        }
      ]
    },
    {
      "cell_type": "markdown",
      "metadata": {
        "id": "E8gaNt0jVitI",
        "colab_type": "text"
      },
      "source": [
        "### step 13) 트레이닝한 모델 테스트"
      ]
    },
    {
      "cell_type": "code",
      "metadata": {
        "id": "4BJ3MzuHIGMo",
        "colab_type": "code",
        "colab": {}
      },
      "source": [
        "def plot_image(i, predictions_array, true_label, img):\n",
        "    predictions_array, true_label, img = predictions_array[i], true_label[i], img[i]\n",
        "    plt.grid(False)\n",
        "    plt.xticks([])\n",
        "    plt.yticks([])\n",
        "\n",
        "    plt.imshow(img,cmap=plt.cm.binary)\n",
        "\n",
        "    predicted_label = np.argmax(predictions_array)\n",
        "    if predicted_label == true_label:\n",
        "        color = 'blue'\n",
        "    else:\n",
        "        color = 'red'\n",
        "\n",
        "    plt.xlabel(\"{} {:2.0f}% ({})\".format(class_names[predicted_label],\n",
        "                                100*np.max(predictions_array),\n",
        "                                class_names[true_label]),\n",
        "                                color=color)\n",
        "\n",
        "def plot_value_array(i, predictions_array, true_label):\n",
        "    predictions_array, true_label = predictions_array[i], true_label[i]\n",
        "    plt.grid(False)\n",
        "    #plt.xticks([])\n",
        "    plt.xticks(range(n_class), class_names, rotation=90)\n",
        "    plt.yticks([])\n",
        "    thisplot = plt.bar(range(n_class), predictions_array, color=\"#777777\")\n",
        "    plt.ylim([0, 1]) \n",
        "    predicted_label = np.argmax(predictions_array)\n",
        " \n",
        "    thisplot[predicted_label].set_color('red')\n",
        "    thisplot[true_label].set_color('blue')"
      ],
      "execution_count": 0,
      "outputs": []
    },
    {
      "cell_type": "code",
      "metadata": {
        "id": "n3F7SbVKIGMq",
        "colab_type": "code",
        "outputId": "4c515e45-e886-4135-b232-577c827d33e3",
        "colab": {
          "base_uri": "https://localhost:8080/",
          "height": 1000
        }
      },
      "source": [
        "rnd_idx = np.random.randint(1, n_test//batch_size)\n",
        "img_cnt = 0\n",
        "for images, labels in test_dataset:\n",
        "    img_cnt += 1\n",
        "    if img_cnt != rnd_idx:\n",
        "        continue\n",
        "    predictions = model(images, training=False)\n",
        "    num_rows = 5\n",
        "    num_cols = 3\n",
        "    num_images = num_rows*num_cols\n",
        "    labels = tf.argmax(labels, axis=-1)\n",
        "    plt.figure(figsize=(3*2*num_cols, 4*num_rows))\n",
        "    plt.subplots_adjust(hspace=1.0)\n",
        "    for i in range(num_images):\n",
        "        plt.subplot(num_rows, 2*num_cols, 2*i+1)\n",
        "        plot_image(i, predictions.numpy(), labels.numpy(), images.numpy())\n",
        "        plt.subplot(num_rows, 2*num_cols, 2*i+2)\n",
        "        plot_value_array(i, predictions.numpy(), labels.numpy())        \n",
        "    break"
      ],
      "execution_count": 0,
      "outputs": [
        {
          "output_type": "display_data",
          "data": {
            "image/png": "[encoded data removed]",
            "text/plain": [
              "<Figure size 1296x1440 with 30 Axes>"
            ]
          },
          "metadata": {
            "tags": []
          }
        }
      ]
    },
    {
      "cell_type": "markdown",
      "metadata": {
        "id": "CIyM-sEjWNPw",
        "colab_type": "text"
      },
      "source": [
        "#### step 14) step 7) 모델 설계 부분에서 레이어를 더 쌓아서 모델을 만들고 테스트를 해보자"
      ]
    },
    {
      "cell_type": "code",
      "metadata": {
        "colab_type": "code",
        "id": "l_gF-MYkWgzs",
        "outputId": "6e3be2bd-84b8-44ef-e6c8-f6a420061280",
        "colab": {
          "base_uri": "https://localhost:8080/",
          "height": 369
        }
      },
      "source": [
        "def create_model():\n",
        "    model = keras.Sequential()\n",
        "    model.add(keras.layers.Flatten(input_shape=(28,28)))\n",
        "    model.add(keras.layers.Dense(256, activation='relu'))\n",
        "    model.add(keras.layers.Dense(256, activation='relu'))    \n",
        "    model.add(keras.layers.Dense(128, activation='relu'))\n",
        "    model.add(keras.layers.Dense(128, activation='relu'))    \n",
        "    model.add(keras.layers.Dense(10, activation='softmax'))\n",
        "    return model\n",
        "\n",
        "model = create_model()\n",
        "model.summary()"
      ],
      "execution_count": 0,
      "outputs": [
        {
          "output_type": "stream",
          "text": [
            "Model: \"sequential_1\"\n",
            "_________________________________________________________________\n",
            "Layer (type)                 Output Shape              Param #   \n",
            "=================================================================\n",
            "flatten_1 (Flatten)          (None, 784)               0         \n",
            "_________________________________________________________________\n",
            "dense_3 (Dense)              (None, 256)               200960    \n",
            "_________________________________________________________________\n",
            "dense_4 (Dense)              (None, 256)               65792     \n",
            "_________________________________________________________________\n",
            "dense_5 (Dense)              (None, 128)               32896     \n",
            "_________________________________________________________________\n",
            "dense_6 (Dense)              (None, 128)               16512     \n",
            "_________________________________________________________________\n",
            "dense_7 (Dense)              (None, 10)                1290      \n",
            "=================================================================\n",
            "Total params: 317,450\n",
            "Trainable params: 317,450\n",
            "Non-trainable params: 0\n",
            "_________________________________________________________________\n"
          ],
          "name": "stdout"
        }
      ]
    },
    {
      "cell_type": "code",
      "metadata": {
        "colab_type": "code",
        "id": "kpFpPJaAXV5z",
        "colab": {}
      },
      "source": [
        "@tf.function\n",
        "def loss_fn(model, images, labels):\n",
        "    predictions = model(images, training=True)\n",
        "    loss = tf.reduce_mean(keras.losses.categorical_crossentropy(labels, predictions))   \n",
        "    return loss"
      ],
      "execution_count": 0,
      "outputs": []
    },
    {
      "cell_type": "code",
      "metadata": {
        "colab_type": "code",
        "id": "NUGqhOO7XV53",
        "colab": {}
      },
      "source": [
        "@tf.function\n",
        "def train(model, images, labels):\n",
        "    with tf.GradientTape() as tape:\n",
        "        loss = loss_fn(model, images, labels)\n",
        "    grads = tape.gradient(loss, model.trainable_variables)\n",
        "    optimizer.apply_gradients(zip(grads, model.trainable_variables))"
      ],
      "execution_count": 0,
      "outputs": []
    },
    {
      "cell_type": "code",
      "metadata": {
        "colab_type": "code",
        "id": "BOuHLqbGXV55",
        "colab": {}
      },
      "source": [
        "@tf.function\n",
        "def evaluate(model, images, labels):\n",
        "    predictions = model(images, training=False)\n",
        "    correct_prediction = tf.equal(tf.argmax(predictions, 1), tf.argmax(labels, 1))\n",
        "    accuracy = tf.reduce_mean(tf.cast(correct_prediction, tf.float32))    \n",
        "    return accuracy"
      ],
      "execution_count": 0,
      "outputs": []
    },
    {
      "cell_type": "code",
      "metadata": {
        "colab_type": "code",
        "id": "9Ubtr0ShXV57",
        "colab": {}
      },
      "source": [
        "optimizer = tf.keras.optimizers.Adam(learning_rate=learning_rate)"
      ],
      "execution_count": 0,
      "outputs": []
    },
    {
      "cell_type": "code",
      "metadata": {
        "id": "E45V81o9Ws_l",
        "colab_type": "code",
        "outputId": "11393548-0b6c-449f-ca21-e17149541165",
        "colab": {
          "base_uri": "https://localhost:8080/",
          "height": 580
        }
      },
      "source": [
        "# train my model\n",
        "print('Learning started. It takes sometime.')\n",
        "for epoch in range(training_epochs):\n",
        "    avg_loss = 0.\n",
        "    avg_train_acc = 0.\n",
        "    avg_test_acc = 0.\n",
        "    train_step = 0\n",
        "    test_step = 0\n",
        "    \n",
        "    for images, labels in train_dataset:\n",
        "    ## for images, labels in train_dataset.repeat(training_epochs):\n",
        "    ## 위와 같이 .repeat를 적용해주면 한 에포크를 돌때마다 셔플을 해준다.\n",
        "        train(model,images, labels)\n",
        "        loss = loss_fn(model, images, labels)\n",
        "        acc = evaluate(model, images, labels)\n",
        "        avg_loss = avg_loss + loss\n",
        "        avg_train_acc = avg_train_acc + acc\n",
        "        train_step += 1\n",
        "    avg_loss = avg_loss / train_step\n",
        "    avg_train_acc = avg_train_acc / train_step\n",
        "    \n",
        "    for images, labels in test_dataset:        \n",
        "        acc = evaluate(model, images, labels)        \n",
        "        avg_test_acc = avg_test_acc + acc\n",
        "        test_step += 1    \n",
        "    avg_test_acc = avg_test_acc / test_step    \n",
        "\n",
        "    print('Epoch:', '{}'.format(epoch + 1), \n",
        "          'loss =', '{:.8f}'.format(avg_loss), \n",
        "          'train accuracy = ', '{:.4f}'.format(avg_train_acc), \n",
        "          'test accuracy = ', '{:.4f}'.format(avg_test_acc))\n",
        "\n",
        "\n",
        "print('Learning Finished!')"
      ],
      "execution_count": 0,
      "outputs": [
        {
          "output_type": "stream",
          "text": [
            "Learning started. It takes sometime.\n",
            "Epoch: 1 loss = 0.47201630 train accuracy =  0.8306 test accuracy =  0.8460\n",
            "Epoch: 2 loss = 0.33868349 train accuracy =  0.8758 test accuracy =  0.8626\n",
            "Epoch: 3 loss = 0.30029640 train accuracy =  0.8892 test accuracy =  0.8626\n",
            "Epoch: 4 loss = 0.27897891 train accuracy =  0.8963 test accuracy =  0.8759\n",
            "Epoch: 5 loss = 0.26005241 train accuracy =  0.9031 test accuracy =  0.8824\n",
            "Epoch: 6 loss = 0.24540581 train accuracy =  0.9083 test accuracy =  0.8710\n",
            "Epoch: 7 loss = 0.23372877 train accuracy =  0.9128 test accuracy =  0.8733\n",
            "Epoch: 8 loss = 0.22330683 train accuracy =  0.9165 test accuracy =  0.8792\n",
            "Epoch: 9 loss = 0.21107051 train accuracy =  0.9198 test accuracy =  0.8870\n",
            "Epoch: 10 loss = 0.20567133 train accuracy =  0.9222 test accuracy =  0.8879\n",
            "Epoch: 11 loss = 0.19724540 train accuracy =  0.9249 test accuracy =  0.8895\n",
            "Epoch: 12 loss = 0.18724051 train accuracy =  0.9298 test accuracy =  0.8878\n",
            "Epoch: 13 loss = 0.17988257 train accuracy =  0.9326 test accuracy =  0.8914\n",
            "Epoch: 14 loss = 0.17087474 train accuracy =  0.9354 test accuracy =  0.8904\n",
            "Epoch: 15 loss = 0.16594066 train accuracy =  0.9370 test accuracy =  0.8866\n",
            "Epoch: 16 loss = 0.15842450 train accuracy =  0.9401 test accuracy =  0.8879\n",
            "Epoch: 17 loss = 0.15252811 train accuracy =  0.9426 test accuracy =  0.8909\n",
            "Epoch: 18 loss = 0.14875479 train accuracy =  0.9433 test accuracy =  0.8924\n",
            "Epoch: 19 loss = 0.14242834 train accuracy =  0.9466 test accuracy =  0.8945\n",
            "Epoch: 20 loss = 0.13557811 train accuracy =  0.9482 test accuracy =  0.8868\n",
            "Epoch: 21 loss = 0.13116112 train accuracy =  0.9496 test accuracy =  0.8910\n",
            "Epoch: 22 loss = 0.12538593 train accuracy =  0.9520 test accuracy =  0.8904\n",
            "Epoch: 23 loss = 0.12070082 train accuracy =  0.9536 test accuracy =  0.8915\n",
            "Epoch: 24 loss = 0.11779831 train accuracy =  0.9548 test accuracy =  0.8890\n",
            "Epoch: 25 loss = 0.11672459 train accuracy =  0.9548 test accuracy =  0.8920\n",
            "Epoch: 26 loss = 0.10860301 train accuracy =  0.9582 test accuracy =  0.8922\n",
            "Epoch: 27 loss = 0.10649157 train accuracy =  0.9597 test accuracy =  0.8925\n",
            "Epoch: 28 loss = 0.10406902 train accuracy =  0.9594 test accuracy =  0.8901\n",
            "Epoch: 29 loss = 0.09889799 train accuracy =  0.9625 test accuracy =  0.8964\n",
            "Epoch: 30 loss = 0.09266045 train accuracy =  0.9647 test accuracy =  0.8945\n",
            "Learning Finished!\n"
          ],
          "name": "stdout"
        }
      ]
    },
    {
      "cell_type": "code",
      "metadata": {
        "id": "QwgrhZy_WuWm",
        "colab_type": "code",
        "outputId": "41902f46-bd2f-4a89-ba7c-82ab260e0a3d",
        "colab": {
          "base_uri": "https://localhost:8080/",
          "height": 1000
        }
      },
      "source": [
        "rnd_idx = np.random.randint(1, n_test//batch_size)\n",
        "img_cnt = 0\n",
        "for images, labels in test_dataset:\n",
        "    img_cnt += 1\n",
        "    if img_cnt != rnd_idx:\n",
        "        continue\n",
        "    predictions = model(images, training=False)\n",
        "    num_rows = 5\n",
        "    num_cols = 3\n",
        "    num_images = num_rows*num_cols\n",
        "    labels = tf.argmax(labels, axis=-1)\n",
        "    plt.figure(figsize=(3*2*num_cols, 4*num_rows))\n",
        "    plt.subplots_adjust(hspace=1.0)\n",
        "    for i in range(num_images):\n",
        "        plt.subplot(num_rows, 2*num_cols, 2*i+1)\n",
        "        plot_image(i, predictions.numpy(), labels.numpy(), images.numpy())\n",
        "        plt.subplot(num_rows, 2*num_cols, 2*i+2)\n",
        "        plot_value_array(i, predictions.numpy(), labels.numpy())        \n",
        "    break"
      ],
      "execution_count": 0,
      "outputs": [
        {
          "output_type": "display_data",
          "data": {
            "image/png": "[encoded data removed]",
            "text/plain": [
              "<Figure size 1296x1440 with 30 Axes>"
            ]
          },
          "metadata": {
            "tags": []
          }
        }
      ]
    },
    {
      "cell_type": "markdown",
      "metadata": {
        "id": "6LaFGjxeZBQH",
        "colab_type": "text"
      },
      "source": [
        "위의 결과에서 알 수 있듯이 레이어를 더 쌓아도 기존의 모델과 별 차이가 없음을 확인할 수 있었다.\n",
        "\n",
        "그렇다면 레이어를 더 쌓았는데 비슷하거나 좀 더 성능이 안좋게 나온거라면 오버피팅이 아니냐라는 판단을 할 수 있고, drop-out을 적용해보자.\n",
        "\n",
        "### step 15) 위에 모델에서 추가적으로 drop-out을 적용한 MLP 모델 만들기"
      ]
    },
    {
      "cell_type": "code",
      "metadata": {
        "id": "zP_vpH0gZ-kd",
        "colab_type": "code",
        "colab": {}
      },
      "source": [
        "learning_rate = 0.001\n",
        "training_epochs = 30\n",
        "batch_size = 100\n",
        "n_class = 10\n",
        "drop_rate = 0.3\n",
        "\n",
        "def create_model():\n",
        "    model = keras.Sequential()\n",
        "    model.add(keras.layers.Flatten(input_shape=(28,28)))\n",
        "    model.add(keras.layers.Dense(256, activation='relu'))\n",
        "    model.add(keras.layers.Dropout(drop_rate))\n",
        "    model.add(keras.layers.Dense(256, activation='relu'))\n",
        "    model.add(keras.layers.Dropout(drop_rate))\n",
        "    model.add(keras.layers.Dense(128, activation='relu'))\n",
        "    model.add(keras.layers.Dropout(drop_rate))\n",
        "    model.add(keras.layers.Dense(128, activation='relu'))\n",
        "    model.add(keras.layers.Dropout(drop_rate))\n",
        "    model.add(keras.layers.Dense(10, activation='softmax'))\n",
        "    return model"
      ],
      "execution_count": 0,
      "outputs": []
    },
    {
      "cell_type": "code",
      "metadata": {
        "id": "YXbCZb_oaHyZ",
        "colab_type": "code",
        "outputId": "2360faef-ac53-46b5-92f0-a84ad3142632",
        "colab": {
          "base_uri": "https://localhost:8080/",
          "height": 510
        }
      },
      "source": [
        "model = create_model()\n",
        "model.summary()"
      ],
      "execution_count": 0,
      "outputs": [
        {
          "output_type": "stream",
          "text": [
            "Model: \"sequential_2\"\n",
            "_________________________________________________________________\n",
            "Layer (type)                 Output Shape              Param #   \n",
            "=================================================================\n",
            "flatten_2 (Flatten)          (None, 784)               0         \n",
            "_________________________________________________________________\n",
            "dense_8 (Dense)              (None, 256)               200960    \n",
            "_________________________________________________________________\n",
            "dropout (Dropout)            (None, 256)               0         \n",
            "_________________________________________________________________\n",
            "dense_9 (Dense)              (None, 256)               65792     \n",
            "_________________________________________________________________\n",
            "dropout_1 (Dropout)          (None, 256)               0         \n",
            "_________________________________________________________________\n",
            "dense_10 (Dense)             (None, 128)               32896     \n",
            "_________________________________________________________________\n",
            "dropout_2 (Dropout)          (None, 128)               0         \n",
            "_________________________________________________________________\n",
            "dense_11 (Dense)             (None, 128)               16512     \n",
            "_________________________________________________________________\n",
            "dropout_3 (Dropout)          (None, 128)               0         \n",
            "_________________________________________________________________\n",
            "dense_12 (Dense)             (None, 10)                1290      \n",
            "=================================================================\n",
            "Total params: 317,450\n",
            "Trainable params: 317,450\n",
            "Non-trainable params: 0\n",
            "_________________________________________________________________\n"
          ],
          "name": "stdout"
        }
      ]
    },
    {
      "cell_type": "code",
      "metadata": {
        "id": "z4Bbu0ZpaJM1",
        "colab_type": "code",
        "colab": {}
      },
      "source": [
        "@tf.function\n",
        "def loss_fn(model, images, labels):\n",
        "    predictions = model(images, training=True)\n",
        "    loss = tf.reduce_mean(keras.losses.categorical_crossentropy(labels, predictions))   \n",
        "    return loss  "
      ],
      "execution_count": 0,
      "outputs": []
    },
    {
      "cell_type": "code",
      "metadata": {
        "id": "2ifX6E_nhQ2h",
        "colab_type": "code",
        "colab": {}
      },
      "source": [
        "@tf.function\n",
        "def train(model, images, labels):\n",
        "    with tf.GradientTape() as tape:\n",
        "        loss = loss_fn(model, images, labels)\n",
        "    grads = tape.gradient(loss, model.trainable_variables)\n",
        "    optimizer.apply_gradients(zip(grads, model.trainable_variables))"
      ],
      "execution_count": 0,
      "outputs": []
    },
    {
      "cell_type": "code",
      "metadata": {
        "id": "Mp9RakmuhVAe",
        "colab_type": "code",
        "colab": {}
      },
      "source": [
        "@tf.function\n",
        "def evaluate(model, images, labels):\n",
        "    predictions = model(images, training=False)\n",
        "    correct_prediction = tf.equal(tf.argmax(predictions, 1), tf.argmax(labels, 1))\n",
        "    accuracy = tf.reduce_mean(tf.cast(correct_prediction, tf.float32))    \n",
        "    return accuracy"
      ],
      "execution_count": 0,
      "outputs": []
    },
    {
      "cell_type": "code",
      "metadata": {
        "id": "xb55bsgmhVpd",
        "colab_type": "code",
        "colab": {}
      },
      "source": [
        "optimizer = tf.keras.optimizers.Adam(learning_rate=learning_rate)"
      ],
      "execution_count": 0,
      "outputs": []
    },
    {
      "cell_type": "code",
      "metadata": {
        "id": "glFfl4TXhY_N",
        "colab_type": "code",
        "outputId": "4ec99d3a-d085-488c-c8b3-3866713ee019",
        "colab": {
          "base_uri": "https://localhost:8080/",
          "height": 580
        }
      },
      "source": [
        "# train my model\n",
        "print('Learning started. It takes sometime.')\n",
        "for epoch in range(training_epochs):\n",
        "    avg_loss = 0.\n",
        "    avg_train_acc = 0.\n",
        "    avg_test_acc = 0.\n",
        "    train_step = 0\n",
        "    test_step = 0\n",
        "    \n",
        "    for images, labels in train_dataset:\n",
        "        train(model,images, labels)\n",
        "        loss = loss_fn(model, images, labels)\n",
        "        acc = evaluate(model, images, labels)\n",
        "        avg_loss = avg_loss + loss\n",
        "        avg_train_acc = avg_train_acc + acc\n",
        "        train_step += 1\n",
        "    avg_loss = avg_loss / train_step\n",
        "    avg_train_acc = avg_train_acc / train_step\n",
        "    \n",
        "    for images, labels in test_dataset:        \n",
        "        acc = evaluate(model, images, labels)        \n",
        "        avg_test_acc = avg_test_acc + acc\n",
        "        test_step += 1    \n",
        "    avg_test_acc = avg_test_acc / test_step    \n",
        "\n",
        "    print('Epoch:', '{}'.format(epoch + 1), \n",
        "          'loss =', '{:.8f}'.format(avg_loss), \n",
        "          'train accuracy = ', '{:.4f}'.format(avg_train_acc), \n",
        "          'test accuracy = ', '{:.4f}'.format(avg_test_acc))\n",
        "\n",
        "\n",
        "print('Learning Finished!')"
      ],
      "execution_count": 0,
      "outputs": [
        {
          "output_type": "stream",
          "text": [
            "Learning started. It takes sometime.\n",
            "Epoch: 1 loss = 0.68396634 train accuracy =  0.7945 test accuracy =  0.8314\n",
            "Epoch: 2 loss = 0.45805994 train accuracy =  0.8591 test accuracy =  0.8566\n",
            "Epoch: 3 loss = 0.42066765 train accuracy =  0.8699 test accuracy =  0.8560\n",
            "Epoch: 4 loss = 0.39140019 train accuracy =  0.8771 test accuracy =  0.8569\n",
            "Epoch: 5 loss = 0.37540531 train accuracy =  0.8844 test accuracy =  0.8679\n",
            "Epoch: 6 loss = 0.36260232 train accuracy =  0.8876 test accuracy =  0.8688\n",
            "Epoch: 7 loss = 0.35164994 train accuracy =  0.8912 test accuracy =  0.8550\n",
            "Epoch: 8 loss = 0.33950019 train accuracy =  0.8947 test accuracy =  0.8650\n",
            "Epoch: 9 loss = 0.33450663 train accuracy =  0.8967 test accuracy =  0.8739\n",
            "Epoch: 10 loss = 0.32979870 train accuracy =  0.8985 test accuracy =  0.8757\n",
            "Epoch: 11 loss = 0.32060406 train accuracy =  0.9019 test accuracy =  0.8697\n",
            "Epoch: 12 loss = 0.31622446 train accuracy =  0.9022 test accuracy =  0.8816\n",
            "Epoch: 13 loss = 0.31420413 train accuracy =  0.9052 test accuracy =  0.8807\n",
            "Epoch: 14 loss = 0.30564395 train accuracy =  0.9053 test accuracy =  0.8799\n",
            "Epoch: 15 loss = 0.29799530 train accuracy =  0.9081 test accuracy =  0.8847\n",
            "Epoch: 16 loss = 0.29705247 train accuracy =  0.9085 test accuracy =  0.8841\n",
            "Epoch: 17 loss = 0.29135558 train accuracy =  0.9094 test accuracy =  0.8805\n",
            "Epoch: 18 loss = 0.29027590 train accuracy =  0.9106 test accuracy =  0.8805\n",
            "Epoch: 19 loss = 0.29065055 train accuracy =  0.9121 test accuracy =  0.8802\n",
            "Epoch: 20 loss = 0.28519043 train accuracy =  0.9134 test accuracy =  0.8854\n",
            "Epoch: 21 loss = 0.28431398 train accuracy =  0.9147 test accuracy =  0.8850\n",
            "Epoch: 22 loss = 0.27944121 train accuracy =  0.9163 test accuracy =  0.8818\n",
            "Epoch: 23 loss = 0.27624452 train accuracy =  0.9162 test accuracy =  0.8874\n",
            "Epoch: 24 loss = 0.27038869 train accuracy =  0.9174 test accuracy =  0.8864\n",
            "Epoch: 25 loss = 0.27284542 train accuracy =  0.9169 test accuracy =  0.8866\n",
            "Epoch: 26 loss = 0.27075678 train accuracy =  0.9183 test accuracy =  0.8861\n",
            "Epoch: 27 loss = 0.26519039 train accuracy =  0.9202 test accuracy =  0.8871\n",
            "Epoch: 28 loss = 0.26452246 train accuracy =  0.9193 test accuracy =  0.8910\n",
            "Epoch: 29 loss = 0.26045755 train accuracy =  0.9208 test accuracy =  0.8873\n",
            "Epoch: 30 loss = 0.26390463 train accuracy =  0.9203 test accuracy =  0.8914\n",
            "Learning Finished!\n"
          ],
          "name": "stdout"
        }
      ]
    },
    {
      "cell_type": "markdown",
      "metadata": {
        "id": "b4DQRBnJlMzE",
        "colab_type": "text"
      },
      "source": [
        "그러면 이번에는 정규화를 적용해보자.\n",
        "\n",
        "### step 16) L2 정규화를 적용한 MLP 구현"
      ]
    },
    {
      "cell_type": "code",
      "metadata": {
        "id": "gGA0UsO-i6Cp",
        "colab_type": "code",
        "colab": {}
      },
      "source": [
        "learning_rate = 0.001\n",
        "training_epochs = 30\n",
        "batch_size = 100\n",
        "n_class = 10\n",
        "reg_weight = 0.002\n",
        "## reg_weight는 정규화에서 람다를 얘기한다. 사용자 파라미터로 람다값을 지정해줘야한다."
      ],
      "execution_count": 0,
      "outputs": []
    },
    {
      "cell_type": "code",
      "metadata": {
        "id": "NFxP9pkjlVMn",
        "colab_type": "code",
        "colab": {}
      },
      "source": [
        "def create_model():\n",
        "    model = keras.Sequential()\n",
        "    model.add(keras.layers.Flatten(input_shape=(28,28)))\n",
        "    model.add(keras.layers.Dense(256, activation='relu',\n",
        "                                kernel_regularizer=keras.regularizers.l2(reg_weight)))\n",
        "    model.add(keras.layers.Dense(256, activation='relu',\n",
        "                                kernel_regularizer=keras.regularizers.l2(reg_weight)))\n",
        "    model.add(keras.layers.Dense(128, activation='relu',\n",
        "                                kernel_regularizer=keras.regularizers.l2(reg_weight)))\n",
        "    model.add(keras.layers.Dense(128, activation='relu',\n",
        "                                kernel_regularizer=keras.regularizers.l2(reg_weight)))    \n",
        "    model.add(keras.layers.Dense(10, activation='softmax',\n",
        "                                kernel_regularizer=keras.regularizers.l2(reg_weight)))\n",
        "    return model"
      ],
      "execution_count": 0,
      "outputs": []
    },
    {
      "cell_type": "code",
      "metadata": {
        "id": "aQKp4au3lqwy",
        "colab_type": "code",
        "outputId": "b2fe7f51-c8cc-4b8f-f20f-8c1f8e7149e6",
        "colab": {
          "base_uri": "https://localhost:8080/",
          "height": 369
        }
      },
      "source": [
        "model = create_model()\n",
        "model.summary()"
      ],
      "execution_count": 0,
      "outputs": [
        {
          "output_type": "stream",
          "text": [
            "Model: \"sequential_3\"\n",
            "_________________________________________________________________\n",
            "Layer (type)                 Output Shape              Param #   \n",
            "=================================================================\n",
            "flatten_3 (Flatten)          (None, 784)               0         \n",
            "_________________________________________________________________\n",
            "dense_13 (Dense)             (None, 256)               200960    \n",
            "_________________________________________________________________\n",
            "dense_14 (Dense)             (None, 256)               65792     \n",
            "_________________________________________________________________\n",
            "dense_15 (Dense)             (None, 128)               32896     \n",
            "_________________________________________________________________\n",
            "dense_16 (Dense)             (None, 128)               16512     \n",
            "_________________________________________________________________\n",
            "dense_17 (Dense)             (None, 10)                1290      \n",
            "=================================================================\n",
            "Total params: 317,450\n",
            "Trainable params: 317,450\n",
            "Non-trainable params: 0\n",
            "_________________________________________________________________\n"
          ],
          "name": "stdout"
        }
      ]
    },
    {
      "cell_type": "code",
      "metadata": {
        "id": "jSEY93oUlVMu",
        "colab_type": "code",
        "colab": {}
      },
      "source": [
        "@tf.function\n",
        "def loss_fn(model, images, labels):\n",
        "    predictions = model(images, training=True)\n",
        "    loss = tf.reduce_mean(keras.losses.categorical_crossentropy(labels, predictions))   \n",
        "    return loss  "
      ],
      "execution_count": 0,
      "outputs": []
    },
    {
      "cell_type": "code",
      "metadata": {
        "id": "QlIETPjElVMx",
        "colab_type": "code",
        "colab": {}
      },
      "source": [
        "@tf.function\n",
        "def train(model, images, labels):\n",
        "    with tf.GradientTape() as tape:\n",
        "        loss = loss_fn(model, images, labels)\n",
        "    grads = tape.gradient(loss, model.trainable_variables)\n",
        "    optimizer.apply_gradients(zip(grads, model.trainable_variables))"
      ],
      "execution_count": 0,
      "outputs": []
    },
    {
      "cell_type": "code",
      "metadata": {
        "id": "nWGzvTv-lVM1",
        "colab_type": "code",
        "colab": {}
      },
      "source": [
        "@tf.function\n",
        "def evaluate(model, images, labels):\n",
        "    predictions = model(images, training=False)\n",
        "    correct_prediction = tf.equal(tf.argmax(predictions, 1), tf.argmax(labels, 1))\n",
        "    accuracy = tf.reduce_mean(tf.cast(correct_prediction, tf.float32))    \n",
        "    return accuracy"
      ],
      "execution_count": 0,
      "outputs": []
    },
    {
      "cell_type": "code",
      "metadata": {
        "id": "n3gIPLV1lVM4",
        "colab_type": "code",
        "colab": {}
      },
      "source": [
        "optimizer = tf.keras.optimizers.Adam(learning_rate=learning_rate)"
      ],
      "execution_count": 0,
      "outputs": []
    },
    {
      "cell_type": "code",
      "metadata": {
        "scrolled": false,
        "id": "2nmsWqOolVM8",
        "colab_type": "code",
        "outputId": "7194b9e7-7520-418d-a0e4-29d445406f4f",
        "colab": {
          "base_uri": "https://localhost:8080/",
          "height": 580
        }
      },
      "source": [
        "# train my model\n",
        "print('Learning started. It takes sometime.')\n",
        "for epoch in range(training_epochs):\n",
        "    avg_loss = 0.\n",
        "    avg_train_acc = 0.\n",
        "    avg_test_acc = 0.\n",
        "    train_step = 0\n",
        "    test_step = 0\n",
        "    \n",
        "    for images, labels in train_dataset:\n",
        "        train(model,images, labels)\n",
        "        loss = loss_fn(model, images, labels)\n",
        "        acc = evaluate(model, images, labels)\n",
        "        avg_loss = avg_loss + loss\n",
        "        avg_train_acc = avg_train_acc + acc\n",
        "        train_step += 1\n",
        "    avg_loss = avg_loss / train_step\n",
        "    avg_train_acc = avg_train_acc / train_step\n",
        "    \n",
        "    for images, labels in test_dataset:        \n",
        "        acc = evaluate(model, images, labels)        \n",
        "        avg_test_acc = avg_test_acc + acc\n",
        "        test_step += 1    \n",
        "    avg_test_acc = avg_test_acc / test_step    \n",
        "\n",
        "    print('Epoch:', '{}'.format(epoch + 1), \n",
        "          'loss =', '{:.8f}'.format(avg_loss), \n",
        "          'train accuracy = ', '{:.4f}'.format(avg_train_acc), \n",
        "          'test accuracy = ', '{:.4f}'.format(avg_test_acc))\n",
        "\n",
        "\n",
        "print('Learning Finished!')"
      ],
      "execution_count": 0,
      "outputs": [
        {
          "output_type": "stream",
          "text": [
            "Learning started. It takes sometime.\n",
            "Epoch: 1 loss = 0.47432184 train accuracy =  0.8302 test accuracy =  0.8511\n",
            "Epoch: 2 loss = 0.33622319 train accuracy =  0.8754 test accuracy =  0.8608\n",
            "Epoch: 3 loss = 0.30235520 train accuracy =  0.8882 test accuracy =  0.8727\n",
            "Epoch: 4 loss = 0.27974367 train accuracy =  0.8967 test accuracy =  0.8763\n",
            "Epoch: 5 loss = 0.26026556 train accuracy =  0.9037 test accuracy =  0.8746\n",
            "Epoch: 6 loss = 0.24867533 train accuracy =  0.9077 test accuracy =  0.8776\n",
            "Epoch: 7 loss = 0.23672600 train accuracy =  0.9111 test accuracy =  0.8782\n",
            "Epoch: 8 loss = 0.22811213 train accuracy =  0.9143 test accuracy =  0.8845\n",
            "Epoch: 9 loss = 0.21527784 train accuracy =  0.9195 test accuracy =  0.8834\n",
            "Epoch: 10 loss = 0.20444603 train accuracy =  0.9228 test accuracy =  0.8755\n",
            "Epoch: 11 loss = 0.19815075 train accuracy =  0.9259 test accuracy =  0.8889\n",
            "Epoch: 12 loss = 0.19000788 train accuracy =  0.9282 test accuracy =  0.8895\n",
            "Epoch: 13 loss = 0.18227911 train accuracy =  0.9298 test accuracy =  0.8850\n",
            "Epoch: 14 loss = 0.17513357 train accuracy =  0.9334 test accuracy =  0.8897\n",
            "Epoch: 15 loss = 0.16624437 train accuracy =  0.9366 test accuracy =  0.8922\n",
            "Epoch: 16 loss = 0.16002238 train accuracy =  0.9401 test accuracy =  0.8873\n",
            "Epoch: 17 loss = 0.15527752 train accuracy =  0.9415 test accuracy =  0.8909\n",
            "Epoch: 18 loss = 0.14854047 train accuracy =  0.9441 test accuracy =  0.8967\n",
            "Epoch: 19 loss = 0.14315921 train accuracy =  0.9464 test accuracy =  0.8886\n",
            "Epoch: 20 loss = 0.13643174 train accuracy =  0.9481 test accuracy =  0.8953\n",
            "Epoch: 21 loss = 0.13209526 train accuracy =  0.9505 test accuracy =  0.8884\n",
            "Epoch: 22 loss = 0.12768622 train accuracy =  0.9520 test accuracy =  0.8933\n",
            "Epoch: 23 loss = 0.12261139 train accuracy =  0.9528 test accuracy =  0.8874\n",
            "Epoch: 24 loss = 0.11856887 train accuracy =  0.9552 test accuracy =  0.8942\n",
            "Epoch: 25 loss = 0.11253037 train accuracy =  0.9576 test accuracy =  0.8897\n",
            "Epoch: 26 loss = 0.10884634 train accuracy =  0.9584 test accuracy =  0.8913\n",
            "Epoch: 27 loss = 0.10621001 train accuracy =  0.9601 test accuracy =  0.8934\n",
            "Epoch: 28 loss = 0.10153838 train accuracy =  0.9609 test accuracy =  0.8945\n",
            "Epoch: 29 loss = 0.09865828 train accuracy =  0.9626 test accuracy =  0.8971\n",
            "Epoch: 30 loss = 0.09443182 train accuracy =  0.9646 test accuracy =  0.8939\n",
            "Learning Finished!\n"
          ],
          "name": "stdout"
        }
      ]
    },
    {
      "cell_type": "markdown",
      "metadata": {
        "id": "eM9SSAjRnT9c",
        "colab_type": "text"
      },
      "source": [
        "### step 17) Batch norm을 적용한 MLP 구현"
      ]
    },
    {
      "cell_type": "code",
      "metadata": {
        "id": "nUOwqwaxl5oA",
        "colab_type": "code",
        "colab": {}
      },
      "source": [
        "learning_rate = 0.001\n",
        "training_epochs = 30\n",
        "batch_size = 100\n",
        "n_class = 10"
      ],
      "execution_count": 0,
      "outputs": []
    },
    {
      "cell_type": "code",
      "metadata": {
        "id": "yfCGGPAmnhnV",
        "colab_type": "code",
        "colab": {}
      },
      "source": [
        "def create_model():\n",
        "    ## 배치놈은 적용할때 순서를 아래오 같이 잘 적용해줘야 한다.\n",
        "    model = keras.Sequential()\n",
        "    model.add(keras.layers.Flatten(input_shape=(28,28)))\n",
        "    model.add(keras.layers.Dense(256))\n",
        "    model.add(keras.layers.BatchNormalization())\n",
        "    model.add(keras.layers.ReLU())\n",
        "    model.add(keras.layers.Dense(256))\n",
        "    model.add(keras.layers.BatchNormalization())\n",
        "    model.add(keras.layers.ReLU())\n",
        "    model.add(keras.layers.Dense(128))\n",
        "    model.add(keras.layers.BatchNormalization())\n",
        "    model.add(keras.layers.ReLU())\n",
        "    model.add(keras.layers.Dense(128))\n",
        "    model.add(keras.layers.BatchNormalization())\n",
        "    model.add(keras.layers.ReLU())\n",
        "    model.add(keras.layers.Dense(10))\n",
        "    model.add(keras.layers.BatchNormalization())\n",
        "    model.add(keras.layers.Softmax())\n",
        "    return model"
      ],
      "execution_count": 0,
      "outputs": []
    },
    {
      "cell_type": "code",
      "metadata": {
        "id": "bIsFkoH_mB76",
        "colab_type": "code",
        "outputId": "4251df64-1ac4-4014-a176-6b3e1e900b8a",
        "colab": {
          "base_uri": "https://localhost:8080/",
          "height": 721
        }
      },
      "source": [
        "model = create_model()\n",
        "model.summary()"
      ],
      "execution_count": 0,
      "outputs": [
        {
          "output_type": "stream",
          "text": [
            "Model: \"sequential_4\"\n",
            "_________________________________________________________________\n",
            "Layer (type)                 Output Shape              Param #   \n",
            "=================================================================\n",
            "flatten_4 (Flatten)          (None, 784)               0         \n",
            "_________________________________________________________________\n",
            "dense_18 (Dense)             (None, 256)               200960    \n",
            "_________________________________________________________________\n",
            "batch_normalization (BatchNo (None, 256)               1024      \n",
            "_________________________________________________________________\n",
            "re_lu (ReLU)                 (None, 256)               0         \n",
            "_________________________________________________________________\n",
            "dense_19 (Dense)             (None, 256)               65792     \n",
            "_________________________________________________________________\n",
            "batch_normalization_1 (Batch (None, 256)               1024      \n",
            "_________________________________________________________________\n",
            "re_lu_1 (ReLU)               (None, 256)               0         \n",
            "_________________________________________________________________\n",
            "dense_20 (Dense)             (None, 128)               32896     \n",
            "_________________________________________________________________\n",
            "batch_normalization_2 (Batch (None, 128)               512       \n",
            "_________________________________________________________________\n",
            "re_lu_2 (ReLU)               (None, 128)               0         \n",
            "_________________________________________________________________\n",
            "dense_21 (Dense)             (None, 128)               16512     \n",
            "_________________________________________________________________\n",
            "batch_normalization_3 (Batch (None, 128)               512       \n",
            "_________________________________________________________________\n",
            "re_lu_3 (ReLU)               (None, 128)               0         \n",
            "_________________________________________________________________\n",
            "dense_22 (Dense)             (None, 10)                1290      \n",
            "_________________________________________________________________\n",
            "batch_normalization_4 (Batch (None, 10)                40        \n",
            "_________________________________________________________________\n",
            "softmax (Softmax)            (None, 10)                0         \n",
            "=================================================================\n",
            "Total params: 320,562\n",
            "Trainable params: 319,006\n",
            "Non-trainable params: 1,556\n",
            "_________________________________________________________________\n"
          ],
          "name": "stdout"
        }
      ]
    },
    {
      "cell_type": "code",
      "metadata": {
        "id": "bGdGL9n_mB79",
        "colab_type": "code",
        "colab": {}
      },
      "source": [
        "@tf.function\n",
        "def loss_fn(model, images, labels):\n",
        "    predictions = model(images, training=True)\n",
        "    loss = tf.reduce_mean(keras.losses.categorical_crossentropy(labels, predictions))   \n",
        "    return loss  "
      ],
      "execution_count": 0,
      "outputs": []
    },
    {
      "cell_type": "code",
      "metadata": {
        "id": "nNQYfHKdmB8A",
        "colab_type": "code",
        "colab": {}
      },
      "source": [
        "@tf.function\n",
        "def train(model, images, labels):\n",
        "    with tf.GradientTape() as tape:\n",
        "        loss = loss_fn(model, images, labels)\n",
        "    grads = tape.gradient(loss, model.trainable_variables)\n",
        "    optimizer.apply_gradients(zip(grads, model.trainable_variables))"
      ],
      "execution_count": 0,
      "outputs": []
    },
    {
      "cell_type": "code",
      "metadata": {
        "id": "Nss-oG_bmB8D",
        "colab_type": "code",
        "colab": {}
      },
      "source": [
        "@tf.function\n",
        "def evaluate(model, images, labels):\n",
        "    predictions = model(images, training=False)\n",
        "    correct_prediction = tf.equal(tf.argmax(predictions, 1), tf.argmax(labels, 1))\n",
        "    accuracy = tf.reduce_mean(tf.cast(correct_prediction, tf.float32))    \n",
        "    return accuracy"
      ],
      "execution_count": 0,
      "outputs": []
    },
    {
      "cell_type": "code",
      "metadata": {
        "id": "KyRQiqFXmB8H",
        "colab_type": "code",
        "colab": {}
      },
      "source": [
        "optimizer = tf.keras.optimizers.Adam(learning_rate=learning_rate)"
      ],
      "execution_count": 0,
      "outputs": []
    },
    {
      "cell_type": "code",
      "metadata": {
        "scrolled": false,
        "id": "WxNgtq5tmB8K",
        "colab_type": "code",
        "outputId": "dd50e5e0-a52d-41ba-f762-2be4b7dcf0d6",
        "colab": {
          "base_uri": "https://localhost:8080/",
          "height": 580
        }
      },
      "source": [
        "# train my model\n",
        "print('Learning started. It takes sometime.')\n",
        "for epoch in range(training_epochs):\n",
        "    avg_loss = 0.\n",
        "    avg_train_acc = 0.\n",
        "    avg_test_acc = 0.\n",
        "    train_step = 0\n",
        "    test_step = 0\n",
        "    \n",
        "    for images, labels in train_dataset:\n",
        "        train(model,images, labels)\n",
        "        loss = loss_fn(model, images, labels)\n",
        "        acc = evaluate(model, images, labels)\n",
        "        avg_loss = avg_loss + loss\n",
        "        avg_train_acc = avg_train_acc + acc\n",
        "        train_step += 1\n",
        "    avg_loss = avg_loss / train_step\n",
        "    avg_train_acc = avg_train_acc / train_step\n",
        "    \n",
        "    for images, labels in test_dataset:        \n",
        "        acc = evaluate(model, images, labels)        \n",
        "        avg_test_acc = avg_test_acc + acc\n",
        "        test_step += 1    \n",
        "    avg_test_acc = avg_test_acc / test_step    \n",
        "\n",
        "    print('Epoch:', '{}'.format(epoch + 1), \n",
        "          'loss =', '{:.8f}'.format(avg_loss), \n",
        "          'train accuracy = ', '{:.4f}'.format(avg_train_acc), \n",
        "          'test accuracy = ', '{:.4f}'.format(avg_test_acc))\n",
        "\n",
        "\n",
        "print('Learning Finished!')"
      ],
      "execution_count": 0,
      "outputs": [
        {
          "output_type": "stream",
          "text": [
            "Learning started. It takes sometime.\n",
            "Epoch: 1 loss = 0.55156994 train accuracy =  0.8252 test accuracy =  0.8509\n",
            "Epoch: 2 loss = 0.37986416 train accuracy =  0.8767 test accuracy =  0.8614\n",
            "Epoch: 3 loss = 0.31682464 train accuracy =  0.8916 test accuracy =  0.8752\n",
            "Epoch: 4 loss = 0.28147227 train accuracy =  0.8969 test accuracy =  0.8645\n",
            "Epoch: 5 loss = 0.25224206 train accuracy =  0.9054 test accuracy =  0.8838\n",
            "Epoch: 6 loss = 0.23104106 train accuracy =  0.9117 test accuracy =  0.8659\n",
            "Epoch: 7 loss = 0.21120189 train accuracy =  0.9144 test accuracy =  0.8645\n",
            "Epoch: 8 loss = 0.19473054 train accuracy =  0.9213 test accuracy =  0.8885\n",
            "Epoch: 9 loss = 0.17819290 train accuracy =  0.9240 test accuracy =  0.8848\n",
            "Epoch: 10 loss = 0.16607507 train accuracy =  0.9286 test accuracy =  0.8855\n",
            "Epoch: 11 loss = 0.15477753 train accuracy =  0.9323 test accuracy =  0.8769\n",
            "Epoch: 12 loss = 0.14456172 train accuracy =  0.9344 test accuracy =  0.8892\n",
            "Epoch: 13 loss = 0.13205849 train accuracy =  0.9386 test accuracy =  0.8671\n",
            "Epoch: 14 loss = 0.12597175 train accuracy =  0.9410 test accuracy =  0.8880\n",
            "Epoch: 15 loss = 0.11478428 train accuracy =  0.9475 test accuracy =  0.8888\n",
            "Epoch: 16 loss = 0.10781864 train accuracy =  0.9494 test accuracy =  0.8780\n",
            "Epoch: 17 loss = 0.09772268 train accuracy =  0.9522 test accuracy =  0.8872\n",
            "Epoch: 18 loss = 0.09256799 train accuracy =  0.9538 test accuracy =  0.8860\n",
            "Epoch: 19 loss = 0.08564570 train accuracy =  0.9552 test accuracy =  0.8902\n",
            "Epoch: 20 loss = 0.08106101 train accuracy =  0.9562 test accuracy =  0.8765\n",
            "Epoch: 21 loss = 0.07430840 train accuracy =  0.9611 test accuracy =  0.8822\n",
            "Epoch: 22 loss = 0.07082912 train accuracy =  0.9610 test accuracy =  0.8890\n",
            "Epoch: 23 loss = 0.06600729 train accuracy =  0.9624 test accuracy =  0.8886\n",
            "Epoch: 24 loss = 0.06105103 train accuracy =  0.9662 test accuracy =  0.8870\n",
            "Epoch: 25 loss = 0.05810046 train accuracy =  0.9654 test accuracy =  0.8860\n",
            "Epoch: 26 loss = 0.05752798 train accuracy =  0.9657 test accuracy =  0.8858\n",
            "Epoch: 27 loss = 0.05266721 train accuracy =  0.9685 test accuracy =  0.8797\n",
            "Epoch: 28 loss = 0.04977661 train accuracy =  0.9684 test accuracy =  0.8895\n",
            "Epoch: 29 loss = 0.04771885 train accuracy =  0.9691 test accuracy =  0.8820\n",
            "Epoch: 30 loss = 0.04471344 train accuracy =  0.9714 test accuracy =  0.8813\n",
            "Learning Finished!\n"
          ],
          "name": "stdout"
        }
      ]
    },
    {
      "cell_type": "markdown",
      "metadata": {
        "id": "RN795DeCoKAT",
        "colab_type": "text"
      },
      "source": [
        "배치놈은 로스값이 위에 모델들과 다르게 빠르게 떨어지는 것을 알 수 있다.(수렴이 빨리되는 성향) \n",
        "\n",
        "따라서 배치놈은 가능하면 모델링할때 써주는게 좋다.\n",
        "\n",
        "### step 18) learning rate decay를 적용한 MLP 모델"
      ]
    },
    {
      "cell_type": "code",
      "metadata": {
        "id": "eX4ken4TM16r",
        "colab_type": "code",
        "colab": {}
      },
      "source": [
        "learning_rate = 0.001\n",
        "training_epochs = 30\n",
        "batch_size = 100\n",
        "n_class = 10"
      ],
      "execution_count": 0,
      "outputs": []
    },
    {
      "cell_type": "code",
      "metadata": {
        "id": "UAzXNzOWM162",
        "colab_type": "code",
        "colab": {}
      },
      "source": [
        "def create_model():\n",
        "    model = keras.Sequential()\n",
        "    model.add(keras.layers.Flatten(input_shape=(28,28)))\n",
        "    model.add(keras.layers.Dense(256, activation='relu'))\n",
        "    model.add(keras.layers.Dense(256, activation='relu'))    \n",
        "    model.add(keras.layers.Dense(128, activation='relu'))\n",
        "    model.add(keras.layers.Dense(128, activation='relu'))    \n",
        "    model.add(keras.layers.Dense(10, activation='softmax'))\n",
        "    return model"
      ],
      "execution_count": 0,
      "outputs": []
    },
    {
      "cell_type": "code",
      "metadata": {
        "id": "NlfoaRxyM165",
        "colab_type": "code",
        "outputId": "619b6f0a-5640-4f88-de92-2314ac1b7aed",
        "colab": {
          "base_uri": "https://localhost:8080/",
          "height": 369
        }
      },
      "source": [
        "model = create_model()\n",
        "model.summary()"
      ],
      "execution_count": 0,
      "outputs": [
        {
          "output_type": "stream",
          "text": [
            "Model: \"sequential_5\"\n",
            "_________________________________________________________________\n",
            "Layer (type)                 Output Shape              Param #   \n",
            "=================================================================\n",
            "flatten_5 (Flatten)          (None, 784)               0         \n",
            "_________________________________________________________________\n",
            "dense_23 (Dense)             (None, 256)               200960    \n",
            "_________________________________________________________________\n",
            "dense_24 (Dense)             (None, 256)               65792     \n",
            "_________________________________________________________________\n",
            "dense_25 (Dense)             (None, 128)               32896     \n",
            "_________________________________________________________________\n",
            "dense_26 (Dense)             (None, 128)               16512     \n",
            "_________________________________________________________________\n",
            "dense_27 (Dense)             (None, 10)                1290      \n",
            "=================================================================\n",
            "Total params: 317,450\n",
            "Trainable params: 317,450\n",
            "Non-trainable params: 0\n",
            "_________________________________________________________________\n"
          ],
          "name": "stdout"
        }
      ]
    },
    {
      "cell_type": "code",
      "metadata": {
        "id": "Q-tVOxTgM167",
        "colab_type": "code",
        "colab": {}
      },
      "source": [
        "@tf.function\n",
        "def loss_fn(model, images, labels):\n",
        "    predictions = model(images, training=True)\n",
        "    loss = tf.reduce_mean(keras.losses.categorical_crossentropy(labels, predictions))   \n",
        "    return loss  "
      ],
      "execution_count": 0,
      "outputs": []
    },
    {
      "cell_type": "code",
      "metadata": {
        "id": "d10HNc6TM17B",
        "colab_type": "code",
        "colab": {}
      },
      "source": [
        "@tf.function\n",
        "def train(model, images, labels):\n",
        "    with tf.GradientTape() as tape:\n",
        "        loss = loss_fn(model, images, labels)\n",
        "    grads = tape.gradient(loss, model.trainable_variables)\n",
        "    optimizer.apply_gradients(zip(grads, model.trainable_variables))"
      ],
      "execution_count": 0,
      "outputs": []
    },
    {
      "cell_type": "code",
      "metadata": {
        "id": "o9_k0bE7M17D",
        "colab_type": "code",
        "colab": {}
      },
      "source": [
        "@tf.function\n",
        "def evaluate(model, images, labels):\n",
        "    predictions = model(images, training=False)\n",
        "    correct_prediction = tf.equal(tf.argmax(predictions, 1), tf.argmax(labels, 1))\n",
        "    accuracy = tf.reduce_mean(tf.cast(correct_prediction, tf.float32))    \n",
        "    return accuracy"
      ],
      "execution_count": 0,
      "outputs": []
    },
    {
      "cell_type": "code",
      "metadata": {
        "id": "jUMLaXp4M17E",
        "colab_type": "code",
        "colab": {}
      },
      "source": [
        "lr_schedule = keras.optimizers.schedules.ExponentialDecay(initial_learning_rate=learning_rate,\n",
        "                                                          decay_steps=n_train//batch_size*10,\n",
        "                                                          decay_rate=0.5,\n",
        "                                                          staircase=True)\n",
        "optimizer = keras.optimizers.Adam(learning_rate=lr_schedule)"
      ],
      "execution_count": 0,
      "outputs": []
    },
    {
      "cell_type": "markdown",
      "metadata": {
        "id": "wwjNJ6Xbsey7",
        "colab_type": "text"
      },
      "source": [
        "위에서 learning rate decay는 모델을 건드는게 아니라 옵티마이저에서 adam 쓰고, \n",
        "러닝레이트 디케이가 따로 들어간 걸 볼 수 있다.\n",
        "\n",
        "decay_steps = 얼마마다 한번씩 이 러닝레이트를 떨굴것이냐 step은 웨이팅을\n",
        "한번 업데이트 하는 것을 말한다. 배치가 한번 들어가서 업데이트 되면 그게 한 스텝이다.\n",
        "\n",
        "10 애포그가 되면 러닝레이트를 떨구고 싶을때 아래와 같이 코딩해주면 된다.\n",
        "\n",
        "한 애포크에 몇 스텝이 들어가는지 계산해서 곱하기 10하면 된다.\n",
        "600(6만(데이터셋) 나누기 100(배치사이즈))번 스텝을 밟으면 한 애포크가 될 것이다. \n",
        "\n",
        "따라서 6000 스텝이 되었을때 러닝레이트를 떨굴건데 0.5,절반 만큼 떨구라는 것이다.\n",
        "\n",
        "staircase는 10 애포크 동안 러닝레이트를 유지하다가 10 애포크가 되면 계단식으로\n",
        "\n",
        "확 떨구라는 옵션이다. 디폴트는 false다. \n",
        "\n",
        "false일 경우를 적용하면 매 스텝마다 절반씩 조금씩 조금씩 떨구는 방식이다.\n",
        "\n",
        "일반적으로 staircase를 쭉 유지시키다가 한번에 떨굴때 더 성능이 잘나온다고 한다.\n",
        "\n",
        "\n",
        "모델링을 할때 자주 적용하는 옵션중에 하나이다.\n"
      ]
    },
    {
      "cell_type": "code",
      "metadata": {
        "scrolled": false,
        "id": "JPoWSgwmM17G",
        "colab_type": "code",
        "outputId": "9ce4c0bc-685d-4291-b80a-8167b0c4de87",
        "colab": {
          "base_uri": "https://localhost:8080/",
          "height": 580
        }
      },
      "source": [
        "# train my model\n",
        "print('Learning started. It takes sometime.')\n",
        "for epoch in range(training_epochs):\n",
        "    avg_loss = 0.\n",
        "    avg_train_acc = 0.\n",
        "    avg_test_acc = 0.\n",
        "    train_step = 0\n",
        "    test_step = 0\n",
        "    \n",
        "    for images, labels in train_dataset:\n",
        "        train(model,images, labels)\n",
        "        loss = loss_fn(model, images, labels)\n",
        "        acc = evaluate(model, images, labels)\n",
        "        avg_loss = avg_loss + loss\n",
        "        avg_train_acc = avg_train_acc + acc\n",
        "        train_step += 1\n",
        "    avg_loss = avg_loss / train_step\n",
        "    avg_train_acc = avg_train_acc / train_step\n",
        "    \n",
        "    for images, labels in test_dataset:        \n",
        "        acc = evaluate(model, images, labels)        \n",
        "        avg_test_acc = avg_test_acc + acc\n",
        "        test_step += 1    \n",
        "    avg_test_acc = avg_test_acc / test_step    \n",
        "\n",
        "    print('Epoch:', '{}'.format(epoch + 1), \n",
        "          'loss =', '{:.8f}'.format(avg_loss), \n",
        "          'train accuracy = ', '{:.4f}'.format(avg_train_acc), \n",
        "          'test accuracy = ', '{:.4f}'.format(avg_test_acc))\n",
        "\n",
        "\n",
        "print('Learning Finished!')"
      ],
      "execution_count": 0,
      "outputs": [
        {
          "output_type": "stream",
          "text": [
            "Learning started. It takes sometime.\n",
            "Epoch: 1 loss = 0.47815746 train accuracy =  0.8287 test accuracy =  0.8438\n",
            "Epoch: 2 loss = 0.33719864 train accuracy =  0.8759 test accuracy =  0.8656\n",
            "Epoch: 3 loss = 0.30212611 train accuracy =  0.8877 test accuracy =  0.8709\n",
            "Epoch: 4 loss = 0.27830932 train accuracy =  0.8960 test accuracy =  0.8706\n",
            "Epoch: 5 loss = 0.26362100 train accuracy =  0.9019 test accuracy =  0.8759\n",
            "Epoch: 6 loss = 0.24579105 train accuracy =  0.9081 test accuracy =  0.8769\n",
            "Epoch: 7 loss = 0.23407455 train accuracy =  0.9118 test accuracy =  0.8761\n",
            "Epoch: 8 loss = 0.22326103 train accuracy =  0.9159 test accuracy =  0.8845\n",
            "Epoch: 9 loss = 0.21276423 train accuracy =  0.9194 test accuracy =  0.8842\n",
            "Epoch: 10 loss = 0.20038223 train accuracy =  0.9252 test accuracy =  0.8771\n",
            "Epoch: 11 loss = 0.18016288 train accuracy =  0.9312 test accuracy =  0.8936\n",
            "Epoch: 12 loss = 0.16649547 train accuracy =  0.9358 test accuracy =  0.8920\n",
            "Epoch: 13 loss = 0.15905622 train accuracy =  0.9394 test accuracy =  0.8919\n",
            "Epoch: 14 loss = 0.15006126 train accuracy =  0.9430 test accuracy =  0.8913\n",
            "Epoch: 15 loss = 0.14231375 train accuracy =  0.9447 test accuracy =  0.8930\n",
            "Epoch: 16 loss = 0.13621068 train accuracy =  0.9479 test accuracy =  0.8920\n",
            "Epoch: 17 loss = 0.12873869 train accuracy =  0.9514 test accuracy =  0.8955\n",
            "Epoch: 18 loss = 0.12225182 train accuracy =  0.9528 test accuracy =  0.8980\n",
            "Epoch: 19 loss = 0.11551828 train accuracy =  0.9554 test accuracy =  0.8955\n",
            "Epoch: 20 loss = 0.10996552 train accuracy =  0.9585 test accuracy =  0.8973\n",
            "Epoch: 21 loss = 0.09123135 train accuracy =  0.9648 test accuracy =  0.9001\n",
            "Epoch: 22 loss = 0.08312258 train accuracy =  0.9680 test accuracy =  0.8961\n",
            "Epoch: 23 loss = 0.07741531 train accuracy =  0.9706 test accuracy =  0.8970\n",
            "Epoch: 24 loss = 0.07386006 train accuracy =  0.9720 test accuracy =  0.8997\n",
            "Epoch: 25 loss = 0.06799655 train accuracy =  0.9743 test accuracy =  0.8974\n",
            "Epoch: 26 loss = 0.06446645 train accuracy =  0.9760 test accuracy =  0.8993\n",
            "Epoch: 27 loss = 0.05809086 train accuracy =  0.9780 test accuracy =  0.8986\n",
            "Epoch: 28 loss = 0.05627620 train accuracy =  0.9798 test accuracy =  0.8984\n",
            "Epoch: 29 loss = 0.05158266 train accuracy =  0.9818 test accuracy =  0.9000\n",
            "Epoch: 30 loss = 0.04746664 train accuracy =  0.9829 test accuracy =  0.8989\n",
            "Learning Finished!\n"
          ],
          "name": "stdout"
        }
      ]
    },
    {
      "cell_type": "markdown",
      "metadata": {
        "id": "1X8QFxlVs5HE",
        "colab_type": "text"
      },
      "source": [
        "이렇게 쉬운 데이터셋 문제로 모델링하면 트레이닝 퍼포먼스가 100가까이 나오는 것은 흔하다.\n",
        "\n",
        "만약에 트레이닝 퍼포먼스가 100프로 에 가까운데 테스트 퍼포먼스가 70프로 이하로 나온다 하면 오버피팅을 의심해야한다.\n",
        "\n",
        "위의 스텝들을 진행해보면서 여러가지 옵션들을 조합하여 MLP의 성능을 최대한 끌어올려 보았다. 이런 조합들을 적당히 잘 섞어서 튜닝하면 조금 더 올릴 수도 있을것이다. \n",
        "\n",
        "그런데 테스트 퍼포먼스는 99퍼가 나오기는 힘들것이다.\n",
        "\n",
        "근데 여기서 CNN을 쓴다!? 그러면 99퍼에 가까운 성능을 낼 수 있는 모델을 구현할 수 있다."
      ]
    }
  ]
}