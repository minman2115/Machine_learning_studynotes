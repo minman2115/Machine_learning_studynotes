{
 "cells": [
  {
   "cell_type": "markdown",
   "metadata": {},
   "source": [
    "#### # 학습 시 참고한 URL : https://datascienceschool.net"
   ]
  },
  {
   "cell_type": "markdown",
   "metadata": {},
   "source": [
    "- 분류문제를 푸는 방법은 크게 두가지로 나눌 수 있다. \n",
    "\n",
    "하나는 주어진 데이터를 카테고리에 따라 서로 다른 영역으로 나누는 decision boundary를 찾아낸 다음 이 경계면으로부터 주어진 데이터가 어느 위치에 있는지를 계산하는 '판별함수 모형'이고 또 다른 하나는 주어진 데이터에 대해 각 카테고리 혹은 클래스가 정답일 조건부확률을 계산하는 '확률적 모형'이다.\n",
    "\n",
    "조건부확률 기반 방법은 조건부확률을 계산하는 방법에 따라 직접 조건부확률 함수를 추정하는 '확률적 판별모형'과 베이즈 정리를 사용하는 '확률적 생성모형'으로 나누어진다."
   ]
  },
  {
   "cell_type": "code",
   "execution_count": 3,
   "metadata": {},
   "outputs": [
    {
     "data": {
      "text/html": [
       "<div>\n",
       "<style scoped>\n",
       "    .dataframe tbody tr th:only-of-type {\n",
       "        vertical-align: middle;\n",
       "    }\n",
       "\n",
       "    .dataframe tbody tr th {\n",
       "        vertical-align: top;\n",
       "    }\n",
       "\n",
       "    .dataframe thead th {\n",
       "        text-align: right;\n",
       "    }\n",
       "</style>\n",
       "<table border=\"1\" class=\"dataframe\">\n",
       "  <thead>\n",
       "    <tr style=\"text-align: right;\">\n",
       "      <th></th>\n",
       "      <th>모형</th>\n",
       "      <th>방법론</th>\n",
       "    </tr>\n",
       "  </thead>\n",
       "  <tbody>\n",
       "    <tr>\n",
       "      <th>0</th>\n",
       "      <td>Linear/Quadratic Discriminant Analysis</td>\n",
       "      <td>확률적 생성(generative) 모형</td>\n",
       "    </tr>\n",
       "    <tr>\n",
       "      <th>1</th>\n",
       "      <td>나이브 베이지안(Naive Bayes)</td>\n",
       "      <td>확률적 생성(generative) 모형</td>\n",
       "    </tr>\n",
       "    <tr>\n",
       "      <th>2</th>\n",
       "      <td>로지스틱 회귀(Logistic Regression)</td>\n",
       "      <td>확률적 판별(discriminative) 모형</td>\n",
       "    </tr>\n",
       "    <tr>\n",
       "      <th>3</th>\n",
       "      <td>의사결정나무(Decision Tree)</td>\n",
       "      <td>확률적 판별(discriminative) 모형</td>\n",
       "    </tr>\n",
       "    <tr>\n",
       "      <th>4</th>\n",
       "      <td>퍼셉트론(Perceptron)</td>\n",
       "      <td>판별함수(discriminant function) 모형</td>\n",
       "    </tr>\n",
       "    <tr>\n",
       "      <th>5</th>\n",
       "      <td>서포트 벡터 머신(Support Vector Machine)</td>\n",
       "      <td>판별함수(discriminant function) 모형</td>\n",
       "    </tr>\n",
       "    <tr>\n",
       "      <th>6</th>\n",
       "      <td>신경망(Neural Network)</td>\n",
       "      <td>판별함수(discriminant function) 모형</td>\n",
       "    </tr>\n",
       "  </tbody>\n",
       "</table>\n",
       "</div>"
      ],
      "text/plain": [
       "                                       모형                             방법론\n",
       "0  Linear/Quadratic Discriminant Analysis           확률적 생성(generative) 모형\n",
       "1                   나이브 베이지안(Naive Bayes)           확률적 생성(generative) 모형\n",
       "2            로지스틱 회귀(Logistic Regression)       확률적 판별(discriminative) 모형\n",
       "3                   의사결정나무(Decision Tree)       확률적 판별(discriminative) 모형\n",
       "4                        퍼셉트론(Perceptron)  판별함수(discriminant function) 모형\n",
       "5       서포트 벡터 머신(Support Vector Machine)  판별함수(discriminant function) 모형\n",
       "6                     신경망(Neural Network)  판별함수(discriminant function) 모형"
      ]
     },
     "execution_count": 3,
     "metadata": {},
     "output_type": "execute_result"
    }
   ],
   "source": [
    "import pandas as pd\n",
    "\n",
    "model = pd.DataFrame(columns=[\"모형\", \"방법론\"])\n",
    "model[\"모형\"] = [\"Linear/Quadratic Discriminant Analysis\", \"나이브 베이지안(Naive Bayes)\", \"로지스틱 회귀(Logistic Regression)\",\\\n",
    "                \"의사결정나무(Decision Tree)\", \"퍼셉트론(Perceptron)\", \"서포트 벡터 머신(Support Vector Machine)\", \"신경망(Neural Network)\"]\n",
    "model[\"방법론\"] = [\"확률적 생성(generative) 모형\",\"확률적 생성(generative) 모형\",\"확률적 판별(discriminative) 모형\",\\\n",
    "                 \"확률적 판별(discriminative) 모형\", \"판별함수(discriminant function) 모형\",\"판별함수(discriminant function) 모형\",\\\n",
    "                 \"판별함수(discriminant function) 모형\"]\n",
    "model"
   ]
  },
  {
   "cell_type": "markdown",
   "metadata": {},
   "source": [
    "- 'OvR 방법'은 K개의 클래스가 존재하는 경우, 각각의 클래스에 대해 표본이 속하는지(y=1) 속하지 않는지(y=0)의 이진분류문제를 푼다. 타겟값의 클래스 수만큼의 이진분류 문제를 풀면된다."
   ]
  },
  {
   "cell_type": "markdown",
   "metadata": {},
   "source": [
    "- Binary confusion matrix의 네가지 케이스를, 질병검사의 예를 들어서 설명해보자.\n",
    "\n",
    "ex) 질병이 걸렸는데 검사에서는 안걸렸다고 판단한 경우"
   ]
  },
  {
   "cell_type": "code",
   "execution_count": 2,
   "metadata": {},
   "outputs": [
    {
     "data": {
      "text/html": [
       "<div>\n",
       "<style scoped>\n",
       "    .dataframe tbody tr th:only-of-type {\n",
       "        vertical-align: middle;\n",
       "    }\n",
       "\n",
       "    .dataframe tbody tr th {\n",
       "        vertical-align: top;\n",
       "    }\n",
       "\n",
       "    .dataframe thead th {\n",
       "        text-align: right;\n",
       "    }\n",
       "</style>\n",
       "<table border=\"1\" class=\"dataframe\">\n",
       "  <thead>\n",
       "    <tr style=\"text-align: right;\">\n",
       "      <th></th>\n",
       "      <th>Positive라고 예측</th>\n",
       "      <th>Negative라고 예측</th>\n",
       "    </tr>\n",
       "  </thead>\n",
       "  <tbody>\n",
       "    <tr>\n",
       "      <th>실제 positive</th>\n",
       "      <td>True positive</td>\n",
       "      <td>False Negative</td>\n",
       "    </tr>\n",
       "    <tr>\n",
       "      <th>실제 negative</th>\n",
       "      <td>False positive</td>\n",
       "      <td>True Negative</td>\n",
       "    </tr>\n",
       "  </tbody>\n",
       "</table>\n",
       "</div>"
      ],
      "text/plain": [
       "              Positive라고 예측   Negative라고 예측\n",
       "실제 positive   True positive  False Negative\n",
       "실제 negative  False positive   True Negative"
      ]
     },
     "execution_count": 2,
     "metadata": {},
     "output_type": "execute_result"
    }
   ],
   "source": [
    "example = pd.DataFrame(columns=[\"Positive라고 예측\", \"Negative라고 예측\"],index=[\"실제 positive\",\"실제 negative\"])\n",
    "example[\"Positive라고 예측\"] = [\"True positive\", \"False positive\"]\n",
    "example[\"Negative라고 예측\"] = [\"False Negative\",\"True Negative\"]\n",
    "example"
   ]
  },
  {
   "cell_type": "markdown",
   "metadata": {},
   "source": [
    "- True positive\t: 질병에 걸렸고 검사에서 질병에 걸렸다고 진단한 경우\n",
    "- False Negative : 질병에 걸렸는데 검사에서는 질병에 안걸렸다고 진단한 경우\n",
    "- False positive : 질병에 안걸렸는데 검사에서 질병에 걸렸다고 진단한 경우\n",
    "- True Negative : 질병에 안걸렸는데 검사에서도 질병에 안걸렸다고 진단한 경우"
   ]
  },
  {
   "cell_type": "markdown",
   "metadata": {},
   "source": [
    "- 위의 네가지 중에 가장 critical한 경우는 False Negative이다. 왜냐하면 실제로는 질병에 걸린상황인데 정상이라고 오진한 경우이기 때문이다."
   ]
  }
 ],
 "metadata": {
  "kernelspec": {
   "display_name": "Python 3",
   "language": "python",
   "name": "python3"
  },
  "language_info": {
   "codemirror_mode": {
    "name": "ipython",
    "version": 3
   },
   "file_extension": ".py",
   "mimetype": "text/x-python",
   "name": "python",
   "nbconvert_exporter": "python",
   "pygments_lexer": "ipython3",
   "version": "3.7.1"
  }
 },
 "nbformat": 4,
 "nbformat_minor": 2
}
