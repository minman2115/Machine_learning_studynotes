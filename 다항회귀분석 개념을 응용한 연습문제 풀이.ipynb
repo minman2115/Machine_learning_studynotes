{
 "cells": [
  {
   "cell_type": "markdown",
   "metadata": {},
   "source": [
    "#### 그림, 실습코드 등 학습자료 출처 : https://datascienceschool.net"
   ]
  },
  {
   "cell_type": "markdown",
   "metadata": {},
   "source": [
    "### 1. 다음은 경력과 연봉간의 관계를 조사한 데이터이다. 차후 나오는 문제들에 대한 풀이를 하시오"
   ]
  },
  {
   "cell_type": "code",
   "execution_count": 11,
   "metadata": {},
   "outputs": [],
   "source": [
    "# 필요한 패키지 임포트\n",
    "%matplotlib inline\n",
    "import numpy as np\n",
    "import matplotlib as mpl\n",
    "import matplotlib.pyplot as plt\n",
    "from patsy import *"
   ]
  },
  {
   "cell_type": "code",
   "execution_count": 12,
   "metadata": {},
   "outputs": [
    {
     "data": {
      "text/html": [
       "<div>\n",
       "<style scoped>\n",
       "    .dataframe tbody tr th:only-of-type {\n",
       "        vertical-align: middle;\n",
       "    }\n",
       "\n",
       "    .dataframe tbody tr th {\n",
       "        vertical-align: top;\n",
       "    }\n",
       "\n",
       "    .dataframe thead th {\n",
       "        text-align: right;\n",
       "    }\n",
       "</style>\n",
       "<table border=\"1\" class=\"dataframe\">\n",
       "  <thead>\n",
       "    <tr style=\"text-align: right;\">\n",
       "      <th></th>\n",
       "      <th>Salary</th>\n",
       "      <th>Experience</th>\n",
       "    </tr>\n",
       "  </thead>\n",
       "  <tbody>\n",
       "    <tr>\n",
       "      <th>138</th>\n",
       "      <td>43</td>\n",
       "      <td>3</td>\n",
       "    </tr>\n",
       "    <tr>\n",
       "      <th>139</th>\n",
       "      <td>63</td>\n",
       "      <td>12</td>\n",
       "    </tr>\n",
       "    <tr>\n",
       "      <th>140</th>\n",
       "      <td>67</td>\n",
       "      <td>16</td>\n",
       "    </tr>\n",
       "    <tr>\n",
       "      <th>141</th>\n",
       "      <td>71</td>\n",
       "      <td>20</td>\n",
       "    </tr>\n",
       "    <tr>\n",
       "      <th>142</th>\n",
       "      <td>69</td>\n",
       "      <td>31</td>\n",
       "    </tr>\n",
       "  </tbody>\n",
       "</table>\n",
       "</div>"
      ],
      "text/plain": [
       "     Salary  Experience\n",
       "138      43           3\n",
       "139      63          12\n",
       "140      67          16\n",
       "141      71          20\n",
       "142      69          31"
      ]
     },
     "execution_count": 12,
     "metadata": {},
     "output_type": "execute_result"
    }
   ],
   "source": [
    "# 데이터 로드\n",
    "df1 = pd.read_csv(\"http://gattonweb.uky.edu/sheather/book/docs/datasets/profsalary.txt\", sep = \"\\t\")\n",
    "del df1[\"Case\"]\n",
    "df1.tail()"
   ]
  },
  {
   "cell_type": "code",
   "execution_count": 13,
   "metadata": {},
   "outputs": [
    {
     "data": {
      "image/png": "[encoded data removed]",
      "text/plain": [
       "<Figure size 432x288 with 1 Axes>"
      ]
     },
     "metadata": {
      "needs_background": "light"
     },
     "output_type": "display_data"
    }
   ],
   "source": [
    "# 데이터 분포 확인\n",
    "plt.scatter(df1.Experience, df1.Salary)\n",
    "plt.xlabel('Experience')\n",
    "plt.ylabel('Salary')\n",
    "plt.show()"
   ]
  },
  {
   "cell_type": "markdown",
   "metadata": {},
   "source": [
    "### (1) statsmodels를 사용하여 경력에서 연봉을 예측하는 2차 다항회귀모형을 만들어라"
   ]
  },
  {
   "cell_type": "code",
   "execution_count": 14,
   "metadata": {},
   "outputs": [
    {
     "data": {
      "text/html": [
       "<table class=\"simpletable\">\n",
       "<caption>OLS Regression Results</caption>\n",
       "<tr>\n",
       "  <th>Dep. Variable:</th>         <td>Salary</td>      <th>  R-squared:         </th> <td>   0.925</td>\n",
       "</tr>\n",
       "<tr>\n",
       "  <th>Model:</th>                   <td>OLS</td>       <th>  Adj. R-squared:    </th> <td>   0.924</td>\n",
       "</tr>\n",
       "<tr>\n",
       "  <th>Method:</th>             <td>Least Squares</td>  <th>  F-statistic:       </th> <td>   859.3</td>\n",
       "</tr>\n",
       "<tr>\n",
       "  <th>Date:</th>             <td>Sat, 19 Jan 2019</td> <th>  Prob (F-statistic):</th> <td>2.43e-79</td>\n",
       "</tr>\n",
       "<tr>\n",
       "  <th>Time:</th>                 <td>23:17:19</td>     <th>  Log-Likelihood:    </th> <td> -349.51</td>\n",
       "</tr>\n",
       "<tr>\n",
       "  <th>No. Observations:</th>      <td>   143</td>      <th>  AIC:               </th> <td>   705.0</td>\n",
       "</tr>\n",
       "<tr>\n",
       "  <th>Df Residuals:</th>          <td>   140</td>      <th>  BIC:               </th> <td>   713.9</td>\n",
       "</tr>\n",
       "<tr>\n",
       "  <th>Df Model:</th>              <td>     2</td>      <th>                     </th>     <td> </td>   \n",
       "</tr>\n",
       "<tr>\n",
       "  <th>Covariance Type:</th>      <td>nonrobust</td>    <th>                     </th>     <td> </td>   \n",
       "</tr>\n",
       "</table>\n",
       "<table class=\"simpletable\">\n",
       "<tr>\n",
       "           <td></td>             <th>coef</th>     <th>std err</th>      <th>t</th>      <th>P>|t|</th>  <th>[0.025</th>    <th>0.975]</th>  \n",
       "</tr>\n",
       "<tr>\n",
       "  <th>Intercept</th>          <td>   34.7205</td> <td>    0.829</td> <td>   41.896</td> <td> 0.000</td> <td>   33.082</td> <td>   36.359</td>\n",
       "</tr>\n",
       "<tr>\n",
       "  <th>Experience</th>         <td>    2.8723</td> <td>    0.096</td> <td>   30.014</td> <td> 0.000</td> <td>    2.683</td> <td>    3.061</td>\n",
       "</tr>\n",
       "<tr>\n",
       "  <th>I(Experience ** 2)</th> <td>   -0.0533</td> <td>    0.002</td> <td>  -21.526</td> <td> 0.000</td> <td>   -0.058</td> <td>   -0.048</td>\n",
       "</tr>\n",
       "</table>\n",
       "<table class=\"simpletable\">\n",
       "<tr>\n",
       "  <th>Omnibus:</th>       <td>31.087</td> <th>  Durbin-Watson:     </th> <td>   1.969</td>\n",
       "</tr>\n",
       "<tr>\n",
       "  <th>Prob(Omnibus):</th> <td> 0.000</td> <th>  Jarque-Bera (JB):  </th> <td>   6.892</td>\n",
       "</tr>\n",
       "<tr>\n",
       "  <th>Skew:</th>          <td> 0.030</td> <th>  Prob(JB):          </th> <td>  0.0319</td>\n",
       "</tr>\n",
       "<tr>\n",
       "  <th>Kurtosis:</th>      <td> 1.926</td> <th>  Cond. No.          </th> <td>2.04e+03</td>\n",
       "</tr>\n",
       "</table><br/><br/>Warnings:<br/>[1] Standard Errors assume that the covariance matrix of the errors is correctly specified.<br/>[2] The condition number is large, 2.04e+03. This might indicate that there are<br/>strong multicollinearity or other numerical problems."
      ],
      "text/plain": [
       "<class 'statsmodels.iolib.summary.Summary'>\n",
       "\"\"\"\n",
       "                            OLS Regression Results                            \n",
       "==============================================================================\n",
       "Dep. Variable:                 Salary   R-squared:                       0.925\n",
       "Model:                            OLS   Adj. R-squared:                  0.924\n",
       "Method:                 Least Squares   F-statistic:                     859.3\n",
       "Date:                Sat, 19 Jan 2019   Prob (F-statistic):           2.43e-79\n",
       "Time:                        23:17:19   Log-Likelihood:                -349.51\n",
       "No. Observations:                 143   AIC:                             705.0\n",
       "Df Residuals:                     140   BIC:                             713.9\n",
       "Df Model:                           2                                         \n",
       "Covariance Type:            nonrobust                                         \n",
       "======================================================================================\n",
       "                         coef    std err          t      P>|t|      [0.025      0.975]\n",
       "--------------------------------------------------------------------------------------\n",
       "Intercept             34.7205      0.829     41.896      0.000      33.082      36.359\n",
       "Experience             2.8723      0.096     30.014      0.000       2.683       3.061\n",
       "I(Experience ** 2)    -0.0533      0.002    -21.526      0.000      -0.058      -0.048\n",
       "==============================================================================\n",
       "Omnibus:                       31.087   Durbin-Watson:                   1.969\n",
       "Prob(Omnibus):                  0.000   Jarque-Bera (JB):                6.892\n",
       "Skew:                           0.030   Prob(JB):                       0.0319\n",
       "Kurtosis:                       1.926   Cond. No.                     2.04e+03\n",
       "==============================================================================\n",
       "\n",
       "Warnings:\n",
       "[1] Standard Errors assume that the covariance matrix of the errors is correctly specified.\n",
       "[2] The condition number is large, 2.04e+03. This might indicate that there are\n",
       "strong multicollinearity or other numerical problems.\n",
       "\"\"\""
      ]
     },
     "execution_count": 14,
     "metadata": {},
     "output_type": "execute_result"
    }
   ],
   "source": [
    "sm.OLS.from_formula(\"Salary ~ Experience + I(Experience**2)\", data=df1).fit().summary()"
   ]
  },
  {
   "cell_type": "markdown",
   "metadata": {},
   "source": [
    "### (2) 다음 플롯과 같이 스캐터 플롯 위에 모형의 예측값을 나타내는 코드를 완성하라."
   ]
  },
  {
   "cell_type": "code",
   "execution_count": 15,
   "metadata": {},
   "outputs": [],
   "source": [
    "result = sm.OLS.from_formula(\"Salary ~ Experience + I(Experience**2)\", data=df1).fit()"
   ]
  },
  {
   "cell_type": "code",
   "execution_count": 16,
   "metadata": {},
   "outputs": [
    {
     "data": {
      "image/png": "[encoded data removed]",
      "text/plain": [
       "<Figure size 432x288 with 1 Axes>"
      ]
     },
     "metadata": {
      "needs_background": "light"
     },
     "output_type": "display_data"
    }
   ],
   "source": [
    "xnew1 = pd.DataFrame(np.linspace(0,35,100),columns=[\"Experience\"])\n",
    "ypred1 = result.predict(xnew1)\n",
    "plt.plot(xnew1, ypred1,'r-')\n",
    "plt.scatter(df1.Experience, df1.Salary)\n",
    "plt.xlabel(\"Experience\")\n",
    "plt.ylabel(\"Salary\")\n",
    "plt.show()"
   ]
  },
  {
   "cell_type": "markdown",
   "metadata": {},
   "source": [
    "### (3) 레버리지가 평균의 3배 이상인 데이터를 찾아서 그림과 같이 스캐터 플롯 위에 표시하여라"
   ]
  },
  {
   "cell_type": "code",
   "execution_count": 17,
   "metadata": {},
   "outputs": [
    {
     "data": {
      "text/html": [
       "<div>\n",
       "<style scoped>\n",
       "    .dataframe tbody tr th:only-of-type {\n",
       "        vertical-align: middle;\n",
       "    }\n",
       "\n",
       "    .dataframe tbody tr th {\n",
       "        vertical-align: top;\n",
       "    }\n",
       "\n",
       "    .dataframe thead th {\n",
       "        text-align: right;\n",
       "    }\n",
       "</style>\n",
       "<table border=\"1\" class=\"dataframe\">\n",
       "  <thead>\n",
       "    <tr style=\"text-align: right;\">\n",
       "      <th></th>\n",
       "      <th>Salary</th>\n",
       "      <th>Experience</th>\n",
       "    </tr>\n",
       "  </thead>\n",
       "  <tbody>\n",
       "    <tr>\n",
       "      <th>21</th>\n",
       "      <td>67</td>\n",
       "      <td>36</td>\n",
       "    </tr>\n",
       "    <tr>\n",
       "      <th>40</th>\n",
       "      <td>65</td>\n",
       "      <td>36</td>\n",
       "    </tr>\n",
       "    <tr>\n",
       "      <th>46</th>\n",
       "      <td>40</td>\n",
       "      <td>1</td>\n",
       "    </tr>\n",
       "    <tr>\n",
       "      <th>60</th>\n",
       "      <td>37</td>\n",
       "      <td>1</td>\n",
       "    </tr>\n",
       "    <tr>\n",
       "      <th>65</th>\n",
       "      <td>69</td>\n",
       "      <td>36</td>\n",
       "    </tr>\n",
       "  </tbody>\n",
       "</table>\n",
       "</div>"
      ],
      "text/plain": [
       "    Salary  Experience\n",
       "21      67          36\n",
       "40      65          36\n",
       "46      40           1\n",
       "60      37           1\n",
       "65      69          36"
      ]
     },
     "execution_count": 17,
     "metadata": {},
     "output_type": "execute_result"
    }
   ],
   "source": [
    "influence = result.get_influence()\n",
    "h = influence.hat_matrix_diag\n",
    "idx = h > ( 3 * h.mean() )\n",
    "df1[idx]"
   ]
  },
  {
   "cell_type": "code",
   "execution_count": 20,
   "metadata": {},
   "outputs": [
    {
     "data": {
      "image/png": "[encoded data removed]",
      "text/plain": [
       "<Figure size 432x288 with 1 Axes>"
      ]
     },
     "metadata": {
      "needs_background": "light"
     },
     "output_type": "display_data"
    }
   ],
   "source": [
    "xnew1 = pd.DataFrame(np.linspace(0,35,100),columns=[\"Experience\"])\n",
    "ypred1 = result.predict(xnew1)\n",
    "plt.plot(xnew1, ypred1,'r-')\n",
    "plt.scatter(df1.Experience, df1.Salary)\n",
    "plt.scatter(df1.Experience[idx], df1[idx].Salary, s=200, c='r', alpha=0.5)\n",
    "plt.xlabel(\"Experience\")\n",
    "plt.ylabel(\"Salary\")\n",
    "plt.show()"
   ]
  },
  {
   "cell_type": "markdown",
   "metadata": {},
   "source": [
    "### 2. 다음은 Defective와 Temperature, Density, Rate 간의 관계를 조사한 데이터이다. 차후 나오는 문제들에 대한 풀이를 하시오\n",
    "\n",
    "* 종속변수 : Defective"
   ]
  },
  {
   "cell_type": "code",
   "execution_count": 22,
   "metadata": {},
   "outputs": [
    {
     "data": {
      "text/html": [
       "<div>\n",
       "<style scoped>\n",
       "    .dataframe tbody tr th:only-of-type {\n",
       "        vertical-align: middle;\n",
       "    }\n",
       "\n",
       "    .dataframe tbody tr th {\n",
       "        vertical-align: top;\n",
       "    }\n",
       "\n",
       "    .dataframe thead th {\n",
       "        text-align: right;\n",
       "    }\n",
       "</style>\n",
       "<table border=\"1\" class=\"dataframe\">\n",
       "  <thead>\n",
       "    <tr style=\"text-align: right;\">\n",
       "      <th></th>\n",
       "      <th>Temperature</th>\n",
       "      <th>Density</th>\n",
       "      <th>Rate</th>\n",
       "      <th>Defective</th>\n",
       "    </tr>\n",
       "  </thead>\n",
       "  <tbody>\n",
       "    <tr>\n",
       "      <th>25</th>\n",
       "      <td>2.44</td>\n",
       "      <td>23.47</td>\n",
       "      <td>236.0</td>\n",
       "      <td>36.7</td>\n",
       "    </tr>\n",
       "    <tr>\n",
       "      <th>26</th>\n",
       "      <td>1.87</td>\n",
       "      <td>26.51</td>\n",
       "      <td>237.3</td>\n",
       "      <td>24.5</td>\n",
       "    </tr>\n",
       "    <tr>\n",
       "      <th>27</th>\n",
       "      <td>1.45</td>\n",
       "      <td>30.70</td>\n",
       "      <td>221.0</td>\n",
       "      <td>2.8</td>\n",
       "    </tr>\n",
       "    <tr>\n",
       "      <th>28</th>\n",
       "      <td>2.82</td>\n",
       "      <td>22.30</td>\n",
       "      <td>253.2</td>\n",
       "      <td>60.8</td>\n",
       "    </tr>\n",
       "    <tr>\n",
       "      <th>29</th>\n",
       "      <td>1.74</td>\n",
       "      <td>28.47</td>\n",
       "      <td>207.9</td>\n",
       "      <td>10.5</td>\n",
       "    </tr>\n",
       "  </tbody>\n",
       "</table>\n",
       "</div>"
      ],
      "text/plain": [
       "    Temperature  Density   Rate  Defective\n",
       "25         2.44    23.47  236.0       36.7\n",
       "26         1.87    26.51  237.3       24.5\n",
       "27         1.45    30.70  221.0        2.8\n",
       "28         2.82    22.30  253.2       60.8\n",
       "29         1.74    28.47  207.9       10.5"
      ]
     },
     "execution_count": 22,
     "metadata": {},
     "output_type": "execute_result"
    }
   ],
   "source": [
    "df2 = pd.read_csv(\"http://gattonweb.uky.edu/sheather/book/docs/datasets/defects.txt\", sep = \"\\t\")\n",
    "del df2[\"Case\"]\n",
    "df2.tail()"
   ]
  },
  {
   "cell_type": "markdown",
   "metadata": {},
   "source": [
    "### (1) 이 데이터를 이용하여 선형회귀모형을 구하라"
   ]
  },
  {
   "cell_type": "code",
   "execution_count": 23,
   "metadata": {},
   "outputs": [
    {
     "data": {
      "text/html": [
       "<table class=\"simpletable\">\n",
       "<caption>OLS Regression Results</caption>\n",
       "<tr>\n",
       "  <th>Dep. Variable:</th>        <td>Defective</td>    <th>  R-squared:         </th> <td>   0.880</td>\n",
       "</tr>\n",
       "<tr>\n",
       "  <th>Model:</th>                   <td>OLS</td>       <th>  Adj. R-squared:    </th> <td>   0.866</td>\n",
       "</tr>\n",
       "<tr>\n",
       "  <th>Method:</th>             <td>Least Squares</td>  <th>  F-statistic:       </th> <td>   63.36</td>\n",
       "</tr>\n",
       "<tr>\n",
       "  <th>Date:</th>             <td>Sat, 19 Jan 2019</td> <th>  Prob (F-statistic):</th> <td>4.37e-12</td>\n",
       "</tr>\n",
       "<tr>\n",
       "  <th>Time:</th>                 <td>23:22:59</td>     <th>  Log-Likelihood:    </th> <td> -99.268</td>\n",
       "</tr>\n",
       "<tr>\n",
       "  <th>No. Observations:</th>      <td>    30</td>      <th>  AIC:               </th> <td>   206.5</td>\n",
       "</tr>\n",
       "<tr>\n",
       "  <th>Df Residuals:</th>          <td>    26</td>      <th>  BIC:               </th> <td>   212.1</td>\n",
       "</tr>\n",
       "<tr>\n",
       "  <th>Df Model:</th>              <td>     3</td>      <th>                     </th>     <td> </td>   \n",
       "</tr>\n",
       "<tr>\n",
       "  <th>Covariance Type:</th>      <td>nonrobust</td>    <th>                     </th>     <td> </td>   \n",
       "</tr>\n",
       "</table>\n",
       "<table class=\"simpletable\">\n",
       "<tr>\n",
       "           <td></td>             <th>coef</th>     <th>std err</th>      <th>t</th>      <th>P>|t|</th>  <th>[0.025</th>    <th>0.975]</th>  \n",
       "</tr>\n",
       "<tr>\n",
       "  <th>Intercept</th>          <td>   27.1433</td> <td>    1.298</td> <td>   20.909</td> <td> 0.000</td> <td>   24.475</td> <td>   29.812</td>\n",
       "</tr>\n",
       "<tr>\n",
       "  <th>scale(Temperature)</th> <td>    9.2224</td> <td>    4.758</td> <td>    1.938</td> <td> 0.063</td> <td>   -0.557</td> <td>   19.002</td>\n",
       "</tr>\n",
       "<tr>\n",
       "  <th>scale(Density)</th>     <td>   -6.0354</td> <td>    4.945</td> <td>   -1.221</td> <td> 0.233</td> <td>  -16.199</td> <td>    4.129</td>\n",
       "</tr>\n",
       "<tr>\n",
       "  <th>scale(Rate)</th>        <td>    2.9899</td> <td>    3.346</td> <td>    0.894</td> <td> 0.380</td> <td>   -3.887</td> <td>    9.867</td>\n",
       "</tr>\n",
       "</table>\n",
       "<table class=\"simpletable\">\n",
       "<tr>\n",
       "  <th>Omnibus:</th>       <td> 2.091</td> <th>  Durbin-Watson:     </th> <td>   2.213</td>\n",
       "</tr>\n",
       "<tr>\n",
       "  <th>Prob(Omnibus):</th> <td> 0.351</td> <th>  Jarque-Bera (JB):  </th> <td>   1.491</td>\n",
       "</tr>\n",
       "<tr>\n",
       "  <th>Skew:</th>          <td> 0.545</td> <th>  Prob(JB):          </th> <td>   0.474</td>\n",
       "</tr>\n",
       "<tr>\n",
       "  <th>Kurtosis:</th>      <td> 2.948</td> <th>  Cond. No.          </th> <td>    8.38</td>\n",
       "</tr>\n",
       "</table><br/><br/>Warnings:<br/>[1] Standard Errors assume that the covariance matrix of the errors is correctly specified."
      ],
      "text/plain": [
       "<class 'statsmodels.iolib.summary.Summary'>\n",
       "\"\"\"\n",
       "                            OLS Regression Results                            \n",
       "==============================================================================\n",
       "Dep. Variable:              Defective   R-squared:                       0.880\n",
       "Model:                            OLS   Adj. R-squared:                  0.866\n",
       "Method:                 Least Squares   F-statistic:                     63.36\n",
       "Date:                Sat, 19 Jan 2019   Prob (F-statistic):           4.37e-12\n",
       "Time:                        23:22:59   Log-Likelihood:                -99.268\n",
       "No. Observations:                  30   AIC:                             206.5\n",
       "Df Residuals:                      26   BIC:                             212.1\n",
       "Df Model:                           3                                         \n",
       "Covariance Type:            nonrobust                                         \n",
       "======================================================================================\n",
       "                         coef    std err          t      P>|t|      [0.025      0.975]\n",
       "--------------------------------------------------------------------------------------\n",
       "Intercept             27.1433      1.298     20.909      0.000      24.475      29.812\n",
       "scale(Temperature)     9.2224      4.758      1.938      0.063      -0.557      19.002\n",
       "scale(Density)        -6.0354      4.945     -1.221      0.233     -16.199       4.129\n",
       "scale(Rate)            2.9899      3.346      0.894      0.380      -3.887       9.867\n",
       "==============================================================================\n",
       "Omnibus:                        2.091   Durbin-Watson:                   2.213\n",
       "Prob(Omnibus):                  0.351   Jarque-Bera (JB):                1.491\n",
       "Skew:                           0.545   Prob(JB):                        0.474\n",
       "Kurtosis:                       2.948   Cond. No.                         8.38\n",
       "==============================================================================\n",
       "\n",
       "Warnings:\n",
       "[1] Standard Errors assume that the covariance matrix of the errors is correctly specified.\n",
       "\"\"\""
      ]
     },
     "execution_count": 23,
     "metadata": {},
     "output_type": "execute_result"
    }
   ],
   "source": [
    "result2 = sm.OLS.from_formula(\"Defective ~ scale(Temperature) + scale(Density) + scale(Rate)\", data=df2).fit()\n",
    "result2.summary()"
   ]
  },
  {
   "cell_type": "markdown",
   "metadata": {},
   "source": [
    "### (2) 실제 Defective와 이 모형에서 예측한  Defective 간의 비선형 회귀모형을 구하여 실제 데이터와 회귀 결과를 플롯으로 나타내라. 어떤 비선형 함수를 사용해야 하는가"
   ]
  },
  {
   "cell_type": "code",
   "execution_count": 24,
   "metadata": {},
   "outputs": [
    {
     "data": {
      "text/html": [
       "<table class=\"simpletable\">\n",
       "<caption>OLS Regression Results</caption>\n",
       "<tr>\n",
       "  <th>Dep. Variable:</th>      <td>DefectiveHat</td>   <th>  R-squared:         </th> <td>   0.942</td>\n",
       "</tr>\n",
       "<tr>\n",
       "  <th>Model:</th>                   <td>OLS</td>       <th>  Adj. R-squared:    </th> <td>   0.940</td>\n",
       "</tr>\n",
       "<tr>\n",
       "  <th>Method:</th>             <td>Least Squares</td>  <th>  F-statistic:       </th> <td>   456.3</td>\n",
       "</tr>\n",
       "<tr>\n",
       "  <th>Date:</th>             <td>Sat, 19 Jan 2019</td> <th>  Prob (F-statistic):</th> <td>7.17e-19</td>\n",
       "</tr>\n",
       "<tr>\n",
       "  <th>Time:</th>                 <td>23:23:35</td>     <th>  Log-Likelihood:    </th> <td> -86.351</td>\n",
       "</tr>\n",
       "<tr>\n",
       "  <th>No. Observations:</th>      <td>    30</td>      <th>  AIC:               </th> <td>   176.7</td>\n",
       "</tr>\n",
       "<tr>\n",
       "  <th>Df Residuals:</th>          <td>    28</td>      <th>  BIC:               </th> <td>   179.5</td>\n",
       "</tr>\n",
       "<tr>\n",
       "  <th>Df Model:</th>              <td>     1</td>      <th>                     </th>     <td> </td>   \n",
       "</tr>\n",
       "<tr>\n",
       "  <th>Covariance Type:</th>      <td>nonrobust</td>    <th>                     </th>     <td> </td>   \n",
       "</tr>\n",
       "</table>\n",
       "<table class=\"simpletable\">\n",
       "<tr>\n",
       "           <td></td>             <th>coef</th>     <th>std err</th>      <th>t</th>      <th>P>|t|</th>  <th>[0.025</th>    <th>0.975]</th>  \n",
       "</tr>\n",
       "<tr>\n",
       "  <th>Intercept</th>          <td>   -9.8560</td> <td>    1.914</td> <td>   -5.151</td> <td> 0.000</td> <td>  -13.776</td> <td>   -5.936</td>\n",
       "</tr>\n",
       "<tr>\n",
       "  <th>np.sqrt(Defective)</th> <td>    7.8455</td> <td>    0.367</td> <td>   21.361</td> <td> 0.000</td> <td>    7.093</td> <td>    8.598</td>\n",
       "</tr>\n",
       "</table>\n",
       "<table class=\"simpletable\">\n",
       "<tr>\n",
       "  <th>Omnibus:</th>       <td> 0.724</td> <th>  Durbin-Watson:     </th> <td>   1.684</td>\n",
       "</tr>\n",
       "<tr>\n",
       "  <th>Prob(Omnibus):</th> <td> 0.696</td> <th>  Jarque-Bera (JB):  </th> <td>   0.600</td>\n",
       "</tr>\n",
       "<tr>\n",
       "  <th>Skew:</th>          <td>-0.324</td> <th>  Prob(JB):          </th> <td>   0.741</td>\n",
       "</tr>\n",
       "<tr>\n",
       "  <th>Kurtosis:</th>      <td> 2.756</td> <th>  Cond. No.          </th> <td>    12.6</td>\n",
       "</tr>\n",
       "</table><br/><br/>Warnings:<br/>[1] Standard Errors assume that the covariance matrix of the errors is correctly specified."
      ],
      "text/plain": [
       "<class 'statsmodels.iolib.summary.Summary'>\n",
       "\"\"\"\n",
       "                            OLS Regression Results                            \n",
       "==============================================================================\n",
       "Dep. Variable:           DefectiveHat   R-squared:                       0.942\n",
       "Model:                            OLS   Adj. R-squared:                  0.940\n",
       "Method:                 Least Squares   F-statistic:                     456.3\n",
       "Date:                Sat, 19 Jan 2019   Prob (F-statistic):           7.17e-19\n",
       "Time:                        23:23:35   Log-Likelihood:                -86.351\n",
       "No. Observations:                  30   AIC:                             176.7\n",
       "Df Residuals:                      28   BIC:                             179.5\n",
       "Df Model:                           1                                         \n",
       "Covariance Type:            nonrobust                                         \n",
       "======================================================================================\n",
       "                         coef    std err          t      P>|t|      [0.025      0.975]\n",
       "--------------------------------------------------------------------------------------\n",
       "Intercept             -9.8560      1.914     -5.151      0.000     -13.776      -5.936\n",
       "np.sqrt(Defective)     7.8455      0.367     21.361      0.000       7.093       8.598\n",
       "==============================================================================\n",
       "Omnibus:                        0.724   Durbin-Watson:                   1.684\n",
       "Prob(Omnibus):                  0.696   Jarque-Bera (JB):                0.600\n",
       "Skew:                          -0.324   Prob(JB):                        0.741\n",
       "Kurtosis:                       2.756   Cond. No.                         12.6\n",
       "==============================================================================\n",
       "\n",
       "Warnings:\n",
       "[1] Standard Errors assume that the covariance matrix of the errors is correctly specified.\n",
       "\"\"\""
      ]
     },
     "execution_count": 24,
     "metadata": {},
     "output_type": "execute_result"
    }
   ],
   "source": [
    "ypred2 = result2.predict(df2)\n",
    "df3 = df2.copy()\n",
    "df3[\"DefectiveHat\"] = ypred2\n",
    "\n",
    "## np.sqrt => 제곱근(루트) 구하는 함수\n",
    "model3 = sm.OLS.from_formula(\"DefectiveHat ~ np.sqrt(Defective)\",data = df3)\n",
    "result3 = model3.fit()\n",
    "result3.summary()"
   ]
  },
  {
   "cell_type": "code",
   "execution_count": 25,
   "metadata": {},
   "outputs": [
    {
     "data": {
      "image/png": "[encoded data removed]",
      "text/plain": [
       "<Figure size 432x288 with 1 Axes>"
      ]
     },
     "metadata": {
      "needs_background": "light"
     },
     "output_type": "display_data"
    }
   ],
   "source": [
    "plt.scatter(df3.Defective, df3.DefectiveHat)\n",
    "xnew3 = pd.DataFrame(np.linspace(0,70,100),columns = [\"Defective\"])\n",
    "ypred3 = result3.predict(xnew3)\n",
    "plt.plot(xnew3, ypred3,'r-')\n",
    "plt.xlabel(\"Defective\")\n",
    "plt.ylabel(\"Defective(Predicted)\")\n",
    "plt.title(\"Defective vs Predicted Defective\")\n",
    "plt.show()"
   ]
  },
  {
   "cell_type": "markdown",
   "metadata": {},
   "source": [
    "### (3) 위에서 구한 비선형 변환함수를 사용하여 Defective와 예측된 Defective간의 관계를 나타낼 수 있도록 비선형 회귀모형을 만들고 그림을 그려라"
   ]
  },
  {
   "cell_type": "code",
   "execution_count": 26,
   "metadata": {},
   "outputs": [
    {
     "data": {
      "text/html": [
       "<table class=\"simpletable\">\n",
       "<caption>OLS Regression Results</caption>\n",
       "<tr>\n",
       "  <th>Dep. Variable:</th>    <td>np.sqrt(Defective)</td> <th>  R-squared:         </th> <td>   0.943</td>\n",
       "</tr>\n",
       "<tr>\n",
       "  <th>Model:</th>                    <td>OLS</td>        <th>  Adj. R-squared:    </th> <td>   0.936</td>\n",
       "</tr>\n",
       "<tr>\n",
       "  <th>Method:</th>              <td>Least Squares</td>   <th>  F-statistic:       </th> <td>   143.5</td>\n",
       "</tr>\n",
       "<tr>\n",
       "  <th>Date:</th>              <td>Sat, 19 Jan 2019</td>  <th>  Prob (F-statistic):</th> <td>2.71e-16</td>\n",
       "</tr>\n",
       "<tr>\n",
       "  <th>Time:</th>                  <td>23:25:52</td>      <th>  Log-Likelihood:    </th> <td> -23.438</td>\n",
       "</tr>\n",
       "<tr>\n",
       "  <th>No. Observations:</th>       <td>    30</td>       <th>  AIC:               </th> <td>   54.88</td>\n",
       "</tr>\n",
       "<tr>\n",
       "  <th>Df Residuals:</th>           <td>    26</td>       <th>  BIC:               </th> <td>   60.48</td>\n",
       "</tr>\n",
       "<tr>\n",
       "  <th>Df Model:</th>               <td>     3</td>       <th>                     </th>     <td> </td>   \n",
       "</tr>\n",
       "<tr>\n",
       "  <th>Covariance Type:</th>       <td>nonrobust</td>     <th>                     </th>     <td> </td>   \n",
       "</tr>\n",
       "</table>\n",
       "<table class=\"simpletable\">\n",
       "<tr>\n",
       "           <td></td>             <th>coef</th>     <th>std err</th>      <th>t</th>      <th>P>|t|</th>  <th>[0.025</th>    <th>0.975]</th>  \n",
       "</tr>\n",
       "<tr>\n",
       "  <th>Intercept</th>          <td>    4.7160</td> <td>    0.104</td> <td>   45.498</td> <td> 0.000</td> <td>    4.503</td> <td>    4.929</td>\n",
       "</tr>\n",
       "<tr>\n",
       "  <th>scale(Temperature)</th> <td>    0.8978</td> <td>    0.380</td> <td>    2.363</td> <td> 0.026</td> <td>    0.117</td> <td>    1.679</td>\n",
       "</tr>\n",
       "<tr>\n",
       "  <th>scale(Density)</th>     <td>   -0.9633</td> <td>    0.395</td> <td>   -2.440</td> <td> 0.022</td> <td>   -1.775</td> <td>   -0.152</td>\n",
       "</tr>\n",
       "<tr>\n",
       "  <th>scale(Rate)</th>        <td>    0.3304</td> <td>    0.267</td> <td>    1.237</td> <td> 0.227</td> <td>   -0.219</td> <td>    0.879</td>\n",
       "</tr>\n",
       "</table>\n",
       "<table class=\"simpletable\">\n",
       "<tr>\n",
       "  <th>Omnibus:</th>       <td> 1.136</td> <th>  Durbin-Watson:     </th> <td>   1.742</td>\n",
       "</tr>\n",
       "<tr>\n",
       "  <th>Prob(Omnibus):</th> <td> 0.567</td> <th>  Jarque-Bera (JB):  </th> <td>   0.729</td>\n",
       "</tr>\n",
       "<tr>\n",
       "  <th>Skew:</th>          <td> 0.380</td> <th>  Prob(JB):          </th> <td>   0.695</td>\n",
       "</tr>\n",
       "<tr>\n",
       "  <th>Kurtosis:</th>      <td> 2.935</td> <th>  Cond. No.          </th> <td>    8.38</td>\n",
       "</tr>\n",
       "</table><br/><br/>Warnings:<br/>[1] Standard Errors assume that the covariance matrix of the errors is correctly specified."
      ],
      "text/plain": [
       "<class 'statsmodels.iolib.summary.Summary'>\n",
       "\"\"\"\n",
       "                            OLS Regression Results                            \n",
       "==============================================================================\n",
       "Dep. Variable:     np.sqrt(Defective)   R-squared:                       0.943\n",
       "Model:                            OLS   Adj. R-squared:                  0.936\n",
       "Method:                 Least Squares   F-statistic:                     143.5\n",
       "Date:                Sat, 19 Jan 2019   Prob (F-statistic):           2.71e-16\n",
       "Time:                        23:25:52   Log-Likelihood:                -23.438\n",
       "No. Observations:                  30   AIC:                             54.88\n",
       "Df Residuals:                      26   BIC:                             60.48\n",
       "Df Model:                           3                                         \n",
       "Covariance Type:            nonrobust                                         \n",
       "======================================================================================\n",
       "                         coef    std err          t      P>|t|      [0.025      0.975]\n",
       "--------------------------------------------------------------------------------------\n",
       "Intercept              4.7160      0.104     45.498      0.000       4.503       4.929\n",
       "scale(Temperature)     0.8978      0.380      2.363      0.026       0.117       1.679\n",
       "scale(Density)        -0.9633      0.395     -2.440      0.022      -1.775      -0.152\n",
       "scale(Rate)            0.3304      0.267      1.237      0.227      -0.219       0.879\n",
       "==============================================================================\n",
       "Omnibus:                        1.136   Durbin-Watson:                   1.742\n",
       "Prob(Omnibus):                  0.567   Jarque-Bera (JB):                0.729\n",
       "Skew:                           0.380   Prob(JB):                        0.695\n",
       "Kurtosis:                       2.935   Cond. No.                         8.38\n",
       "==============================================================================\n",
       "\n",
       "Warnings:\n",
       "[1] Standard Errors assume that the covariance matrix of the errors is correctly specified.\n",
       "\"\"\""
      ]
     },
     "execution_count": 26,
     "metadata": {},
     "output_type": "execute_result"
    }
   ],
   "source": [
    "model4 = sm.OLS.from_formula(\"np.sqrt(Defective) ~ scale(Temperature) + scale(Density) + scale(Rate)\",data = df3)\n",
    "result4 = model4.fit()\n",
    "result4.summary()"
   ]
  },
  {
   "cell_type": "code",
   "execution_count": 27,
   "metadata": {},
   "outputs": [
    {
     "data": {
      "image/png": "[encoded data removed]",
      "text/plain": [
       "<Figure size 432x288 with 1 Axes>"
      ]
     },
     "metadata": {
      "needs_background": "light"
     },
     "output_type": "display_data"
    }
   ],
   "source": [
    "ypred4 = result4.predict(df3)\n",
    "df4 = df3.copy()\n",
    "df4[\"DefectiveHat\"] = ypred4 ** 2\n",
    "plt.scatter(df4.Defective, df4.DefectiveHat)\n",
    "plt.show()"
   ]
  }
 ],
 "metadata": {
  "kernelspec": {
   "display_name": "Python 3",
   "language": "python",
   "name": "python3"
  },
  "language_info": {
   "codemirror_mode": {
    "name": "ipython",
    "version": 3
   },
   "file_extension": ".py",
   "mimetype": "text/x-python",
   "name": "python",
   "nbconvert_exporter": "python",
   "pygments_lexer": "ipython3",
   "version": "3.7.3"
  }
 },
 "nbformat": 4,
 "nbformat_minor": 2
}
